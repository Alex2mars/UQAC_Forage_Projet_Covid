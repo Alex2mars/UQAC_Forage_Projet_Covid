{
 "cells": [
  {
   "cell_type": "markdown",
   "metadata": {},
   "source": [
    "# Projet de prédiction des données liées au Covid"
   ]
  },
  {
   "cell_type": "markdown",
   "metadata": {},
   "source": [
    "## Imports globaux"
   ]
  },
  {
   "cell_type": "code",
   "execution_count": 6,
   "metadata": {},
   "outputs": [],
   "source": [
    "import matplotlib.pyplot as plt\n",
    "import pandas as pd"
   ]
  },
  {
   "cell_type": "markdown",
   "metadata": {},
   "source": [
    "## Data preparation"
   ]
  },
  {
   "cell_type": "markdown",
   "metadata": {},
   "source": [
    "#### Get online data"
   ]
  },
  {
   "cell_type": "code",
   "execution_count": 7,
   "metadata": {},
   "outputs": [],
   "source": [
    "df_raw_confirmed_global = pd.read_csv(\"https://raw.githubusercontent.com/CSSEGISandData/COVID-19/master/csse_covid_19_data/csse_covid_19_time_series/time_series_covid19_confirmed_global.csv\")\n",
    "df_raw_deaths_global = pd.read_csv(\"https://raw.githubusercontent.com/CSSEGISandData/COVID-19/master/csse_covid_19_data/csse_covid_19_time_series/time_series_covid19_deaths_global.csv\")\n",
    "df_raw_vaccination_global = pd.read_csv(\"https://raw.githubusercontent.com/owid/covid-19-data/master/public/data/vaccinations/vaccinations.csv\")\n",
    "df_raw_vaccination_global=df_raw_vaccination_global.drop(columns=[\"daily_vaccinations_per_million\",\"total_boosters_per_hundred\",\"daily_vaccinations_raw\",\"total_boosters\",\"people_fully_vaccinated_per_hundred\",\"daily_people_vaccinated_per_hundred\",\"people_vaccinated\", \"total_vaccinations\", \"daily_people_vaccinated\", \"people_fully_vaccinated\",\"total_vaccinations_per_hundred\",\"people_vaccinated_per_hundred\"])"
   ]
  },
  {
   "cell_type": "markdown",
   "metadata": {},
   "source": [
    "#### Choose latitude and longitude for the chosen country (if needed)"
   ]
  },
  {
   "cell_type": "code",
   "execution_count": 8,
   "metadata": {},
   "outputs": [],
   "source": [
    "lat_min = 41.317\n",
    "lat_max = 51.07167\n",
    "long_min = -5.14028\n",
    "long_max = 9.51333"
   ]
  },
  {
   "cell_type": "code",
   "execution_count": 9,
   "metadata": {},
   "outputs": [],
   "source": [
    "# Function to filter elements by latitude/longitude\n",
    "def check_lat_long(df, lat_min, lat_max, long_min, long_max):\n",
    "   return df[(df[\"Lat\"] > lat_min) & (df[\"Lat\"] < lat_max) & (df[\"Long\"] > long_min) & (df[\"Long\"] < long_max)]"
   ]
  },
  {
   "cell_type": "markdown",
   "metadata": {},
   "source": [
    "#### Sélection des données liées au pays choisi"
   ]
  },
  {
   "cell_type": "code",
   "execution_count": 10,
   "metadata": {},
   "outputs": [],
   "source": [
    "country = \"Canada\"\n",
    "\n",
    "df_raw_confirmed_country = df_raw_confirmed_global[(df_raw_confirmed_global[\"Country/Region\"] == country) & (df_raw_confirmed_global[\"Province/State\"] == \"Quebec\")]\n",
    "df_raw_deaths_country = df_raw_deaths_global[(df_raw_deaths_global[\"Country/Region\"] == country) & (df_raw_deaths_global[\"Province/State\"] == \"Quebec\")]\n",
    "df_raw_vaccination_country = df_raw_vaccination_global[df_raw_vaccination_global[\"location\"] == country]\n",
    "\n",
    "df_confirmed_country = df_raw_confirmed_country\n",
    "df_deaths_country = df_raw_deaths_country\n",
    "\n",
    "#df_confirmed_country = check_lat_long(df_raw_confirmed_country, lat_min ,lat_max ,long_min, long_max)\n",
    "#df_deaths_country = check_lat_long(df_raw_deaths_country, lat_min, lat_max, long_min, long_max)"
   ]
  },
  {
   "cell_type": "code",
   "execution_count": 11,
   "metadata": {},
   "outputs": [
    {
     "data": {
      "text/html": [
       "<div>\n",
       "<style scoped>\n",
       "    .dataframe tbody tr th:only-of-type {\n",
       "        vertical-align: middle;\n",
       "    }\n",
       "\n",
       "    .dataframe tbody tr th {\n",
       "        vertical-align: top;\n",
       "    }\n",
       "\n",
       "    .dataframe thead th {\n",
       "        text-align: right;\n",
       "    }\n",
       "</style>\n",
       "<table border=\"1\" class=\"dataframe\">\n",
       "  <thead>\n",
       "    <tr style=\"text-align: right;\">\n",
       "      <th></th>\n",
       "      <th>0</th>\n",
       "      <th>1</th>\n",
       "      <th>2</th>\n",
       "      <th>3</th>\n",
       "      <th>4</th>\n",
       "      <th>5</th>\n",
       "      <th>6</th>\n",
       "      <th>7</th>\n",
       "      <th>8</th>\n",
       "      <th>9</th>\n",
       "      <th>...</th>\n",
       "      <th>667</th>\n",
       "      <th>668</th>\n",
       "      <th>669</th>\n",
       "      <th>670</th>\n",
       "      <th>671</th>\n",
       "      <th>672</th>\n",
       "      <th>673</th>\n",
       "      <th>674</th>\n",
       "      <th>675</th>\n",
       "      <th>676</th>\n",
       "    </tr>\n",
       "  </thead>\n",
       "  <tbody>\n",
       "    <tr>\n",
       "      <th>51</th>\n",
       "      <td>0</td>\n",
       "      <td>0</td>\n",
       "      <td>0</td>\n",
       "      <td>0</td>\n",
       "      <td>0</td>\n",
       "      <td>0</td>\n",
       "      <td>0</td>\n",
       "      <td>0</td>\n",
       "      <td>0</td>\n",
       "      <td>0</td>\n",
       "      <td>...</td>\n",
       "      <td>437548</td>\n",
       "      <td>438363</td>\n",
       "      <td>439070</td>\n",
       "      <td>439762</td>\n",
       "      <td>440461</td>\n",
       "      <td>441343</td>\n",
       "      <td>443547</td>\n",
       "      <td>444584</td>\n",
       "      <td>445755</td>\n",
       "      <td>446630</td>\n",
       "    </tr>\n",
       "  </tbody>\n",
       "</table>\n",
       "<p>1 rows × 677 columns</p>\n",
       "</div>"
      ],
      "text/plain": [
       "    0    1    2    3    4    5    6    7    8    9    ...     667     668  \\\n",
       "51    0    0    0    0    0    0    0    0    0    0  ...  437548  438363   \n",
       "\n",
       "       669     670     671     672     673     674     675     676  \n",
       "51  439070  439762  440461  441343  443547  444584  445755  446630  \n",
       "\n",
       "[1 rows x 677 columns]"
      ]
     },
     "execution_count": 11,
     "metadata": {},
     "output_type": "execute_result"
    }
   ],
   "source": [
    "uselessColumns = [\"Lat\", \"Long\", \"Province/State\", \"Country/Region\"]\n",
    "\n",
    "def columnsInNumbers(df):\n",
    "  df.columns = [i for i in range(len(df_confirmed_country.columns))]\n",
    "\n",
    "df_confirmed_country = df_confirmed_country.drop(columns=uselessColumns)\n",
    "df_deaths_country = df_deaths_country.drop(columns=uselessColumns)\n",
    "\n",
    "columnsInNumbers(df_confirmed_country)\n",
    "columnsInNumbers(df_deaths_country)\n",
    "\n",
    "df_vaccination_country = df_raw_vaccination_country.drop(columns=[\"location\",\"iso_code\",\"date\"])\n",
    "\n",
    "df_confirmed_country"
   ]
  },
  {
   "cell_type": "code",
   "execution_count": 12,
   "metadata": {},
   "outputs": [],
   "source": [
    "def get_values_and_days(df):\n",
    "  return (df.values[0], df.columns.to_list())\n",
    "\n",
    "confirmed_country_values, confirmed_country_days = get_values_and_days(df_confirmed_country)\n",
    "deaths_country_values, deaths_country_days = get_values_and_days(df_deaths_country)\n",
    "\n",
    "vaccination_index_values = list(df_raw_vaccination_country.daily_vaccinations)[:len(confirmed_country_values)]\n",
    "vaccination_index_days = [i for i in range(327, 327+df_raw_vaccination_country.date.size)]"
   ]
  },
  {
   "cell_type": "code",
   "execution_count": 13,
   "metadata": {},
   "outputs": [
    {
     "data": {
      "image/png": "[encoded data removed]",
      "text/plain": [
       "<Figure size 432x288 with 1 Axes>"
      ]
     },
     "metadata": {
      "needs_background": "light"
     },
     "output_type": "display_data"
    },
    {
     "data": {
      "image/png": "[encoded data removed]",
      "text/plain": [
       "<Figure size 432x288 with 1 Axes>"
      ]
     },
     "metadata": {
      "needs_background": "light"
     },
     "output_type": "display_data"
    },
    {
     "data": {
      "image/png": "[encoded data removed]",
      "text/plain": [
       "<Figure size 432x288 with 1 Axes>"
      ]
     },
     "metadata": {
      "needs_background": "light"
     },
     "output_type": "display_data"
    }
   ],
   "source": [
    "plt.plot(confirmed_country_days, confirmed_country_values, '.-')\n",
    "plt.title(\"Nombre de cas confirmés pour : \" + country)\n",
    "plt.xlabel(\"Nombre de jours\")\n",
    "plt.ylabel(\"Nombre de cas\")\n",
    "plt.show()\n",
    "\n",
    "plt.plot(deaths_country_days, deaths_country_values, '.-')\n",
    "plt.title(\"Nombre de déces pour : \" + country)\n",
    "plt.xlabel(\"Nombre de jours\")\n",
    "plt.ylabel(\"Nombre de déces\")\n",
    "plt.show()\n",
    "\n",
    "plt.plot(vaccination_index_days, vaccination_index_values, '.-')\n",
    "plt.title(\"Nombre de vaccine pour : \" + country)\n",
    "plt.xlabel(\"Nombre de jours\")\n",
    "plt.ylabel(\"Nombre de vaccine\")\n",
    "plt.show()"
   ]
  },
  {
   "cell_type": "markdown",
   "metadata": {
    "collapsed": false,
    "pycharm": {
     "name": "#%% md\n"
    }
   },
   "source": [
    "## Regression polynomiale (degré = 2)"
   ]
  },
  {
   "cell_type": "code",
   "execution_count": 14,
   "metadata": {
    "collapsed": false,
    "pycharm": {
     "name": "#%%\n"
    }
   },
   "outputs": [],
   "source": [
    "import numpy as np\n",
    "from sklearn import svm\n",
    "from sklearn.model_selection import train_test_split"
   ]
  },
  {
   "cell_type": "markdown",
   "metadata": {
    "pycharm": {
     "name": "#%% md\n"
    }
   },
   "source": [
    "Training and test sets\n"
   ]
  },
  {
   "cell_type": "code",
   "execution_count": 15,
   "metadata": {
    "collapsed": false,
    "pycharm": {
     "name": "#%%\n"
    }
   },
   "outputs": [],
   "source": [
    "confirmed_train, confirmed_test, confirmed_train_days, confirmed_test_days = train_test_split(confirmed_country_values, confirmed_country_days, test_size=0.30, shuffle=False)\n",
    "deaths_train, deaths_test, deaths_train_days, deaths_test_days = train_test_split(deaths_country_values, deaths_country_days, test_size=0.30, shuffle=False)"
   ]
  },
  {
   "cell_type": "code",
   "execution_count": 16,
   "metadata": {
    "collapsed": false,
    "pycharm": {
     "name": "#%%\n"
    }
   },
   "outputs": [
    {
     "name": "stdout",
     "output_type": "stream",
     "text": [
      "Regression cas :  -57.4941867529062\n",
      "Regression morts :  -2038.5589360293836\n"
     ]
    }
   ],
   "source": [
    "def regression(X, Y):\n",
    "  reg = svm.SVR(kernel='poly', C=1000, degree=2)\n",
    "  reg.fit(X, Y)\n",
    "  return reg\n",
    "\n",
    "reg_confirmed = regression(np.reshape(confirmed_train_days, newshape=(-1, 1)), confirmed_train)\n",
    "reg_deaths = regression(np.reshape(deaths_train_days, newshape=(-1, 1)), deaths_train)\n",
    "\n",
    "print(\"Regression cas : \", reg_confirmed.score(np.reshape(confirmed_test_days, newshape=(-1, 1)), confirmed_test))\n",
    "print(\"Regression morts : \", reg_deaths.score(np.reshape(deaths_test_days, newshape=(-1, 1)), deaths_test))"
   ]
  },
  {
   "cell_type": "markdown",
   "metadata": {
    "collapsed": false
   },
   "source": [
    "Visualisation des modèles"
   ]
  },
  {
   "cell_type": "code",
   "execution_count": 17,
   "metadata": {
    "collapsed": false,
    "pycharm": {
     "name": "#%%\n"
    }
   },
   "outputs": [
    {
     "data": {
      "image/png": "[encoded data removed]",
      "text/plain": [
       "<Figure size 432x288 with 1 Axes>"
      ]
     },
     "metadata": {
      "needs_background": "light"
     },
     "output_type": "display_data"
    },
    {
     "data": {
      "image/png": "[encoded data removed]",
      "text/plain": [
       "<Figure size 432x288 with 1 Axes>"
      ]
     },
     "metadata": {
      "needs_background": "light"
     },
     "output_type": "display_data"
    }
   ],
   "source": [
    "def display_plot(reg, X, Y, ord_context):\n",
    "  plt.plot(X, Y, '.-')\n",
    "  plt.plot(X, reg.predict(X), \"-\")\n",
    "  plt.title(\"Nombre de \" + ord_context + \" pour : \" + country)\n",
    "  plt.xlabel(\"Nombre de jours\")\n",
    "  plt.ylabel(\"Nombre de \" + ord_context)\n",
    "  plt.show()\n",
    "\n",
    "display_plot(reg_confirmed, np.reshape(confirmed_country_days, newshape=(-1, 1)), confirmed_country_values, \"cas\")\n",
    "display_plot(reg_deaths, np.reshape(deaths_country_days, newshape=(-1, 1)), deaths_country_values, \"morts\")"
   ]
  },
  {
   "cell_type": "markdown",
   "metadata": {
    "collapsed": false
   },
   "source": [
    "## Réseaux LSTM"
   ]
  },
  {
   "cell_type": "code",
   "execution_count": 18,
   "metadata": {
    "collapsed": false,
    "pycharm": {
     "name": "#%%\n"
    }
   },
   "outputs": [],
   "source": [
    "import tensorflow as tf\n",
    "import keras as kr\n",
    "from sklearn.preprocessing import MinMaxScaler"
   ]
  },
  {
   "cell_type": "markdown",
   "metadata": {},
   "source": [
    "### Data preparation functions"
   ]
  },
  {
   "cell_type": "code",
   "execution_count": 19,
   "metadata": {
    "collapsed": false,
    "pycharm": {
     "name": "#%%\n"
    }
   },
   "outputs": [],
   "source": [
    "def create_sequences(data, time_steps=1):\n",
    "  dataX, dataY = [], []\n",
    "  for i in range(len(data)-time_steps):\n",
    "    a = data[i:(i+time_steps)]\n",
    "    dataX.append(a)\n",
    "    dataY.append(data[i + time_steps][0])\n",
    "  return np.array(dataX), np.array(dataY)\n",
    "\n",
    "def create_lstm_sets(X, time_steps=1, scale=True, train_percent=0.75):\n",
    "  scaler=None\n",
    "  if scale:\n",
    "    scaler = MinMaxScaler(feature_range=(-1, 1))\n",
    "    scaler = scaler.fit(X)\n",
    "    scaled_X = scaler.transform(X)\n",
    "  else:\n",
    "    scaled_X = np.array(X)\n",
    "  train_size = int(len(scaled_X) * train_percent)\n",
    "  test_size = len(scaled_X) - train_size\n",
    "  train, test = scaled_X[0:train_size,:], scaled_X[train_size:len(scaled_X),:]\n",
    "  return create_sequences(train, time_steps), create_sequences(test, time_steps), scaler"
   ]
  },
  {
   "cell_type": "markdown",
   "metadata": {
    "collapsed": false
   },
   "source": [
    "### Variable monodimensionelle & aucun historique en entrée"
   ]
  },
  {
   "cell_type": "code",
   "execution_count": 20,
   "metadata": {
    "collapsed": false,
    "pycharm": {
     "name": "#%%\n"
    }
   },
   "outputs": [],
   "source": [
    "time_steps = 1\n",
    "n_features = 1"
   ]
  },
  {
   "cell_type": "markdown",
   "metadata": {},
   "source": [
    "#### Fonction de création du modèle LSTM"
   ]
  },
  {
   "cell_type": "code",
   "execution_count": 21,
   "metadata": {},
   "outputs": [],
   "source": [
    "def lstm_network(X, Y, time_steps=1, n_features=1):\n",
    "  model = kr.Sequential()\n",
    "  model.add(kr.layers.LSTM(100, input_shape=(time_steps, n_features), return_sequences=True)) #return_sequences=True\n",
    "  model.add(kr.layers.Dropout(0.1))\n",
    "  model.add(kr.layers.LSTM(100))\n",
    "  model.add(kr.layers.Dropout(0.1))\n",
    "  model.add(kr.layers.Dense(1))\n",
    "  opt = tf.keras.optimizers.Adam(learning_rate=0.0001)\n",
    "  model.compile(loss='mean_squared_error', optimizer=opt)\n",
    "  model.summary()\n",
    "  model.fit(X, Y, epochs=25, batch_size=6);\n",
    "  return model"
   ]
  },
  {
   "cell_type": "markdown",
   "metadata": {
    "collapsed": false
   },
   "source": [
    "#### Nombre de cas"
   ]
  },
  {
   "cell_type": "code",
   "execution_count": 22,
   "metadata": {},
   "outputs": [],
   "source": [
    "confirmed_lstm_set = df_confirmed_country.values[0]\n",
    "confirmed_lstm_set = np.reshape(confirmed_lstm_set, (-1, 1))"
   ]
  },
  {
   "cell_type": "code",
   "execution_count": 23,
   "metadata": {
    "collapsed": false,
    "pycharm": {
     "name": "#%%\n"
    }
   },
   "outputs": [
    {
     "name": "stdout",
     "output_type": "stream",
     "text": [
      "Model: \"sequential\"\n",
      "_________________________________________________________________\n",
      " Layer (type)                Output Shape              Param #   \n",
      "=================================================================\n",
      " lstm (LSTM)                 (None, 1, 100)            40800     \n",
      "                                                                 \n",
      " dropout (Dropout)           (None, 1, 100)            0         \n",
      "                                                                 \n",
      " lstm_1 (LSTM)               (None, 100)               80400     \n",
      "                                                                 \n",
      " dropout_1 (Dropout)         (None, 100)               0         \n",
      "                                                                 \n",
      " dense (Dense)               (None, 1)                 101       \n",
      "                                                                 \n",
      "=================================================================\n",
      "Total params: 121,301\n",
      "Trainable params: 121,301\n",
      "Non-trainable params: 0\n",
      "_________________________________________________________________\n",
      "Epoch 1/25\n",
      "85/85 [==============================] - 4s 4ms/step - loss: 0.4250\n",
      "Epoch 2/25\n",
      "85/85 [==============================] - 0s 5ms/step - loss: 0.3470\n",
      "Epoch 3/25\n",
      "85/85 [==============================] - 0s 5ms/step - loss: 0.2433\n",
      "Epoch 4/25\n",
      "85/85 [==============================] - 0s 5ms/step - loss: 0.1393\n",
      "Epoch 5/25\n",
      "85/85 [==============================] - 0s 4ms/step - loss: 0.0812\n",
      "Epoch 6/25\n",
      "85/85 [==============================] - 0s 4ms/step - loss: 0.0557\n",
      "Epoch 7/25\n",
      "85/85 [==============================] - 0s 5ms/step - loss: 0.0376\n",
      "Epoch 8/25\n",
      "85/85 [==============================] - 0s 4ms/step - loss: 0.0235\n",
      "Epoch 9/25\n",
      "85/85 [==============================] - 0s 4ms/step - loss: 0.0143\n",
      "Epoch 10/25\n",
      "85/85 [==============================] - 0s 4ms/step - loss: 0.0078\n",
      "Epoch 11/25\n",
      "85/85 [==============================] - 0s 4ms/step - loss: 0.0050\n",
      "Epoch 12/25\n",
      "85/85 [==============================] - 0s 4ms/step - loss: 0.0034\n",
      "Epoch 13/25\n",
      "85/85 [==============================] - 0s 4ms/step - loss: 0.0028\n",
      "Epoch 14/25\n",
      "85/85 [==============================] - 0s 5ms/step - loss: 0.0024\n",
      "Epoch 15/25\n",
      "85/85 [==============================] - 0s 4ms/step - loss: 0.0024\n",
      "Epoch 16/25\n",
      "85/85 [==============================] - 0s 4ms/step - loss: 0.0020\n",
      "Epoch 17/25\n",
      "85/85 [==============================] - 0s 4ms/step - loss: 0.0018\n",
      "Epoch 18/25\n",
      "85/85 [==============================] - 0s 5ms/step - loss: 0.0020\n",
      "Epoch 19/25\n",
      "85/85 [==============================] - 0s 4ms/step - loss: 0.0018\n",
      "Epoch 20/25\n",
      "85/85 [==============================] - 0s 4ms/step - loss: 0.0018\n",
      "Epoch 21/25\n",
      "85/85 [==============================] - 0s 4ms/step - loss: 0.0016\n",
      "Epoch 22/25\n",
      "85/85 [==============================] - 0s 4ms/step - loss: 0.0013\n",
      "Epoch 23/25\n",
      "85/85 [==============================] - 0s 4ms/step - loss: 0.0014\n",
      "Epoch 24/25\n",
      "85/85 [==============================] - 0s 4ms/step - loss: 0.0014\n",
      "Epoch 25/25\n",
      "85/85 [==============================] - 0s 4ms/step - loss: 0.0012\n"
     ]
    }
   ],
   "source": [
    "confirmed_lstm_set = df_confirmed_country.values[0]\n",
    "confirmed_lstm_set = np.reshape(confirmed_lstm_set, (len(confirmed_lstm_set), 1))\n",
    "\n",
    "confirmed_train, confirmed_test, confirmed_scaler = create_lstm_sets(confirmed_lstm_set, time_steps)\n",
    "\n",
    "confirmed_trainX, confirmed_trainY = confirmed_train\n",
    "confirmed_testX, confirmed_testY = confirmed_test\n",
    "\n",
    "confirmed_lstm = lstm_network(confirmed_trainX, confirmed_trainY, time_steps)"
   ]
  },
  {
   "cell_type": "markdown",
   "metadata": {
    "collapsed": false
   },
   "source": [
    "#### Nombre de morts"
   ]
  },
  {
   "cell_type": "code",
   "execution_count": 24,
   "metadata": {
    "collapsed": false,
    "pycharm": {
     "name": "#%%\n"
    }
   },
   "outputs": [
    {
     "name": "stdout",
     "output_type": "stream",
     "text": [
      "Model: \"sequential_1\"\n",
      "_________________________________________________________________\n",
      " Layer (type)                Output Shape              Param #   \n",
      "=================================================================\n",
      " lstm_2 (LSTM)               (None, 1, 100)            40800     \n",
      "                                                                 \n",
      " dropout_2 (Dropout)         (None, 1, 100)            0         \n",
      "                                                                 \n",
      " lstm_3 (LSTM)               (None, 100)               80400     \n",
      "                                                                 \n",
      " dropout_3 (Dropout)         (None, 100)               0         \n",
      "                                                                 \n",
      " dense_1 (Dense)             (None, 1)                 101       \n",
      "                                                                 \n",
      "=================================================================\n",
      "Total params: 121,301\n",
      "Trainable params: 121,301\n",
      "Non-trainable params: 0\n",
      "_________________________________________________________________\n",
      "Epoch 1/25\n",
      "85/85 [==============================] - 4s 4ms/step - loss: 0.3781\n",
      "Epoch 2/25\n",
      "85/85 [==============================] - 0s 4ms/step - loss: 0.3348\n",
      "Epoch 3/25\n",
      "85/85 [==============================] - 0s 4ms/step - loss: 0.2718\n",
      "Epoch 4/25\n",
      "85/85 [==============================] - 0s 4ms/step - loss: 0.1907\n",
      "Epoch 5/25\n",
      "85/85 [==============================] - 0s 4ms/step - loss: 0.1110\n",
      "Epoch 6/25\n",
      "85/85 [==============================] - 0s 4ms/step - loss: 0.0492\n",
      "Epoch 7/25\n",
      "85/85 [==============================] - 0s 4ms/step - loss: 0.0160\n",
      "Epoch 8/25\n",
      "85/85 [==============================] - 0s 4ms/step - loss: 0.0040\n",
      "Epoch 9/25\n",
      "85/85 [==============================] - 0s 4ms/step - loss: 0.0013\n",
      "Epoch 10/25\n",
      "85/85 [==============================] - 0s 4ms/step - loss: 0.0012\n",
      "Epoch 11/25\n",
      "85/85 [==============================] - 0s 4ms/step - loss: 0.0011\n",
      "Epoch 12/25\n",
      "85/85 [==============================] - 0s 4ms/step - loss: 9.5791e-04\n",
      "Epoch 13/25\n",
      "85/85 [==============================] - 0s 4ms/step - loss: 0.0012\n",
      "Epoch 14/25\n",
      "85/85 [==============================] - 0s 4ms/step - loss: 8.5221e-04\n",
      "Epoch 15/25\n",
      "85/85 [==============================] - 0s 4ms/step - loss: 0.0010\n",
      "Epoch 16/25\n",
      "85/85 [==============================] - 0s 4ms/step - loss: 0.0011\n",
      "Epoch 17/25\n",
      "85/85 [==============================] - 0s 4ms/step - loss: 9.9930e-04\n",
      "Epoch 18/25\n",
      "85/85 [==============================] - 0s 4ms/step - loss: 8.4290e-04\n",
      "Epoch 19/25\n",
      "85/85 [==============================] - 0s 4ms/step - loss: 9.7556e-04\n",
      "Epoch 20/25\n",
      "85/85 [==============================] - 0s 4ms/step - loss: 0.0010\n",
      "Epoch 21/25\n",
      "85/85 [==============================] - 0s 4ms/step - loss: 0.0011\n",
      "Epoch 22/25\n",
      "85/85 [==============================] - 0s 4ms/step - loss: 0.0012\n",
      "Epoch 23/25\n",
      "85/85 [==============================] - 0s 4ms/step - loss: 0.0011\n",
      "Epoch 24/25\n",
      "85/85 [==============================] - 0s 4ms/step - loss: 0.0010\n",
      "Epoch 25/25\n",
      "85/85 [==============================] - 0s 4ms/step - loss: 0.0010\n"
     ]
    }
   ],
   "source": [
    "deaths_lstm_set = df_deaths_country.values[0]\n",
    "deaths_lstm_set = np.reshape(deaths_lstm_set, (len(deaths_lstm_set), 1))\n",
    "\n",
    "deaths_train, deaths_test, deaths_scaler = create_lstm_sets(deaths_lstm_set, time_steps)\n",
    "deaths_trainX, deaths_trainY = deaths_train\n",
    "deaths_testX, deaths_testY = deaths_test\n",
    "\n",
    "deaths_lstm = lstm_network(deaths_trainX, deaths_trainY, time_steps)"
   ]
  },
  {
   "cell_type": "markdown",
   "metadata": {},
   "source": [
    "#### Vaccination par jour"
   ]
  },
  {
   "cell_type": "code",
   "execution_count": 25,
   "metadata": {},
   "outputs": [
    {
     "name": "stdout",
     "output_type": "stream",
     "text": [
      "Model: \"sequential_2\"\n",
      "_________________________________________________________________\n",
      " Layer (type)                Output Shape              Param #   \n",
      "=================================================================\n",
      " lstm_4 (LSTM)               (None, 1, 100)            40800     \n",
      "                                                                 \n",
      " dropout_4 (Dropout)         (None, 1, 100)            0         \n",
      "                                                                 \n",
      " lstm_5 (LSTM)               (None, 100)               80400     \n",
      "                                                                 \n",
      " dropout_5 (Dropout)         (None, 100)               0         \n",
      "                                                                 \n",
      " dense_2 (Dense)             (None, 1)                 101       \n",
      "                                                                 \n",
      "=================================================================\n",
      "Total params: 121,301\n",
      "Trainable params: 121,301\n",
      "Non-trainable params: 0\n",
      "_________________________________________________________________\n",
      "Epoch 1/25\n",
      "44/44 [==============================] - 4s 4ms/step - loss: nan\n",
      "Epoch 2/25\n",
      "44/44 [==============================] - 0s 4ms/step - loss: nan\n",
      "Epoch 3/25\n",
      "44/44 [==============================] - 0s 4ms/step - loss: nan\n",
      "Epoch 4/25\n",
      "44/44 [==============================] - 0s 4ms/step - loss: nan\n",
      "Epoch 5/25\n",
      "44/44 [==============================] - 0s 4ms/step - loss: nan\n",
      "Epoch 6/25\n",
      "44/44 [==============================] - 0s 4ms/step - loss: nan\n",
      "Epoch 7/25\n",
      "44/44 [==============================] - 0s 4ms/step - loss: nan\n",
      "Epoch 8/25\n",
      "44/44 [==============================] - 0s 4ms/step - loss: nan\n",
      "Epoch 9/25\n",
      "44/44 [==============================] - 0s 4ms/step - loss: nan\n",
      "Epoch 10/25\n",
      "44/44 [==============================] - 0s 4ms/step - loss: nan\n",
      "Epoch 11/25\n",
      "44/44 [==============================] - 0s 4ms/step - loss: nan\n",
      "Epoch 12/25\n",
      "44/44 [==============================] - 0s 4ms/step - loss: nan\n",
      "Epoch 13/25\n",
      "44/44 [==============================] - 0s 4ms/step - loss: nan\n",
      "Epoch 14/25\n",
      "44/44 [==============================] - 0s 4ms/step - loss: nan\n",
      "Epoch 15/25\n",
      "44/44 [==============================] - 0s 4ms/step - loss: nan\n",
      "Epoch 16/25\n",
      "44/44 [==============================] - 0s 4ms/step - loss: nan\n",
      "Epoch 17/25\n",
      "44/44 [==============================] - 0s 4ms/step - loss: nan\n",
      "Epoch 18/25\n",
      "44/44 [==============================] - 0s 4ms/step - loss: nan\n",
      "Epoch 19/25\n",
      "44/44 [==============================] - 0s 4ms/step - loss: nan\n",
      "Epoch 20/25\n",
      "44/44 [==============================] - 0s 4ms/step - loss: nan\n",
      "Epoch 21/25\n",
      "44/44 [==============================] - 0s 4ms/step - loss: nan\n",
      "Epoch 22/25\n",
      "44/44 [==============================] - 0s 4ms/step - loss: nan\n",
      "Epoch 23/25\n",
      "44/44 [==============================] - 0s 4ms/step - loss: nan\n",
      "Epoch 24/25\n",
      "44/44 [==============================] - 0s 4ms/step - loss: nan\n",
      "Epoch 25/25\n",
      "44/44 [==============================] - 0s 4ms/step - loss: nan\n"
     ]
    }
   ],
   "source": [
    "vaccination_lstm_set = df_vaccination_country[\"daily_vaccinations\"].tolist()\n",
    "vaccination_lstm_set = np.reshape(vaccination_lstm_set, (len(vaccination_lstm_set), 1))\n",
    "\n",
    "vaccination_train, vaccination_test, vaccination_scaler = create_lstm_sets(vaccination_lstm_set, time_steps)\n",
    "\n",
    "vaccination_trainX, vaccination_trainY = vaccination_train\n",
    "vaccination_testX, vaccination_testY = vaccination_test\n",
    "\n",
    "vaccination_lstm = lstm_network(vaccination_trainX, vaccination_trainY, time_steps)"
   ]
  },
  {
   "cell_type": "markdown",
   "metadata": {
    "collapsed": false
   },
   "source": [
    "#### Affichage des résultats"
   ]
  },
  {
   "cell_type": "code",
   "execution_count": 26,
   "metadata": {
    "collapsed": false,
    "pycharm": {
     "name": "#%%\n"
    }
   },
   "outputs": [
    {
     "data": {
      "image/png": "[encoded data removed]",
      "text/plain": [
       "<Figure size 432x288 with 1 Axes>"
      ]
     },
     "metadata": {
      "needs_background": "light"
     },
     "output_type": "display_data"
    },
    {
     "data": {
      "image/png": "[encoded data removed]",
      "text/plain": [
       "<Figure size 432x288 with 1 Axes>"
      ]
     },
     "metadata": {
      "needs_background": "light"
     },
     "output_type": "display_data"
    },
    {
     "data": {
      "image/png": "[encoded data removed]",
      "text/plain": [
       "<Figure size 432x288 with 1 Axes>"
      ]
     },
     "metadata": {
      "needs_background": "light"
     },
     "output_type": "display_data"
    }
   ],
   "source": [
    "def display_plot_lstm(model, scaler, trainX, trainY, testX, testY, country, ord_context):\n",
    "  daysTrain = range(len(trainX))\n",
    "  daysTest = np.array(range(len(testX))) + len(daysTrain)\n",
    "  plt.plot(daysTrain, scaler.inverse_transform(model.predict(trainX)), '-', label=\"Prédiction sur jeu d'entraînement\")\n",
    "  plt.plot(daysTrain, scaler.inverse_transform(np.reshape(trainY, (-1, 1))), '-', label=\"Réalité sur jeu d'entraînement\")\n",
    "\n",
    "  plt.plot(daysTest, scaler.inverse_transform(model.predict(testX)), '-', label=\"Prédiction sur jeu de test\")\n",
    "  plt.plot(daysTest, scaler.inverse_transform(np.reshape(testY, (-1, 1))), '-', label=\"Réalité sur jeu de test\")\n",
    "\n",
    "  plt.axvline(len(trainX), 0, 1)\n",
    "  plt.legend()\n",
    "  plt.title(\"Nombre de \" + ord_context + \" pour : \" + country)\n",
    "  plt.xlabel(\"Nombre de jours\")\n",
    "  plt.ylabel(\"Nombre de \" + ord_context)\n",
    "  plt.show()\n",
    "\n",
    "display_plot_lstm(confirmed_lstm, confirmed_scaler, confirmed_trainX, confirmed_trainY, confirmed_testX, confirmed_testY, country, \"cas\")\n",
    "display_plot_lstm(deaths_lstm, deaths_scaler, deaths_trainX, deaths_trainY, deaths_testX, deaths_testY, country, \"morts\")\n",
    "display_plot_lstm(vaccination_lstm, vaccination_scaler, vaccination_trainX, vaccination_trainY, vaccination_testX, vaccination_testY, country, \"vaccination\")"
   ]
  },
  {
   "cell_type": "markdown",
   "metadata": {},
   "source": [
    "#### Prediction fonction"
   ]
  },
  {
   "cell_type": "code",
   "execution_count": 27,
   "metadata": {},
   "outputs": [],
   "source": [
    "def prediction_mono(starting_point, model, days=120):\n",
    "    predictions = []\n",
    "    test = starting_point\n",
    "    for _ in range(days):\n",
    "        pred = model.predict(test)\n",
    "        predictions.append(pred[0][0])\n",
    "        test = pred\n",
    "    return predictions"
   ]
  },
  {
   "cell_type": "code",
   "execution_count": 28,
   "metadata": {},
   "outputs": [
    {
     "data": {
      "text/plain": [
       "array([[422529.51444089, 404316.67162329, 390117.67024875,\n",
       "        378790.51311463, 369594.17187154, 362024.25421685,\n",
       "        355724.02245849, 350433.37394208, 345957.57442504,\n",
       "        342147.87782669, 338888.42858672, 336087.5964573 ,\n",
       "        333671.91351965, 331581.83475435, 329768.57677117,\n",
       "        328191.77514151, 326817.80726135, 325618.5211879 ,\n",
       "        324570.09092703, 323652.3375921 , 322848.04390743,\n",
       "        322142.44840518, 321522.92597055, 320978.54859173,\n",
       "        320499.87239003, 320078.69137362, 319707.9242973 ,\n",
       "        319381.39503747, 319093.69948596, 318840.13234168,\n",
       "        318616.57397047, 318419.41719666, 318245.50075009,\n",
       "        318092.05602363, 317956.6471754 , 317837.13785231,\n",
       "        317731.62463695, 317638.51025596, 317556.27064437,\n",
       "        317483.66126001, 317419.55070093, 317362.88077354,\n",
       "        317312.85949647, 317268.64164591, 317229.58831251,\n",
       "        317195.10717407, 317164.63918492, 317137.72512898,\n",
       "        317113.92575607, 317092.94823274, 317074.39989597,\n",
       "        317057.9879123 , 317043.51927787, 317030.69450393,\n",
       "        317019.38048437, 317009.39087063, 317000.57924598,\n",
       "        316992.75926188, 316985.86436525, 316979.7747606 ,\n",
       "        316974.37065244, 316969.61876422, 316965.43257698,\n",
       "        316961.69895053, 316958.42454016, 316955.5161716 ,\n",
       "        316952.93391302, 316950.67110911, 316948.6478962 ,\n",
       "        316946.8709296 , 316945.29362217, 316943.9159739 ,\n",
       "        316942.69805297, 316941.64651468, 316940.69480598,\n",
       "        316939.83627155, 316939.10418794, 316938.43200207,\n",
       "        316937.84633517, 316937.32056603, 316936.86134994,\n",
       "        316936.43541038, 316936.11595571, 316935.79650104,\n",
       "        316935.5169782 , 316935.2773872 , 316935.06441742,\n",
       "        316934.87806886, 316934.69172031, 316934.54530358,\n",
       "        316934.41885278, 316934.31902319, 316934.2125383 ,\n",
       "        316934.10605341, 316934.03284505, 316933.93967077,\n",
       "        316933.87977302, 316933.82653058, 316933.77994344,\n",
       "        316933.7400116 , 316933.70673507, 316933.68011385,\n",
       "        316933.64683732, 316933.6135608 , 316933.59359488,\n",
       "        316933.58028427, 316933.56697366, 316933.56697366,\n",
       "        316933.56697366, 316933.56697366, 316933.56697366,\n",
       "        316933.56697366, 316933.56697366, 316933.56697366,\n",
       "        316933.56697366, 316933.56697366, 316933.56697366,\n",
       "        316933.56697366, 316933.56697366, 316933.56697366]])"
      ]
     },
     "execution_count": 28,
     "metadata": {},
     "output_type": "execute_result"
    }
   ],
   "source": [
    "confirmed_preds = prediction_mono([[1.]], confirmed_lstm)\n",
    "confirmed_scaler.inverse_transform([confirmed_preds])"
   ]
  },
  {
   "cell_type": "markdown",
   "metadata": {},
   "source": [
    "### Variables multi-dimensionnelles"
   ]
  },
  {
   "cell_type": "markdown",
   "metadata": {},
   "source": [
    "#### (cas, stringency_index)"
   ]
  },
  {
   "cell_type": "code",
   "execution_count": 29,
   "metadata": {},
   "outputs": [],
   "source": [
    "time_steps = 40\n",
    "n_features = 2"
   ]
  },
  {
   "cell_type": "markdown",
   "metadata": {},
   "source": [
    "##### Get new data\n"
   ]
  },
  {
   "cell_type": "code",
   "execution_count": 30,
   "metadata": {},
   "outputs": [],
   "source": [
    "df_raw_stringency_index = pd.read_csv(\"covid-stringency-index.csv\")\n",
    "df_raw_stringency_index_country = df_raw_stringency_index[df_raw_stringency_index[\"Entity\"] == country]\n",
    "df_stringency_index_country = df_raw_stringency_index_country.drop(columns=[\"Entity\", \"Code\"])\n",
    "df_stringency_index_country.drop(index=df_stringency_index_country.index[0], axis=0, inplace=True)\n",
    "\n",
    "stringency_index_values = list(df_stringency_index_country.stringency_index)[:len(confirmed_country_values)]\n",
    "stringency_index_days = [i for i in range(df_stringency_index_country.Day.size)]"
   ]
  },
  {
   "cell_type": "markdown",
   "metadata": {},
   "source": [
    "##### Adjust some data length (all equal)"
   ]
  },
  {
   "cell_type": "code",
   "execution_count": 31,
   "metadata": {},
   "outputs": [],
   "source": [
    "confirmed_country_values = confirmed_country_values[:len(stringency_index_values)]\n",
    "confirmed_country_days = confirmed_country_days[:len(stringency_index_values)]\n",
    "\n",
    "deaths_country_values = deaths_country_values[:len(stringency_index_values)]\n",
    "deaths_country_days = deaths_country_days[:len(stringency_index_values)]"
   ]
  },
  {
   "cell_type": "markdown",
   "metadata": {},
   "source": [
    "##### Print on a plot"
   ]
  },
  {
   "cell_type": "code",
   "execution_count": 32,
   "metadata": {},
   "outputs": [
    {
     "data": {
      "image/png": "[encoded data removed]",
      "text/plain": [
       "<Figure size 432x288 with 1 Axes>"
      ]
     },
     "metadata": {
      "needs_background": "light"
     },
     "output_type": "display_data"
    },
    {
     "data": {
      "image/png": "[encoded data removed]",
      "text/plain": [
       "<Figure size 432x288 with 1 Axes>"
      ]
     },
     "metadata": {
      "needs_background": "light"
     },
     "output_type": "display_data"
    }
   ],
   "source": [
    "plt.plot(confirmed_country_days, confirmed_country_values, '.-')\n",
    "plt.title(\"Nombre de cas confirmés pour : \" + country)\n",
    "plt.xlabel(\"Nombre de jours\")\n",
    "plt.ylabel(\"Nombre de cas\")\n",
    "plt.show()\n",
    "\n",
    "plt.plot(stringency_index_days, stringency_index_values, '.-')\n",
    "plt.title(\"Indice de stringency pour : \" + country)\n",
    "plt.xlabel(\"Nombre de jours\")\n",
    "plt.ylabel(\"Indice de stringency\")\n",
    "plt.show()"
   ]
  },
  {
   "cell_type": "markdown",
   "metadata": {},
   "source": [
    "##### Create data sets"
   ]
  },
  {
   "cell_type": "code",
   "execution_count": 33,
   "metadata": {},
   "outputs": [],
   "source": [
    "# Scaled values\n",
    "confirmed_scaler = MinMaxScaler((-1, 1))\n",
    "deaths_scaler = MinMaxScaler((-1, 1))\n",
    "stringency_scaler = MinMaxScaler((-1, 1))\n",
    "\n",
    "confirmed_scaler.fit(confirmed_country_values.reshape((-1, 1)))\n",
    "scaled_confirmed = confirmed_scaler.transform(confirmed_country_values.reshape((-1, 1))).reshape((-1,))\n",
    "\n",
    "deaths_scaler.fit(deaths_country_values.reshape((-1, 1)))\n",
    "scaled_deaths = deaths_scaler.transform(deaths_country_values.reshape((-1, 1))).reshape((-1,))\n",
    "\n",
    "stringency_scaler.fit(np.array(stringency_index_values).reshape((-1, 1)))\n",
    "scaled_stringency = stringency_scaler.transform(np.array(stringency_index_values).reshape((-1, 1))).reshape((-1,))"
   ]
  },
  {
   "cell_type": "code",
   "execution_count": 34,
   "metadata": {},
   "outputs": [],
   "source": [
    "multi_data = list(zip(scaled_confirmed, scaled_stringency))"
   ]
  },
  {
   "cell_type": "code",
   "execution_count": 35,
   "metadata": {},
   "outputs": [],
   "source": [
    "multi_train, multi_test, _ = create_lstm_sets(multi_data, time_steps, scale=False, train_percent=0.70)\n",
    "multi_trainX, multi_trainY = multi_train\n",
    "multi_testX, multi_testY = multi_test"
   ]
  },
  {
   "cell_type": "code",
   "execution_count": 36,
   "metadata": {},
   "outputs": [],
   "source": [
    "def lstm_network_multi(X, Y, time_steps=1, n_features=1):\n",
    "  model = kr.Sequential()\n",
    "  model.add(kr.layers.LSTM(200, input_shape=(time_steps, n_features), return_sequences=True)) #return_sequences=True\n",
    "  model.add(kr.layers.Dropout(0.1))\n",
    "  model.add(kr.layers.LSTM(400))\n",
    "  model.add(kr.layers.Dropout(0.1))\n",
    "  model.add(kr.layers.Dense(1))\n",
    "  opt = tf.keras.optimizers.Adam(learning_rate=0.0001)\n",
    "  model.compile(loss='mean_squared_error', optimizer=opt)\n",
    "  model.summary()\n",
    "  model.fit(X, Y, epochs=3, batch_size=4);\n",
    "  return model"
   ]
  },
  {
   "cell_type": "code",
   "execution_count": 37,
   "metadata": {},
   "outputs": [
    {
     "name": "stdout",
     "output_type": "stream",
     "text": [
      "Model: \"sequential_3\"\n",
      "_________________________________________________________________\n",
      " Layer (type)                Output Shape              Param #   \n",
      "=================================================================\n",
      " lstm_6 (LSTM)               (None, 40, 200)           162400    \n",
      "                                                                 \n",
      " dropout_6 (Dropout)         (None, 40, 200)           0         \n",
      "                                                                 \n",
      " lstm_7 (LSTM)               (None, 400)               961600    \n",
      "                                                                 \n",
      " dropout_7 (Dropout)         (None, 400)               0         \n",
      "                                                                 \n",
      " dense_3 (Dense)             (None, 1)                 401       \n",
      "                                                                 \n",
      "=================================================================\n",
      "Total params: 1,124,401\n",
      "Trainable params: 1,124,401\n",
      "Non-trainable params: 0\n",
      "_________________________________________________________________\n",
      "Epoch 1/3\n",
      "107/107 [==============================] - 17s 121ms/step - loss: 0.0310\n",
      "Epoch 2/3\n",
      "107/107 [==============================] - 13s 121ms/step - loss: 0.0013\n",
      "Epoch 3/3\n",
      "107/107 [==============================] - 13s 121ms/step - loss: 0.0012\n"
     ]
    }
   ],
   "source": [
    "multi_lstm = lstm_network_multi(multi_trainX, multi_trainY, time_steps, n_features)"
   ]
  },
  {
   "cell_type": "code",
   "execution_count": 38,
   "metadata": {},
   "outputs": [
    {
     "data": {
      "image/png": "[encoded data removed]",
      "text/plain": [
       "<Figure size 432x288 with 1 Axes>"
      ]
     },
     "metadata": {
      "needs_background": "light"
     },
     "output_type": "display_data"
    }
   ],
   "source": [
    "display_plot_lstm(multi_lstm, deaths_scaler, multi_trainX, multi_trainY, multi_testX, multi_testY, country, \"cas\")"
   ]
  },
  {
   "cell_type": "code",
   "execution_count": 39,
   "metadata": {},
   "outputs": [
    {
     "name": "stdout",
     "output_type": "stream",
     "text": [
      "[[0.42339748]]\n",
      "[[0.42616546]]\n",
      "[[0.42945313]]\n",
      "[[0.4331492]]\n",
      "[[0.43714565]]\n",
      "[[0.44134906]]\n",
      "[[0.44568494]]\n",
      "[[0.45009634]]\n",
      "[[0.45454088]]\n",
      "[[0.45898852]]\n",
      "[[0.4634185]]\n",
      "[[0.46781608]]\n",
      "[[0.47217223]]\n",
      "[[0.47648117]]\n",
      "[[0.4807391]]\n",
      "[[0.4849438]]\n",
      "[[0.48909467]]\n",
      "[[0.49319094]]\n",
      "[[0.49723348]]\n",
      "[[0.50122166]]\n",
      "[[0.5051561]]\n",
      "[[0.5090366]]\n",
      "[[0.5128638]]\n",
      "[[0.51663846]]\n",
      "[[0.5203609]]\n",
      "[[0.5240308]]\n",
      "[[0.52764964]]\n",
      "[[0.5312166]]\n",
      "[[0.5347327]]\n",
      "[[0.5381983]]\n",
      "[[0.5416133]]\n",
      "[[0.54498285]]\n",
      "[[0.5483026]]\n",
      "[[0.5515726]]\n",
      "[[0.55479354]]\n",
      "[[0.5579659]]\n",
      "[[0.56109005]]\n",
      "[[0.5641665]]\n",
      "[[0.567196]]\n",
      "[[0.5701791]]\n",
      "[[0.57311606]]\n",
      "[[0.5760027]]\n",
      "[[0.5788452]]\n",
      "[[0.58164406]]\n",
      "[[0.58439887]]\n",
      "[[0.5871099]]\n",
      "[[0.5897779]]\n",
      "[[0.5924034]]\n",
      "[[0.5949857]]\n",
      "[[0.59752697]]\n",
      "[[0.60002655]]\n",
      "[[0.60248506]]\n",
      "[[0.6049027]]\n",
      "[[0.60728073]]\n",
      "[[0.60961914]]\n",
      "[[0.6119193]]\n",
      "[[0.61417973]]\n",
      "[[0.6164027]]\n",
      "[[0.6185881]]\n",
      "[[0.6207365]]\n",
      "[[0.62284845]]\n",
      "[[0.6249237]]\n",
      "[[0.62696385]]\n",
      "[[0.6289686]]\n",
      "[[0.63093936]]\n",
      "[[0.63287526]]\n",
      "[[0.6347778]]\n",
      "[[0.63664705]]\n",
      "[[0.63848317]]\n",
      "[[0.6402873]]\n",
      "[[0.6420601]]\n",
      "[[0.64380103]]\n",
      "[[0.6455114]]\n",
      "[[0.6471907]]\n",
      "[[0.6488406]]\n",
      "[[0.65046084]]\n",
      "[[0.65205216]]\n",
      "[[0.6537985]]\n",
      "[[0.655804]]\n",
      "[[0.658147]]\n",
      "[[0.66084707]]\n",
      "[[0.6638834]]\n",
      "[[0.6672103]]\n",
      "[[0.6707704]]\n",
      "[[0.67450684]]\n",
      "[[0.6783678]]\n",
      "[[0.68230796]]\n",
      "[[0.6862888]]\n",
      "[[0.69028133]]\n",
      "[[0.6942618]]\n",
      "[[0.69821316]]\n",
      "[[0.70212144]]\n",
      "[[0.7059779]]\n",
      "[[0.70977664]]\n",
      "[[0.7135114]]\n",
      "[[0.71718025]]\n",
      "[[0.7207817]]\n",
      "[[0.72431546]]\n",
      "[[0.72778064]]\n",
      "[[0.73117757]]\n",
      "[[0.7345066]]\n",
      "[[0.73776907]]\n",
      "[[0.7409659]]\n",
      "[[0.74409753]]\n",
      "[[0.74716574]]\n",
      "[[0.75017107]]\n",
      "[[0.7531154]]\n",
      "[[0.7559994]]\n",
      "[[0.75882334]]\n",
      "[[0.7615897]]\n",
      "[[0.7642977]]\n",
      "[[0.7669508]]\n",
      "[[0.7695476]]\n",
      "[[0.7720906]]\n",
      "[[0.77458066]]\n",
      "[[0.7770178]]\n",
      "[[0.7794038]]\n",
      "[[0.78172696]]\n",
      "[[0.78400266]]\n",
      "[[0.7862308]]\n",
      "[[0.7884119]]\n",
      "[[0.7905473]]\n",
      "[[0.79263604]]\n",
      "[[0.7946805]]\n",
      "[[0.79667974]]\n",
      "[[0.79863524]]\n",
      "[[0.8005481]]\n",
      "[[0.80241835]]\n",
      "[[0.80424744]]\n",
      "[[0.80603576]]\n",
      "[[0.80778503]]\n",
      "[[0.80949455]]\n",
      "[[0.8111656]]\n",
      "[[0.8127992]]\n",
      "[[0.8143968]]\n",
      "[[0.81595784]]\n",
      "[[0.817484]]\n",
      "[[0.8189753]]\n",
      "[[0.8204326]]\n",
      "[[0.8218573]]\n",
      "[[0.82324946]]\n",
      "[[0.82460916]]\n",
      "[[0.8259381]]\n",
      "[[0.827237]]\n",
      "[[0.8285055]]\n",
      "[[0.82974494]]\n",
      "[[0.83095604]]\n",
      "[[0.8321392]]\n",
      "[[0.83329487]]\n",
      "[[0.83442336]]\n"
     ]
    }
   ],
   "source": [
    "n_days = 150\n",
    "predictions = []\n",
    "test = multi_trainX[-1-time_steps]\n",
    "test = test.reshape(-1, time_steps, n_features)\n",
    "start_day = len(multi_trainX)\n",
    "for i in range(n_days):\n",
    "    pred = multi_lstm.predict(test)\n",
    "    predictions.append(pred[0][0])\n",
    "    \n",
    "    old = test[0][0]\n",
    "    test = np.delete(test[0], 0, axis=0)\n",
    "\n",
    "    indice = stringency_scaler.transform([[70]])\n",
    "    if i > 75:\n",
    "        indice = stringency_scaler.transform([[80]])\n",
    "\n",
    "    test = np.append(test, [pred[0][0], indice[0][0]]).reshape(-1, time_steps, n_features)\n",
    "\n",
    "    print(pred)"
   ]
  },
  {
   "cell_type": "code",
   "execution_count": 40,
   "metadata": {},
   "outputs": [],
   "source": [
    "predicted_plot = np.concatenate((confirmed_scaler.transform(confirmed_country_values[:start_day].reshape((-1, 1))).reshape((-1,)), predictions))\n",
    "predicted_plot = confirmed_scaler.inverse_transform(predicted_plot.reshape((-1, 1)))\n",
    "\n",
    "days = np.concatenate((list(range(start_day)), np.array([day for day in range(start_day, start_day+n_days)])))"
   ]
  },
  {
   "cell_type": "code",
   "execution_count": 41,
   "metadata": {},
   "outputs": [
    {
     "data": {
      "image/png": "[encoded data removed]",
      "text/plain": [
       "<Figure size 432x288 with 1 Axes>"
      ]
     },
     "metadata": {
      "needs_background": "light"
     },
     "output_type": "display_data"
    }
   ],
   "source": [
    "plt.plot(days, predicted_plot, '-', label=\"Prédiction\")\n",
    "plt.plot(days, confirmed_country_values[:start_day+n_days], '-', label=\"Réalité\")\n",
    "plt.legend()\n",
    "plt.axvline(start_day)\n",
    "plt.title(\"Nombre de cas confirmés pour : \" + country)\n",
    "plt.xlabel(\"Nombre de jours\")\n",
    "plt.ylabel(\"Nombre de cas\")\n",
    "plt.show()"
   ]
  },
  {
   "cell_type": "markdown",
   "metadata": {},
   "source": [
    "#### (cas, stringency_index, vaccination)"
   ]
  },
  {
   "cell_type": "code",
   "execution_count": 42,
   "metadata": {},
   "outputs": [],
   "source": [
    "time_steps = 15\n",
    "n_features = 3"
   ]
  },
  {
   "cell_type": "markdown",
   "metadata": {},
   "source": [
    "##### Adjust some data length (all equal)"
   ]
  },
  {
   "cell_type": "code",
   "execution_count": 43,
   "metadata": {},
   "outputs": [
    {
     "data": {
      "text/plain": [
       "[327,\n",
       " 328,\n",
       " 329,\n",
       " 330,\n",
       " 331,\n",
       " 332,\n",
       " 333,\n",
       " 334,\n",
       " 335,\n",
       " 336,\n",
       " 337,\n",
       " 338,\n",
       " 339,\n",
       " 340,\n",
       " 341,\n",
       " 342,\n",
       " 343,\n",
       " 344,\n",
       " 345,\n",
       " 346,\n",
       " 347,\n",
       " 348,\n",
       " 349,\n",
       " 350,\n",
       " 351,\n",
       " 352,\n",
       " 353,\n",
       " 354,\n",
       " 355,\n",
       " 356,\n",
       " 357,\n",
       " 358,\n",
       " 359,\n",
       " 360,\n",
       " 361,\n",
       " 362,\n",
       " 363,\n",
       " 364,\n",
       " 365,\n",
       " 366,\n",
       " 367,\n",
       " 368,\n",
       " 369,\n",
       " 370,\n",
       " 371,\n",
       " 372,\n",
       " 373,\n",
       " 374,\n",
       " 375,\n",
       " 376,\n",
       " 377,\n",
       " 378,\n",
       " 379,\n",
       " 380,\n",
       " 381,\n",
       " 382,\n",
       " 383,\n",
       " 384,\n",
       " 385,\n",
       " 386,\n",
       " 387,\n",
       " 388,\n",
       " 389,\n",
       " 390,\n",
       " 391,\n",
       " 392,\n",
       " 393,\n",
       " 394,\n",
       " 395,\n",
       " 396,\n",
       " 397,\n",
       " 398,\n",
       " 399,\n",
       " 400,\n",
       " 401,\n",
       " 402,\n",
       " 403,\n",
       " 404,\n",
       " 405,\n",
       " 406,\n",
       " 407,\n",
       " 408,\n",
       " 409,\n",
       " 410,\n",
       " 411,\n",
       " 412,\n",
       " 413,\n",
       " 414,\n",
       " 415,\n",
       " 416,\n",
       " 417,\n",
       " 418,\n",
       " 419,\n",
       " 420,\n",
       " 421,\n",
       " 422,\n",
       " 423,\n",
       " 424,\n",
       " 425,\n",
       " 426,\n",
       " 427,\n",
       " 428,\n",
       " 429,\n",
       " 430,\n",
       " 431,\n",
       " 432,\n",
       " 433,\n",
       " 434,\n",
       " 435,\n",
       " 436,\n",
       " 437,\n",
       " 438,\n",
       " 439,\n",
       " 440,\n",
       " 441,\n",
       " 442,\n",
       " 443,\n",
       " 444,\n",
       " 445,\n",
       " 446,\n",
       " 447,\n",
       " 448,\n",
       " 449,\n",
       " 450,\n",
       " 451,\n",
       " 452,\n",
       " 453,\n",
       " 454,\n",
       " 455,\n",
       " 456,\n",
       " 457,\n",
       " 458,\n",
       " 459,\n",
       " 460,\n",
       " 461,\n",
       " 462,\n",
       " 463,\n",
       " 464,\n",
       " 465,\n",
       " 466,\n",
       " 467,\n",
       " 468,\n",
       " 469,\n",
       " 470,\n",
       " 471,\n",
       " 472,\n",
       " 473,\n",
       " 474,\n",
       " 475,\n",
       " 476,\n",
       " 477,\n",
       " 478,\n",
       " 479,\n",
       " 480,\n",
       " 481,\n",
       " 482,\n",
       " 483,\n",
       " 484,\n",
       " 485,\n",
       " 486,\n",
       " 487,\n",
       " 488,\n",
       " 489,\n",
       " 490,\n",
       " 491,\n",
       " 492,\n",
       " 493,\n",
       " 494,\n",
       " 495,\n",
       " 496,\n",
       " 497,\n",
       " 498,\n",
       " 499,\n",
       " 500,\n",
       " 501,\n",
       " 502,\n",
       " 503,\n",
       " 504,\n",
       " 505,\n",
       " 506,\n",
       " 507,\n",
       " 508,\n",
       " 509,\n",
       " 510,\n",
       " 511,\n",
       " 512,\n",
       " 513,\n",
       " 514,\n",
       " 515,\n",
       " 516,\n",
       " 517,\n",
       " 518,\n",
       " 519,\n",
       " 520,\n",
       " 521,\n",
       " 522,\n",
       " 523,\n",
       " 524,\n",
       " 525,\n",
       " 526,\n",
       " 527,\n",
       " 528,\n",
       " 529,\n",
       " 530,\n",
       " 531,\n",
       " 532,\n",
       " 533,\n",
       " 534,\n",
       " 535,\n",
       " 536,\n",
       " 537,\n",
       " 538,\n",
       " 539,\n",
       " 540,\n",
       " 541,\n",
       " 542,\n",
       " 543,\n",
       " 544,\n",
       " 545,\n",
       " 546,\n",
       " 547,\n",
       " 548,\n",
       " 549,\n",
       " 550,\n",
       " 551,\n",
       " 552,\n",
       " 553,\n",
       " 554,\n",
       " 555,\n",
       " 556,\n",
       " 557,\n",
       " 558,\n",
       " 559,\n",
       " 560,\n",
       " 561,\n",
       " 562,\n",
       " 563,\n",
       " 564,\n",
       " 565,\n",
       " 566,\n",
       " 567,\n",
       " 568,\n",
       " 569,\n",
       " 570,\n",
       " 571,\n",
       " 572,\n",
       " 573,\n",
       " 574,\n",
       " 575,\n",
       " 576,\n",
       " 577,\n",
       " 578,\n",
       " 579,\n",
       " 580,\n",
       " 581,\n",
       " 582,\n",
       " 583,\n",
       " 584,\n",
       " 585,\n",
       " 586,\n",
       " 587,\n",
       " 588,\n",
       " 589,\n",
       " 590,\n",
       " 591,\n",
       " 592,\n",
       " 593,\n",
       " 594,\n",
       " 595,\n",
       " 596,\n",
       " 597,\n",
       " 598,\n",
       " 599,\n",
       " 600,\n",
       " 601,\n",
       " 602,\n",
       " 603,\n",
       " 604,\n",
       " 605,\n",
       " 606,\n",
       " 607,\n",
       " 608,\n",
       " 609,\n",
       " 610,\n",
       " 611,\n",
       " 612,\n",
       " 613,\n",
       " 614,\n",
       " 615,\n",
       " 616,\n",
       " 617,\n",
       " 618,\n",
       " 619,\n",
       " 620,\n",
       " 621,\n",
       " 622,\n",
       " 623,\n",
       " 624,\n",
       " 625,\n",
       " 626,\n",
       " 627,\n",
       " 628,\n",
       " 629,\n",
       " 630,\n",
       " 631,\n",
       " 632,\n",
       " 633,\n",
       " 634,\n",
       " 635,\n",
       " 636,\n",
       " 637,\n",
       " 638,\n",
       " 639,\n",
       " 640,\n",
       " 641,\n",
       " 642,\n",
       " 643,\n",
       " 644,\n",
       " 645,\n",
       " 646,\n",
       " 647,\n",
       " 648,\n",
       " 649,\n",
       " 650,\n",
       " 651,\n",
       " 652,\n",
       " 653,\n",
       " 654,\n",
       " 655,\n",
       " 656,\n",
       " 657,\n",
       " 658,\n",
       " 659,\n",
       " 660,\n",
       " 661,\n",
       " 662,\n",
       " 663,\n",
       " 664,\n",
       " 665,\n",
       " 666,\n",
       " 667,\n",
       " 668,\n",
       " 669,\n",
       " 670,\n",
       " 671,\n",
       " 672,\n",
       " 673,\n",
       " 674,\n",
       " 675,\n",
       " 676]"
      ]
     },
     "execution_count": 43,
     "metadata": {},
     "output_type": "execute_result"
    }
   ],
   "source": [
    "\n",
    "\n",
    "confirmed_country_values = confirmed_country_values[327:len(stringency_index_values)]\n",
    "confirmed_country_days = confirmed_country_days[327:len(stringency_index_values)]\n",
    "\n",
    "vaccination_index_values = vaccination_index_values[:len(stringency_index_values)]\n",
    "vaccination_index_days = vaccination_index_days[:len(stringency_index_values)]\n",
    "\n",
    "stringency_index_values = stringency_index_values[327:]\n",
    "stringency_index_days = stringency_index_days[327:]\n",
    "\n",
    "vaccination_index_days"
   ]
  },
  {
   "cell_type": "markdown",
   "metadata": {},
   "source": [
    "##### Print on a plot"
   ]
  },
  {
   "cell_type": "code",
   "execution_count": 44,
   "metadata": {},
   "outputs": [
    {
     "data": {
      "image/png": "[encoded data removed]",
      "text/plain": [
       "<Figure size 432x288 with 1 Axes>"
      ]
     },
     "metadata": {
      "needs_background": "light"
     },
     "output_type": "display_data"
    },
    {
     "data": {
      "image/png": "[encoded data removed]",
      "text/plain": [
       "<Figure size 432x288 with 1 Axes>"
      ]
     },
     "metadata": {
      "needs_background": "light"
     },
     "output_type": "display_data"
    }
   ],
   "source": [
    "plt.plot(confirmed_country_days, confirmed_country_values, '.-')\n",
    "plt.title(\"Nombre de cas confirmés pour : \" + country)\n",
    "plt.xlabel(\"Nombre de jours\")\n",
    "plt.ylabel(\"Nombre de cas\")\n",
    "plt.show()\n",
    "\n",
    "plt.plot(stringency_index_days, stringency_index_values, '.-')\n",
    "plt.title(\"Indice de stringency pour : \" + country)\n",
    "plt.xlabel(\"Nombre de jours\")\n",
    "plt.ylabel(\"Indice de stringency\")\n",
    "plt.show()"
   ]
  },
  {
   "cell_type": "markdown",
   "metadata": {},
   "source": [
    "##### Create data sets"
   ]
  },
  {
   "cell_type": "code",
   "execution_count": 45,
   "metadata": {},
   "outputs": [],
   "source": [
    "# Scaled values\n",
    "confirmed_scaler = MinMaxScaler((-1, 1))\n",
    "deaths_scaler = MinMaxScaler((-1, 1))\n",
    "stringency_scaler = MinMaxScaler((-1, 1))\n",
    "\n",
    "confirmed_scaler.fit(confirmed_country_values.reshape((-1, 1)))\n",
    "scaled_confirmed = confirmed_scaler.transform(confirmed_country_values.reshape((-1, 1))).reshape((-1,))\n",
    "\n",
    "deaths_scaler.fit(deaths_country_values.reshape((-1, 1)))\n",
    "scaled_deaths = deaths_scaler.transform(deaths_country_values.reshape((-1, 1))).reshape((-1,))\n",
    "\n",
    "stringency_scaler.fit(np.array(stringency_index_values).reshape((-1, 1)))\n",
    "scaled_stringency = stringency_scaler.transform(np.array(stringency_index_values).reshape((-1, 1))).reshape((-1,))"
   ]
  },
  {
   "cell_type": "code",
   "execution_count": 46,
   "metadata": {},
   "outputs": [],
   "source": [
    "multi_data = list(zip(scaled_confirmed, scaled_stringency))"
   ]
  },
  {
   "cell_type": "code",
   "execution_count": null,
   "metadata": {},
   "outputs": [],
   "source": []
  }
 ],
 "metadata": {
  "interpreter": {
   "hash": "7131807ce35ac9e736e77ee5c468af6a0125a9e761140560e4dc712dc1cce710"
  },
  "kernelspec": {
   "display_name": "Python 3.9.0 64-bit",
   "language": "python",
   "name": "python3"
  },
  "language_info": {
   "codemirror_mode": {
    "name": "ipython",
    "version": 3
   },
   "file_extension": ".py",
   "mimetype": "text/x-python",
   "name": "python",
   "nbconvert_exporter": "python",
   "pygments_lexer": "ipython3",
   "version": "3.9.0"
  },
  "orig_nbformat": 4
 },
 "nbformat": 4,
 "nbformat_minor": 2
}
