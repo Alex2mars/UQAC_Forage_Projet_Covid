{
 "cells": [
  {
   "cell_type": "markdown",
   "metadata": {},
   "source": [
    "# Projet de prédiction des données liées au Covid"
   ]
  },
  {
   "cell_type": "markdown",
   "metadata": {},
   "source": [
    "## Imports globaux"
   ]
  },
  {
   "cell_type": "code",
   "execution_count": 1,
   "metadata": {},
   "outputs": [],
   "source": [
    "import matplotlib.pyplot as plt\n",
    "import pandas as pd"
   ]
  },
  {
   "cell_type": "markdown",
   "metadata": {},
   "source": [
    "## Data preparation"
   ]
  },
  {
   "cell_type": "markdown",
   "metadata": {},
   "source": [
    "#### Get online data"
   ]
  },
  {
   "cell_type": "code",
   "execution_count": 2,
   "metadata": {},
   "outputs": [],
   "source": [
    "df_raw_confirmed_global = pd.read_csv(\"https://raw.githubusercontent.com/CSSEGISandData/COVID-19/master/csse_covid_19_data/csse_covid_19_time_series/time_series_covid19_confirmed_global.csv\")\n",
    "df_raw_deaths_global = pd.read_csv(\"https://raw.githubusercontent.com/CSSEGISandData/COVID-19/master/csse_covid_19_data/csse_covid_19_time_series/time_series_covid19_deaths_global.csv\")\n",
    "df_raw_vaccination_global = pd.read_csv(\"https://raw.githubusercontent.com/owid/covid-19-data/master/public/data/vaccinations/vaccinations.csv\")\n",
    "df_raw_vaccination_global=df_raw_vaccination_global.drop(columns=[\"daily_vaccinations_per_million\",\"total_boosters_per_hundred\",\"daily_vaccinations_raw\",\"total_boosters\",\"people_fully_vaccinated_per_hundred\",\"daily_people_vaccinated_per_hundred\",\"people_vaccinated\", \"total_vaccinations\", \"daily_people_vaccinated\", \"people_fully_vaccinated\",\"total_vaccinations_per_hundred\",\"people_vaccinated_per_hundred\"])"
   ]
  },
  {
   "cell_type": "markdown",
   "metadata": {},
   "source": [
    "#### Choose latitude and longitude for the chosen country (if needed)"
   ]
  },
  {
   "cell_type": "code",
   "execution_count": 3,
   "metadata": {},
   "outputs": [],
   "source": [
    "lat_min = 41.317\n",
    "lat_max = 51.07167\n",
    "long_min = -5.14028\n",
    "long_max = 9.51333"
   ]
  },
  {
   "cell_type": "code",
   "execution_count": 4,
   "metadata": {},
   "outputs": [],
   "source": [
    "# Function to filter elements by latitude/longitude\n",
    "def check_lat_long(df, lat_min, lat_max, long_min, long_max):\n",
    "   return df[(df[\"Lat\"] > lat_min) & (df[\"Lat\"] < lat_max) & (df[\"Long\"] > long_min) & (df[\"Long\"] < long_max)]"
   ]
  },
  {
   "cell_type": "markdown",
   "metadata": {},
   "source": [
    "#### Sélection des données liées au pays choisi"
   ]
  },
  {
   "cell_type": "code",
   "execution_count": 5,
   "metadata": {},
   "outputs": [],
   "source": [
    "country = \"Canada\"\n",
    "\n",
    "df_raw_confirmed_country = df_raw_confirmed_global[(df_raw_confirmed_global[\"Country/Region\"] == country) & (df_raw_confirmed_global[\"Province/State\"] == \"Quebec\")]\n",
    "df_raw_deaths_country = df_raw_deaths_global[(df_raw_deaths_global[\"Country/Region\"] == country) & (df_raw_deaths_global[\"Province/State\"] == \"Quebec\")]\n",
    "df_raw_vaccination_country = df_raw_vaccination_global[df_raw_vaccination_global[\"location\"] == country]\n",
    "\n",
    "df_confirmed_country = df_raw_confirmed_country\n",
    "df_deaths_country = df_raw_deaths_country\n",
    "\n",
    "#df_confirmed_country = check_lat_long(df_raw_confirmed_country, lat_min ,lat_max ,long_min, long_max)\n",
    "#df_deaths_country = check_lat_long(df_raw_deaths_country, lat_min, lat_max, long_min, long_max)"
   ]
  },
  {
   "cell_type": "code",
   "execution_count": 6,
   "metadata": {},
   "outputs": [
    {
     "data": {
      "text/html": [
       "<div>\n",
       "<style scoped>\n",
       "    .dataframe tbody tr th:only-of-type {\n",
       "        vertical-align: middle;\n",
       "    }\n",
       "\n",
       "    .dataframe tbody tr th {\n",
       "        vertical-align: top;\n",
       "    }\n",
       "\n",
       "    .dataframe thead th {\n",
       "        text-align: right;\n",
       "    }\n",
       "</style>\n",
       "<table border=\"1\" class=\"dataframe\">\n",
       "  <thead>\n",
       "    <tr style=\"text-align: right;\">\n",
       "      <th></th>\n",
       "      <th>0</th>\n",
       "      <th>1</th>\n",
       "      <th>2</th>\n",
       "      <th>3</th>\n",
       "      <th>4</th>\n",
       "      <th>5</th>\n",
       "      <th>6</th>\n",
       "      <th>7</th>\n",
       "      <th>8</th>\n",
       "      <th>9</th>\n",
       "      <th>...</th>\n",
       "      <th>667</th>\n",
       "      <th>668</th>\n",
       "      <th>669</th>\n",
       "      <th>670</th>\n",
       "      <th>671</th>\n",
       "      <th>672</th>\n",
       "      <th>673</th>\n",
       "      <th>674</th>\n",
       "      <th>675</th>\n",
       "      <th>676</th>\n",
       "    </tr>\n",
       "  </thead>\n",
       "  <tbody>\n",
       "    <tr>\n",
       "      <th>51</th>\n",
       "      <td>0</td>\n",
       "      <td>0</td>\n",
       "      <td>0</td>\n",
       "      <td>0</td>\n",
       "      <td>0</td>\n",
       "      <td>0</td>\n",
       "      <td>0</td>\n",
       "      <td>0</td>\n",
       "      <td>0</td>\n",
       "      <td>0</td>\n",
       "      <td>...</td>\n",
       "      <td>437548</td>\n",
       "      <td>438363</td>\n",
       "      <td>439070</td>\n",
       "      <td>439762</td>\n",
       "      <td>440461</td>\n",
       "      <td>441343</td>\n",
       "      <td>443547</td>\n",
       "      <td>444584</td>\n",
       "      <td>445755</td>\n",
       "      <td>446630</td>\n",
       "    </tr>\n",
       "  </tbody>\n",
       "</table>\n",
       "<p>1 rows × 677 columns</p>\n",
       "</div>"
      ],
      "text/plain": [
       "    0    1    2    3    4    5    6    7    8    9    ...     667     668  \\\n",
       "51    0    0    0    0    0    0    0    0    0    0  ...  437548  438363   \n",
       "\n",
       "       669     670     671     672     673     674     675     676  \n",
       "51  439070  439762  440461  441343  443547  444584  445755  446630  \n",
       "\n",
       "[1 rows x 677 columns]"
      ]
     },
     "execution_count": 6,
     "metadata": {},
     "output_type": "execute_result"
    }
   ],
   "source": [
    "uselessColumns = [\"Lat\", \"Long\", \"Province/State\", \"Country/Region\"]\n",
    "\n",
    "def columnsInNumbers(df):\n",
    "  df.columns = [i for i in range(len(df_confirmed_country.columns))]\n",
    "\n",
    "df_confirmed_country = df_confirmed_country.drop(columns=uselessColumns)\n",
    "df_deaths_country = df_deaths_country.drop(columns=uselessColumns)\n",
    "\n",
    "columnsInNumbers(df_confirmed_country)\n",
    "columnsInNumbers(df_deaths_country)\n",
    "\n",
    "df_vaccination_country = df_raw_vaccination_country.drop(columns=[\"location\",\"iso_code\",\"date\"])\n",
    "\n",
    "df_confirmed_country"
   ]
  },
  {
   "cell_type": "code",
   "execution_count": 12,
   "metadata": {},
   "outputs": [],
   "source": [
    "def get_values_and_days(df):\n",
    "  return (df.values[0], df.columns.to_list())\n",
    "\n",
    "confirmed_country_values, confirmed_country_days = get_values_and_days(df_confirmed_country)\n",
    "deaths_country_values, deaths_country_days = get_values_and_days(df_deaths_country)\n",
    "\n",
    "vaccination_index_values = list(df_raw_vaccination_country.daily_vaccinations)[:len(confirmed_country_values)]\n",
    "vaccination_index_days = [i for i in range(327, 327+df_raw_vaccination_country.date.size)]\n",
    "\n",
    "vaccination_index_values.pop(0)\n",
    "vaccination_index_days.pop(0)\n",
    "pass"
   ]
  },
  {
   "cell_type": "code",
   "execution_count": 13,
   "metadata": {},
   "outputs": [
    {
     "data": {
      "image/png": "[encoded data removed]",
      "text/plain": [
       "<Figure size 432x288 with 1 Axes>"
      ]
     },
     "metadata": {
      "needs_background": "light"
     },
     "output_type": "display_data"
    },
    {
     "data": {
      "image/png": "[encoded data removed]",
      "text/plain": [
       "<Figure size 432x288 with 1 Axes>"
      ]
     },
     "metadata": {
      "needs_background": "light"
     },
     "output_type": "display_data"
    },
    {
     "data": {
      "image/png": "[encoded data removed]",
      "text/plain": [
       "<Figure size 432x288 with 1 Axes>"
      ]
     },
     "metadata": {
      "needs_background": "light"
     },
     "output_type": "display_data"
    }
   ],
   "source": [
    "plt.plot(confirmed_country_days, confirmed_country_values, '.-')\n",
    "plt.title(\"Nombre de cas confirmés pour : \" + country)\n",
    "plt.xlabel(\"Nombre de jours\")\n",
    "plt.ylabel(\"Nombre de cas\")\n",
    "plt.show()\n",
    "\n",
    "plt.plot(deaths_country_days, deaths_country_values, '.-')\n",
    "plt.title(\"Nombre de déces pour : \" + country)\n",
    "plt.xlabel(\"Nombre de jours\")\n",
    "plt.ylabel(\"Nombre de déces\")\n",
    "plt.show()\n",
    "\n",
    "plt.plot(vaccination_index_days, vaccination_index_values, '.-')\n",
    "plt.title(\"Nombre de vaccine pour : \" + country)\n",
    "plt.xlabel(\"Nombre de jours\")\n",
    "plt.ylabel(\"Nombre de vaccine\")\n",
    "plt.show()"
   ]
  },
  {
   "cell_type": "markdown",
   "metadata": {
    "collapsed": false,
    "pycharm": {
     "name": "#%% md\n"
    }
   },
   "source": [
    "## Regression polynomiale (degré = 2)"
   ]
  },
  {
   "cell_type": "code",
   "execution_count": 14,
   "metadata": {
    "collapsed": false,
    "pycharm": {
     "name": "#%%\n"
    }
   },
   "outputs": [],
   "source": [
    "import numpy as np\n",
    "from sklearn import svm\n",
    "from sklearn.model_selection import train_test_split"
   ]
  },
  {
   "cell_type": "markdown",
   "metadata": {
    "pycharm": {
     "name": "#%% md\n"
    }
   },
   "source": [
    "Training and test sets\n"
   ]
  },
  {
   "cell_type": "code",
   "execution_count": 15,
   "metadata": {
    "collapsed": false,
    "pycharm": {
     "name": "#%%\n"
    }
   },
   "outputs": [],
   "source": [
    "confirmed_train, confirmed_test, confirmed_train_days, confirmed_test_days = train_test_split(confirmed_country_values, confirmed_country_days, test_size=0.30, shuffle=False)\n",
    "deaths_train, deaths_test, deaths_train_days, deaths_test_days = train_test_split(deaths_country_values, deaths_country_days, test_size=0.30, shuffle=False)"
   ]
  },
  {
   "cell_type": "code",
   "execution_count": 16,
   "metadata": {
    "collapsed": false,
    "pycharm": {
     "name": "#%%\n"
    }
   },
   "outputs": [
    {
     "name": "stdout",
     "output_type": "stream",
     "text": [
      "Regression cas :  -57.4941867529062\n",
      "Regression morts :  -2038.5589360293836\n"
     ]
    }
   ],
   "source": [
    "def regression(X, Y):\n",
    "  reg = svm.SVR(kernel='poly', C=1000, degree=2)\n",
    "  reg.fit(X, Y)\n",
    "  return reg\n",
    "\n",
    "reg_confirmed = regression(np.reshape(confirmed_train_days, newshape=(-1, 1)), confirmed_train)\n",
    "reg_deaths = regression(np.reshape(deaths_train_days, newshape=(-1, 1)), deaths_train)\n",
    "\n",
    "print(\"Regression cas : \", reg_confirmed.score(np.reshape(confirmed_test_days, newshape=(-1, 1)), confirmed_test))\n",
    "print(\"Regression morts : \", reg_deaths.score(np.reshape(deaths_test_days, newshape=(-1, 1)), deaths_test))"
   ]
  },
  {
   "cell_type": "markdown",
   "metadata": {
    "collapsed": false
   },
   "source": [
    "Visualisation des modèles"
   ]
  },
  {
   "cell_type": "code",
   "execution_count": 17,
   "metadata": {
    "collapsed": false,
    "pycharm": {
     "name": "#%%\n"
    }
   },
   "outputs": [
    {
     "data": {
      "image/png": "[encoded data removed]",
      "text/plain": [
       "<Figure size 432x288 with 1 Axes>"
      ]
     },
     "metadata": {
      "needs_background": "light"
     },
     "output_type": "display_data"
    },
    {
     "data": {
      "image/png": "[encoded data removed]",
      "text/plain": [
       "<Figure size 432x288 with 1 Axes>"
      ]
     },
     "metadata": {
      "needs_background": "light"
     },
     "output_type": "display_data"
    }
   ],
   "source": [
    "def display_plot(reg, X, Y, ord_context):\n",
    "  plt.plot(X, Y, '.-')\n",
    "  plt.plot(X, reg.predict(X), \"-\")\n",
    "  plt.title(\"Nombre de \" + ord_context + \" pour : \" + country)\n",
    "  plt.xlabel(\"Nombre de jours\")\n",
    "  plt.ylabel(\"Nombre de \" + ord_context)\n",
    "  plt.show()\n",
    "\n",
    "display_plot(reg_confirmed, np.reshape(confirmed_country_days, newshape=(-1, 1)), confirmed_country_values, \"cas\")\n",
    "display_plot(reg_deaths, np.reshape(deaths_country_days, newshape=(-1, 1)), deaths_country_values, \"morts\")"
   ]
  },
  {
   "cell_type": "markdown",
   "metadata": {
    "collapsed": false
   },
   "source": [
    "## Réseaux LSTM"
   ]
  },
  {
   "cell_type": "code",
   "execution_count": 18,
   "metadata": {
    "collapsed": false,
    "pycharm": {
     "name": "#%%\n"
    }
   },
   "outputs": [],
   "source": [
    "import tensorflow as tf\n",
    "import keras as kr\n",
    "from sklearn.preprocessing import MinMaxScaler"
   ]
  },
  {
   "cell_type": "markdown",
   "metadata": {},
   "source": [
    "### Data preparation functions"
   ]
  },
  {
   "cell_type": "code",
   "execution_count": 19,
   "metadata": {
    "collapsed": false,
    "pycharm": {
     "name": "#%%\n"
    }
   },
   "outputs": [],
   "source": [
    "def create_sequences(data, time_steps=1):\n",
    "  dataX, dataY = [], []\n",
    "  for i in range(len(data)-time_steps):\n",
    "    a = data[i:(i+time_steps)]\n",
    "    dataX.append(a)\n",
    "    dataY.append(data[i + time_steps][0])\n",
    "  return np.array(dataX), np.array(dataY)\n",
    "\n",
    "def create_lstm_sets(X, time_steps=1, scale=True, train_percent=0.75):\n",
    "  scaler=None\n",
    "  if scale:\n",
    "    scaler = MinMaxScaler(feature_range=(-1, 1))\n",
    "    scaler = scaler.fit(X)\n",
    "    scaled_X = scaler.transform(X)\n",
    "  else:\n",
    "    scaled_X = np.array(X)\n",
    "  train_size = int(len(scaled_X) * train_percent)\n",
    "  test_size = len(scaled_X) - train_size\n",
    "  train, test = scaled_X[0:train_size,:], scaled_X[train_size:len(scaled_X),:]\n",
    "  return create_sequences(train, time_steps), create_sequences(test, time_steps), scaler"
   ]
  },
  {
   "cell_type": "markdown",
   "metadata": {
    "collapsed": false
   },
   "source": [
    "### Variable monodimensionelle & aucun historique en entrée"
   ]
  },
  {
   "cell_type": "code",
   "execution_count": 20,
   "metadata": {
    "collapsed": false,
    "pycharm": {
     "name": "#%%\n"
    }
   },
   "outputs": [],
   "source": [
    "time_steps = 1\n",
    "n_features = 1"
   ]
  },
  {
   "cell_type": "markdown",
   "metadata": {},
   "source": [
    "#### Fonction de création du modèle LSTM"
   ]
  },
  {
   "cell_type": "code",
   "execution_count": 21,
   "metadata": {},
   "outputs": [],
   "source": [
    "def lstm_network(X, Y, time_steps=1, n_features=1):\n",
    "  model = kr.Sequential()\n",
    "  model.add(kr.layers.LSTM(100, input_shape=(time_steps, n_features), return_sequences=True)) #return_sequences=True\n",
    "  model.add(kr.layers.Dropout(0.1))\n",
    "  model.add(kr.layers.LSTM(100))\n",
    "  model.add(kr.layers.Dropout(0.1))\n",
    "  model.add(kr.layers.Dense(1))\n",
    "  opt = tf.keras.optimizers.Adam(learning_rate=0.0001)\n",
    "  model.compile(loss='mean_squared_error', optimizer=opt)\n",
    "  model.summary()\n",
    "  model.fit(X, Y, epochs=25, batch_size=6);\n",
    "  return model"
   ]
  },
  {
   "cell_type": "markdown",
   "metadata": {
    "collapsed": false
   },
   "source": [
    "#### Nombre de cas"
   ]
  },
  {
   "cell_type": "code",
   "execution_count": 22,
   "metadata": {},
   "outputs": [],
   "source": [
    "confirmed_lstm_set = df_confirmed_country.values[0]\n",
    "confirmed_lstm_set = np.reshape(confirmed_lstm_set, (-1, 1))"
   ]
  },
  {
   "cell_type": "code",
   "execution_count": 23,
   "metadata": {
    "collapsed": false,
    "pycharm": {
     "name": "#%%\n"
    }
   },
   "outputs": [
    {
     "name": "stdout",
     "output_type": "stream",
     "text": [
      "Model: \"sequential\"\n",
      "_________________________________________________________________\n",
      " Layer (type)                Output Shape              Param #   \n",
      "=================================================================\n",
      " lstm (LSTM)                 (None, 1, 100)            40800     \n",
      "                                                                 \n",
      " dropout (Dropout)           (None, 1, 100)            0         \n",
      "                                                                 \n",
      " lstm_1 (LSTM)               (None, 100)               80400     \n",
      "                                                                 \n",
      " dropout_1 (Dropout)         (None, 100)               0         \n",
      "                                                                 \n",
      " dense (Dense)               (None, 1)                 101       \n",
      "                                                                 \n",
      "=================================================================\n",
      "Total params: 121,301\n",
      "Trainable params: 121,301\n",
      "Non-trainable params: 0\n",
      "_________________________________________________________________\n",
      "Epoch 1/25\n",
      "85/85 [==============================] - 6s 6ms/step - loss: 0.4243\n",
      "Epoch 2/25\n",
      "85/85 [==============================] - 0s 5ms/step - loss: 0.3475\n",
      "Epoch 3/25\n",
      "85/85 [==============================] - 0s 4ms/step - loss: 0.2442\n",
      "Epoch 4/25\n",
      "85/85 [==============================] - 0s 4ms/step - loss: 0.1419\n",
      "Epoch 5/25\n",
      "85/85 [==============================] - 0s 4ms/step - loss: 0.0842\n",
      "Epoch 6/25\n",
      "85/85 [==============================] - 0s 4ms/step - loss: 0.0574\n",
      "Epoch 7/25\n",
      "85/85 [==============================] - 0s 4ms/step - loss: 0.0383\n",
      "Epoch 8/25\n",
      "85/85 [==============================] - 0s 4ms/step - loss: 0.0245\n",
      "Epoch 9/25\n",
      "85/85 [==============================] - 0s 5ms/step - loss: 0.0144\n",
      "Epoch 10/25\n",
      "85/85 [==============================] - 0s 4ms/step - loss: 0.0081\n",
      "Epoch 11/25\n",
      "85/85 [==============================] - 0s 5ms/step - loss: 0.0047\n",
      "Epoch 12/25\n",
      "85/85 [==============================] - 0s 5ms/step - loss: 0.0032\n",
      "Epoch 13/25\n",
      "85/85 [==============================] - 0s 5ms/step - loss: 0.0024\n",
      "Epoch 14/25\n",
      "85/85 [==============================] - 0s 5ms/step - loss: 0.0023\n",
      "Epoch 15/25\n",
      "85/85 [==============================] - 1s 6ms/step - loss: 0.0019\n",
      "Epoch 16/25\n",
      "85/85 [==============================] - 0s 5ms/step - loss: 0.0020\n",
      "Epoch 17/25\n",
      "85/85 [==============================] - 0s 5ms/step - loss: 0.0020\n",
      "Epoch 18/25\n",
      "85/85 [==============================] - 0s 6ms/step - loss: 0.0018\n",
      "Epoch 19/25\n",
      "85/85 [==============================] - 0s 5ms/step - loss: 0.0019\n",
      "Epoch 20/25\n",
      "85/85 [==============================] - 0s 5ms/step - loss: 0.0016\n",
      "Epoch 21/25\n",
      "85/85 [==============================] - 1s 6ms/step - loss: 0.0016\n",
      "Epoch 22/25\n",
      "85/85 [==============================] - 0s 5ms/step - loss: 0.0015\n",
      "Epoch 23/25\n",
      "85/85 [==============================] - 0s 5ms/step - loss: 0.0014\n",
      "Epoch 24/25\n",
      "85/85 [==============================] - 0s 5ms/step - loss: 0.0015\n",
      "Epoch 25/25\n",
      "85/85 [==============================] - 1s 6ms/step - loss: 0.0013\n"
     ]
    }
   ],
   "source": [
    "confirmed_lstm_set = df_confirmed_country.values[0]\n",
    "confirmed_lstm_set = np.reshape(confirmed_lstm_set, (len(confirmed_lstm_set), 1))\n",
    "\n",
    "confirmed_train, confirmed_test, confirmed_scaler = create_lstm_sets(confirmed_lstm_set, time_steps)\n",
    "\n",
    "confirmed_trainX, confirmed_trainY = confirmed_train\n",
    "confirmed_testX, confirmed_testY = confirmed_test\n",
    "\n",
    "confirmed_lstm = lstm_network(confirmed_trainX, confirmed_trainY, time_steps)"
   ]
  },
  {
   "cell_type": "markdown",
   "metadata": {
    "collapsed": false
   },
   "source": [
    "#### Nombre de morts"
   ]
  },
  {
   "cell_type": "code",
   "execution_count": 24,
   "metadata": {
    "collapsed": false,
    "pycharm": {
     "name": "#%%\n"
    }
   },
   "outputs": [
    {
     "name": "stdout",
     "output_type": "stream",
     "text": [
      "Model: \"sequential_1\"\n",
      "_________________________________________________________________\n",
      " Layer (type)                Output Shape              Param #   \n",
      "=================================================================\n",
      " lstm_2 (LSTM)               (None, 1, 100)            40800     \n",
      "                                                                 \n",
      " dropout_2 (Dropout)         (None, 1, 100)            0         \n",
      "                                                                 \n",
      " lstm_3 (LSTM)               (None, 100)               80400     \n",
      "                                                                 \n",
      " dropout_3 (Dropout)         (None, 100)               0         \n",
      "                                                                 \n",
      " dense_1 (Dense)             (None, 1)                 101       \n",
      "                                                                 \n",
      "=================================================================\n",
      "Total params: 121,301\n",
      "Trainable params: 121,301\n",
      "Non-trainable params: 0\n",
      "_________________________________________________________________\n",
      "Epoch 1/25\n",
      "85/85 [==============================] - 5s 4ms/step - loss: 0.3807\n",
      "Epoch 2/25\n",
      "85/85 [==============================] - 0s 5ms/step - loss: 0.3404\n",
      "Epoch 3/25\n",
      "85/85 [==============================] - 0s 5ms/step - loss: 0.2783\n",
      "Epoch 4/25\n",
      "85/85 [==============================] - 0s 5ms/step - loss: 0.1955\n",
      "Epoch 5/25\n",
      "85/85 [==============================] - 0s 5ms/step - loss: 0.1118\n",
      "Epoch 6/25\n",
      "85/85 [==============================] - 0s 5ms/step - loss: 0.0487\n",
      "Epoch 7/25\n",
      "85/85 [==============================] - 0s 4ms/step - loss: 0.0150\n",
      "Epoch 8/25\n",
      "85/85 [==============================] - 0s 4ms/step - loss: 0.0036\n",
      "Epoch 9/25\n",
      "85/85 [==============================] - 0s 5ms/step - loss: 0.0014\n",
      "Epoch 10/25\n",
      "85/85 [==============================] - 0s 4ms/step - loss: 9.9058e-04\n",
      "Epoch 11/25\n",
      "85/85 [==============================] - 0s 5ms/step - loss: 0.0012\n",
      "Epoch 12/25\n",
      "85/85 [==============================] - 0s 4ms/step - loss: 0.0010\n",
      "Epoch 13/25\n",
      "85/85 [==============================] - 0s 4ms/step - loss: 0.0011\n",
      "Epoch 14/25\n",
      "85/85 [==============================] - 0s 4ms/step - loss: 0.0011\n",
      "Epoch 15/25\n",
      "85/85 [==============================] - 0s 4ms/step - loss: 9.6729e-04\n",
      "Epoch 16/25\n",
      "85/85 [==============================] - 0s 5ms/step - loss: 9.3836e-04\n",
      "Epoch 17/25\n",
      "85/85 [==============================] - 0s 4ms/step - loss: 0.0010\n",
      "Epoch 18/25\n",
      "85/85 [==============================] - 0s 4ms/step - loss: 0.0011\n",
      "Epoch 19/25\n",
      "85/85 [==============================] - 0s 4ms/step - loss: 9.8943e-04\n",
      "Epoch 20/25\n",
      "85/85 [==============================] - 0s 4ms/step - loss: 0.0010\n",
      "Epoch 21/25\n",
      "85/85 [==============================] - 0s 4ms/step - loss: 0.0011\n",
      "Epoch 22/25\n",
      "85/85 [==============================] - 0s 4ms/step - loss: 0.0010\n",
      "Epoch 23/25\n",
      "85/85 [==============================] - 0s 4ms/step - loss: 0.0011\n",
      "Epoch 24/25\n",
      "85/85 [==============================] - 0s 4ms/step - loss: 9.5146e-04\n",
      "Epoch 25/25\n",
      "85/85 [==============================] - 0s 4ms/step - loss: 0.0011\n"
     ]
    }
   ],
   "source": [
    "deaths_lstm_set = df_deaths_country.values[0]\n",
    "deaths_lstm_set = np.reshape(deaths_lstm_set, (len(deaths_lstm_set), 1))\n",
    "\n",
    "deaths_train, deaths_test, deaths_scaler = create_lstm_sets(deaths_lstm_set, time_steps)\n",
    "deaths_trainX, deaths_trainY = deaths_train\n",
    "deaths_testX, deaths_testY = deaths_test\n",
    "\n",
    "deaths_lstm = lstm_network(deaths_trainX, deaths_trainY, time_steps)"
   ]
  },
  {
   "cell_type": "markdown",
   "metadata": {},
   "source": [
    "#### Vaccination par jour"
   ]
  },
  {
   "cell_type": "code",
   "execution_count": 25,
   "metadata": {},
   "outputs": [
    {
     "name": "stdout",
     "output_type": "stream",
     "text": [
      "Model: \"sequential_2\"\n",
      "_________________________________________________________________\n",
      " Layer (type)                Output Shape              Param #   \n",
      "=================================================================\n",
      " lstm_4 (LSTM)               (None, 1, 100)            40800     \n",
      "                                                                 \n",
      " dropout_4 (Dropout)         (None, 1, 100)            0         \n",
      "                                                                 \n",
      " lstm_5 (LSTM)               (None, 100)               80400     \n",
      "                                                                 \n",
      " dropout_5 (Dropout)         (None, 100)               0         \n",
      "                                                                 \n",
      " dense_2 (Dense)             (None, 1)                 101       \n",
      "                                                                 \n",
      "=================================================================\n",
      "Total params: 121,301\n",
      "Trainable params: 121,301\n",
      "Non-trainable params: 0\n",
      "_________________________________________________________________\n",
      "Epoch 1/25\n",
      "44/44 [==============================] - 4s 6ms/step - loss: nan\n",
      "Epoch 2/25\n",
      "44/44 [==============================] - 0s 4ms/step - loss: nan\n",
      "Epoch 3/25\n",
      "44/44 [==============================] - 0s 5ms/step - loss: nan\n",
      "Epoch 4/25\n",
      "44/44 [==============================] - 0s 4ms/step - loss: nan\n",
      "Epoch 5/25\n",
      "44/44 [==============================] - 0s 4ms/step - loss: nan\n",
      "Epoch 6/25\n",
      "44/44 [==============================] - 0s 6ms/step - loss: nan\n",
      "Epoch 7/25\n",
      "44/44 [==============================] - 0s 6ms/step - loss: nan\n",
      "Epoch 8/25\n",
      "44/44 [==============================] - 0s 5ms/step - loss: nan\n",
      "Epoch 9/25\n",
      "44/44 [==============================] - 0s 6ms/step - loss: nan\n",
      "Epoch 10/25\n",
      "44/44 [==============================] - 0s 5ms/step - loss: nan\n",
      "Epoch 11/25\n",
      "44/44 [==============================] - 0s 5ms/step - loss: nan\n",
      "Epoch 12/25\n",
      "44/44 [==============================] - 0s 6ms/step - loss: nan\n",
      "Epoch 13/25\n",
      "44/44 [==============================] - 0s 5ms/step - loss: nan\n",
      "Epoch 14/25\n",
      "44/44 [==============================] - 0s 7ms/step - loss: nan\n",
      "Epoch 15/25\n",
      "44/44 [==============================] - 0s 5ms/step - loss: nan\n",
      "Epoch 16/25\n",
      "44/44 [==============================] - 0s 6ms/step - loss: nan\n",
      "Epoch 17/25\n",
      "44/44 [==============================] - 0s 5ms/step - loss: nan\n",
      "Epoch 18/25\n",
      "44/44 [==============================] - 0s 4ms/step - loss: nan\n",
      "Epoch 19/25\n",
      "44/44 [==============================] - 0s 5ms/step - loss: nan\n",
      "Epoch 20/25\n",
      "44/44 [==============================] - 0s 4ms/step - loss: nan\n",
      "Epoch 21/25\n",
      "44/44 [==============================] - 0s 4ms/step - loss: nan\n",
      "Epoch 22/25\n",
      "44/44 [==============================] - 0s 4ms/step - loss: nan\n",
      "Epoch 23/25\n",
      "44/44 [==============================] - 0s 4ms/step - loss: nan\n",
      "Epoch 24/25\n",
      "44/44 [==============================] - 0s 4ms/step - loss: nan\n",
      "Epoch 25/25\n",
      "44/44 [==============================] - 0s 4ms/step - loss: nan\n"
     ]
    }
   ],
   "source": [
    "vaccination_lstm_set = df_vaccination_country[\"daily_vaccinations\"].tolist()\n",
    "vaccination_lstm_set = np.reshape(vaccination_lstm_set, (len(vaccination_lstm_set), 1))\n",
    "\n",
    "vaccination_train, vaccination_test, vaccination_scaler = create_lstm_sets(vaccination_lstm_set, time_steps)\n",
    "\n",
    "vaccination_trainX, vaccination_trainY = vaccination_train\n",
    "vaccination_testX, vaccination_testY = vaccination_test\n",
    "\n",
    "vaccination_lstm = lstm_network(vaccination_trainX, vaccination_trainY, time_steps)"
   ]
  },
  {
   "cell_type": "markdown",
   "metadata": {
    "collapsed": false
   },
   "source": [
    "#### Affichage des résultats"
   ]
  },
  {
   "cell_type": "code",
   "execution_count": 52,
   "metadata": {
    "collapsed": false,
    "pycharm": {
     "name": "#%%\n"
    }
   },
   "outputs": [
    {
     "data": {
      "image/png": "[encoded data removed]",
      "text/plain": [
       "<Figure size 432x288 with 1 Axes>"
      ]
     },
     "metadata": {
      "needs_background": "light"
     },
     "output_type": "display_data"
    },
    {
     "data": {
      "image/png": "[encoded data removed]",
      "text/plain": [
       "<Figure size 432x288 with 1 Axes>"
      ]
     },
     "metadata": {
      "needs_background": "light"
     },
     "output_type": "display_data"
    },
    {
     "data": {
      "image/png": "[encoded data removed]",
      "text/plain": [
       "<Figure size 432x288 with 1 Axes>"
      ]
     },
     "metadata": {
      "needs_background": "light"
     },
     "output_type": "display_data"
    }
   ],
   "source": [
    "def display_plot_lstm(model, scaler, trainX, trainY, testX, testY, country, ord_context):\n",
    "  daysTrain = range(len(trainX))\n",
    "  daysTest = np.array(range(len(testX))) + len(daysTrain)\n",
    "  #plt.plot(daysTrain, scaler.inverse_transform(model.predict(trainX)), '-', label=\"Prédiction sur jeu d'entraînement\")\n",
    "  plt.plot(daysTrain, scaler.inverse_transform(np.reshape(trainY, (-1, 1))), '-', label=\"Réalité sur jeu d'entraînement\")\n",
    "\n",
    "  #plt.plot(daysTest, scaler.inverse_transform(model.predict(testX)), '-', label=\"Prédiction sur jeu de test\")\n",
    "  plt.plot(daysTest, scaler.inverse_transform(np.reshape(testY, (-1, 1))), '-', label=\"Réalité sur jeu de test\")\n",
    "\n",
    "  plt.axvline(len(trainX), 0, 1)\n",
    "  plt.legend()\n",
    "  plt.title(\"Nombre de \" + ord_context + \" pour : \" + country)\n",
    "  plt.xlabel(\"Nombre de jours\")\n",
    "  plt.ylabel(\"Nombre de \" + ord_context)\n",
    "  plt.show()\n",
    "\n",
    "display_plot_lstm(confirmed_lstm, confirmed_scaler, confirmed_trainX, confirmed_trainY, confirmed_testX, confirmed_testY, country, \"cas\")\n",
    "display_plot_lstm(deaths_lstm, deaths_scaler, deaths_trainX, deaths_trainY, deaths_testX, deaths_testY, country, \"morts\")\n",
    "display_plot_lstm(vaccination_lstm, vaccination_scaler, vaccination_trainX, vaccination_trainY, vaccination_testX, vaccination_testY, country, \"vaccination\")"
   ]
  },
  {
   "cell_type": "markdown",
   "metadata": {},
   "source": [
    "#### Prediction fonction"
   ]
  },
  {
   "cell_type": "code",
   "execution_count": 27,
   "metadata": {},
   "outputs": [],
   "source": [
    "def prediction_mono(starting_point, model, days=120):\n",
    "    predictions = []\n",
    "    test = starting_point\n",
    "    for _ in range(days):\n",
    "        pred = model.predict(test)\n",
    "        predictions.append(pred[0][0])\n",
    "        test = pred\n",
    "    return predictions"
   ]
  },
  {
   "cell_type": "code",
   "execution_count": 28,
   "metadata": {},
   "outputs": [
    {
     "data": {
      "text/plain": [
       "array([[424118.52190107, 406996.68333441, 393589.50360179,\n",
       "        382861.15093589, 374132.39815533, 366936.78819954,\n",
       "        360942.24793911, 355905.35291553, 351643.14877719,\n",
       "        348015.16864359, 344911.74638867, 342245.89716792,\n",
       "        339947.84675717, 337960.77215701, 336238.13947052,\n",
       "        334741.3812016 , 333438.34556878, 332302.05861837,\n",
       "        331309.73258391, 330442.04045787, 329682.51035884,\n",
       "        329016.97979644, 328433.32945913, 327921.11717239,\n",
       "        327471.30503118, 327076.05974078, 326728.60620007,\n",
       "        326423.00787643, 326154.16015044, 325917.48417184,\n",
       "        325709.15313989, 325525.71295097, 325364.11547512,\n",
       "        325221.75848782, 325096.32594272, 324985.75469509,\n",
       "        324888.29439953, 324802.40102515, 324726.67695776,\n",
       "        324659.89096582, 324601.03144288, 324549.1067484 ,\n",
       "        324503.32490101, 324462.94050649, 324427.29468957,\n",
       "        324395.88164702, 324368.1622991 , 324343.75063807,\n",
       "        324322.20741376, 324303.1932056 , 324286.3952142 ,\n",
       "        324271.58050388, 324258.52944955, 324247.00911552,\n",
       "        324236.83315322, 324227.83518001, 324219.92867693,\n",
       "        324212.94060603, 324206.79110363, 324201.3137871 ,\n",
       "        324196.52196705, 324192.29584798, 324188.54225561,\n",
       "        324185.26118994, 324182.33285546, 324179.7705628 ,\n",
       "        324177.5210695 , 324175.54444373, 324173.80075365,\n",
       "        324172.23675683, 324170.86576387, 324169.67446417,\n",
       "        324168.58299404, 324167.63794065, 324166.80602744,\n",
       "        324166.09390974, 324165.44168979, 324164.85602289,\n",
       "        324164.37684089, 324163.93093541, 324163.54492769,\n",
       "        324163.2055071 , 324162.89270774, 324162.59987429,\n",
       "        324162.3735939 , 324162.16727942, 324161.99424148,\n",
       "        324161.82785884, 324161.64151028, 324161.51505947,\n",
       "        324161.44850641, 324161.37529805, 324161.29543439,\n",
       "        324161.21557072, 324161.14236236, 324161.08246461,\n",
       "        324161.02256685, 324160.97597972, 324160.94270319,\n",
       "        324160.90277135, 324160.86283952, 324160.81625238,\n",
       "        324160.76966524, 324160.7164228 , 324160.68980157,\n",
       "        324160.66318035, 324160.64321443, 324160.62324852,\n",
       "        324160.61659321, 324160.5966273 , 324160.58997199,\n",
       "        324160.57666138, 324160.56335077, 324160.56335077,\n",
       "        324160.56335077, 324160.56335077, 324160.56335077,\n",
       "        324160.56335077, 324160.56335077, 324160.56335077]])"
      ]
     },
     "execution_count": 28,
     "metadata": {},
     "output_type": "execute_result"
    }
   ],
   "source": [
    "confirmed_preds = prediction_mono([[1.]], confirmed_lstm)\n",
    "confirmed_scaler.inverse_transform([confirmed_preds])"
   ]
  },
  {
   "cell_type": "markdown",
   "metadata": {},
   "source": [
    "### Variables multi-dimensionnelles"
   ]
  },
  {
   "cell_type": "markdown",
   "metadata": {},
   "source": [
    "#### (cas, stringency_index)"
   ]
  },
  {
   "cell_type": "code",
   "execution_count": 29,
   "metadata": {},
   "outputs": [],
   "source": [
    "time_steps = 40\n",
    "n_features = 2"
   ]
  },
  {
   "cell_type": "markdown",
   "metadata": {},
   "source": [
    "##### Get new data\n"
   ]
  },
  {
   "cell_type": "code",
   "execution_count": 30,
   "metadata": {},
   "outputs": [],
   "source": [
    "df_raw_stringency_index = pd.read_csv(\"covid-stringency-index.csv\")\n",
    "df_raw_stringency_index_country = df_raw_stringency_index[df_raw_stringency_index[\"Entity\"] == country]\n",
    "df_stringency_index_country = df_raw_stringency_index_country.drop(columns=[\"Entity\", \"Code\"])\n",
    "df_stringency_index_country.drop(index=df_stringency_index_country.index[0], axis=0, inplace=True)\n",
    "\n",
    "stringency_index_values = list(df_stringency_index_country.stringency_index)[:len(confirmed_country_values)]\n",
    "stringency_index_days = [i for i in range(df_stringency_index_country.Day.size)]"
   ]
  },
  {
   "cell_type": "markdown",
   "metadata": {},
   "source": [
    "##### Adjust some data length (all equal)"
   ]
  },
  {
   "cell_type": "code",
   "execution_count": 31,
   "metadata": {},
   "outputs": [],
   "source": [
    "confirmed_country_values_ml_1 = confirmed_country_values[:len(stringency_index_values)]\n",
    "confirmed_country_days_ml_1 = confirmed_country_days[:len(stringency_index_values)]\n",
    "\n",
    "deaths_country_values_ml_1 = deaths_country_values[:len(stringency_index_values)]\n",
    "deaths_country_days_ml_1 = deaths_country_days[:len(stringency_index_values)]"
   ]
  },
  {
   "cell_type": "markdown",
   "metadata": {},
   "source": [
    "##### Print on a plot"
   ]
  },
  {
   "cell_type": "code",
   "execution_count": 32,
   "metadata": {},
   "outputs": [
    {
     "data": {
      "image/png": "[encoded data removed]",
      "text/plain": [
       "<Figure size 432x288 with 1 Axes>"
      ]
     },
     "metadata": {
      "needs_background": "light"
     },
     "output_type": "display_data"
    },
    {
     "data": {
      "image/png": "[encoded data removed]",
      "text/plain": [
       "<Figure size 432x288 with 1 Axes>"
      ]
     },
     "metadata": {
      "needs_background": "light"
     },
     "output_type": "display_data"
    }
   ],
   "source": [
    "plt.plot(confirmed_country_days_ml_1, confirmed_country_values_ml_1, '.-')\n",
    "plt.title(\"Nombre de cas confirmés pour : \" + country)\n",
    "plt.xlabel(\"Nombre de jours\")\n",
    "plt.ylabel(\"Nombre de cas\")\n",
    "plt.show()\n",
    "\n",
    "plt.plot(stringency_index_days, stringency_index_values, '.-')\n",
    "plt.title(\"Indice de stringency pour : \" + country)\n",
    "plt.xlabel(\"Nombre de jours\")\n",
    "plt.ylabel(\"Indice de stringency\")\n",
    "plt.show()"
   ]
  },
  {
   "cell_type": "markdown",
   "metadata": {},
   "source": [
    "##### Create data sets"
   ]
  },
  {
   "cell_type": "code",
   "execution_count": 33,
   "metadata": {},
   "outputs": [],
   "source": [
    "# Scaled values\n",
    "confirmed_scaler = MinMaxScaler((-1, 1))\n",
    "deaths_scaler = MinMaxScaler((-1, 1))\n",
    "stringency_scaler = MinMaxScaler((-1, 1))\n",
    "\n",
    "confirmed_scaler.fit(confirmed_country_values_ml_1.reshape((-1, 1)))\n",
    "scaled_confirmed = confirmed_scaler.transform(confirmed_country_values_ml_1.reshape((-1, 1))).reshape((-1,))\n",
    "\n",
    "deaths_scaler.fit(deaths_country_values_ml_1.reshape((-1, 1)))\n",
    "scaled_deaths = deaths_scaler.transform(deaths_country_values_ml_1.reshape((-1, 1))).reshape((-1,))\n",
    "\n",
    "stringency_scaler.fit(np.array(stringency_index_values).reshape((-1, 1)))\n",
    "scaled_stringency = stringency_scaler.transform(np.array(stringency_index_values).reshape((-1, 1))).reshape((-1,))"
   ]
  },
  {
   "cell_type": "code",
   "execution_count": 34,
   "metadata": {},
   "outputs": [],
   "source": [
    "multi_data = list(zip(scaled_confirmed, scaled_stringency))"
   ]
  },
  {
   "cell_type": "code",
   "execution_count": 35,
   "metadata": {},
   "outputs": [],
   "source": [
    "multi_train, multi_test, _ = create_lstm_sets(multi_data, time_steps, scale=False, train_percent=0.70)\n",
    "multi_trainX, multi_trainY = multi_train\n",
    "multi_testX, multi_testY = multi_test"
   ]
  },
  {
   "cell_type": "code",
   "execution_count": 36,
   "metadata": {},
   "outputs": [],
   "source": [
    "def lstm_network_multi(X, Y, time_steps=1, n_features=1):\n",
    "  model = kr.Sequential()\n",
    "  model.add(kr.layers.LSTM(100, input_shape=(time_steps, n_features), return_sequences=True)) #return_sequences=True\n",
    "  model.add(kr.layers.Dropout(0.1))\n",
    "  model.add(kr.layers.LSTM(300))\n",
    "  model.add(kr.layers.Dropout(0.1))\n",
    "  model.add(kr.layers.Dense(1))\n",
    "  opt = tf.keras.optimizers.Adam(learning_rate=0.0001)\n",
    "  model.compile(loss='mean_squared_error', optimizer=opt)\n",
    "  model.summary()\n",
    "  model.fit(X, Y, epochs=7, batch_size=4);\n",
    "  return model"
   ]
  },
  {
   "cell_type": "code",
   "execution_count": 37,
   "metadata": {},
   "outputs": [
    {
     "name": "stdout",
     "output_type": "stream",
     "text": [
      "Model: \"sequential_3\"\n",
      "_________________________________________________________________\n",
      " Layer (type)                Output Shape              Param #   \n",
      "=================================================================\n",
      " lstm_6 (LSTM)               (None, 40, 100)           41200     \n",
      "                                                                 \n",
      " dropout_6 (Dropout)         (None, 40, 100)           0         \n",
      "                                                                 \n",
      " lstm_7 (LSTM)               (None, 300)               481200    \n",
      "                                                                 \n",
      " dropout_7 (Dropout)         (None, 300)               0         \n",
      "                                                                 \n",
      " dense_3 (Dense)             (None, 1)                 301       \n",
      "                                                                 \n",
      "=================================================================\n",
      "Total params: 522,701\n",
      "Trainable params: 522,701\n",
      "Non-trainable params: 0\n",
      "_________________________________________________________________\n",
      "Epoch 1/7\n",
      "107/107 [==============================] - 13s 82ms/step - loss: 0.0355\n",
      "Epoch 2/7\n",
      "107/107 [==============================] - 9s 83ms/step - loss: 0.0013\n",
      "Epoch 3/7\n",
      "107/107 [==============================] - 8s 79ms/step - loss: 0.0015\n",
      "Epoch 4/7\n",
      "107/107 [==============================] - 8s 78ms/step - loss: 0.0015\n",
      "Epoch 5/7\n",
      "107/107 [==============================] - 9s 85ms/step - loss: 0.0013\n",
      "Epoch 6/7\n",
      "107/107 [==============================] - 9s 83ms/step - loss: 0.0012\n",
      "Epoch 7/7\n",
      "107/107 [==============================] - 9s 87ms/step - loss: 0.0011\n"
     ]
    }
   ],
   "source": [
    "multi_lstm = lstm_network_multi(multi_trainX, multi_trainY, time_steps, n_features)"
   ]
  },
  {
   "cell_type": "code",
   "execution_count": 38,
   "metadata": {},
   "outputs": [
    {
     "data": {
      "image/png": "[encoded data removed]",
      "text/plain": [
       "<Figure size 432x288 with 1 Axes>"
      ]
     },
     "metadata": {
      "needs_background": "light"
     },
     "output_type": "display_data"
    }
   ],
   "source": [
    "display_plot_lstm(multi_lstm, deaths_scaler, multi_trainX, multi_trainY, multi_testX, multi_testY, country, \"cas\")"
   ]
  },
  {
   "cell_type": "code",
   "execution_count": 39,
   "metadata": {},
   "outputs": [
    {
     "name": "stdout",
     "output_type": "stream",
     "text": [
      "[[0.39047316]]\n",
      "[[0.39264348]]\n",
      "[[0.3948173]]\n",
      "[[0.39699867]]\n",
      "[[0.39918151]]\n",
      "[[0.40135798]]\n",
      "[[0.4035215]]\n",
      "[[0.40566668]]\n",
      "[[0.40779006]]\n",
      "[[0.4098886]]\n",
      "[[0.41196132]]\n",
      "[[0.41400766]]\n",
      "[[0.41602656]]\n",
      "[[0.41801834]]\n",
      "[[0.41998252]]\n",
      "[[0.42191866]]\n",
      "[[0.4238272]]\n",
      "[[0.42570683]]\n",
      "[[0.4275578]]\n",
      "[[0.4293799]]\n",
      "[[0.4311726]]\n",
      "[[0.4329361]]\n",
      "[[0.43467042]]\n",
      "[[0.43637526]]\n",
      "[[0.43805096]]\n",
      "[[0.43969753]]\n",
      "[[0.4413149]]\n",
      "[[0.4429036]]\n",
      "[[0.44446382]]\n",
      "[[0.4459959]]\n",
      "[[0.44750002]]\n",
      "[[0.44897142]]\n",
      "[[0.4504169]]\n",
      "[[0.45183566]]\n",
      "[[0.45322892]]\n",
      "[[0.45459664]]\n",
      "[[0.45593885]]\n",
      "[[0.45725638]]\n",
      "[[0.45854962]]\n",
      "[[0.45981795]]\n",
      "[[0.4610628]]\n",
      "[[0.4622825]]\n",
      "[[0.4634793]]\n",
      "[[0.4646533]]\n",
      "[[0.46580517]]\n",
      "[[0.46693507]]\n",
      "[[0.4680435]]\n",
      "[[0.46913052]]\n",
      "[[0.47019655]]\n",
      "[[0.4712425]]\n",
      "[[0.4722679]]\n",
      "[[0.47327363]]\n",
      "[[0.47425956]]\n",
      "[[0.47522652]]\n",
      "[[0.4761746]]\n",
      "[[0.47710413]]\n",
      "[[0.47801533]]\n",
      "[[0.4789088]]\n",
      "[[0.47978476]]\n",
      "[[0.48064354]]\n",
      "[[0.48148525]]\n",
      "[[0.4823104]]\n",
      "[[0.48311916]]\n",
      "[[0.48391208]]\n",
      "[[0.48468903]]\n",
      "[[0.48545045]]\n",
      "[[0.4861971]]\n",
      "[[0.48692894]]\n",
      "[[0.48764575]]\n",
      "[[0.48834842]]\n",
      "[[0.48903707]]\n",
      "[[0.4897119]]\n",
      "[[0.4903731]]\n",
      "[[0.49102128]]\n",
      "[[0.4916558]]\n",
      "[[0.49227822]]\n",
      "[[0.49288774]]\n",
      "[[0.49434352]]\n",
      "[[0.4961993]]\n",
      "[[0.49832356]]\n",
      "[[0.50063974]]\n",
      "[[0.50309855]]\n",
      "[[0.50566095]]\n",
      "[[0.5082926]]\n",
      "[[0.5109625]]\n",
      "[[0.5136435]]\n",
      "[[0.5163115]]\n",
      "[[0.51894844]]\n",
      "[[0.52153987]]\n",
      "[[0.5240749]]\n",
      "[[0.52654696]]\n",
      "[[0.5289526]]\n",
      "[[0.53129035]]\n",
      "[[0.5335606]]\n",
      "[[0.53576475]]\n",
      "[[0.5379051]]\n",
      "[[0.53998446]]\n",
      "[[0.5420058]]\n",
      "[[0.54397196]]\n",
      "[[0.54588526]]\n",
      "[[0.54774946]]\n",
      "[[0.5495656]]\n",
      "[[0.5513369]]\n",
      "[[0.55306387]]\n",
      "[[0.55474955]]\n",
      "[[0.5563947]]\n",
      "[[0.55800116]]\n",
      "[[0.5595693]]\n",
      "[[0.56110096]]\n",
      "[[0.562597]]\n",
      "[[0.56405836]]\n",
      "[[0.56548536]]\n",
      "[[0.56687975]]\n",
      "[[0.56824183]]\n",
      "[[0.5695724]]\n",
      "[[0.5708721]]\n",
      "[[0.5721422]]\n",
      "[[0.5733962]]\n",
      "[[0.57461977]]\n",
      "[[0.5758134]]\n",
      "[[0.5769781]]\n",
      "[[0.57811475]]\n",
      "[[0.57922477]]\n",
      "[[0.5803083]]\n",
      "[[0.58136594]]\n",
      "[[0.58239913]]\n",
      "[[0.5834075]]\n",
      "[[0.58439225]]\n",
      "[[0.58535385]]\n",
      "[[0.5862927]]\n",
      "[[0.5872095]]\n",
      "[[0.58810383]]\n",
      "[[0.5889778]]\n",
      "[[0.58983064]]\n",
      "[[0.59066314]]\n",
      "[[0.5914759]]\n",
      "[[0.59226936]]\n",
      "[[0.59304386]]\n",
      "[[0.5937996]]\n",
      "[[0.5945374]]\n",
      "[[0.59525704]]\n",
      "[[0.5959594]]\n",
      "[[0.59664565]]\n",
      "[[0.5973147]]\n",
      "[[0.597968]]\n",
      "[[0.5986051]]\n",
      "[[0.59922695]]\n",
      "[[0.59983367]]\n",
      "[[0.6004257]]\n",
      "[[0.60100377]]\n"
     ]
    }
   ],
   "source": [
    "n_days = 150\n",
    "predictions = []\n",
    "test = multi_trainX[-1-time_steps]\n",
    "test = test.reshape(-1, time_steps, n_features)\n",
    "start_day = len(multi_trainX)\n",
    "for i in range(n_days):\n",
    "    pred = multi_lstm.predict(test)\n",
    "    predictions.append(pred[0][0])\n",
    "    \n",
    "    old = test[0][0]\n",
    "    test = np.delete(test[0], 0, axis=0)\n",
    "\n",
    "    indice = stringency_scaler.transform([[70]])\n",
    "    if i > 75:\n",
    "        indice = stringency_scaler.transform([[80]])\n",
    "\n",
    "    test = np.append(test, [pred[0][0], indice[0][0]]).reshape(-1, time_steps, n_features)\n",
    "\n",
    "    print(pred)"
   ]
  },
  {
   "cell_type": "code",
   "execution_count": 40,
   "metadata": {},
   "outputs": [],
   "source": [
    "predicted_plot = np.concatenate((confirmed_scaler.transform(confirmed_country_values_ml_1[:start_day].reshape((-1, 1))).reshape((-1,)), predictions))\n",
    "predicted_plot = confirmed_scaler.inverse_transform(predicted_plot.reshape((-1, 1)))\n",
    "\n",
    "days = np.concatenate((list(range(start_day)), np.array([day for day in range(start_day, start_day+n_days)])))"
   ]
  },
  {
   "cell_type": "code",
   "execution_count": 41,
   "metadata": {},
   "outputs": [
    {
     "data": {
      "image/png": "[encoded data removed]",
      "text/plain": [
       "<Figure size 432x288 with 1 Axes>"
      ]
     },
     "metadata": {
      "needs_background": "light"
     },
     "output_type": "display_data"
    }
   ],
   "source": [
    "plt.plot(days, predicted_plot, '-', label=\"Prédiction\")\n",
    "plt.plot(days, confirmed_country_values_ml_1[:start_day+n_days], '-', label=\"Réalité\")\n",
    "plt.legend()\n",
    "plt.axvline(start_day)\n",
    "plt.title(\"Nombre de cas confirmés pour : \" + country)\n",
    "plt.xlabel(\"Nombre de jours\")\n",
    "plt.ylabel(\"Nombre de cas\")\n",
    "plt.show()"
   ]
  },
  {
   "cell_type": "markdown",
   "metadata": {},
   "source": [
    "#### (cas, stringency_index, vaccination)"
   ]
  },
  {
   "cell_type": "code",
   "execution_count": 42,
   "metadata": {},
   "outputs": [],
   "source": [
    "time_steps = 40\n",
    "n_features = 3"
   ]
  },
  {
   "cell_type": "markdown",
   "metadata": {},
   "source": [
    "##### Adjust some data length (all equal)"
   ]
  },
  {
   "cell_type": "code",
   "execution_count": 43,
   "metadata": {},
   "outputs": [],
   "source": [
    "confirmed_country_values_ml_2 = confirmed_country_values[327:667]\n",
    "confirmed_country_days_ml_2 = confirmed_country_days[327:667]\n",
    "\n",
    "vaccination_index_values_ml_2 = np.array(vaccination_index_values[:340])\n",
    "vaccination_index_days_ml_2 = np.array(vaccination_index_days[:340])\n",
    "\n",
    "stringency_index_values_ml_2 = stringency_index_values[327:327+340]\n",
    "stringency_index_days_ml_2 = stringency_index_days[327:327+340]"
   ]
  },
  {
   "cell_type": "markdown",
   "metadata": {},
   "source": [
    "##### Create data sets"
   ]
  },
  {
   "cell_type": "code",
   "execution_count": 44,
   "metadata": {},
   "outputs": [],
   "source": [
    "# Scaled values\n",
    "confirmed_scaler = MinMaxScaler((-1, 1))\n",
    "vaccination_scaler = MinMaxScaler((-1, 1))\n",
    "stringency_scaler = MinMaxScaler((-1, 1))\n",
    "\n",
    "confirmed_scaler.fit(confirmed_country_values_ml_2.reshape((-1, 1)))\n",
    "scaled_confirmed = confirmed_scaler.transform(confirmed_country_values_ml_2.reshape((-1, 1))).reshape((-1,))\n",
    "\n",
    "vaccination_scaler.fit(vaccination_index_values_ml_2.reshape((-1, 1)))\n",
    "scaled_vaccinations = vaccination_scaler.transform(vaccination_index_values_ml_2.reshape((-1, 1))).reshape((-1,))\n",
    "\n",
    "stringency_scaler.fit(np.array(stringency_index_values_ml_2).reshape((-1, 1)))\n",
    "scaled_stringency = stringency_scaler.transform(np.array(stringency_index_values_ml_2).reshape((-1, 1))).reshape((-1,))"
   ]
  },
  {
   "cell_type": "code",
   "execution_count": 45,
   "metadata": {},
   "outputs": [],
   "source": [
    "multi_data = list(zip(scaled_confirmed, scaled_stringency, scaled_vaccinations))"
   ]
  },
  {
   "cell_type": "code",
   "execution_count": 46,
   "metadata": {},
   "outputs": [],
   "source": [
    "multi_train, multi_test, _ = create_lstm_sets(multi_data, time_steps, scale=False, train_percent=0.70)\n",
    "multi_trainX, multi_trainY = multi_train\n",
    "multi_testX, multi_testY = multi_test"
   ]
  },
  {
   "cell_type": "code",
   "execution_count": 47,
   "metadata": {},
   "outputs": [
    {
     "name": "stdout",
     "output_type": "stream",
     "text": [
      "Model: \"sequential_4\"\n",
      "_________________________________________________________________\n",
      " Layer (type)                Output Shape              Param #   \n",
      "=================================================================\n",
      " lstm_8 (LSTM)               (None, 40, 100)           41600     \n",
      "                                                                 \n",
      " dropout_8 (Dropout)         (None, 40, 100)           0         \n",
      "                                                                 \n",
      " lstm_9 (LSTM)               (None, 300)               481200    \n",
      "                                                                 \n",
      " dropout_9 (Dropout)         (None, 300)               0         \n",
      "                                                                 \n",
      " dense_4 (Dense)             (None, 1)                 301       \n",
      "                                                                 \n",
      "=================================================================\n",
      "Total params: 523,101\n",
      "Trainable params: 523,101\n",
      "Non-trainable params: 0\n",
      "_________________________________________________________________\n",
      "Epoch 1/7\n",
      "50/50 [==============================] - 9s 77ms/step - loss: 0.0294\n",
      "Epoch 2/7\n",
      "50/50 [==============================] - 4s 74ms/step - loss: 0.0026\n",
      "Epoch 3/7\n",
      "50/50 [==============================] - 4s 72ms/step - loss: 0.0010\n",
      "Epoch 4/7\n",
      "50/50 [==============================] - 4s 71ms/step - loss: 8.6735e-04\n",
      "Epoch 5/7\n",
      "50/50 [==============================] - 4s 71ms/step - loss: 6.7632e-04\n",
      "Epoch 6/7\n",
      "50/50 [==============================] - 4s 77ms/step - loss: 6.0401e-04\n",
      "Epoch 7/7\n",
      "50/50 [==============================] - 4s 71ms/step - loss: 6.0266e-04\n"
     ]
    }
   ],
   "source": [
    "multi_lstm = lstm_network_multi(multi_trainX, multi_trainY, time_steps, n_features)"
   ]
  },
  {
   "cell_type": "code",
   "execution_count": 48,
   "metadata": {},
   "outputs": [
    {
     "data": {
      "image/png": "[encoded data removed]",
      "text/plain": [
       "<Figure size 432x288 with 1 Axes>"
      ]
     },
     "metadata": {
      "needs_background": "light"
     },
     "output_type": "display_data"
    }
   ],
   "source": [
    "display_plot_lstm(multi_lstm, confirmed_scaler, multi_trainX, multi_trainY, multi_testX, multi_testY, country, \"cas\")"
   ]
  },
  {
   "cell_type": "code",
   "execution_count": 49,
   "metadata": {},
   "outputs": [
    {
     "name": "stdout",
     "output_type": "stream",
     "text": [
      "524\n",
      "[[0.52217436]]\n",
      "[[0.5226639]]\n",
      "[[0.5240824]]\n",
      "[[0.5261952]]\n",
      "[[0.52883005]]\n",
      "[[0.5317943]]\n",
      "[[0.5349169]]\n",
      "[[0.53806233]]\n",
      "[[0.54113835]]\n",
      "[[0.5440858]]\n",
      "[[0.5468765]]\n",
      "[[0.549511]]\n",
      "[[0.55198514]]\n",
      "[[0.55430967]]\n",
      "[[0.5564994]]\n",
      "[[0.55856764]]\n",
      "[[0.5605277]]\n",
      "[[0.56239146]]\n",
      "[[0.5641679]]\n",
      "[[0.5658633]]\n",
      "[[0.56748426]]\n",
      "[[0.56903386]]\n",
      "[[0.57051456]]\n",
      "[[0.5719292]]\n",
      "[[0.5732785]]\n",
      "[[0.57456464]]\n",
      "[[0.5757895]]\n",
      "[[0.57695496]]\n",
      "[[0.57806253]]\n",
      "[[0.5791136]]\n",
      "[[0.58011043]]\n",
      "[[0.5810541]]\n",
      "[[0.58194745]]\n",
      "[[0.58279276]]\n",
      "[[0.583593]]\n",
      "[[0.58435076]]\n",
      "[[0.5850688]]\n",
      "[[0.5857481]]\n",
      "[[0.5864065]]\n",
      "[[0.5870281]]\n",
      "[[0.5876209]]\n",
      "[[0.5881248]]\n",
      "[[0.58860433]]\n",
      "[[0.58906]]\n",
      "[[0.5894925]]\n",
      "[[0.58990234]]\n",
      "[[0.59029]]\n",
      "[[0.59065676]]\n",
      "[[0.59100306]]\n",
      "[[0.59133035]]\n",
      "[[0.59163976]]\n",
      "[[0.59193134]]\n",
      "[[0.5922071]]\n",
      "[[0.59246755]]\n",
      "[[0.5927125]]\n",
      "[[0.5929444]]\n",
      "[[0.59316313]]\n",
      "[[0.5933696]]\n",
      "[[0.5935645]]\n",
      "[[0.5937487]]\n",
      "[[0.5939216]]\n",
      "[[0.59408534]]\n",
      "[[0.59424007]]\n",
      "[[0.5943857]]\n",
      "[[0.5945235]]\n",
      "[[0.59465307]]\n",
      "[[0.59477556]]\n",
      "[[0.5948914]]\n",
      "[[0.59500027]]\n",
      "[[0.5951033]]\n",
      "[[0.59520006]]\n",
      "[[0.5952921]]\n",
      "[[0.5953781]]\n",
      "[[0.59545946]]\n",
      "[[0.59553677]]\n",
      "[[0.59560925]]\n",
      "[[0.5956779]]\n",
      "[[0.5957424]]\n",
      "[[0.5958034]]\n",
      "[[0.5958612]]\n",
      "[[0.59591514]]\n",
      "[[0.5959663]]\n",
      "[[0.5960146]]\n",
      "[[0.5960602]]\n",
      "[[0.59610337]]\n",
      "[[0.5961438]]\n",
      "[[0.5961822]]\n",
      "[[0.59621817]]\n",
      "[[0.5962524]]\n",
      "[[0.59628445]]\n",
      "[[0.5963146]]\n",
      "[[0.5963437]]\n",
      "[[0.5963706]]\n",
      "[[0.596396]]\n",
      "[[0.5964202]]\n",
      "[[0.59644294]]\n",
      "[[0.5964644]]\n",
      "[[0.5964844]]\n",
      "[[0.5965036]]\n",
      "[[0.5965214]]\n"
     ]
    }
   ],
   "source": [
    "n_days = 100\n",
    "predictions = []\n",
    "test = multi_trainX[-1-time_steps]\n",
    "test = test.reshape(-1, time_steps, n_features)\n",
    "start_day = 327+len(multi_trainX)\n",
    "print(start_day)\n",
    "for i in range(n_days):\n",
    "    pred = multi_lstm.predict(test)\n",
    "    predictions.append(pred[0][0])\n",
    "    \n",
    "    old = test[0][0]\n",
    "    test = np.delete(test[0], 0, axis=0)\n",
    "    \n",
    "    indice = stringency_scaler.transform([[85]])\n",
    "    if i > 500:\n",
    "        indice = stringency_scaler.transform([[95]])\n",
    "\n",
    "    test = np.append(test, [pred[0][0], indice[0][0], 1.]).reshape((-1, time_steps, n_features))\n",
    "\n",
    "    print(pred)"
   ]
  },
  {
   "cell_type": "code",
   "execution_count": 50,
   "metadata": {},
   "outputs": [],
   "source": [
    "predicted_plot = np.concatenate((confirmed_scaler.transform(confirmed_country_values[327:start_day].reshape((-1, 1))).reshape((-1,)), predictions))\n",
    "predicted_plot = confirmed_scaler.inverse_transform(predicted_plot.reshape((-1, 1))).reshape((-1,))\n",
    "\n",
    "days = list(range(327, start_day+n_days))"
   ]
  },
  {
   "cell_type": "code",
   "execution_count": 51,
   "metadata": {},
   "outputs": [
    {
     "data": {
      "image/png": "[encoded data removed]",
      "text/plain": [
       "<Figure size 432x288 with 1 Axes>"
      ]
     },
     "metadata": {
      "needs_background": "light"
     },
     "output_type": "display_data"
    }
   ],
   "source": [
    "plt.plot(days, predicted_plot, '-', label=\"Prédiction\")\n",
    "plt.plot(days, confirmed_country_values[327:start_day+n_days], '-', label=\"Réalité\")\n",
    "plt.legend()\n",
    "plt.axvline(start_day)\n",
    "plt.title(\"Nombre de cas confirmés pour : \" + country)\n",
    "plt.xlabel(\"Nombre de jours\")\n",
    "plt.ylabel(\"Nombre de cas\")\n",
    "plt.show()"
   ]
  }
 ],
 "metadata": {
  "interpreter": {
   "hash": "7131807ce35ac9e736e77ee5c468af6a0125a9e761140560e4dc712dc1cce710"
  },
  "kernelspec": {
   "display_name": "Python 3.9.0 64-bit",
   "language": "python",
   "name": "python3"
  },
  "language_info": {
   "codemirror_mode": {
    "name": "ipython",
    "version": 3
   },
   "file_extension": ".py",
   "mimetype": "text/x-python",
   "name": "python",
   "nbconvert_exporter": "python",
   "pygments_lexer": "ipython3",
   "version": "3.9.0"
  },
  "orig_nbformat": 4
 },
 "nbformat": 4,
 "nbformat_minor": 2
}
