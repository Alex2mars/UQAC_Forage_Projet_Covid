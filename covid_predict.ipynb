{
 "cells": [
  {
   "cell_type": "markdown",
   "metadata": {},
   "source": [
    "# Projet de prédiction des données liées au Covid"
   ]
  },
  {
   "cell_type": "markdown",
   "metadata": {},
   "source": [
    "## Imports globaux"
   ]
  },
  {
   "cell_type": "code",
   "execution_count": 236,
   "metadata": {},
   "outputs": [],
   "source": [
    "import matplotlib.pyplot as plt\n",
    "import pandas as pd"
   ]
  },
  {
   "cell_type": "markdown",
   "metadata": {},
   "source": [
    "## Data preparation"
   ]
  },
  {
   "cell_type": "markdown",
   "metadata": {},
   "source": [
    "#### Get online data"
   ]
  },
  {
   "cell_type": "code",
   "execution_count": 237,
   "metadata": {},
   "outputs": [],
   "source": [
    "df_raw_confirmed_global = pd.read_csv(\"https://raw.githubusercontent.com/CSSEGISandData/COVID-19/master/csse_covid_19_data/csse_covid_19_time_series/time_series_covid19_confirmed_global.csv\")\n",
    "df_raw_deaths_global = pd.read_csv(\"https://raw.githubusercontent.com/CSSEGISandData/COVID-19/master/csse_covid_19_data/csse_covid_19_time_series/time_series_covid19_deaths_global.csv\")\n",
    "df_raw_vaccination_global = pd.read_csv(\"https://raw.githubusercontent.com/owid/covid-19-data/master/public/data/vaccinations/vaccinations.csv\")\n",
    "df_raw_vaccination_global=df_raw_vaccination_global.drop(columns=[\"daily_vaccinations_per_million\",\"total_boosters_per_hundred\",\"daily_vaccinations_raw\",\"total_boosters\",\"people_fully_vaccinated_per_hundred\",\"daily_people_vaccinated_per_hundred\",\"people_vaccinated\", \"total_vaccinations\", \"daily_people_vaccinated\", \"people_fully_vaccinated\",\"total_vaccinations_per_hundred\",\"people_vaccinated_per_hundred\"])"
   ]
  },
  {
   "cell_type": "markdown",
   "metadata": {},
   "source": [
    "#### Choose latitude and longitude for the chosen country (if needed)"
   ]
  },
  {
   "cell_type": "code",
   "execution_count": 238,
   "metadata": {},
   "outputs": [],
   "source": [
    "lat_min = 41.317\n",
    "lat_max = 51.07167\n",
    "long_min = -5.14028\n",
    "long_max = 9.51333"
   ]
  },
  {
   "cell_type": "code",
   "execution_count": 239,
   "metadata": {},
   "outputs": [],
   "source": [
    "# Function to filter elements by latitude/longitude\n",
    "def check_lat_long(df, lat_min, lat_max, long_min, long_max):\n",
    "   return df[(df[\"Lat\"] > lat_min) & (df[\"Lat\"] < lat_max) & (df[\"Long\"] > long_min) & (df[\"Long\"] < long_max)]"
   ]
  },
  {
   "cell_type": "markdown",
   "metadata": {},
   "source": [
    "#### Sélection des données liées au pays choisi"
   ]
  },
  {
   "cell_type": "code",
   "execution_count": 240,
   "metadata": {},
   "outputs": [],
   "source": [
    "country = \"Canada\"\n",
    "\n",
    "df_raw_confirmed_country = df_raw_confirmed_global[(df_raw_confirmed_global[\"Country/Region\"] == country) & (df_raw_confirmed_global[\"Province/State\"] == \"Quebec\")]\n",
    "df_raw_deaths_country = df_raw_deaths_global[(df_raw_deaths_global[\"Country/Region\"] == country) & (df_raw_deaths_global[\"Province/State\"] == \"Quebec\")]\n",
    "df_raw_vaccination_country = df_raw_vaccination_global[df_raw_vaccination_global[\"location\"] == country]\n",
    "\n",
    "df_confirmed_country = df_raw_confirmed_country\n",
    "df_deaths_country = df_raw_deaths_country\n",
    "\n",
    "#df_confirmed_country = check_lat_long(df_raw_confirmed_country, lat_min ,lat_max ,long_min, long_max)\n",
    "#df_deaths_country = check_lat_long(df_raw_deaths_country, lat_min, lat_max, long_min, long_max)"
   ]
  },
  {
   "cell_type": "code",
   "execution_count": 241,
   "metadata": {},
   "outputs": [
    {
     "data": {
      "text/html": [
       "<div>\n",
       "<style scoped>\n",
       "    .dataframe tbody tr th:only-of-type {\n",
       "        vertical-align: middle;\n",
       "    }\n",
       "\n",
       "    .dataframe tbody tr th {\n",
       "        vertical-align: top;\n",
       "    }\n",
       "\n",
       "    .dataframe thead th {\n",
       "        text-align: right;\n",
       "    }\n",
       "</style>\n",
       "<table border=\"1\" class=\"dataframe\">\n",
       "  <thead>\n",
       "    <tr style=\"text-align: right;\">\n",
       "      <th></th>\n",
       "      <th>0</th>\n",
       "      <th>1</th>\n",
       "      <th>2</th>\n",
       "      <th>3</th>\n",
       "      <th>4</th>\n",
       "      <th>5</th>\n",
       "      <th>6</th>\n",
       "      <th>7</th>\n",
       "      <th>8</th>\n",
       "      <th>9</th>\n",
       "      <th>...</th>\n",
       "      <th>667</th>\n",
       "      <th>668</th>\n",
       "      <th>669</th>\n",
       "      <th>670</th>\n",
       "      <th>671</th>\n",
       "      <th>672</th>\n",
       "      <th>673</th>\n",
       "      <th>674</th>\n",
       "      <th>675</th>\n",
       "      <th>676</th>\n",
       "    </tr>\n",
       "  </thead>\n",
       "  <tbody>\n",
       "    <tr>\n",
       "      <th>51</th>\n",
       "      <td>0</td>\n",
       "      <td>0</td>\n",
       "      <td>0</td>\n",
       "      <td>0</td>\n",
       "      <td>0</td>\n",
       "      <td>0</td>\n",
       "      <td>0</td>\n",
       "      <td>0</td>\n",
       "      <td>0</td>\n",
       "      <td>0</td>\n",
       "      <td>...</td>\n",
       "      <td>437548</td>\n",
       "      <td>438363</td>\n",
       "      <td>439070</td>\n",
       "      <td>439762</td>\n",
       "      <td>440461</td>\n",
       "      <td>441343</td>\n",
       "      <td>443547</td>\n",
       "      <td>444584</td>\n",
       "      <td>445755</td>\n",
       "      <td>446630</td>\n",
       "    </tr>\n",
       "  </tbody>\n",
       "</table>\n",
       "<p>1 rows × 677 columns</p>\n",
       "</div>"
      ],
      "text/plain": [
       "    0    1    2    3    4    5    6    7    8    9    ...     667     668  \\\n",
       "51    0    0    0    0    0    0    0    0    0    0  ...  437548  438363   \n",
       "\n",
       "       669     670     671     672     673     674     675     676  \n",
       "51  439070  439762  440461  441343  443547  444584  445755  446630  \n",
       "\n",
       "[1 rows x 677 columns]"
      ]
     },
     "execution_count": 241,
     "metadata": {},
     "output_type": "execute_result"
    }
   ],
   "source": [
    "uselessColumns = [\"Lat\", \"Long\", \"Province/State\", \"Country/Region\"]\n",
    "\n",
    "def columnsInNumbers(df):\n",
    "  df.columns = [i for i in range(len(df_confirmed_country.columns))]\n",
    "\n",
    "df_confirmed_country = df_confirmed_country.drop(columns=uselessColumns)\n",
    "df_deaths_country = df_deaths_country.drop(columns=uselessColumns)\n",
    "\n",
    "columnsInNumbers(df_confirmed_country)\n",
    "columnsInNumbers(df_deaths_country)\n",
    "\n",
    "df_vaccination_country = df_raw_vaccination_country.drop(columns=[\"location\",\"iso_code\",\"date\"])\n",
    "\n",
    "df_confirmed_country"
   ]
  },
  {
   "cell_type": "code",
   "execution_count": 242,
   "metadata": {},
   "outputs": [],
   "source": [
    "def get_values_and_days(df):\n",
    "  return (df.values[0], df.columns.to_list())\n",
    "\n",
    "confirmed_country_values, confirmed_country_days = get_values_and_days(df_confirmed_country)\n",
    "deaths_country_values, deaths_country_days = get_values_and_days(df_deaths_country)\n",
    "\n",
    "vaccination_index_values = list(df_raw_vaccination_country.daily_vaccinations)[:len(confirmed_country_values)]\n",
    "vaccination_index_days = [i for i in range(327, 327+df_raw_vaccination_country.date.size)]\n",
    "\n",
    "vaccination_index_values.pop(0)\n",
    "pass"
   ]
  },
  {
   "cell_type": "code",
   "execution_count": 243,
   "metadata": {},
   "outputs": [
    {
     "data": {
      "image/png": "[encoded data removed]",
      "text/plain": [
       "<Figure size 432x288 with 1 Axes>"
      ]
     },
     "metadata": {
      "needs_background": "light"
     },
     "output_type": "display_data"
    },
    {
     "data": {
      "image/png": "[encoded data removed]",
      "text/plain": [
       "<Figure size 432x288 with 1 Axes>"
      ]
     },
     "metadata": {
      "needs_background": "light"
     },
     "output_type": "display_data"
    },
    {
     "ename": "ValueError",
     "evalue": "x and y must have same first dimension, but have shapes (350,) and (349,)",
     "output_type": "error",
     "traceback": [
      "\u001b[1;31m---------------------------------------------------------------------------\u001b[0m",
      "\u001b[1;31mValueError\u001b[0m                                Traceback (most recent call last)",
      "\u001b[1;32mC:\\Users\\ALEXDE~1\\AppData\\Local\\Temp/ipykernel_19320/757183171.py\u001b[0m in \u001b[0;36m<module>\u001b[1;34m\u001b[0m\n\u001b[0;32m     11\u001b[0m \u001b[0mplt\u001b[0m\u001b[1;33m.\u001b[0m\u001b[0mshow\u001b[0m\u001b[1;33m(\u001b[0m\u001b[1;33m)\u001b[0m\u001b[1;33m\u001b[0m\u001b[1;33m\u001b[0m\u001b[0m\n\u001b[0;32m     12\u001b[0m \u001b[1;33m\u001b[0m\u001b[0m\n\u001b[1;32m---> 13\u001b[1;33m \u001b[0mplt\u001b[0m\u001b[1;33m.\u001b[0m\u001b[0mplot\u001b[0m\u001b[1;33m(\u001b[0m\u001b[0mvaccination_index_days\u001b[0m\u001b[1;33m,\u001b[0m \u001b[0mvaccination_index_values\u001b[0m\u001b[1;33m,\u001b[0m \u001b[1;34m'.-'\u001b[0m\u001b[1;33m)\u001b[0m\u001b[1;33m\u001b[0m\u001b[1;33m\u001b[0m\u001b[0m\n\u001b[0m\u001b[0;32m     14\u001b[0m \u001b[0mplt\u001b[0m\u001b[1;33m.\u001b[0m\u001b[0mtitle\u001b[0m\u001b[1;33m(\u001b[0m\u001b[1;34m\"Nombre de vaccine pour : \"\u001b[0m \u001b[1;33m+\u001b[0m \u001b[0mcountry\u001b[0m\u001b[1;33m)\u001b[0m\u001b[1;33m\u001b[0m\u001b[1;33m\u001b[0m\u001b[0m\n\u001b[0;32m     15\u001b[0m \u001b[0mplt\u001b[0m\u001b[1;33m.\u001b[0m\u001b[0mxlabel\u001b[0m\u001b[1;33m(\u001b[0m\u001b[1;34m\"Nombre de jours\"\u001b[0m\u001b[1;33m)\u001b[0m\u001b[1;33m\u001b[0m\u001b[1;33m\u001b[0m\u001b[0m\n",
      "\u001b[1;32m~\\AppData\\Local\\Programs\\Python\\Python39\\lib\\site-packages\\matplotlib\\pyplot.py\u001b[0m in \u001b[0;36mplot\u001b[1;34m(scalex, scaley, data, *args, **kwargs)\u001b[0m\n\u001b[0;32m   2838\u001b[0m \u001b[1;33m@\u001b[0m\u001b[0m_copy_docstring_and_deprecators\u001b[0m\u001b[1;33m(\u001b[0m\u001b[0mAxes\u001b[0m\u001b[1;33m.\u001b[0m\u001b[0mplot\u001b[0m\u001b[1;33m)\u001b[0m\u001b[1;33m\u001b[0m\u001b[1;33m\u001b[0m\u001b[0m\n\u001b[0;32m   2839\u001b[0m \u001b[1;32mdef\u001b[0m \u001b[0mplot\u001b[0m\u001b[1;33m(\u001b[0m\u001b[1;33m*\u001b[0m\u001b[0margs\u001b[0m\u001b[1;33m,\u001b[0m \u001b[0mscalex\u001b[0m\u001b[1;33m=\u001b[0m\u001b[1;32mTrue\u001b[0m\u001b[1;33m,\u001b[0m \u001b[0mscaley\u001b[0m\u001b[1;33m=\u001b[0m\u001b[1;32mTrue\u001b[0m\u001b[1;33m,\u001b[0m \u001b[0mdata\u001b[0m\u001b[1;33m=\u001b[0m\u001b[1;32mNone\u001b[0m\u001b[1;33m,\u001b[0m \u001b[1;33m**\u001b[0m\u001b[0mkwargs\u001b[0m\u001b[1;33m)\u001b[0m\u001b[1;33m:\u001b[0m\u001b[1;33m\u001b[0m\u001b[1;33m\u001b[0m\u001b[0m\n\u001b[1;32m-> 2840\u001b[1;33m     return gca().plot(\n\u001b[0m\u001b[0;32m   2841\u001b[0m         \u001b[1;33m*\u001b[0m\u001b[0margs\u001b[0m\u001b[1;33m,\u001b[0m \u001b[0mscalex\u001b[0m\u001b[1;33m=\u001b[0m\u001b[0mscalex\u001b[0m\u001b[1;33m,\u001b[0m \u001b[0mscaley\u001b[0m\u001b[1;33m=\u001b[0m\u001b[0mscaley\u001b[0m\u001b[1;33m,\u001b[0m\u001b[1;33m\u001b[0m\u001b[1;33m\u001b[0m\u001b[0m\n\u001b[0;32m   2842\u001b[0m         **({\"data\": data} if data is not None else {}), **kwargs)\n",
      "\u001b[1;32m~\\AppData\\Local\\Programs\\Python\\Python39\\lib\\site-packages\\matplotlib\\axes\\_axes.py\u001b[0m in \u001b[0;36mplot\u001b[1;34m(self, scalex, scaley, data, *args, **kwargs)\u001b[0m\n\u001b[0;32m   1741\u001b[0m         \"\"\"\n\u001b[0;32m   1742\u001b[0m         \u001b[0mkwargs\u001b[0m \u001b[1;33m=\u001b[0m \u001b[0mcbook\u001b[0m\u001b[1;33m.\u001b[0m\u001b[0mnormalize_kwargs\u001b[0m\u001b[1;33m(\u001b[0m\u001b[0mkwargs\u001b[0m\u001b[1;33m,\u001b[0m \u001b[0mmlines\u001b[0m\u001b[1;33m.\u001b[0m\u001b[0mLine2D\u001b[0m\u001b[1;33m)\u001b[0m\u001b[1;33m\u001b[0m\u001b[1;33m\u001b[0m\u001b[0m\n\u001b[1;32m-> 1743\u001b[1;33m         \u001b[0mlines\u001b[0m \u001b[1;33m=\u001b[0m \u001b[1;33m[\u001b[0m\u001b[1;33m*\u001b[0m\u001b[0mself\u001b[0m\u001b[1;33m.\u001b[0m\u001b[0m_get_lines\u001b[0m\u001b[1;33m(\u001b[0m\u001b[1;33m*\u001b[0m\u001b[0margs\u001b[0m\u001b[1;33m,\u001b[0m \u001b[0mdata\u001b[0m\u001b[1;33m=\u001b[0m\u001b[0mdata\u001b[0m\u001b[1;33m,\u001b[0m \u001b[1;33m**\u001b[0m\u001b[0mkwargs\u001b[0m\u001b[1;33m)\u001b[0m\u001b[1;33m]\u001b[0m\u001b[1;33m\u001b[0m\u001b[1;33m\u001b[0m\u001b[0m\n\u001b[0m\u001b[0;32m   1744\u001b[0m         \u001b[1;32mfor\u001b[0m \u001b[0mline\u001b[0m \u001b[1;32min\u001b[0m \u001b[0mlines\u001b[0m\u001b[1;33m:\u001b[0m\u001b[1;33m\u001b[0m\u001b[1;33m\u001b[0m\u001b[0m\n\u001b[0;32m   1745\u001b[0m             \u001b[0mself\u001b[0m\u001b[1;33m.\u001b[0m\u001b[0madd_line\u001b[0m\u001b[1;33m(\u001b[0m\u001b[0mline\u001b[0m\u001b[1;33m)\u001b[0m\u001b[1;33m\u001b[0m\u001b[1;33m\u001b[0m\u001b[0m\n",
      "\u001b[1;32m~\\AppData\\Local\\Programs\\Python\\Python39\\lib\\site-packages\\matplotlib\\axes\\_base.py\u001b[0m in \u001b[0;36m__call__\u001b[1;34m(self, data, *args, **kwargs)\u001b[0m\n\u001b[0;32m    271\u001b[0m                 \u001b[0mthis\u001b[0m \u001b[1;33m+=\u001b[0m \u001b[0margs\u001b[0m\u001b[1;33m[\u001b[0m\u001b[1;36m0\u001b[0m\u001b[1;33m]\u001b[0m\u001b[1;33m,\u001b[0m\u001b[1;33m\u001b[0m\u001b[1;33m\u001b[0m\u001b[0m\n\u001b[0;32m    272\u001b[0m                 \u001b[0margs\u001b[0m \u001b[1;33m=\u001b[0m \u001b[0margs\u001b[0m\u001b[1;33m[\u001b[0m\u001b[1;36m1\u001b[0m\u001b[1;33m:\u001b[0m\u001b[1;33m]\u001b[0m\u001b[1;33m\u001b[0m\u001b[1;33m\u001b[0m\u001b[0m\n\u001b[1;32m--> 273\u001b[1;33m             \u001b[1;32myield\u001b[0m \u001b[1;32mfrom\u001b[0m \u001b[0mself\u001b[0m\u001b[1;33m.\u001b[0m\u001b[0m_plot_args\u001b[0m\u001b[1;33m(\u001b[0m\u001b[0mthis\u001b[0m\u001b[1;33m,\u001b[0m \u001b[0mkwargs\u001b[0m\u001b[1;33m)\u001b[0m\u001b[1;33m\u001b[0m\u001b[1;33m\u001b[0m\u001b[0m\n\u001b[0m\u001b[0;32m    274\u001b[0m \u001b[1;33m\u001b[0m\u001b[0m\n\u001b[0;32m    275\u001b[0m     \u001b[1;32mdef\u001b[0m \u001b[0mget_next_color\u001b[0m\u001b[1;33m(\u001b[0m\u001b[0mself\u001b[0m\u001b[1;33m)\u001b[0m\u001b[1;33m:\u001b[0m\u001b[1;33m\u001b[0m\u001b[1;33m\u001b[0m\u001b[0m\n",
      "\u001b[1;32m~\\AppData\\Local\\Programs\\Python\\Python39\\lib\\site-packages\\matplotlib\\axes\\_base.py\u001b[0m in \u001b[0;36m_plot_args\u001b[1;34m(self, tup, kwargs)\u001b[0m\n\u001b[0;32m    397\u001b[0m \u001b[1;33m\u001b[0m\u001b[0m\n\u001b[0;32m    398\u001b[0m         \u001b[1;32mif\u001b[0m \u001b[0mx\u001b[0m\u001b[1;33m.\u001b[0m\u001b[0mshape\u001b[0m\u001b[1;33m[\u001b[0m\u001b[1;36m0\u001b[0m\u001b[1;33m]\u001b[0m \u001b[1;33m!=\u001b[0m \u001b[0my\u001b[0m\u001b[1;33m.\u001b[0m\u001b[0mshape\u001b[0m\u001b[1;33m[\u001b[0m\u001b[1;36m0\u001b[0m\u001b[1;33m]\u001b[0m\u001b[1;33m:\u001b[0m\u001b[1;33m\u001b[0m\u001b[1;33m\u001b[0m\u001b[0m\n\u001b[1;32m--> 399\u001b[1;33m             raise ValueError(f\"x and y must have same first dimension, but \"\n\u001b[0m\u001b[0;32m    400\u001b[0m                              f\"have shapes {x.shape} and {y.shape}\")\n\u001b[0;32m    401\u001b[0m         \u001b[1;32mif\u001b[0m \u001b[0mx\u001b[0m\u001b[1;33m.\u001b[0m\u001b[0mndim\u001b[0m \u001b[1;33m>\u001b[0m \u001b[1;36m2\u001b[0m \u001b[1;32mor\u001b[0m \u001b[0my\u001b[0m\u001b[1;33m.\u001b[0m\u001b[0mndim\u001b[0m \u001b[1;33m>\u001b[0m \u001b[1;36m2\u001b[0m\u001b[1;33m:\u001b[0m\u001b[1;33m\u001b[0m\u001b[1;33m\u001b[0m\u001b[0m\n",
      "\u001b[1;31mValueError\u001b[0m: x and y must have same first dimension, but have shapes (350,) and (349,)"
     ]
    },
    {
     "data": {
      "image/png": "[encoded data removed]",
      "text/plain": [
       "<Figure size 432x288 with 1 Axes>"
      ]
     },
     "metadata": {
      "needs_background": "light"
     },
     "output_type": "display_data"
    }
   ],
   "source": [
    "plt.plot(confirmed_country_days, confirmed_country_values, '.-')\n",
    "plt.title(\"Nombre de cas confirmés pour : \" + country)\n",
    "plt.xlabel(\"Nombre de jours\")\n",
    "plt.ylabel(\"Nombre de cas\")\n",
    "plt.show()\n",
    "\n",
    "plt.plot(deaths_country_days, deaths_country_values, '.-')\n",
    "plt.title(\"Nombre de déces pour : \" + country)\n",
    "plt.xlabel(\"Nombre de jours\")\n",
    "plt.ylabel(\"Nombre de déces\")\n",
    "plt.show()\n",
    "\n",
    "plt.plot(vaccination_index_days, vaccination_index_values, '.-')\n",
    "plt.title(\"Nombre de vaccine pour : \" + country)\n",
    "plt.xlabel(\"Nombre de jours\")\n",
    "plt.ylabel(\"Nombre de vaccine\")\n",
    "plt.show()"
   ]
  },
  {
   "cell_type": "markdown",
   "metadata": {
    "collapsed": false,
    "pycharm": {
     "name": "#%% md\n"
    }
   },
   "source": [
    "## Regression polynomiale (degré = 2)"
   ]
  },
  {
   "cell_type": "code",
   "execution_count": null,
   "metadata": {
    "collapsed": false,
    "pycharm": {
     "name": "#%%\n"
    }
   },
   "outputs": [],
   "source": [
    "import numpy as np\n",
    "from sklearn import svm\n",
    "from sklearn.model_selection import train_test_split"
   ]
  },
  {
   "cell_type": "markdown",
   "metadata": {
    "pycharm": {
     "name": "#%% md\n"
    }
   },
   "source": [
    "Training and test sets\n"
   ]
  },
  {
   "cell_type": "code",
   "execution_count": null,
   "metadata": {
    "collapsed": false,
    "pycharm": {
     "name": "#%%\n"
    }
   },
   "outputs": [],
   "source": [
    "confirmed_train, confirmed_test, confirmed_train_days, confirmed_test_days = train_test_split(confirmed_country_values, confirmed_country_days, test_size=0.30, shuffle=False)\n",
    "deaths_train, deaths_test, deaths_train_days, deaths_test_days = train_test_split(deaths_country_values, deaths_country_days, test_size=0.30, shuffle=False)"
   ]
  },
  {
   "cell_type": "code",
   "execution_count": null,
   "metadata": {
    "collapsed": false,
    "pycharm": {
     "name": "#%%\n"
    }
   },
   "outputs": [
    {
     "name": "stdout",
     "output_type": "stream",
     "text": [
      "Regression cas :  -57.4941867529062\n",
      "Regression morts :  -2038.5589360293836\n"
     ]
    }
   ],
   "source": [
    "def regression(X, Y):\n",
    "  reg = svm.SVR(kernel='poly', C=1000, degree=2)\n",
    "  reg.fit(X, Y)\n",
    "  return reg\n",
    "\n",
    "reg_confirmed = regression(np.reshape(confirmed_train_days, newshape=(-1, 1)), confirmed_train)\n",
    "reg_deaths = regression(np.reshape(deaths_train_days, newshape=(-1, 1)), deaths_train)\n",
    "\n",
    "print(\"Regression cas : \", reg_confirmed.score(np.reshape(confirmed_test_days, newshape=(-1, 1)), confirmed_test))\n",
    "print(\"Regression morts : \", reg_deaths.score(np.reshape(deaths_test_days, newshape=(-1, 1)), deaths_test))"
   ]
  },
  {
   "cell_type": "markdown",
   "metadata": {
    "collapsed": false
   },
   "source": [
    "Visualisation des modèles"
   ]
  },
  {
   "cell_type": "code",
   "execution_count": null,
   "metadata": {
    "collapsed": false,
    "pycharm": {
     "name": "#%%\n"
    }
   },
   "outputs": [
    {
     "data": {
      "image/png": "[encoded data removed]",
      "text/plain": [
       "<Figure size 432x288 with 1 Axes>"
      ]
     },
     "metadata": {
      "needs_background": "light"
     },
     "output_type": "display_data"
    },
    {
     "data": {
      "image/png": "[encoded data removed]",
      "text/plain": [
       "<Figure size 432x288 with 1 Axes>"
      ]
     },
     "metadata": {
      "needs_background": "light"
     },
     "output_type": "display_data"
    }
   ],
   "source": [
    "def display_plot(reg, X, Y, ord_context):\n",
    "  plt.plot(X, Y, '.-')\n",
    "  plt.plot(X, reg.predict(X), \"-\")\n",
    "  plt.title(\"Nombre de \" + ord_context + \" pour : \" + country)\n",
    "  plt.xlabel(\"Nombre de jours\")\n",
    "  plt.ylabel(\"Nombre de \" + ord_context)\n",
    "  plt.show()\n",
    "\n",
    "display_plot(reg_confirmed, np.reshape(confirmed_country_days, newshape=(-1, 1)), confirmed_country_values, \"cas\")\n",
    "display_plot(reg_deaths, np.reshape(deaths_country_days, newshape=(-1, 1)), deaths_country_values, \"morts\")"
   ]
  },
  {
   "cell_type": "markdown",
   "metadata": {
    "collapsed": false
   },
   "source": [
    "## Réseaux LSTM"
   ]
  },
  {
   "cell_type": "code",
   "execution_count": null,
   "metadata": {
    "collapsed": false,
    "pycharm": {
     "name": "#%%\n"
    }
   },
   "outputs": [],
   "source": [
    "import tensorflow as tf\n",
    "import keras as kr\n",
    "from sklearn.preprocessing import MinMaxScaler"
   ]
  },
  {
   "cell_type": "markdown",
   "metadata": {},
   "source": [
    "### Data preparation functions"
   ]
  },
  {
   "cell_type": "code",
   "execution_count": null,
   "metadata": {
    "collapsed": false,
    "pycharm": {
     "name": "#%%\n"
    }
   },
   "outputs": [],
   "source": [
    "def create_sequences(data, time_steps=1):\n",
    "  dataX, dataY = [], []\n",
    "  for i in range(len(data)-time_steps):\n",
    "    a = data[i:(i+time_steps)]\n",
    "    dataX.append(a)\n",
    "    dataY.append(data[i + time_steps][0])\n",
    "  return np.array(dataX), np.array(dataY)\n",
    "\n",
    "def create_lstm_sets(X, time_steps=1, scale=True, train_percent=0.75):\n",
    "  scaler=None\n",
    "  if scale:\n",
    "    scaler = MinMaxScaler(feature_range=(-1, 1))\n",
    "    scaler = scaler.fit(X)\n",
    "    scaled_X = scaler.transform(X)\n",
    "  else:\n",
    "    scaled_X = np.array(X)\n",
    "  train_size = int(len(scaled_X) * train_percent)\n",
    "  test_size = len(scaled_X) - train_size\n",
    "  train, test = scaled_X[0:train_size,:], scaled_X[train_size:len(scaled_X),:]\n",
    "  return create_sequences(train, time_steps), create_sequences(test, time_steps), scaler"
   ]
  },
  {
   "cell_type": "markdown",
   "metadata": {
    "collapsed": false
   },
   "source": [
    "### Variable monodimensionelle & aucun historique en entrée"
   ]
  },
  {
   "cell_type": "code",
   "execution_count": null,
   "metadata": {
    "collapsed": false,
    "pycharm": {
     "name": "#%%\n"
    }
   },
   "outputs": [],
   "source": [
    "time_steps = 1\n",
    "n_features = 1"
   ]
  },
  {
   "cell_type": "markdown",
   "metadata": {},
   "source": [
    "#### Fonction de création du modèle LSTM"
   ]
  },
  {
   "cell_type": "code",
   "execution_count": null,
   "metadata": {},
   "outputs": [],
   "source": [
    "def lstm_network(X, Y, time_steps=1, n_features=1):\n",
    "  model = kr.Sequential()\n",
    "  model.add(kr.layers.LSTM(100, input_shape=(time_steps, n_features), return_sequences=True)) #return_sequences=True\n",
    "  model.add(kr.layers.Dropout(0.1))\n",
    "  model.add(kr.layers.LSTM(100))\n",
    "  model.add(kr.layers.Dropout(0.1))\n",
    "  model.add(kr.layers.Dense(1))\n",
    "  opt = tf.keras.optimizers.Adam(learning_rate=0.0001)\n",
    "  model.compile(loss='mean_squared_error', optimizer=opt)\n",
    "  model.summary()\n",
    "  model.fit(X, Y, epochs=25, batch_size=6);\n",
    "  return model"
   ]
  },
  {
   "cell_type": "markdown",
   "metadata": {
    "collapsed": false
   },
   "source": [
    "#### Nombre de cas"
   ]
  },
  {
   "cell_type": "code",
   "execution_count": null,
   "metadata": {},
   "outputs": [],
   "source": [
    "confirmed_lstm_set = df_confirmed_country.values[0]\n",
    "confirmed_lstm_set = np.reshape(confirmed_lstm_set, (-1, 1))"
   ]
  },
  {
   "cell_type": "code",
   "execution_count": null,
   "metadata": {
    "collapsed": false,
    "pycharm": {
     "name": "#%%\n"
    }
   },
   "outputs": [
    {
     "name": "stdout",
     "output_type": "stream",
     "text": [
      "Model: \"sequential\"\n",
      "_________________________________________________________________\n",
      " Layer (type)                Output Shape              Param #   \n",
      "=================================================================\n",
      " lstm (LSTM)                 (None, 1, 100)            40800     \n",
      "                                                                 \n",
      " dropout (Dropout)           (None, 1, 100)            0         \n",
      "                                                                 \n",
      " lstm_1 (LSTM)               (None, 100)               80400     \n",
      "                                                                 \n",
      " dropout_1 (Dropout)         (None, 100)               0         \n",
      "                                                                 \n",
      " dense (Dense)               (None, 1)                 101       \n",
      "                                                                 \n",
      "=================================================================\n",
      "Total params: 121,301\n",
      "Trainable params: 121,301\n",
      "Non-trainable params: 0\n",
      "_________________________________________________________________\n",
      "Epoch 1/25\n",
      "85/85 [==============================] - 5s 4ms/step - loss: 0.4117\n",
      "Epoch 2/25\n",
      "85/85 [==============================] - 0s 5ms/step - loss: 0.3277\n",
      "Epoch 3/25\n",
      "85/85 [==============================] - 0s 5ms/step - loss: 0.2208\n",
      "Epoch 4/25\n",
      "85/85 [==============================] - 0s 5ms/step - loss: 0.1240\n",
      "Epoch 5/25\n",
      "85/85 [==============================] - 0s 5ms/step - loss: 0.0754\n",
      "Epoch 6/25\n",
      "85/85 [==============================] - 0s 5ms/step - loss: 0.0519\n",
      "Epoch 7/25\n",
      "85/85 [==============================] - 0s 5ms/step - loss: 0.0348\n",
      "Epoch 8/25\n",
      "85/85 [==============================] - 0s 5ms/step - loss: 0.0219\n",
      "Epoch 9/25\n",
      "85/85 [==============================] - 0s 4ms/step - loss: 0.0129\n",
      "Epoch 10/25\n",
      "85/85 [==============================] - 0s 5ms/step - loss: 0.0076\n",
      "Epoch 11/25\n",
      "85/85 [==============================] - 0s 5ms/step - loss: 0.0045\n",
      "Epoch 12/25\n",
      "85/85 [==============================] - 0s 4ms/step - loss: 0.0033\n",
      "Epoch 13/25\n",
      "85/85 [==============================] - 0s 4ms/step - loss: 0.0026\n",
      "Epoch 14/25\n",
      "85/85 [==============================] - 0s 5ms/step - loss: 0.0024\n",
      "Epoch 15/25\n",
      "85/85 [==============================] - 0s 4ms/step - loss: 0.0023\n",
      "Epoch 16/25\n",
      "85/85 [==============================] - 0s 5ms/step - loss: 0.0021\n",
      "Epoch 17/25\n",
      "85/85 [==============================] - 0s 5ms/step - loss: 0.0018\n",
      "Epoch 18/25\n",
      "85/85 [==============================] - 0s 5ms/step - loss: 0.0016\n",
      "Epoch 19/25\n",
      "85/85 [==============================] - 0s 5ms/step - loss: 0.0016\n",
      "Epoch 20/25\n",
      "85/85 [==============================] - 0s 4ms/step - loss: 0.0016\n",
      "Epoch 21/25\n",
      "85/85 [==============================] - 0s 5ms/step - loss: 0.0016\n",
      "Epoch 22/25\n",
      "85/85 [==============================] - 0s 5ms/step - loss: 0.0017\n",
      "Epoch 23/25\n",
      "85/85 [==============================] - 0s 5ms/step - loss: 0.0016\n",
      "Epoch 24/25\n",
      "85/85 [==============================] - 0s 5ms/step - loss: 0.0014\n",
      "Epoch 25/25\n",
      "85/85 [==============================] - 0s 5ms/step - loss: 0.0013\n"
     ]
    }
   ],
   "source": [
    "confirmed_lstm_set = df_confirmed_country.values[0]\n",
    "confirmed_lstm_set = np.reshape(confirmed_lstm_set, (len(confirmed_lstm_set), 1))\n",
    "\n",
    "confirmed_train, confirmed_test, confirmed_scaler = create_lstm_sets(confirmed_lstm_set, time_steps)\n",
    "\n",
    "confirmed_trainX, confirmed_trainY = confirmed_train\n",
    "confirmed_testX, confirmed_testY = confirmed_test\n",
    "\n",
    "confirmed_lstm = lstm_network(confirmed_trainX, confirmed_trainY, time_steps)"
   ]
  },
  {
   "cell_type": "markdown",
   "metadata": {
    "collapsed": false
   },
   "source": [
    "#### Nombre de morts"
   ]
  },
  {
   "cell_type": "code",
   "execution_count": null,
   "metadata": {
    "collapsed": false,
    "pycharm": {
     "name": "#%%\n"
    }
   },
   "outputs": [
    {
     "name": "stdout",
     "output_type": "stream",
     "text": [
      "Model: \"sequential_1\"\n",
      "_________________________________________________________________\n",
      " Layer (type)                Output Shape              Param #   \n",
      "=================================================================\n",
      " lstm_2 (LSTM)               (None, 1, 100)            40800     \n",
      "                                                                 \n",
      " dropout_2 (Dropout)         (None, 1, 100)            0         \n",
      "                                                                 \n",
      " lstm_3 (LSTM)               (None, 100)               80400     \n",
      "                                                                 \n",
      " dropout_3 (Dropout)         (None, 100)               0         \n",
      "                                                                 \n",
      " dense_1 (Dense)             (None, 1)                 101       \n",
      "                                                                 \n",
      "=================================================================\n",
      "Total params: 121,301\n",
      "Trainable params: 121,301\n",
      "Non-trainable params: 0\n",
      "_________________________________________________________________\n",
      "Epoch 1/25\n",
      "85/85 [==============================] - 6s 5ms/step - loss: 0.3824\n",
      "Epoch 2/25\n",
      "85/85 [==============================] - 0s 4ms/step - loss: 0.3410\n",
      "Epoch 3/25\n",
      "85/85 [==============================] - 0s 4ms/step - loss: 0.2799\n",
      "Epoch 4/25\n",
      "85/85 [==============================] - 0s 5ms/step - loss: 0.2002\n",
      "Epoch 5/25\n",
      "85/85 [==============================] - 0s 4ms/step - loss: 0.1188\n",
      "Epoch 6/25\n",
      "85/85 [==============================] - 0s 4ms/step - loss: 0.0537\n",
      "Epoch 7/25\n",
      "85/85 [==============================] - 0s 4ms/step - loss: 0.0182\n",
      "Epoch 8/25\n",
      "85/85 [==============================] - 0s 4ms/step - loss: 0.0044\n",
      "Epoch 9/25\n",
      "85/85 [==============================] - 0s 4ms/step - loss: 0.0017\n",
      "Epoch 10/25\n",
      "85/85 [==============================] - 0s 4ms/step - loss: 0.0010\n",
      "Epoch 11/25\n",
      "85/85 [==============================] - 0s 5ms/step - loss: 9.9778e-04\n",
      "Epoch 12/25\n",
      "85/85 [==============================] - 0s 4ms/step - loss: 0.0012\n",
      "Epoch 13/25\n",
      "85/85 [==============================] - 0s 5ms/step - loss: 0.0011\n",
      "Epoch 14/25\n",
      "85/85 [==============================] - 0s 4ms/step - loss: 0.0011\n",
      "Epoch 15/25\n",
      "85/85 [==============================] - 0s 4ms/step - loss: 0.0011\n",
      "Epoch 16/25\n",
      "85/85 [==============================] - 0s 4ms/step - loss: 9.1203e-04\n",
      "Epoch 17/25\n",
      "85/85 [==============================] - 0s 4ms/step - loss: 9.2404e-04\n",
      "Epoch 18/25\n",
      "85/85 [==============================] - 0s 4ms/step - loss: 9.3715e-04\n",
      "Epoch 19/25\n",
      "85/85 [==============================] - 0s 5ms/step - loss: 9.8180e-04\n",
      "Epoch 20/25\n",
      "85/85 [==============================] - 0s 5ms/step - loss: 9.1061e-04\n",
      "Epoch 21/25\n",
      "85/85 [==============================] - 0s 5ms/step - loss: 9.5620e-04\n",
      "Epoch 22/25\n",
      "85/85 [==============================] - 0s 5ms/step - loss: 0.0011\n",
      "Epoch 23/25\n",
      "85/85 [==============================] - 0s 5ms/step - loss: 0.0011\n",
      "Epoch 24/25\n",
      "85/85 [==============================] - 0s 6ms/step - loss: 9.8521e-04\n",
      "Epoch 25/25\n",
      "85/85 [==============================] - 0s 5ms/step - loss: 8.0720e-04\n"
     ]
    }
   ],
   "source": [
    "deaths_lstm_set = df_deaths_country.values[0]\n",
    "deaths_lstm_set = np.reshape(deaths_lstm_set, (len(deaths_lstm_set), 1))\n",
    "\n",
    "deaths_train, deaths_test, deaths_scaler = create_lstm_sets(deaths_lstm_set, time_steps)\n",
    "deaths_trainX, deaths_trainY = deaths_train\n",
    "deaths_testX, deaths_testY = deaths_test\n",
    "\n",
    "deaths_lstm = lstm_network(deaths_trainX, deaths_trainY, time_steps)"
   ]
  },
  {
   "cell_type": "markdown",
   "metadata": {},
   "source": [
    "#### Vaccination par jour"
   ]
  },
  {
   "cell_type": "code",
   "execution_count": null,
   "metadata": {},
   "outputs": [
    {
     "name": "stdout",
     "output_type": "stream",
     "text": [
      "Model: \"sequential_2\"\n",
      "_________________________________________________________________\n",
      " Layer (type)                Output Shape              Param #   \n",
      "=================================================================\n",
      " lstm_4 (LSTM)               (None, 1, 100)            40800     \n",
      "                                                                 \n",
      " dropout_4 (Dropout)         (None, 1, 100)            0         \n",
      "                                                                 \n",
      " lstm_5 (LSTM)               (None, 100)               80400     \n",
      "                                                                 \n",
      " dropout_5 (Dropout)         (None, 100)               0         \n",
      "                                                                 \n",
      " dense_2 (Dense)             (None, 1)                 101       \n",
      "                                                                 \n",
      "=================================================================\n",
      "Total params: 121,301\n",
      "Trainable params: 121,301\n",
      "Non-trainable params: 0\n",
      "_________________________________________________________________\n",
      "Epoch 1/25\n",
      "44/44 [==============================] - 6s 6ms/step - loss: nan\n",
      "Epoch 2/25\n",
      "44/44 [==============================] - 0s 5ms/step - loss: nan\n",
      "Epoch 3/25\n",
      "44/44 [==============================] - 0s 5ms/step - loss: nan\n",
      "Epoch 4/25\n",
      "44/44 [==============================] - 0s 5ms/step - loss: nan\n",
      "Epoch 5/25\n",
      "44/44 [==============================] - 0s 5ms/step - loss: nan\n",
      "Epoch 6/25\n",
      "44/44 [==============================] - 0s 6ms/step - loss: nan\n",
      "Epoch 7/25\n",
      "44/44 [==============================] - 0s 6ms/step - loss: nan\n",
      "Epoch 8/25\n",
      "44/44 [==============================] - 0s 6ms/step - loss: nan\n",
      "Epoch 9/25\n",
      "44/44 [==============================] - 0s 6ms/step - loss: nan\n",
      "Epoch 10/25\n",
      "44/44 [==============================] - 0s 6ms/step - loss: nan\n",
      "Epoch 11/25\n",
      "44/44 [==============================] - 0s 6ms/step - loss: nan\n",
      "Epoch 12/25\n",
      "44/44 [==============================] - 0s 6ms/step - loss: nan\n",
      "Epoch 13/25\n",
      "44/44 [==============================] - 0s 6ms/step - loss: nan\n",
      "Epoch 14/25\n",
      "44/44 [==============================] - 0s 6ms/step - loss: nan\n",
      "Epoch 15/25\n",
      "44/44 [==============================] - 0s 6ms/step - loss: nan\n",
      "Epoch 16/25\n",
      "44/44 [==============================] - 0s 6ms/step - loss: nan\n",
      "Epoch 17/25\n",
      "44/44 [==============================] - 0s 6ms/step - loss: nan\n",
      "Epoch 18/25\n",
      "44/44 [==============================] - 0s 6ms/step - loss: nan\n",
      "Epoch 19/25\n",
      "44/44 [==============================] - 0s 6ms/step - loss: nan\n",
      "Epoch 20/25\n",
      "44/44 [==============================] - 0s 5ms/step - loss: nan\n",
      "Epoch 21/25\n",
      "44/44 [==============================] - 0s 6ms/step - loss: nan\n",
      "Epoch 22/25\n",
      "44/44 [==============================] - 0s 6ms/step - loss: nan\n",
      "Epoch 23/25\n",
      "44/44 [==============================] - 0s 6ms/step - loss: nan\n",
      "Epoch 24/25\n",
      "44/44 [==============================] - 0s 6ms/step - loss: nan\n",
      "Epoch 25/25\n",
      "44/44 [==============================] - 0s 6ms/step - loss: nan\n"
     ]
    }
   ],
   "source": [
    "vaccination_lstm_set = df_vaccination_country[\"daily_vaccinations\"].tolist()\n",
    "vaccination_lstm_set = np.reshape(vaccination_lstm_set, (len(vaccination_lstm_set), 1))\n",
    "\n",
    "vaccination_train, vaccination_test, vaccination_scaler = create_lstm_sets(vaccination_lstm_set, time_steps)\n",
    "\n",
    "vaccination_trainX, vaccination_trainY = vaccination_train\n",
    "vaccination_testX, vaccination_testY = vaccination_test\n",
    "\n",
    "vaccination_lstm = lstm_network(vaccination_trainX, vaccination_trainY, time_steps)"
   ]
  },
  {
   "cell_type": "markdown",
   "metadata": {
    "collapsed": false
   },
   "source": [
    "#### Affichage des résultats"
   ]
  },
  {
   "cell_type": "code",
   "execution_count": null,
   "metadata": {
    "collapsed": false,
    "pycharm": {
     "name": "#%%\n"
    }
   },
   "outputs": [
    {
     "data": {
      "image/png": "[encoded data removed]",
      "text/plain": [
       "<Figure size 432x288 with 1 Axes>"
      ]
     },
     "metadata": {
      "needs_background": "light"
     },
     "output_type": "display_data"
    },
    {
     "data": {
      "image/png": "[encoded data removed]",
      "text/plain": [
       "<Figure size 432x288 with 1 Axes>"
      ]
     },
     "metadata": {
      "needs_background": "light"
     },
     "output_type": "display_data"
    },
    {
     "data": {
      "image/png": "[encoded data removed]",
      "text/plain": [
       "<Figure size 432x288 with 1 Axes>"
      ]
     },
     "metadata": {
      "needs_background": "light"
     },
     "output_type": "display_data"
    }
   ],
   "source": [
    "def display_plot_lstm(model, scaler, trainX, trainY, testX, testY, country, ord_context):\n",
    "  daysTrain = range(len(trainX))\n",
    "  daysTest = np.array(range(len(testX))) + len(daysTrain)\n",
    "  plt.plot(daysTrain, scaler.inverse_transform(model.predict(trainX)), '-', label=\"Prédiction sur jeu d'entraînement\")\n",
    "  plt.plot(daysTrain, scaler.inverse_transform(np.reshape(trainY, (-1, 1))), '-', label=\"Réalité sur jeu d'entraînement\")\n",
    "\n",
    "  plt.plot(daysTest, scaler.inverse_transform(model.predict(testX)), '-', label=\"Prédiction sur jeu de test\")\n",
    "  plt.plot(daysTest, scaler.inverse_transform(np.reshape(testY, (-1, 1))), '-', label=\"Réalité sur jeu de test\")\n",
    "\n",
    "  plt.axvline(len(trainX), 0, 1)\n",
    "  plt.legend()\n",
    "  plt.title(\"Nombre de \" + ord_context + \" pour : \" + country)\n",
    "  plt.xlabel(\"Nombre de jours\")\n",
    "  plt.ylabel(\"Nombre de \" + ord_context)\n",
    "  plt.show()\n",
    "\n",
    "display_plot_lstm(confirmed_lstm, confirmed_scaler, confirmed_trainX, confirmed_trainY, confirmed_testX, confirmed_testY, country, \"cas\")\n",
    "display_plot_lstm(deaths_lstm, deaths_scaler, deaths_trainX, deaths_trainY, deaths_testX, deaths_testY, country, \"morts\")\n",
    "display_plot_lstm(vaccination_lstm, vaccination_scaler, vaccination_trainX, vaccination_trainY, vaccination_testX, vaccination_testY, country, \"vaccination\")"
   ]
  },
  {
   "cell_type": "markdown",
   "metadata": {},
   "source": [
    "#### Prediction fonction"
   ]
  },
  {
   "cell_type": "code",
   "execution_count": null,
   "metadata": {},
   "outputs": [],
   "source": [
    "def prediction_mono(starting_point, model, days=120):\n",
    "    predictions = []\n",
    "    test = starting_point\n",
    "    for _ in range(days):\n",
    "        pred = model.predict(test)\n",
    "        predictions.append(pred[0][0])\n",
    "        test = pred\n",
    "    return predictions"
   ]
  },
  {
   "cell_type": "code",
   "execution_count": null,
   "metadata": {},
   "outputs": [
    {
     "data": {
      "text/plain": [
       "array([[423381.97922766, 405690.63284814, 391833.18175822,\n",
       "        380742.70060271, 371718.42563123, 364278.96527737,\n",
       "        358081.4248848 , 352874.24721152, 348468.20860803,\n",
       "        344718.15685868, 341510.63231319, 338755.72179258,\n",
       "        336381.13536716, 334328.18655193, 332548.67096826,\n",
       "        331002.71668017, 329657.04715952, 328483.76336515,\n",
       "        327459.30551514, 326563.6810714 , 325779.79920909,\n",
       "        325093.05153236, 324490.91275603, 323962.56800845,\n",
       "        323498.69320646, 323091.17553249, 322733.00029442,\n",
       "        322417.98471332, 322140.89771897, 321897.08059743,\n",
       "        321682.47361228, 321493.53614092, 321327.1335344 ,\n",
       "        321180.58370456, 321051.45080954, 320937.67170459,\n",
       "        320837.38955945, 320749.01375607, 320671.12671435,\n",
       "        320602.45727092, 320541.92726627, 320488.57833639,\n",
       "        320441.50535971, 320399.99621853, 320363.41200352,\n",
       "        320331.15373716, 320302.70896092, 320277.60514811,\n",
       "        320255.4696016 , 320235.94959021, 320218.73896986,\n",
       "        320203.55821773, 320190.1411216 , 320178.32795411,\n",
       "        320167.87912428, 320158.68814722, 320150.60195088,\n",
       "        320143.44749734, 320137.15157822, 320131.58108741,\n",
       "        320126.68943778, 320122.3435232 , 320118.53668839,\n",
       "        320115.15579313, 320112.20083743, 320109.57199171,\n",
       "        320107.23597944, 320105.17283469, 320103.35593626,\n",
       "        320101.77862883, 320100.39432526, 320099.13647249,\n",
       "        320098.03169176, 320097.09329367, 320096.24806985,\n",
       "        320095.52264154, 320094.87042159, 320094.2980653 ,\n",
       "        320093.79891738, 320093.36632252, 320092.97365949,\n",
       "        320092.60761768, 320092.31478423, 320092.00864017,\n",
       "        320091.78235978, 320091.56939   , 320091.38304144,\n",
       "        320091.22331411, 320091.05693147, 320090.93048066,\n",
       "        320090.81734046, 320090.72416618, 320090.63764721,\n",
       "        320090.56443885, 320090.47126457, 320090.39805621,\n",
       "        320090.34481376, 320090.29157132, 320090.23832887,\n",
       "        320090.18508643, 320090.15846521, 320090.13849929,\n",
       "        320090.12518868, 320090.09856746, 320090.08525684,\n",
       "        320090.07860154, 320090.06529093, 320090.05198032,\n",
       "        320090.0320144 , 320090.02535909, 320090.01870379,\n",
       "        320090.01204848, 320090.01204848, 320090.01204848,\n",
       "        320090.01204848, 320090.01204848, 320090.01204848,\n",
       "        320090.01204848, 320090.01204848, 320090.01204848]])"
      ]
     },
     "execution_count": 23,
     "metadata": {},
     "output_type": "execute_result"
    }
   ],
   "source": [
    "confirmed_preds = prediction_mono([[1.]], confirmed_lstm)\n",
    "confirmed_scaler.inverse_transform([confirmed_preds])"
   ]
  },
  {
   "cell_type": "markdown",
   "metadata": {},
   "source": [
    "### Variables multi-dimensionnelles"
   ]
  },
  {
   "cell_type": "markdown",
   "metadata": {},
   "source": [
    "#### (cas, stringency_index)"
   ]
  },
  {
   "cell_type": "code",
   "execution_count": null,
   "metadata": {},
   "outputs": [],
   "source": [
    "time_steps = 40\n",
    "n_features = 2"
   ]
  },
  {
   "cell_type": "markdown",
   "metadata": {},
   "source": [
    "##### Get new data\n"
   ]
  },
  {
   "cell_type": "code",
   "execution_count": null,
   "metadata": {},
   "outputs": [],
   "source": [
    "df_raw_stringency_index = pd.read_csv(\"covid-stringency-index.csv\")\n",
    "df_raw_stringency_index_country = df_raw_stringency_index[df_raw_stringency_index[\"Entity\"] == country]\n",
    "df_stringency_index_country = df_raw_stringency_index_country.drop(columns=[\"Entity\", \"Code\"])\n",
    "df_stringency_index_country.drop(index=df_stringency_index_country.index[0], axis=0, inplace=True)\n",
    "\n",
    "stringency_index_values = list(df_stringency_index_country.stringency_index)[:len(confirmed_country_values)]\n",
    "stringency_index_days = [i for i in range(df_stringency_index_country.Day.size)]"
   ]
  },
  {
   "cell_type": "markdown",
   "metadata": {},
   "source": [
    "##### Adjust some data length (all equal)"
   ]
  },
  {
   "cell_type": "code",
   "execution_count": null,
   "metadata": {},
   "outputs": [],
   "source": [
    "confirmed_country_values_ml_1 = confirmed_country_values[:len(stringency_index_values)]\n",
    "confirmed_country_days_ml_1 = confirmed_country_days[:len(stringency_index_values)]\n",
    "\n",
    "deaths_country_values_ml_1 = deaths_country_values[:len(stringency_index_values)]\n",
    "deaths_country_days_ml_1 = deaths_country_days[:len(stringency_index_values)]"
   ]
  },
  {
   "cell_type": "markdown",
   "metadata": {},
   "source": [
    "##### Print on a plot"
   ]
  },
  {
   "cell_type": "code",
   "execution_count": null,
   "metadata": {},
   "outputs": [
    {
     "data": {
      "image/png": "[encoded data removed]",
      "text/plain": [
       "<Figure size 432x288 with 1 Axes>"
      ]
     },
     "metadata": {
      "needs_background": "light"
     },
     "output_type": "display_data"
    },
    {
     "data": {
      "image/png": "[encoded data removed]",
      "text/plain": [
       "<Figure size 432x288 with 1 Axes>"
      ]
     },
     "metadata": {
      "needs_background": "light"
     },
     "output_type": "display_data"
    }
   ],
   "source": [
    "plt.plot(confirmed_country_days_ml_1, confirmed_country_values_ml_1, '.-')\n",
    "plt.title(\"Nombre de cas confirmés pour : \" + country)\n",
    "plt.xlabel(\"Nombre de jours\")\n",
    "plt.ylabel(\"Nombre de cas\")\n",
    "plt.show()\n",
    "\n",
    "plt.plot(stringency_index_days, stringency_index_values, '.-')\n",
    "plt.title(\"Indice de stringency pour : \" + country)\n",
    "plt.xlabel(\"Nombre de jours\")\n",
    "plt.ylabel(\"Indice de stringency\")\n",
    "plt.show()"
   ]
  },
  {
   "cell_type": "markdown",
   "metadata": {},
   "source": [
    "##### Create data sets"
   ]
  },
  {
   "cell_type": "code",
   "execution_count": null,
   "metadata": {},
   "outputs": [],
   "source": [
    "# Scaled values\n",
    "confirmed_scaler = MinMaxScaler((-1, 1))\n",
    "deaths_scaler = MinMaxScaler((-1, 1))\n",
    "stringency_scaler = MinMaxScaler((-1, 1))\n",
    "\n",
    "confirmed_scaler.fit(confirmed_country_values_ml_1.reshape((-1, 1)))\n",
    "scaled_confirmed = confirmed_scaler.transform(confirmed_country_values_ml_1.reshape((-1, 1))).reshape((-1,))\n",
    "\n",
    "deaths_scaler.fit(deaths_country_values_ml_1.reshape((-1, 1)))\n",
    "scaled_deaths = deaths_scaler.transform(deaths_country_values_ml_1.reshape((-1, 1))).reshape((-1,))\n",
    "\n",
    "stringency_scaler.fit(np.array(stringency_index_values).reshape((-1, 1)))\n",
    "scaled_stringency = stringency_scaler.transform(np.array(stringency_index_values).reshape((-1, 1))).reshape((-1,))"
   ]
  },
  {
   "cell_type": "code",
   "execution_count": null,
   "metadata": {},
   "outputs": [],
   "source": [
    "multi_data = list(zip(scaled_confirmed, scaled_stringency))"
   ]
  },
  {
   "cell_type": "code",
   "execution_count": null,
   "metadata": {},
   "outputs": [],
   "source": [
    "multi_train, multi_test, _ = create_lstm_sets(multi_data, time_steps, scale=False, train_percent=0.70)\n",
    "multi_trainX, multi_trainY = multi_train\n",
    "multi_testX, multi_testY = multi_test"
   ]
  },
  {
   "cell_type": "code",
   "execution_count": 291,
   "metadata": {},
   "outputs": [],
   "source": [
    "def lstm_network_multi(X, Y, time_steps=1, n_features=1):\n",
    "  model = kr.Sequential()\n",
    "  model.add(kr.layers.LSTM(100, input_shape=(time_steps, n_features), return_sequences=True)) #return_sequences=True\n",
    "  model.add(kr.layers.Dropout(0.1))\n",
    "  model.add(kr.layers.LSTM(300))\n",
    "  model.add(kr.layers.Dropout(0.1))\n",
    "  model.add(kr.layers.Dense(1))\n",
    "  opt = tf.keras.optimizers.Adam(learning_rate=0.0001)\n",
    "  model.compile(loss='mean_squared_error', optimizer=opt)\n",
    "  model.summary()\n",
    "  model.fit(X, Y, epochs=7, batch_size=4);\n",
    "  return model"
   ]
  },
  {
   "cell_type": "code",
   "execution_count": null,
   "metadata": {},
   "outputs": [
    {
     "name": "stdout",
     "output_type": "stream",
     "text": [
      "Model: \"sequential_3\"\n",
      "_________________________________________________________________\n",
      " Layer (type)                Output Shape              Param #   \n",
      "=================================================================\n",
      " lstm_6 (LSTM)               (None, 40, 100)           41200     \n",
      "                                                                 \n",
      " dropout_6 (Dropout)         (None, 40, 100)           0         \n",
      "                                                                 \n",
      " lstm_7 (LSTM)               (None, 100)               80400     \n",
      "                                                                 \n",
      " dropout_7 (Dropout)         (None, 100)               0         \n",
      "                                                                 \n",
      " dense_3 (Dense)             (None, 1)                 101       \n",
      "                                                                 \n",
      "=================================================================\n",
      "Total params: 121,701\n",
      "Trainable params: 121,701\n",
      "Non-trainable params: 0\n",
      "_________________________________________________________________\n",
      "Epoch 1/5\n",
      "107/107 [==============================] - 9s 34ms/step - loss: 0.0628\n",
      "Epoch 2/5\n",
      "107/107 [==============================] - 4s 35ms/step - loss: 0.0024\n",
      "Epoch 3/5\n",
      "107/107 [==============================] - 4s 34ms/step - loss: 0.0026\n",
      "Epoch 4/5\n",
      "107/107 [==============================] - 4s 39ms/step - loss: 0.0025\n",
      "Epoch 5/5\n",
      "107/107 [==============================] - 4s 40ms/step - loss: 0.0021\n"
     ]
    }
   ],
   "source": [
    "multi_lstm = lstm_network_multi(multi_trainX, multi_trainY, time_steps, n_features)"
   ]
  },
  {
   "cell_type": "code",
   "execution_count": null,
   "metadata": {},
   "outputs": [
    {
     "data": {
      "image/png": "[encoded data removed]",
      "text/plain": [
       "<Figure size 432x288 with 1 Axes>"
      ]
     },
     "metadata": {
      "needs_background": "light"
     },
     "output_type": "display_data"
    }
   ],
   "source": [
    "display_plot_lstm(multi_lstm, deaths_scaler, multi_trainX, multi_trainY, multi_testX, multi_testY, country, \"cas\")"
   ]
  },
  {
   "cell_type": "code",
   "execution_count": null,
   "metadata": {},
   "outputs": [
    {
     "name": "stdout",
     "output_type": "stream",
     "text": [
      "[[0.40993515]]\n",
      "[[0.41235942]]\n",
      "[[0.41504362]]\n",
      "[[0.41788143]]\n",
      "[[0.42080268]]\n",
      "[[0.42376044]]\n",
      "[[0.42672247]]\n",
      "[[0.42966765]]\n",
      "[[0.43258175]]\n",
      "[[0.43545493]]\n",
      "[[0.4382815]]\n",
      "[[0.4410566]]\n",
      "[[0.4437789]]\n",
      "[[0.4464461]]\n",
      "[[0.44905782]]\n",
      "[[0.4516141]]\n",
      "[[0.4541154]]\n",
      "[[0.45656258]]\n",
      "[[0.45895648]]\n",
      "[[0.46129814]]\n",
      "[[0.46358824]]\n",
      "[[0.4658275]]\n",
      "[[0.46801668]]\n",
      "[[0.47015738]]\n",
      "[[0.47224998]]\n",
      "[[0.4742961]]\n",
      "[[0.47629628]]\n",
      "[[0.47825116]]\n",
      "[[0.48016185]]\n",
      "[[0.4820291]]\n",
      "[[0.48385376]]\n",
      "[[0.48564628]]\n",
      "[[0.48739648]]\n",
      "[[0.48910552]]\n",
      "[[0.4907743]]\n",
      "[[0.4924036]]\n",
      "[[0.4939946]]\n",
      "[[0.49554777]]\n",
      "[[0.49706426]]\n",
      "[[0.49854496]]\n",
      "[[0.49999037]]\n",
      "[[0.5013965]]\n",
      "[[0.50277]]\n",
      "[[0.5041108]]\n",
      "[[0.50541973]]\n",
      "[[0.50669736]]\n",
      "[[0.5079441]]\n",
      "[[0.5091604]]\n",
      "[[0.51034737]]\n",
      "[[0.5115052]]\n",
      "[[0.5126347]]\n",
      "[[0.5137365]]\n",
      "[[0.51481116]]\n",
      "[[0.51585925]]\n",
      "[[0.5168815]]\n",
      "[[0.5178784]]\n",
      "[[0.51885045]]\n",
      "[[0.51979816]]\n",
      "[[0.5207226]]\n",
      "[[0.52162373]]\n",
      "[[0.5225022]]\n",
      "[[0.5233587]]\n",
      "[[0.5241938]]\n",
      "[[0.52500767]]\n",
      "[[0.525801]]\n",
      "[[0.5265743]]\n",
      "[[0.5273283]]\n",
      "[[0.52806294]]\n",
      "[[0.5287788]]\n",
      "[[0.52947676]]\n",
      "[[0.5301567]]\n",
      "[[0.5308195]]\n",
      "[[0.53146505]]\n",
      "[[0.53209436]]\n",
      "[[0.5327074]]\n",
      "[[0.53330487]]\n",
      "[[0.53388685]]\n",
      "[[0.53456694]]\n",
      "[[0.5356866]]\n",
      "[[0.5372556]]\n",
      "[[0.539219]]\n",
      "[[0.541499]]\n",
      "[[0.54401726]]\n",
      "[[0.5467036]]\n",
      "[[0.5495009]]\n",
      "[[0.5523636]]\n",
      "[[0.5552568]]\n",
      "[[0.55815375]]\n",
      "[[0.5610351]]\n",
      "[[0.56388617]]\n",
      "[[0.56669694]]\n",
      "[[0.5694592]]\n",
      "[[0.57216823]]\n",
      "[[0.5748201]]\n",
      "[[0.57741237]]\n",
      "[[0.5799435]]\n",
      "[[0.58241254]]\n",
      "[[0.58481896]]\n",
      "[[0.58716327]]\n",
      "[[0.5894456]]\n",
      "[[0.5916662]]\n",
      "[[0.5938265]]\n",
      "[[0.59592676]]\n",
      "[[0.59796846]]\n",
      "[[0.59995276]]\n",
      "[[0.60188043]]\n",
      "[[0.6037531]]\n",
      "[[0.6055718]]\n",
      "[[0.60733813]]\n",
      "[[0.60905296]]\n",
      "[[0.610718]]\n",
      "[[0.6123342]]\n",
      "[[0.6139024]]\n",
      "[[0.61542493]]\n",
      "[[0.616902]]\n",
      "[[0.6183349]]\n",
      "[[0.61972547]]\n",
      "[[0.6210505]]\n",
      "[[0.62233925]]\n",
      "[[0.6235912]]\n",
      "[[0.6248069]]\n",
      "[[0.62598664]]\n",
      "[[0.6271314]]\n",
      "[[0.6282416]]\n",
      "[[0.62931806]]\n",
      "[[0.6303614]]\n",
      "[[0.63137305]]\n",
      "[[0.6323534]]\n",
      "[[0.6333034]]\n",
      "[[0.63422406]]\n",
      "[[0.63511646]]\n",
      "[[0.6359808]]\n",
      "[[0.6368182]]\n",
      "[[0.6376293]]\n",
      "[[0.6384156]]\n",
      "[[0.63917685]]\n",
      "[[0.6399143]]\n",
      "[[0.64062876]]\n",
      "[[0.6413207]]\n",
      "[[0.64199084]]\n",
      "[[0.64263994]]\n",
      "[[0.6432686]]\n",
      "[[0.64387715]]\n",
      "[[0.6444668]]\n",
      "[[0.6450375]]\n",
      "[[0.64559025]]\n",
      "[[0.64612556]]\n",
      "[[0.64664394]]\n",
      "[[0.6471456]]\n",
      "[[0.64763147]]\n"
     ]
    }
   ],
   "source": [
    "n_days = 150\n",
    "predictions = []\n",
    "test = multi_trainX[-1-time_steps]\n",
    "test = test.reshape(-1, time_steps, n_features)\n",
    "start_day = len(multi_trainX)\n",
    "for i in range(n_days):\n",
    "    pred = multi_lstm.predict(test)\n",
    "    predictions.append(pred[0][0])\n",
    "    \n",
    "    old = test[0][0]\n",
    "    test = np.delete(test[0], 0, axis=0)\n",
    "\n",
    "    indice = stringency_scaler.transform([[70]])\n",
    "    if i > 75:\n",
    "        indice = stringency_scaler.transform([[80]])\n",
    "\n",
    "    test = np.append(test, [pred[0][0], indice[0][0]]).reshape(-1, time_steps, n_features)\n",
    "\n",
    "    print(pred)"
   ]
  },
  {
   "cell_type": "code",
   "execution_count": null,
   "metadata": {},
   "outputs": [],
   "source": [
    "predicted_plot = np.concatenate((confirmed_scaler.transform(confirmed_country_values_ml_1[:start_day].reshape((-1, 1))).reshape((-1,)), predictions))\n",
    "predicted_plot = confirmed_scaler.inverse_transform(predicted_plot.reshape((-1, 1)))\n",
    "\n",
    "days = np.concatenate((list(range(start_day)), np.array([day for day in range(start_day, start_day+n_days)])))"
   ]
  },
  {
   "cell_type": "code",
   "execution_count": null,
   "metadata": {},
   "outputs": [
    {
     "data": {
      "image/png": "[encoded data removed]",
      "text/plain": [
       "<Figure size 432x288 with 1 Axes>"
      ]
     },
     "metadata": {
      "needs_background": "light"
     },
     "output_type": "display_data"
    }
   ],
   "source": [
    "plt.plot(days, predicted_plot, '-', label=\"Prédiction\")\n",
    "plt.plot(days, confirmed_country_values_ml_1[:start_day+n_days], '-', label=\"Réalité\")\n",
    "plt.legend()\n",
    "plt.axvline(start_day)\n",
    "plt.title(\"Nombre de cas confirmés pour : \" + country)\n",
    "plt.xlabel(\"Nombre de jours\")\n",
    "plt.ylabel(\"Nombre de cas\")\n",
    "plt.show()"
   ]
  },
  {
   "cell_type": "markdown",
   "metadata": {},
   "source": [
    "#### (cas, stringency_index, vaccination)"
   ]
  },
  {
   "cell_type": "code",
   "execution_count": 330,
   "metadata": {},
   "outputs": [],
   "source": [
    "time_steps = 40\n",
    "n_features = 3"
   ]
  },
  {
   "cell_type": "markdown",
   "metadata": {},
   "source": [
    "##### Adjust some data length (all equal)"
   ]
  },
  {
   "cell_type": "code",
   "execution_count": 331,
   "metadata": {},
   "outputs": [],
   "source": [
    "confirmed_country_values_ml_2 = confirmed_country_values[327:667]\n",
    "confirmed_country_days_ml_2 = confirmed_country_days[327:667]\n",
    "\n",
    "vaccination_index_values_ml_2 = np.array(vaccination_index_values[:340])\n",
    "vaccination_index_days_ml_2 = np.array(vaccination_index_days[:340])\n",
    "\n",
    "stringency_index_values_ml_2 = stringency_index_values[327:327+340]\n",
    "stringency_index_days_ml_2 = stringency_index_days[327:327+340]"
   ]
  },
  {
   "cell_type": "markdown",
   "metadata": {},
   "source": [
    "##### Create data sets"
   ]
  },
  {
   "cell_type": "code",
   "execution_count": 332,
   "metadata": {},
   "outputs": [],
   "source": [
    "# Scaled values\n",
    "confirmed_scaler = MinMaxScaler((-1, 1))\n",
    "vaccination_scaler = MinMaxScaler((-1, 1))\n",
    "stringency_scaler = MinMaxScaler((-1, 1))\n",
    "\n",
    "confirmed_scaler.fit(confirmed_country_values_ml_2.reshape((-1, 1)))\n",
    "scaled_confirmed = confirmed_scaler.transform(confirmed_country_values_ml_2.reshape((-1, 1))).reshape((-1,))\n",
    "\n",
    "vaccination_scaler.fit(vaccination_index_values_ml_2.reshape((-1, 1)))\n",
    "scaled_vaccinations = vaccination_scaler.transform(vaccination_index_values_ml_2.reshape((-1, 1))).reshape((-1,))\n",
    "\n",
    "stringency_scaler.fit(np.array(stringency_index_values_ml_2).reshape((-1, 1)))\n",
    "scaled_stringency = stringency_scaler.transform(np.array(stringency_index_values_ml_2).reshape((-1, 1))).reshape((-1,))"
   ]
  },
  {
   "cell_type": "code",
   "execution_count": 333,
   "metadata": {},
   "outputs": [],
   "source": [
    "multi_data = list(zip(scaled_confirmed, scaled_stringency, scaled_vaccinations))"
   ]
  },
  {
   "cell_type": "code",
   "execution_count": 334,
   "metadata": {},
   "outputs": [],
   "source": [
    "multi_train, multi_test, _ = create_lstm_sets(multi_data, time_steps, scale=False, train_percent=0.70)\n",
    "multi_trainX, multi_trainY = multi_train\n",
    "multi_testX, multi_testY = multi_test"
   ]
  },
  {
   "cell_type": "code",
   "execution_count": 335,
   "metadata": {},
   "outputs": [
    {
     "name": "stdout",
     "output_type": "stream",
     "text": [
      "Model: \"sequential_14\"\n",
      "_________________________________________________________________\n",
      " Layer (type)                Output Shape              Param #   \n",
      "=================================================================\n",
      " lstm_28 (LSTM)              (None, 40, 100)           41600     \n",
      "                                                                 \n",
      " dropout_28 (Dropout)        (None, 40, 100)           0         \n",
      "                                                                 \n",
      " lstm_29 (LSTM)              (None, 300)               481200    \n",
      "                                                                 \n",
      " dropout_29 (Dropout)        (None, 300)               0         \n",
      "                                                                 \n",
      " dense_14 (Dense)            (None, 1)                 301       \n",
      "                                                                 \n",
      "=================================================================\n",
      "Total params: 523,101\n",
      "Trainable params: 523,101\n",
      "Non-trainable params: 0\n",
      "_________________________________________________________________\n",
      "Epoch 1/7\n",
      "50/50 [==============================] - 11s 98ms/step - loss: 0.0314\n",
      "Epoch 2/7\n",
      "50/50 [==============================] - 5s 100ms/step - loss: 0.0025\n",
      "Epoch 3/7\n",
      "50/50 [==============================] - 5s 102ms/step - loss: 0.0012\n",
      "Epoch 4/7\n",
      "50/50 [==============================] - 5s 102ms/step - loss: 7.6309e-04\n",
      "Epoch 5/7\n",
      "50/50 [==============================] - 5s 105ms/step - loss: 5.6905e-04\n",
      "Epoch 6/7\n",
      "50/50 [==============================] - 5s 106ms/step - loss: 6.4690e-04\n",
      "Epoch 7/7\n",
      "50/50 [==============================] - 6s 118ms/step - loss: 7.0267e-04\n"
     ]
    }
   ],
   "source": [
    "multi_lstm = lstm_network_multi(multi_trainX, multi_trainY, time_steps, n_features)"
   ]
  },
  {
   "cell_type": "code",
   "execution_count": 336,
   "metadata": {},
   "outputs": [
    {
     "data": {
      "image/png": "[encoded data removed]",
      "text/plain": [
       "<Figure size 432x288 with 1 Axes>"
      ]
     },
     "metadata": {
      "needs_background": "light"
     },
     "output_type": "display_data"
    }
   ],
   "source": [
    "display_plot_lstm(multi_lstm, confirmed_scaler, multi_trainX, multi_trainY, multi_testX, multi_testY, country, \"cas\")"
   ]
  },
  {
   "cell_type": "code",
   "execution_count": 352,
   "metadata": {},
   "outputs": [
    {
     "name": "stdout",
     "output_type": "stream",
     "text": [
      "524\n",
      "[[0.55268973]]\n",
      "[[0.55415004]]\n",
      "[[0.5576287]]\n",
      "[[0.5625122]]\n",
      "[[0.5682657]]\n",
      "[[0.5744642]]\n",
      "[[0.58078825]]\n",
      "[[0.58700997]]\n",
      "[[0.5929798]]\n",
      "[[0.5986087]]\n",
      "[[0.603852]]\n",
      "[[0.6086921]]\n",
      "[[0.6131441]]\n",
      "[[0.6172277]]\n",
      "[[0.62097025]]\n",
      "[[0.6244001]]\n",
      "[[0.6275486]]\n",
      "[[0.6304445]]\n",
      "[[0.6331155]]\n",
      "[[0.6355856]]\n",
      "[[0.6378772]]\n",
      "[[0.64001]]\n",
      "[[0.6419998]]\n",
      "[[0.643861]]\n",
      "[[0.64560616]]\n",
      "[[0.6472464]]\n",
      "[[0.64879084]]\n",
      "[[0.6502486]]\n",
      "[[0.6516261]]\n",
      "[[0.65292716]]\n",
      "[[0.6541587]]\n",
      "[[0.6553252]]\n",
      "[[0.65642977]]\n",
      "[[0.6574773]]\n",
      "[[0.6584724]]\n",
      "[[0.6594193]]\n",
      "[[0.6603217]]\n",
      "[[0.66117936]]\n",
      "[[0.6619872]]\n",
      "[[0.6627578]]\n",
      "[[0.6634997]]\n",
      "[[0.6642588]]\n",
      "[[0.664977]]\n",
      "[[0.6656565]]\n",
      "[[0.6663002]]\n",
      "[[0.6669096]]\n",
      "[[0.6674876]]\n",
      "[[0.6680348]]\n",
      "[[0.66855353]]\n",
      "[[0.66904694]]\n",
      "[[0.6695143]]\n",
      "[[0.66995895]]\n",
      "[[0.6703811]]\n",
      "[[0.6707821]]\n",
      "[[0.6711636]]\n",
      "[[0.6715258]]\n",
      "[[0.6718702]]\n",
      "[[0.67219794]]\n",
      "[[0.6725093]]\n",
      "[[0.6728058]]\n",
      "[[0.67308724]]\n",
      "[[0.6733553]]\n",
      "[[0.67361003]]\n",
      "[[0.6738524]]\n",
      "[[0.6740829]]\n",
      "[[0.674302]]\n",
      "[[0.6745104]]\n",
      "[[0.67470884]]\n",
      "[[0.6748974]]\n",
      "[[0.6750764]]\n",
      "[[0.6752471]]\n",
      "[[0.67540914]]\n",
      "[[0.6755637]]\n",
      "[[0.67571074]]\n",
      "[[0.6758495]]\n",
      "[[0.6759829]]\n",
      "[[0.6761091]]\n",
      "[[0.67622876]]\n",
      "[[0.6763431]]\n",
      "[[0.6764514]]\n",
      "[[0.676555]]\n",
      "[[0.6766529]]\n",
      "[[0.67674655]]\n",
      "[[0.6768354]]\n",
      "[[0.67691946]]\n",
      "[[0.6770001]]\n",
      "[[0.67707616]]\n",
      "[[0.6771487]]\n",
      "[[0.67721754]]\n",
      "[[0.6772831]]\n",
      "[[0.67734593]]\n",
      "[[0.67740536]]\n",
      "[[0.6774616]]\n",
      "[[0.67751557]]\n",
      "[[0.67756623]]\n",
      "[[0.6776153]]\n",
      "[[0.67766106]]\n",
      "[[0.6777051]]\n",
      "[[0.677747]]\n",
      "[[0.67778647]]\n"
     ]
    }
   ],
   "source": [
    "n_days = 100\n",
    "predictions = []\n",
    "test = multi_trainX[-1-time_steps]\n",
    "test = test.reshape(-1, time_steps, n_features)\n",
    "start_day = 327+len(multi_trainX)\n",
    "print(start_day)\n",
    "for i in range(n_days):\n",
    "    pred = multi_lstm.predict(test)\n",
    "    predictions.append(pred[0][0])\n",
    "    \n",
    "    old = test[0][0]\n",
    "    test = np.delete(test[0], 0, axis=0)\n",
    "    \n",
    "    indice = stringency_scaler.transform([[85]])\n",
    "    if i > 500:\n",
    "        indice = stringency_scaler.transform([[95]])\n",
    "\n",
    "    test = np.append(test, [pred[0][0], indice[0][0], 1.]).reshape((-1, time_steps, n_features))\n",
    "\n",
    "    print(pred)"
   ]
  },
  {
   "cell_type": "code",
   "execution_count": 353,
   "metadata": {},
   "outputs": [],
   "source": [
    "predicted_plot = np.concatenate((confirmed_scaler.transform(confirmed_country_values[327:start_day].reshape((-1, 1))).reshape((-1,)), predictions))\n",
    "predicted_plot = confirmed_scaler.inverse_transform(predicted_plot.reshape((-1, 1))).reshape((-1,))\n",
    "\n",
    "days = list(range(327, start_day+n_days))"
   ]
  },
  {
   "cell_type": "code",
   "execution_count": 354,
   "metadata": {},
   "outputs": [
    {
     "data": {
      "image/png": "[encoded data removed]",
      "text/plain": [
       "<Figure size 432x288 with 1 Axes>"
      ]
     },
     "metadata": {
      "needs_background": "light"
     },
     "output_type": "display_data"
    }
   ],
   "source": [
    "plt.plot(days, predicted_plot, '-', label=\"Prédiction\")\n",
    "plt.plot(days, confirmed_country_values[327:start_day+n_days], '-', label=\"Réalité\")\n",
    "plt.legend()\n",
    "plt.axvline(start_day)\n",
    "plt.title(\"Nombre de cas confirmés pour : \" + country)\n",
    "plt.xlabel(\"Nombre de jours\")\n",
    "plt.ylabel(\"Nombre de cas\")\n",
    "plt.show()"
   ]
  },
  {
   "cell_type": "code",
   "execution_count": null,
   "metadata": {},
   "outputs": [],
   "source": []
  }
 ],
 "metadata": {
  "interpreter": {
   "hash": "7131807ce35ac9e736e77ee5c468af6a0125a9e761140560e4dc712dc1cce710"
  },
  "kernelspec": {
   "display_name": "Python 3.9.0 64-bit",
   "language": "python",
   "name": "python3"
  },
  "language_info": {
   "codemirror_mode": {
    "name": "ipython",
    "version": 3
   },
   "file_extension": ".py",
   "mimetype": "text/x-python",
   "name": "python",
   "nbconvert_exporter": "python",
   "pygments_lexer": "ipython3",
   "version": "3.9.0"
  },
  "orig_nbformat": 4
 },
 "nbformat": 4,
 "nbformat_minor": 2
}
