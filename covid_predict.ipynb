{
 "cells": [
  {
   "cell_type": "markdown",
   "metadata": {},
   "source": [
    "# Projet de prédiction des données liées au Covid"
   ]
  },
  {
   "cell_type": "markdown",
   "metadata": {},
   "source": [
    "Imports"
   ]
  },
  {
   "cell_type": "code",
   "execution_count": 7,
   "metadata": {},
   "outputs": [],
   "source": [
    "import pandas as pd\n",
    "import matplotlib.pyplot as plt\n",
    "\n",
    "import plotly.io as pio\n",
    "pio.renderers.default = 'iframe_connected'"
   ]
  },
  {
   "cell_type": "code",
   "execution_count": 8,
   "metadata": {},
   "outputs": [],
   "source": [
    "df_raw_confirmed_global = pd.read_csv(\"https://raw.githubusercontent.com/CSSEGISandData/COVID-19/master/csse_covid_19_data/csse_covid_19_time_series/time_series_covid19_confirmed_global.csv\")\n",
    "df_raw_deaths_global = pd.read_csv(\"https://raw.githubusercontent.com/CSSEGISandData/COVID-19/master/csse_covid_19_data/csse_covid_19_time_series/time_series_covid19_deaths_global.csv\")\n",
    "df_raw_vaccination_global = pd.read_csv(\"https://raw.githubusercontent.com/owid/covid-19-data/master/public/data/vaccinations/vaccinations.csv\")\n",
    "df_raw_vaccination_global=df_raw_vaccination_global.drop(columns=[\"daily_vaccinations_per_million\",\"total_boosters_per_hundred\",\"daily_vaccinations_raw\",\"total_boosters\",\"people_fully_vaccinated_per_hundred\",\"daily_people_vaccinated_per_hundred\",\"people_vaccinated\", \"total_vaccinations\", \"daily_vaccinations\", \"people_fully_vaccinated\",\"total_vaccinations_per_hundred\",\"people_vaccinated_per_hundred\"])\n"
   ]
  },
  {
   "cell_type": "markdown",
   "metadata": {},
   "source": []
  },
  {
   "cell_type": "code",
   "execution_count": 9,
   "metadata": {},
   "outputs": [],
   "source": [
    "# Choose latitude and longitude for the chosen country\n",
    "lat_min = 41.317\n",
    "lat_max = 51.07167\n",
    "long_min = -5.14028\n",
    "long_max = 9.51333"
   ]
  },
  {
   "cell_type": "code",
   "execution_count": 10,
   "metadata": {},
   "outputs": [],
   "source": [
    "# Function to filter elements by latitude/longitude\n",
    "def check_lat_long(df, lat_min, lat_max, long_min, long_max):\n",
    "   return df[(df[\"Lat\"] > lat_min) & (df[\"Lat\"] < lat_max) & (df[\"Long\"] > long_min) & (df[\"Long\"] < long_max)]"
   ]
  },
  {
   "cell_type": "code",
   "execution_count": 11,
   "metadata": {},
   "outputs": [],
   "source": [
    "country = \"France\"\n",
    "\n",
    "df_raw_confirmed_country = df_raw_confirmed_global[df_raw_confirmed_global[\"Country/Region\"] == country]\n",
    "df_raw_deaths_country = df_raw_deaths_global[df_raw_deaths_global[\"Country/Region\"] == country]\n",
    "df_raw_vaccination_country = df_raw_vaccination_global[df_raw_vaccination_global[\"location\"] == country]\n",
    "#df_confirmed_country = df_raw_confirmed_country\n",
    "#df_deaths_country = df_raw_deaths_country\n",
    "df_confirmed_country = check_lat_long(df_raw_confirmed_country, lat_min ,lat_max ,long_min, long_max)\n",
    "df_deaths_country = check_lat_long(df_raw_deaths_country, lat_min, lat_max, long_min, long_max)"
   ]
  },
  {
   "cell_type": "code",
   "execution_count": 12,
   "metadata": {},
   "outputs": [
    {
     "data": {
      "text/html": [
       "<div>\n",
       "<style scoped>\n",
       "    .dataframe tbody tr th:only-of-type {\n",
       "        vertical-align: middle;\n",
       "    }\n",
       "\n",
       "    .dataframe tbody tr th {\n",
       "        vertical-align: top;\n",
       "    }\n",
       "\n",
       "    .dataframe thead th {\n",
       "        text-align: right;\n",
       "    }\n",
       "</style>\n",
       "<table border=\"1\" class=\"dataframe\">\n",
       "  <thead>\n",
       "    <tr style=\"text-align: right;\">\n",
       "      <th></th>\n",
       "      <th>0</th>\n",
       "      <th>1</th>\n",
       "      <th>2</th>\n",
       "      <th>3</th>\n",
       "      <th>4</th>\n",
       "      <th>5</th>\n",
       "      <th>6</th>\n",
       "      <th>7</th>\n",
       "      <th>8</th>\n",
       "      <th>9</th>\n",
       "      <th>...</th>\n",
       "      <th>666</th>\n",
       "      <th>667</th>\n",
       "      <th>668</th>\n",
       "      <th>669</th>\n",
       "      <th>670</th>\n",
       "      <th>671</th>\n",
       "      <th>672</th>\n",
       "      <th>673</th>\n",
       "      <th>674</th>\n",
       "      <th>675</th>\n",
       "    </tr>\n",
       "  </thead>\n",
       "  <tbody>\n",
       "    <tr>\n",
       "      <th>130</th>\n",
       "      <td>0</td>\n",
       "      <td>0</td>\n",
       "      <td>2</td>\n",
       "      <td>3</td>\n",
       "      <td>3</td>\n",
       "      <td>3</td>\n",
       "      <td>4</td>\n",
       "      <td>5</td>\n",
       "      <td>5</td>\n",
       "      <td>5</td>\n",
       "      <td>...</td>\n",
       "      <td>7168026</td>\n",
       "      <td>7188721</td>\n",
       "      <td>7211399</td>\n",
       "      <td>7231148</td>\n",
       "      <td>7235966</td>\n",
       "      <td>7266361</td>\n",
       "      <td>7296757</td>\n",
       "      <td>7330086</td>\n",
       "      <td>7364380</td>\n",
       "      <td>7364380</td>\n",
       "    </tr>\n",
       "  </tbody>\n",
       "</table>\n",
       "<p>1 rows × 676 columns</p>\n",
       "</div>"
      ],
      "text/plain": [
       "     0    1    2    3    4    5    6    7    8    9    ...      666      667  \\\n",
       "130    0    0    2    3    3    3    4    5    5    5  ...  7168026  7188721   \n",
       "\n",
       "         668      669      670      671      672      673      674      675  \n",
       "130  7211399  7231148  7235966  7266361  7296757  7330086  7364380  7364380  \n",
       "\n",
       "[1 rows x 676 columns]"
      ]
     },
     "execution_count": 12,
     "metadata": {},
     "output_type": "execute_result"
    }
   ],
   "source": [
    "uselessColumns = [\"Lat\", \"Long\", \"Province/State\", \"Country/Region\"]\n",
    "\n",
    "def columnsInNumbers(df):\n",
    "  df.columns = [i for i in range(len(df_confirmed_country.columns))]\n",
    "\n",
    "df_confirmed_country = df_confirmed_country.drop(columns=uselessColumns)\n",
    "df_deaths_country = df_deaths_country.drop(columns=uselessColumns)\n",
    "\n",
    "columnsInNumbers(df_confirmed_country)\n",
    "columnsInNumbers(df_deaths_country)\n",
    "\n",
    "\n",
    "df_confirmed_country"
   ]
  },
  {
   "cell_type": "code",
   "execution_count": 13,
   "metadata": {},
   "outputs": [],
   "source": [
    "def get_values_and_days(df):\n",
    "  return (df.values[0], df.columns.to_list())\n",
    "\n",
    "confirmed_country_values, confirmed_country_days = get_values_and_days(df_confirmed_country)\n",
    "deaths_country_values, deaths_country_days = get_values_and_days(df_deaths_country)\n",
    "vaccination_index_values = list(df_raw_vaccination_country.daily_people_vaccinated)[:len(confirmed_country_values)]\n",
    "vaccination_index_days = [i for i in range(df_raw_vaccination_country.date.size)]\n"
   ]
  },
  {
   "cell_type": "code",
   "execution_count": 14,
   "metadata": {},
   "outputs": [
    {
     "data": {
      "image/png": "[encoded data removed]",
      "text/plain": [
       "<Figure size 432x288 with 1 Axes>"
      ]
     },
     "metadata": {
      "needs_background": "light"
     },
     "output_type": "display_data"
    },
    {
     "data": {
      "image/png": "[encoded data removed]",
      "text/plain": [
       "<Figure size 432x288 with 1 Axes>"
      ]
     },
     "metadata": {
      "needs_background": "light"
     },
     "output_type": "display_data"
    },
    {
     "data": {
      "image/png": "[encoded data removed]",
      "text/plain": [
       "<Figure size 432x288 with 1 Axes>"
      ]
     },
     "metadata": {
      "needs_background": "light"
     },
     "output_type": "display_data"
    }
   ],
   "source": [
    "plt.plot(confirmed_country_days, confirmed_country_values, '.-')\n",
    "plt.title(\"Nombre de cas confirmés pour : \" + country)\n",
    "plt.xlabel(\"Nombre de jours\")\n",
    "plt.ylabel(\"Nombre de cas\")\n",
    "plt.show()\n",
    "\n",
    "plt.plot(deaths_country_days, deaths_country_values, '.-')\n",
    "plt.title(\"Nombre de déces pour : \" + country)\n",
    "plt.xlabel(\"Nombre de jours\")\n",
    "plt.ylabel(\"Nombre de déces\")\n",
    "plt.show()\n",
    "\n",
    "plt.plot(vaccination_index_days, vaccination_index_values, '.-')\n",
    "plt.title(\"Nombre de vaccine pour : \" + country)\n",
    "plt.xlabel(\"Nombre de jours\")\n",
    "plt.ylabel(\"Nombre de vaccine\")\n",
    "plt.show()"
   ]
  },
  {
   "cell_type": "markdown",
   "metadata": {
    "pycharm": {
     "name": "#%% md\n"
    }
   },
   "source": [
    "Training and test sets\n"
   ]
  },
  {
   "cell_type": "code",
   "execution_count": 15,
   "metadata": {
    "collapsed": false,
    "pycharm": {
     "name": "#%%\n"
    }
   },
   "outputs": [],
   "source": [
    "from sklearn.model_selection import train_test_split\n",
    "\n",
    "confirmed_train, confirmed_test, confirmed_train_days, confirmed_test_days = train_test_split(confirmed_country_values, confirmed_country_days, test_size=0.30, shuffle=False)\n",
    "deaths_train, deaths_test, deaths_train_days, deaths_test_days = train_test_split(deaths_country_values, deaths_country_days, test_size=0.30, shuffle=False)"
   ]
  },
  {
   "cell_type": "markdown",
   "metadata": {
    "collapsed": false,
    "pycharm": {
     "name": "#%% md\n"
    }
   },
   "source": [
    "# Regression polynomiale (degré = 2)"
   ]
  },
  {
   "cell_type": "code",
   "execution_count": 16,
   "metadata": {
    "collapsed": false,
    "pycharm": {
     "name": "#%%\n"
    }
   },
   "outputs": [],
   "source": [
    "import numpy as np\n",
    "from sklearn import svm"
   ]
  },
  {
   "cell_type": "code",
   "execution_count": 17,
   "metadata": {
    "collapsed": false,
    "pycharm": {
     "name": "#%%\n"
    }
   },
   "outputs": [
    {
     "name": "stdout",
     "output_type": "stream",
     "text": [
      "Regression cas :  -7.018829295450718\n",
      "Regression morts :  -422.13088428886044\n"
     ]
    }
   ],
   "source": [
    "def regression(X, Y):\n",
    "  reg = svm.SVR(kernel='poly', C=1000, degree=2)\n",
    "  reg.fit(X, Y)\n",
    "  return reg\n",
    "\n",
    "reg_confirmed = regression(np.reshape(confirmed_train_days, newshape=(-1, 1)), confirmed_train)\n",
    "reg_deaths = regression(np.reshape(deaths_train_days, newshape=(-1, 1)), deaths_train)\n",
    "\n",
    "print(\"Regression cas : \", reg_confirmed.score(np.reshape(confirmed_test_days, newshape=(-1, 1)), confirmed_test))\n",
    "print(\"Regression morts : \", reg_deaths.score(np.reshape(deaths_test_days, newshape=(-1, 1)), deaths_test))"
   ]
  },
  {
   "cell_type": "markdown",
   "metadata": {
    "collapsed": false
   },
   "source": [
    "Visualisation des modèles"
   ]
  },
  {
   "cell_type": "code",
   "execution_count": 18,
   "metadata": {
    "collapsed": false,
    "pycharm": {
     "name": "#%%\n"
    }
   },
   "outputs": [
    {
     "data": {
      "image/png": "[encoded data removed]",
      "text/plain": [
       "<Figure size 432x288 with 1 Axes>"
      ]
     },
     "metadata": {
      "needs_background": "light"
     },
     "output_type": "display_data"
    },
    {
     "data": {
      "image/png": "[encoded data removed]",
      "text/plain": [
       "<Figure size 432x288 with 1 Axes>"
      ]
     },
     "metadata": {
      "needs_background": "light"
     },
     "output_type": "display_data"
    }
   ],
   "source": [
    "def display_plot(reg, X, Y, ord_context):\n",
    "  plt.plot(X, Y, '.-')\n",
    "  plt.plot(X, reg.predict(X), \"-\")\n",
    "  plt.title(\"Nombre de \" + ord_context + \" pour : \" + country)\n",
    "  plt.xlabel(\"Nombre de jours\")\n",
    "  plt.ylabel(\"Nombre de \" + ord_context)\n",
    "  plt.show()\n",
    "\n",
    "display_plot(reg_confirmed, np.reshape(confirmed_country_days, newshape=(-1, 1)), confirmed_country_values, \"cas\")\n",
    "display_plot(reg_deaths, np.reshape(deaths_country_days, newshape=(-1, 1)), deaths_country_values, \"morts\")"
   ]
  },
  {
   "cell_type": "markdown",
   "metadata": {
    "collapsed": false
   },
   "source": [
    "# Réseaux LSTM"
   ]
  },
  {
   "cell_type": "code",
   "execution_count": 19,
   "metadata": {
    "collapsed": false,
    "pycharm": {
     "name": "#%%\n"
    }
   },
   "outputs": [],
   "source": [
    "import tensorflow as tf\n",
    "import keras as kr\n",
    "from sklearn.preprocessing import MinMaxScaler"
   ]
  },
  {
   "cell_type": "code",
   "execution_count": 20,
   "metadata": {
    "collapsed": false,
    "pycharm": {
     "name": "#%%\n"
    }
   },
   "outputs": [],
   "source": [
    "def create_sequences(data, time_steps=1):\n",
    "  dataX, dataY = [], []\n",
    "  for i in range(len(data)-time_steps):\n",
    "    a = data[i:(i+time_steps)]\n",
    "    dataX.append(a)\n",
    "    dataY.append(data[i + time_steps][0])\n",
    "  return np.array(dataX), np.array(dataY)\n",
    "\n",
    "def create_lstm_sets(X, time_steps=1, scale=True, train_percent=0.75):\n",
    "  scaler=None\n",
    "  if scale:\n",
    "    scaler = MinMaxScaler(feature_range=(-1, 1))\n",
    "    scaler = scaler.fit(X)\n",
    "    scaled_X = scaler.transform(X)\n",
    "  else:\n",
    "    scaled_X = np.array(X)\n",
    "  train_size = int(len(scaled_X) * train_percent)\n",
    "  test_size = len(scaled_X) - train_size\n",
    "  train, test = scaled_X[0:train_size,:], scaled_X[train_size:len(scaled_X),:]\n",
    "  return create_sequences(train, time_steps), create_sequences(test, time_steps), scaler\n",
    "\n",
    "def lstm_network(X, Y, time_steps=1, n_features=1):\n",
    "  model = kr.Sequential()\n",
    "  model.add(kr.layers.LSTM(100, input_shape=(time_steps, n_features), return_sequences=True)) #return_sequences=True\n",
    "  model.add(kr.layers.Dropout(0.3))\n",
    "  model.add(kr.layers.LSTM(100))\n",
    "  model.add(kr.layers.Dropout(0.3))\n",
    "  model.add(kr.layers.Dense(1))\n",
    "  opt = tf.keras.optimizers.Adam(learning_rate=0.001)\n",
    "  model.compile(loss='mean_squared_error', optimizer=opt)\n",
    "  model.summary()\n",
    "  model.fit(X, Y, epochs=50, batch_size=6);\n",
    "  return model"
   ]
  },
  {
   "cell_type": "markdown",
   "metadata": {
    "collapsed": false
   },
   "source": [
    "## Variable monodimensionelle"
   ]
  },
  {
   "cell_type": "code",
   "execution_count": 21,
   "metadata": {
    "collapsed": false,
    "pycharm": {
     "name": "#%%\n"
    }
   },
   "outputs": [],
   "source": [
    "time_steps = 1\n",
    "n_features = 1"
   ]
  },
  {
   "cell_type": "markdown",
   "metadata": {
    "collapsed": false
   },
   "source": [
    "### Nombre de cas"
   ]
  },
  {
   "cell_type": "code",
   "execution_count": 22,
   "metadata": {
    "collapsed": false,
    "pycharm": {
     "name": "#%%\n"
    }
   },
   "outputs": [
    {
     "name": "stdout",
     "output_type": "stream",
     "text": [
      "Model: \"sequential\"\n",
      "_________________________________________________________________\n",
      " Layer (type)                Output Shape              Param #   \n",
      "=================================================================\n",
      " lstm (LSTM)                 (None, 1, 100)            40800     \n",
      "                                                                 \n",
      " dropout (Dropout)           (None, 1, 100)            0         \n",
      "                                                                 \n",
      " lstm_1 (LSTM)               (None, 100)               80400     \n",
      "                                                                 \n",
      " dropout_1 (Dropout)         (None, 100)               0         \n",
      "                                                                 \n",
      " dense (Dense)               (None, 1)                 101       \n",
      "                                                                 \n",
      "=================================================================\n",
      "Total params: 121,301\n",
      "Trainable params: 121,301\n",
      "Non-trainable params: 0\n",
      "_________________________________________________________________\n",
      "Epoch 1/50\n",
      "85/85 [==============================] - 5s 4ms/step - loss: 0.2047\n",
      "Epoch 2/50\n",
      "85/85 [==============================] - 0s 4ms/step - loss: 0.0134\n",
      "Epoch 3/50\n",
      "85/85 [==============================] - 0s 4ms/step - loss: 0.0059\n",
      "Epoch 4/50\n",
      "85/85 [==============================] - 0s 4ms/step - loss: 0.0062\n",
      "Epoch 5/50\n",
      "85/85 [==============================] - 0s 4ms/step - loss: 0.0051\n",
      "Epoch 6/50\n",
      "85/85 [==============================] - 0s 4ms/step - loss: 0.0051\n",
      "Epoch 7/50\n",
      "85/85 [==============================] - 0s 4ms/step - loss: 0.0051\n",
      "Epoch 8/50\n",
      "85/85 [==============================] - 0s 4ms/step - loss: 0.0045\n",
      "Epoch 9/50\n",
      "85/85 [==============================] - 0s 4ms/step - loss: 0.0043\n",
      "Epoch 10/50\n",
      "85/85 [==============================] - 0s 5ms/step - loss: 0.0052\n",
      "Epoch 11/50\n",
      "85/85 [==============================] - 0s 5ms/step - loss: 0.0043\n",
      "Epoch 12/50\n",
      "85/85 [==============================] - 0s 5ms/step - loss: 0.0045\n",
      "Epoch 13/50\n",
      "85/85 [==============================] - 0s 4ms/step - loss: 0.0041\n",
      "Epoch 14/50\n",
      "85/85 [==============================] - 0s 4ms/step - loss: 0.0042\n",
      "Epoch 15/50\n",
      "85/85 [==============================] - 0s 5ms/step - loss: 0.0043\n",
      "Epoch 16/50\n",
      "85/85 [==============================] - 0s 5ms/step - loss: 0.0043\n",
      "Epoch 17/50\n",
      "85/85 [==============================] - 0s 5ms/step - loss: 0.0043\n",
      "Epoch 18/50\n",
      "85/85 [==============================] - 0s 4ms/step - loss: 0.0038\n",
      "Epoch 19/50\n",
      "85/85 [==============================] - 0s 5ms/step - loss: 0.0047\n",
      "Epoch 20/50\n",
      "85/85 [==============================] - 0s 5ms/step - loss: 0.0040\n",
      "Epoch 21/50\n",
      "85/85 [==============================] - 0s 5ms/step - loss: 0.0040\n",
      "Epoch 22/50\n",
      "85/85 [==============================] - 0s 6ms/step - loss: 0.0036\n",
      "Epoch 23/50\n",
      "85/85 [==============================] - 0s 5ms/step - loss: 0.0040\n",
      "Epoch 24/50\n",
      "85/85 [==============================] - 0s 5ms/step - loss: 0.0031\n",
      "Epoch 25/50\n",
      "85/85 [==============================] - 0s 5ms/step - loss: 0.0039\n",
      "Epoch 26/50\n",
      "85/85 [==============================] - 0s 6ms/step - loss: 0.0036\n",
      "Epoch 27/50\n",
      "85/85 [==============================] - 1s 6ms/step - loss: 0.0037\n",
      "Epoch 28/50\n",
      "85/85 [==============================] - 0s 5ms/step - loss: 0.0040\n",
      "Epoch 29/50\n",
      "85/85 [==============================] - 0s 5ms/step - loss: 0.0040\n",
      "Epoch 30/50\n",
      "85/85 [==============================] - 0s 5ms/step - loss: 0.0035\n",
      "Epoch 31/50\n",
      "85/85 [==============================] - 0s 4ms/step - loss: 0.0039\n",
      "Epoch 32/50\n",
      "85/85 [==============================] - 0s 5ms/step - loss: 0.0044\n",
      "Epoch 33/50\n",
      "85/85 [==============================] - 0s 4ms/step - loss: 0.0039\n",
      "Epoch 34/50\n",
      "85/85 [==============================] - 0s 5ms/step - loss: 0.0034\n",
      "Epoch 35/50\n",
      "85/85 [==============================] - 0s 5ms/step - loss: 0.0041\n",
      "Epoch 36/50\n",
      "85/85 [==============================] - 0s 5ms/step - loss: 0.0036\n",
      "Epoch 37/50\n",
      "85/85 [==============================] - 0s 5ms/step - loss: 0.0031\n",
      "Epoch 38/50\n",
      "85/85 [==============================] - 0s 5ms/step - loss: 0.0033\n",
      "Epoch 39/50\n",
      "85/85 [==============================] - 0s 5ms/step - loss: 0.0034\n",
      "Epoch 40/50\n",
      "85/85 [==============================] - 1s 6ms/step - loss: 0.0033\n",
      "Epoch 41/50\n",
      "85/85 [==============================] - 1s 6ms/step - loss: 0.0033\n",
      "Epoch 42/50\n",
      "85/85 [==============================] - 0s 5ms/step - loss: 0.0033\n",
      "Epoch 43/50\n",
      "85/85 [==============================] - 0s 5ms/step - loss: 0.0035\n",
      "Epoch 44/50\n",
      "85/85 [==============================] - 0s 5ms/step - loss: 0.0031\n",
      "Epoch 45/50\n",
      "85/85 [==============================] - 0s 5ms/step - loss: 0.0033\n",
      "Epoch 46/50\n",
      "85/85 [==============================] - 0s 5ms/step - loss: 0.0039\n",
      "Epoch 47/50\n",
      "85/85 [==============================] - 0s 4ms/step - loss: 0.0032\n",
      "Epoch 48/50\n",
      "85/85 [==============================] - 0s 5ms/step - loss: 0.0034\n",
      "Epoch 49/50\n",
      "85/85 [==============================] - 0s 5ms/step - loss: 0.0032\n",
      "Epoch 50/50\n",
      "85/85 [==============================] - 0s 5ms/step - loss: 0.0034\n"
     ]
    }
   ],
   "source": [
    "confirmed_lstm_set = df_confirmed_country.values[0]\n",
    "confirmed_lstm_set = np.reshape(confirmed_lstm_set, (len(confirmed_lstm_set), 1))\n",
    "\n",
    "confirmed_train, confirmed_test, confirmed_scaler = create_lstm_sets(confirmed_lstm_set, time_steps)\n",
    "\n",
    "confirmed_trainX, confirmed_trainY = confirmed_train\n",
    "confirmed_testX, confirmed_testY = confirmed_test\n",
    "\n",
    "confirmed_lstm = lstm_network(confirmed_trainX, confirmed_trainY, time_steps)"
   ]
  },
  {
   "cell_type": "markdown",
   "metadata": {
    "collapsed": false
   },
   "source": [
    "### Nombre de morts"
   ]
  },
  {
   "cell_type": "code",
   "execution_count": 23,
   "metadata": {
    "collapsed": false,
    "pycharm": {
     "name": "#%%\n"
    }
   },
   "outputs": [
    {
     "name": "stdout",
     "output_type": "stream",
     "text": [
      "Model: \"sequential_1\"\n",
      "_________________________________________________________________\n",
      " Layer (type)                Output Shape              Param #   \n",
      "=================================================================\n",
      " lstm_2 (LSTM)               (None, 1, 100)            40800     \n",
      "                                                                 \n",
      " dropout_2 (Dropout)         (None, 1, 100)            0         \n",
      "                                                                 \n",
      " lstm_3 (LSTM)               (None, 100)               80400     \n",
      "                                                                 \n",
      " dropout_3 (Dropout)         (None, 100)               0         \n",
      "                                                                 \n",
      " dense_1 (Dense)             (None, 1)                 101       \n",
      "                                                                 \n",
      "=================================================================\n",
      "Total params: 121,301\n",
      "Trainable params: 121,301\n",
      "Non-trainable params: 0\n",
      "_________________________________________________________________\n",
      "Epoch 1/50\n",
      "85/85 [==============================] - 5s 4ms/step - loss: 0.1583\n",
      "Epoch 2/50\n",
      "85/85 [==============================] - 0s 4ms/step - loss: 0.0039\n",
      "Epoch 3/50\n",
      "85/85 [==============================] - 0s 4ms/step - loss: 0.0042\n",
      "Epoch 4/50\n",
      "85/85 [==============================] - 0s 4ms/step - loss: 0.0039\n",
      "Epoch 5/50\n",
      "85/85 [==============================] - 0s 4ms/step - loss: 0.0035\n",
      "Epoch 6/50\n",
      "85/85 [==============================] - 0s 4ms/step - loss: 0.0033\n",
      "Epoch 7/50\n",
      "85/85 [==============================] - 0s 4ms/step - loss: 0.0036\n",
      "Epoch 8/50\n",
      "85/85 [==============================] - 0s 4ms/step - loss: 0.0033\n",
      "Epoch 9/50\n",
      "85/85 [==============================] - 0s 4ms/step - loss: 0.0033\n",
      "Epoch 10/50\n",
      "85/85 [==============================] - 0s 4ms/step - loss: 0.0029\n",
      "Epoch 11/50\n",
      "85/85 [==============================] - 0s 4ms/step - loss: 0.0032\n",
      "Epoch 12/50\n",
      "85/85 [==============================] - 0s 4ms/step - loss: 0.0037\n",
      "Epoch 13/50\n",
      "85/85 [==============================] - 0s 4ms/step - loss: 0.0031\n",
      "Epoch 14/50\n",
      "85/85 [==============================] - 0s 5ms/step - loss: 0.0034\n",
      "Epoch 15/50\n",
      "85/85 [==============================] - 0s 5ms/step - loss: 0.0034\n",
      "Epoch 16/50\n",
      "85/85 [==============================] - 0s 5ms/step - loss: 0.0036\n",
      "Epoch 17/50\n",
      "85/85 [==============================] - 0s 5ms/step - loss: 0.0031\n",
      "Epoch 18/50\n",
      "85/85 [==============================] - 0s 5ms/step - loss: 0.0029\n",
      "Epoch 19/50\n",
      "85/85 [==============================] - 0s 4ms/step - loss: 0.0033\n",
      "Epoch 20/50\n",
      "85/85 [==============================] - 1s 6ms/step - loss: 0.0038\n",
      "Epoch 21/50\n",
      "85/85 [==============================] - 1s 7ms/step - loss: 0.0035\n",
      "Epoch 22/50\n",
      "85/85 [==============================] - 0s 5ms/step - loss: 0.0038\n",
      "Epoch 23/50\n",
      "85/85 [==============================] - 0s 4ms/step - loss: 0.0035\n",
      "Epoch 24/50\n",
      "85/85 [==============================] - 0s 5ms/step - loss: 0.0032\n",
      "Epoch 25/50\n",
      "85/85 [==============================] - 0s 4ms/step - loss: 0.0032\n",
      "Epoch 26/50\n",
      "85/85 [==============================] - 0s 4ms/step - loss: 0.0031\n",
      "Epoch 27/50\n",
      "85/85 [==============================] - 0s 4ms/step - loss: 0.0034\n",
      "Epoch 28/50\n",
      "85/85 [==============================] - 0s 4ms/step - loss: 0.0036\n",
      "Epoch 29/50\n",
      "85/85 [==============================] - 0s 4ms/step - loss: 0.0034\n",
      "Epoch 30/50\n",
      "85/85 [==============================] - 0s 4ms/step - loss: 0.0032\n",
      "Epoch 31/50\n",
      "85/85 [==============================] - 0s 4ms/step - loss: 0.0032\n",
      "Epoch 32/50\n",
      "85/85 [==============================] - 0s 4ms/step - loss: 0.0034\n",
      "Epoch 33/50\n",
      "85/85 [==============================] - 0s 4ms/step - loss: 0.0033\n",
      "Epoch 34/50\n",
      "85/85 [==============================] - 0s 4ms/step - loss: 0.0041\n",
      "Epoch 35/50\n",
      "85/85 [==============================] - 0s 4ms/step - loss: 0.0037\n",
      "Epoch 36/50\n",
      "85/85 [==============================] - 0s 4ms/step - loss: 0.0032\n",
      "Epoch 37/50\n",
      "85/85 [==============================] - 0s 4ms/step - loss: 0.0037\n",
      "Epoch 38/50\n",
      "85/85 [==============================] - 0s 4ms/step - loss: 0.0036\n",
      "Epoch 39/50\n",
      "85/85 [==============================] - 0s 4ms/step - loss: 0.0033\n",
      "Epoch 40/50\n",
      "85/85 [==============================] - 0s 4ms/step - loss: 0.0037\n",
      "Epoch 41/50\n",
      "85/85 [==============================] - 0s 4ms/step - loss: 0.0027\n",
      "Epoch 42/50\n",
      "85/85 [==============================] - 0s 4ms/step - loss: 0.0034\n",
      "Epoch 43/50\n",
      "85/85 [==============================] - 0s 4ms/step - loss: 0.0033\n",
      "Epoch 44/50\n",
      "85/85 [==============================] - 0s 4ms/step - loss: 0.0032\n",
      "Epoch 45/50\n",
      "85/85 [==============================] - 0s 4ms/step - loss: 0.0032\n",
      "Epoch 46/50\n",
      "85/85 [==============================] - 0s 4ms/step - loss: 0.0031\n",
      "Epoch 47/50\n",
      "85/85 [==============================] - 0s 4ms/step - loss: 0.0030\n",
      "Epoch 48/50\n",
      "85/85 [==============================] - 0s 4ms/step - loss: 0.0038\n",
      "Epoch 49/50\n",
      "85/85 [==============================] - 0s 4ms/step - loss: 0.0029\n",
      "Epoch 50/50\n",
      "85/85 [==============================] - 0s 4ms/step - loss: 0.0033\n"
     ]
    }
   ],
   "source": [
    "deaths_lstm_set = df_deaths_country.values[0]\n",
    "deaths_lstm_set = np.reshape(deaths_lstm_set, (len(deaths_lstm_set), 1))\n",
    "\n",
    "deaths_train, deaths_test, deaths_scaler = create_lstm_sets(deaths_lstm_set, time_steps)\n",
    "deaths_trainX, deaths_trainY = deaths_train\n",
    "deaths_testX, deaths_testY = deaths_test\n",
    "\n",
    "deaths_lstm = lstm_network(deaths_trainX, deaths_trainY, time_steps)"
   ]
  },
  {
   "cell_type": "markdown",
   "metadata": {
    "collapsed": false
   },
   "source": [
    "### Affichage des résultats"
   ]
  },
  {
   "cell_type": "code",
   "execution_count": 24,
   "metadata": {
    "collapsed": false,
    "pycharm": {
     "name": "#%%\n"
    }
   },
   "outputs": [
    {
     "data": {
      "image/png": "[encoded data removed]",
      "text/plain": [
       "<Figure size 432x288 with 1 Axes>"
      ]
     },
     "metadata": {
      "needs_background": "light"
     },
     "output_type": "display_data"
    },
    {
     "data": {
      "image/png": "[encoded data removed]",
      "text/plain": [
       "<Figure size 432x288 with 1 Axes>"
      ]
     },
     "metadata": {
      "needs_background": "light"
     },
     "output_type": "display_data"
    }
   ],
   "source": [
    "def display_plot_lstm(model, scaler, trainX, trainY, testX, testY, country, ord_context):\n",
    "  daysTrain = range(len(trainX))\n",
    "  daysTest = np.array(range(len(testX))) + len(daysTrain)\n",
    "  plt.plot(daysTrain, scaler.inverse_transform(model.predict(trainX)), '-', label=\"Prédiction sur jeu d'entraînement\")\n",
    "  plt.plot(daysTrain, scaler.inverse_transform(np.reshape(trainY, (-1, 1))), '-', label=\"Réalité sur jeu d'entraînement\")\n",
    "\n",
    "  plt.plot(daysTest, scaler.inverse_transform(model.predict(testX)), '-', label=\"Prédiction sur jeu de test\")\n",
    "  plt.plot(daysTest, scaler.inverse_transform(np.reshape(testY, (-1, 1))), '-', label=\"Réalité sur jeu de test\")\n",
    "\n",
    "  plt.axvline(len(trainX), 0, 1)\n",
    "  plt.legend()\n",
    "  plt.title(\"Nombre de \" + ord_context + \" pour : \" + country)\n",
    "  plt.xlabel(\"Nombre de jours\")\n",
    "  plt.ylabel(\"Nombre de \" + ord_context)\n",
    "  plt.show()\n",
    "\n",
    "display_plot_lstm(confirmed_lstm, confirmed_scaler, confirmed_trainX, confirmed_trainY, confirmed_testX, confirmed_testY, country, \"cas\")\n",
    "display_plot_lstm(deaths_lstm, deaths_scaler, deaths_trainX, deaths_trainY, deaths_testX, deaths_testY, country, \"morts\")"
   ]
  },
  {
   "cell_type": "code",
   "execution_count": 99,
   "metadata": {},
   "outputs": [
    {
     "name": "stdout",
     "output_type": "stream",
     "text": [
      "[[0.5]]\n",
      "506\n",
      "[[0.5105198]]\n",
      "[[0.5207128]]\n",
      "[[0.5305726]]\n",
      "[[0.54009485]]\n",
      "[[0.5492766]]\n",
      "[[0.5581169]]\n",
      "[[0.56661534]]\n",
      "[[0.57477385]]\n",
      "[[0.5825946]]\n",
      "[[0.5900815]]\n",
      "[[0.5972397]]\n",
      "[[0.6040748]]\n",
      "[[0.6105934]]\n",
      "[[0.6168032]]\n",
      "[[0.62271184]]\n",
      "[[0.6283283]]\n",
      "[[0.6336613]]\n",
      "[[0.6387202]]\n",
      "[[0.64351517]]\n",
      "[[0.6480555]]\n",
      "[[0.65235066]]\n",
      "[[0.6564112]]\n",
      "[[0.66024673]]\n",
      "[[0.6638672]]\n",
      "[[0.66728246]]\n",
      "[[0.6705018]]\n",
      "[[0.6735348]]\n",
      "[[0.6763906]]\n",
      "[[0.679078]]\n",
      "[[0.68160564]]\n",
      "[[0.68398184]]\n",
      "[[0.68621475]]\n",
      "[[0.68831193]]\n",
      "[[0.690281]]\n",
      "[[0.69212896]]\n",
      "[[0.69386274]]\n",
      "[[0.69548875]]\n",
      "[[0.69701344]]\n",
      "[[0.6984424]]\n",
      "[[0.6997811]]\n",
      "[[0.7010353]]\n",
      "[[0.70221007]]\n",
      "[[0.7033099]]\n",
      "[[0.7043392]]\n",
      "[[0.70530283]]\n",
      "[[0.7062044]]\n",
      "[[0.7070478]]\n",
      "[[0.7078371]]\n",
      "[[0.7085753]]\n",
      "[[0.70926565]]\n",
      "[[0.7099109]]\n",
      "[[0.71051437]]\n",
      "[[0.7110784]]\n",
      "[[0.7116057]]\n",
      "[[0.7120984]]\n",
      "[[0.7125586]]\n",
      "[[0.7129888]]\n",
      "[[0.7133908]]\n",
      "[[0.71376634]]\n",
      "[[0.71411717]]\n",
      "[[0.7144451]]\n",
      "[[0.7147511]]\n",
      "[[0.7150371]]\n",
      "[[0.7153042]]\n",
      "[[0.71555364]]\n",
      "[[0.7157864]]\n",
      "[[0.71600395]]\n",
      "[[0.71620697]]\n",
      "[[0.7163967]]\n",
      "[[0.7165739]]\n",
      "[[0.71673906]]\n",
      "[[0.71689343]]\n",
      "[[0.7170373]]\n",
      "[[0.7171718]]\n",
      "[[0.7172975]]\n",
      "[[0.7174148]]\n",
      "[[0.7175242]]\n",
      "[[0.71762645]]\n",
      "[[0.71772176]]\n",
      "[[0.71781075]]\n",
      "[[0.7178938]]\n",
      "[[0.7179711]]\n",
      "[[0.71804357]]\n",
      "[[0.71811116]]\n",
      "[[0.718174]]\n",
      "[[0.718233]]\n",
      "[[0.718288]]\n",
      "[[0.71833915]]\n",
      "[[0.718387]]\n",
      "[[0.71843183]]\n",
      "[[0.71847343]]\n",
      "[[0.7185122]]\n",
      "[[0.7185484]]\n",
      "[[0.71858245]]\n",
      "[[0.71861404]]\n",
      "[[0.71864367]]\n",
      "[[0.7186712]]\n",
      "[[0.7186969]]\n",
      "[[0.718721]]\n",
      "[[0.7187433]]\n",
      "[[0.7187642]]\n",
      "[[0.7187839]]\n",
      "[[0.71880215]]\n",
      "[[0.718819]]\n",
      "[[0.71883506]]\n",
      "[[0.7188497]]\n",
      "[[0.7188634]]\n",
      "[[0.7188764]]\n",
      "[[0.7188885]]\n",
      "[[0.7188996]]\n",
      "[[0.71891]]\n",
      "[[0.71891993]]\n",
      "[[0.71892893]]\n",
      "[[0.7189375]]\n",
      "[[0.7189456]]\n",
      "[[0.71895295]]\n",
      "[[0.71896]]\n",
      "[[0.7189664]]\n",
      "[[0.71897227]]\n",
      "[[0.71897787]]\n"
     ]
    }
   ],
   "source": [
    "days = 120\n",
    "predictions = []\n",
    "test = [[0.5]]\n",
    "print(test)\n",
    "start_day = len(confirmed_trainX)\n",
    "print(start_day)\n",
    "for i in range(days):\n",
    "    pred = confirmed_lstm.predict(test)\n",
    "    predictions.append(pred)\n",
    "    test = pred\n",
    "    print(test)"
   ]
  },
  {
   "cell_type": "markdown",
   "metadata": {},
   "source": [
    "# Variables multi-dimensionnelles"
   ]
  },
  {
   "cell_type": "code",
   "execution_count": 263,
   "metadata": {},
   "outputs": [],
   "source": [
    "time_steps = 10\n",
    "n_features = 2"
   ]
  },
  {
   "cell_type": "markdown",
   "metadata": {},
   "source": [
    "### Get new data\n"
   ]
  },
  {
   "cell_type": "code",
   "execution_count": 264,
   "metadata": {},
   "outputs": [],
   "source": [
    "df_raw_stringency_index = pd.read_csv(\"covid-stringency-index.csv\")\n",
    "df_raw_stringency_index_country = df_raw_stringency_index[df_raw_stringency_index[\"Entity\"] == country]\n",
    "df_stringency_index_country = df_raw_stringency_index_country.drop(columns=[\"Entity\", \"Code\"])\n",
    "df_stringency_index_country.drop(index=df_stringency_index_country.index[0], axis=0, inplace=True)\n",
    "\n",
    "stringency_index_values = list(df_stringency_index_country.stringency_index)[:len(confirmed_country_values)]\n",
    "stringency_index_days = [i for i in range(df_stringency_index_country.Day.size)]"
   ]
  },
  {
   "cell_type": "markdown",
   "metadata": {},
   "source": [
    "### Adjust some data length (all equal)"
   ]
  },
  {
   "cell_type": "code",
   "execution_count": 265,
   "metadata": {},
   "outputs": [],
   "source": [
    "confirmed_country_values = confirmed_country_values[:len(stringency_index_values)]\n",
    "confirmed_country_days = confirmed_country_days[:len(stringency_index_values)]\n",
    "\n",
    "deaths_country_values = deaths_country_values[:len(stringency_index_values)]\n",
    "deaths_country_days = deaths_country_days[:len(stringency_index_values)]"
   ]
  },
  {
   "cell_type": "markdown",
   "metadata": {},
   "source": [
    "### Print on a plot"
   ]
  },
  {
   "cell_type": "code",
   "execution_count": 266,
   "metadata": {},
   "outputs": [
    {
     "data": {
      "image/png": "[encoded data removed]",
      "text/plain": [
       "<Figure size 432x288 with 1 Axes>"
      ]
     },
     "metadata": {
      "needs_background": "light"
     },
     "output_type": "display_data"
    },
    {
     "data": {
      "image/png": "[encoded data removed]",
      "text/plain": [
       "<Figure size 432x288 with 1 Axes>"
      ]
     },
     "metadata": {
      "needs_background": "light"
     },
     "output_type": "display_data"
    }
   ],
   "source": [
    "plt.plot(confirmed_country_days, confirmed_country_values, '.-')\n",
    "plt.title(\"Nombre de cas confirmés pour : \" + country)\n",
    "plt.xlabel(\"Nombre de jours\")\n",
    "plt.ylabel(\"Nombre de cas\")\n",
    "plt.show()\n",
    "\n",
    "plt.plot(stringency_index_days, stringency_index_values, '.-')\n",
    "plt.title(\"Indice de stringency pour : \" + country)\n",
    "plt.xlabel(\"Nombre de jours\")\n",
    "plt.ylabel(\"Indice de stringency\")\n",
    "plt.show()"
   ]
  },
  {
   "cell_type": "markdown",
   "metadata": {},
   "source": [
    "### Create data sets"
   ]
  },
  {
   "cell_type": "code",
   "execution_count": 267,
   "metadata": {},
   "outputs": [],
   "source": [
    "# Scaled values\n",
    "confirmed_scaler = MinMaxScaler((-1, 1))\n",
    "deaths_scaler = MinMaxScaler((-1, 1))\n",
    "stringency_scaler = MinMaxScaler((-1, 1))\n",
    "\n",
    "confirmed_scaler.fit(confirmed_country_values.reshape((-1, 1)))\n",
    "scaled_confirmed = confirmed_scaler.transform(confirmed_country_values.reshape((-1, 1))).reshape((-1,))\n",
    "\n",
    "deaths_scaler.fit(deaths_country_values.reshape((-1, 1)))\n",
    "scaled_deaths = deaths_scaler.transform(deaths_country_values.reshape((-1, 1))).reshape((-1,))\n",
    "\n",
    "stringency_scaler.fit(np.array(stringency_index_values).reshape((-1, 1)))\n",
    "scaled_stringency = stringency_scaler.transform(np.array(stringency_index_values).reshape((-1, 1))).reshape((-1,))"
   ]
  },
  {
   "cell_type": "code",
   "execution_count": 268,
   "metadata": {},
   "outputs": [],
   "source": [
    "multi_data = list(zip(scaled_confirmed, scaled_stringency))"
   ]
  },
  {
   "cell_type": "code",
   "execution_count": 269,
   "metadata": {},
   "outputs": [],
   "source": [
    "multi_train, multi_test, _ = create_lstm_sets(multi_data, time_steps, scale=False, train_percent=0.70)\n",
    "multi_trainX, multi_trainY = multi_train\n",
    "multi_testX, multi_testY = multi_test"
   ]
  },
  {
   "cell_type": "code",
   "execution_count": 270,
   "metadata": {},
   "outputs": [],
   "source": [
    "def lstm_network_multi(X, Y, time_steps=1, n_features=1):\n",
    "  model = kr.Sequential()\n",
    "  model.add(kr.layers.LSTM(200, input_shape=(time_steps, n_features), return_sequences=True)) #return_sequences=True\n",
    "  model.add(kr.layers.Dropout(0.1))\n",
    "  model.add(kr.layers.LSTM(400))\n",
    "  model.add(kr.layers.Dropout(0.1))\n",
    "  model.add(kr.layers.Dense(1))\n",
    "  opt = tf.keras.optimizers.Adam(learning_rate=0.0001)\n",
    "  model.compile(loss='mean_squared_error', optimizer=opt)\n",
    "  model.summary()\n",
    "  model.fit(X, Y, epochs=20, batch_size=6);\n",
    "  return model"
   ]
  },
  {
   "cell_type": "code",
   "execution_count": 273,
   "metadata": {},
   "outputs": [
    {
     "name": "stdout",
     "output_type": "stream",
     "text": [
      "Model: \"sequential_16\"\n",
      "_________________________________________________________________\n",
      " Layer (type)                Output Shape              Param #   \n",
      "=================================================================\n",
      " lstm_32 (LSTM)              (None, 10, 200)           162400    \n",
      "                                                                 \n",
      " dropout_32 (Dropout)        (None, 10, 200)           0         \n",
      "                                                                 \n",
      " lstm_33 (LSTM)              (None, 400)               961600    \n",
      "                                                                 \n",
      " dropout_33 (Dropout)        (None, 400)               0         \n",
      "                                                                 \n",
      " dense_16 (Dense)            (None, 1)                 401       \n",
      "                                                                 \n",
      "=================================================================\n",
      "Total params: 1,124,401\n",
      "Trainable params: 1,124,401\n",
      "Non-trainable params: 0\n",
      "_________________________________________________________________\n",
      "Epoch 1/20\n",
      "77/77 [==============================] - 10s 57ms/step - loss: 0.0674\n",
      "Epoch 2/20\n",
      "77/77 [==============================] - 4s 58ms/step - loss: 0.0012\n",
      "Epoch 3/20\n",
      "77/77 [==============================] - 5s 60ms/step - loss: 8.1559e-04\n",
      "Epoch 4/20\n",
      "77/77 [==============================] - 4s 52ms/step - loss: 8.4013e-04\n",
      "Epoch 5/20\n",
      "77/77 [==============================] - 4s 55ms/step - loss: 7.9756e-04\n",
      "Epoch 6/20\n",
      "77/77 [==============================] - 6s 74ms/step - loss: 8.5619e-04\n",
      "Epoch 7/20\n",
      "77/77 [==============================] - 5s 64ms/step - loss: 8.5126e-04\n",
      "Epoch 8/20\n",
      "77/77 [==============================] - 5s 65ms/step - loss: 7.3335e-04\n",
      "Epoch 9/20\n",
      "77/77 [==============================] - 5s 63ms/step - loss: 7.3931e-04\n",
      "Epoch 10/20\n",
      "77/77 [==============================] - 5s 68ms/step - loss: 7.5714e-04\n",
      "Epoch 11/20\n",
      "77/77 [==============================] - 5s 62ms/step - loss: 6.1388e-04\n",
      "Epoch 12/20\n",
      "77/77 [==============================] - 5s 64ms/step - loss: 6.6425e-04\n",
      "Epoch 13/20\n",
      "77/77 [==============================] - 4s 57ms/step - loss: 6.4883e-04\n",
      "Epoch 14/20\n",
      "77/77 [==============================] - 4s 55ms/step - loss: 7.6113e-04\n",
      "Epoch 15/20\n",
      "77/77 [==============================] - 4s 50ms/step - loss: 8.0549e-04\n",
      "Epoch 16/20\n",
      "77/77 [==============================] - 3s 45ms/step - loss: 7.2351e-04\n",
      "Epoch 17/20\n",
      "77/77 [==============================] - 3s 45ms/step - loss: 8.7646e-04\n",
      "Epoch 18/20\n",
      "77/77 [==============================] - 3s 45ms/step - loss: 7.5939e-04\n",
      "Epoch 19/20\n",
      "77/77 [==============================] - 4s 46ms/step - loss: 7.6451e-04\n",
      "Epoch 20/20\n",
      "77/77 [==============================] - 4s 45ms/step - loss: 7.0434e-04\n"
     ]
    }
   ],
   "source": [
    "multi_lstm = lstm_network_multi(multi_trainX, multi_trainY, time_steps, n_features)"
   ]
  },
  {
   "cell_type": "code",
   "execution_count": 274,
   "metadata": {},
   "outputs": [
    {
     "data": {
      "image/png": "[encoded data removed]",
      "text/plain": [
       "<Figure size 432x288 with 1 Axes>"
      ]
     },
     "metadata": {
      "needs_background": "light"
     },
     "output_type": "display_data"
    }
   ],
   "source": [
    "display_plot_lstm(multi_lstm, deaths_scaler, multi_trainX, multi_trainY, multi_testX, multi_testY, country, \"cas\")"
   ]
  },
  {
   "cell_type": "code",
   "execution_count": 281,
   "metadata": {},
   "outputs": [
    {
     "name": "stdout",
     "output_type": "stream",
     "text": [
      "457\n",
      "[[[0.49332378 0.69570322]\n",
      "  [0.50224219 0.69570322]\n",
      "  [0.51127996 0.69570322]\n",
      "  [0.51804946 0.69570322]\n",
      "  [0.51926692 0.69570322]\n",
      "  [0.52739966 0.69570322]\n",
      "  [0.53608048 0.69570322]\n",
      "  [0.54343728 0.69570322]\n",
      "  [0.55015169 0.69570322]\n",
      "  [0.55724363 0.69570322]]]\n",
      "[[0.56289786]]\n",
      "[[0.56633264]]\n",
      "[[0.5678398]]\n",
      "[[0.56852525]]\n",
      "[[0.569242]]\n",
      "[[0.5707705]]\n",
      "[[0.5726758]]\n",
      "[[0.57496685]]\n",
      "[[0.57772315]]\n",
      "[[0.58091587]]\n",
      "[[0.5844128]]\n",
      "[[0.5862824]]\n",
      "[[0.5881344]]\n",
      "[[0.590106]]\n",
      "[[0.5922318]]\n",
      "[[0.5944822]]\n",
      "[[0.59677464]]\n",
      "[[0.59907234]]\n",
      "[[0.6013443]]\n",
      "[[0.6035565]]\n",
      "[[0.605681]]\n",
      "[[0.60770065]]\n",
      "[[0.60974765]]\n",
      "[[0.6118142]]\n",
      "[[0.61388487]]\n",
      "[[0.61594325]]\n",
      "[[0.61797816]]\n",
      "[[0.6199859]]\n",
      "[[0.621966]]\n",
      "[[0.6239198]]\n",
      "[[0.6258518]]\n",
      "[[0.6277669]]\n",
      "[[0.62967145]]\n",
      "[[0.6315612]]\n",
      "[[0.6334326]]\n",
      "[[0.63528395]]\n",
      "[[0.6371156]]\n",
      "[[0.63892716]]\n",
      "[[0.64072126]]\n",
      "[[0.642497]]\n",
      "[[0.6442562]]\n",
      "[[0.64599836]]\n",
      "[[0.6477231]]\n",
      "[[0.64943105]]\n",
      "[[0.65112126]]\n",
      "[[0.65279424]]\n",
      "[[0.6544497]]\n",
      "[[0.6560881]]\n",
      "[[0.6577103]]\n",
      "[[0.65931576]]\n",
      "[[0.6609054]]\n",
      "[[0.6624779]]\n",
      "[[0.6640343]]\n",
      "[[0.66557485]]\n",
      "[[0.667099]]\n",
      "[[0.6686073]]\n",
      "[[0.6701001]]\n",
      "[[0.6715773]]\n",
      "[[0.6730388]]\n",
      "[[0.6744849]]\n",
      "[[0.67591596]]\n",
      "[[0.6773311]]\n",
      "[[0.67873186]]\n",
      "[[0.6801176]]\n",
      "[[0.68148845]]\n",
      "[[0.6828445]]\n",
      "[[0.68418634]]\n",
      "[[0.68551373]]\n",
      "[[0.6868265]]\n",
      "[[0.68812525]]\n",
      "[[0.6894101]]\n",
      "[[0.6906811]]\n",
      "[[0.6919379]]\n",
      "[[0.693181]]\n",
      "[[0.6944104]]\n",
      "[[0.69562715]]\n",
      "[[0.6968298]]\n",
      "[[0.70020455]]\n",
      "[[0.7047972]]\n",
      "[[0.7098711]]\n",
      "[[0.7149649]]\n",
      "[[0.7198137]]\n",
      "[[0.72428775]]\n",
      "[[0.72834164]]\n",
      "[[0.7319834]]\n",
      "[[0.7352479]]\n",
      "[[0.7381856]]\n",
      "[[0.74223435]]\n",
      "[[0.74625844]]\n",
      "[[0.7501653]]\n",
      "[[0.75393206]]\n",
      "[[0.7575702]]\n",
      "[[0.7611079]]\n",
      "[[0.7645775]]\n",
      "[[0.76801085]]\n",
      "[[0.7714343]]\n",
      "[[0.77486974]]\n",
      "[[0.77833116]]\n",
      "[[0.7817275]]\n",
      "[[0.78506124]]\n",
      "[[0.7883411]]\n",
      "[[0.79157794]]\n",
      "[[0.79477966]]\n",
      "[[0.79794985]]\n",
      "[[0.80109215]]\n",
      "[[0.8042038]]\n",
      "[[0.8072831]]\n",
      "[[0.8103263]]\n",
      "[[0.81332934]]\n",
      "[[0.8162945]]\n",
      "[[0.81922513]]\n",
      "[[0.8221227]]\n",
      "[[0.8249865]]\n",
      "[[0.82781845]]\n",
      "[[0.8306175]]\n",
      "[[0.83338314]]\n",
      "[[0.8361146]]\n",
      "[[0.8388131]]\n",
      "[[0.84147894]]\n",
      "[[0.8441117]]\n",
      "[[0.8467124]]\n",
      "[[0.8492822]]\n",
      "[[0.85182035]]\n",
      "[[0.8543268]]\n",
      "[[0.8568023]]\n",
      "[[0.8592467]]\n",
      "[[0.8616603]]\n",
      "[[0.8640437]]\n",
      "[[0.86639726]]\n",
      "[[0.8687204]]\n",
      "[[0.87101454]]\n",
      "[[0.8732793]]\n",
      "[[0.8755144]]\n",
      "[[0.877721]]\n",
      "[[0.8798994]]\n",
      "[[0.8820493]]\n",
      "[[0.88417125]]\n",
      "[[0.8862653]]\n",
      "[[0.888332]]\n",
      "[[0.8903711]]\n",
      "[[0.892384]]\n",
      "[[0.89436996]]\n",
      "[[0.89632964]]\n",
      "[[0.8982628]]\n",
      "[[0.90017027]]\n",
      "[[0.902052]]\n",
      "[[0.90390867]]\n",
      "[[0.9057401]]\n",
      "[[0.90754676]]\n",
      "[[0.9093287]]\n"
     ]
    }
   ],
   "source": [
    "n_days = 150\n",
    "predictions = []\n",
    "test = multi_trainX[-1]\n",
    "test = test.reshape(-1, time_steps, n_features)\n",
    "start_day = len(multi_trainX)\n",
    "print(start_day)\n",
    "print(test)\n",
    "for i in range(n_days):\n",
    "    pred = multi_lstm.predict(test)\n",
    "    predictions.append(pred[0][0])\n",
    "    \n",
    "    old = test[0][0]\n",
    "    test = np.delete(test[0], 0, axis=0)\n",
    "\n",
    "    indice = stringency_scaler.transform([[50]])\n",
    "    if i > 75:\n",
    "        indice = stringency_scaler.transform([[65]])\n",
    "\n",
    "    test = np.append(test, [pred[0][0], indice[0][0]]).reshape(-1, time_steps, n_features)\n",
    "\n",
    "    print(pred)"
   ]
  },
  {
   "cell_type": "code",
   "execution_count": 282,
   "metadata": {},
   "outputs": [],
   "source": [
    "predicted_plot = np.concatenate((confirmed_scaler.transform(confirmed_country_values[:start_day].reshape((-1, 1))).reshape((-1,)), predictions))\n",
    "predicted_plot = confirmed_scaler.inverse_transform(predicted_plot.reshape((-1, 1)))\n",
    "\n",
    "days = np.concatenate((list(range(start_day)), np.array([day for day in range(start_day, start_day+n_days)])))"
   ]
  },
  {
   "cell_type": "code",
   "execution_count": 283,
   "metadata": {},
   "outputs": [
    {
     "data": {
      "image/png": "[encoded data removed]",
      "text/plain": [
       "<Figure size 432x288 with 1 Axes>"
      ]
     },
     "metadata": {
      "needs_background": "light"
     },
     "output_type": "display_data"
    }
   ],
   "source": [
    "plt.plot(days, predicted_plot, '-', label=\"Prédiction\")\n",
    "plt.plot(days, confirmed_country_values[:start_day+n_days], '-', label=\"Réalité\")\n",
    "plt.legend()\n",
    "plt.axvline(start_day)\n",
    "plt.title(\"Nombre de cas confirmés pour : \" + country)\n",
    "plt.xlabel(\"Nombre de jours\")\n",
    "plt.ylabel(\"Nombre de cas\")\n",
    "plt.show()"
   ]
  },
  {
   "cell_type": "code",
   "execution_count": null,
   "metadata": {},
   "outputs": [],
   "source": []
  },
  {
   "cell_type": "code",
   "execution_count": null,
   "metadata": {},
   "outputs": [],
   "source": []
  }
 ],
 "metadata": {
  "interpreter": {
   "hash": "7131807ce35ac9e736e77ee5c468af6a0125a9e761140560e4dc712dc1cce710"
  },
  "kernelspec": {
   "display_name": "Python 3.9.0 64-bit",
   "language": "python",
   "name": "python3"
  },
  "language_info": {
   "codemirror_mode": {
    "name": "ipython",
    "version": 3
   },
   "file_extension": ".py",
   "mimetype": "text/x-python",
   "name": "python",
   "nbconvert_exporter": "python",
   "pygments_lexer": "ipython3",
   "version": "3.9.8"
  },
  "orig_nbformat": 4
 },
 "nbformat": 4,
 "nbformat_minor": 2
}
