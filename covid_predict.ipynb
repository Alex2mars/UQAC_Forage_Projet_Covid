{
 "cells": [
  {
   "cell_type": "markdown",
   "metadata": {},
   "source": [
    "# Projet de prédiction des données liées au Covid"
   ]
  },
  {
   "cell_type": "markdown",
   "metadata": {},
   "source": [
    "Imports"
   ]
  },
  {
   "cell_type": "code",
   "execution_count": 33,
   "metadata": {},
   "outputs": [],
   "source": [
    "import pandas as pd\n",
    "import matplotlib.pyplot as plt\n",
    "\n",
    "import plotly.io as pio\n",
    "pio.renderers.default = 'iframe_connected'"
   ]
  },
  {
   "cell_type": "code",
   "execution_count": 34,
   "metadata": {},
   "outputs": [],
   "source": [
    "df_raw_confirmed_global = pd.read_csv(\"https://raw.githubusercontent.com/CSSEGISandData/COVID-19/master/csse_covid_19_data/csse_covid_19_time_series/time_series_covid19_confirmed_global.csv\")\n",
    "df_raw_deaths_global = pd.read_csv(\"https://raw.githubusercontent.com/CSSEGISandData/COVID-19/master/csse_covid_19_data/csse_covid_19_time_series/time_series_covid19_deaths_global.csv\")\n",
    "df_raw_vaccination_global = pd.read_csv(\"https://raw.githubusercontent.com/owid/covid-19-data/master/public/data/vaccinations/vaccinations.csv\")\n",
    "df_raw_vaccination_global=df_raw_vaccination_global.drop(columns=[\"daily_vaccinations_per_million\",\"total_boosters_per_hundred\",\"daily_vaccinations_raw\",\"total_boosters\",\"people_fully_vaccinated_per_hundred\",\"daily_people_vaccinated_per_hundred\",\"people_vaccinated\", \"total_vaccinations\", \"daily_people_vaccinated\", \"people_fully_vaccinated\",\"total_vaccinations_per_hundred\",\"people_vaccinated_per_hundred\"])\n"
   ]
  },
  {
   "cell_type": "markdown",
   "metadata": {},
   "source": []
  },
  {
   "cell_type": "code",
   "execution_count": 35,
   "metadata": {},
   "outputs": [],
   "source": [
    "# Choose latitude and longitude for the chosen country\n",
    "lat_min = 41.317\n",
    "lat_max = 51.07167\n",
    "long_min = -5.14028\n",
    "long_max = 9.51333"
   ]
  },
  {
   "cell_type": "code",
   "execution_count": 36,
   "metadata": {},
   "outputs": [],
   "source": [
    "# Function to filter elements by latitude/longitude\n",
    "def check_lat_long(df, lat_min, lat_max, long_min, long_max):\n",
    "   return df[(df[\"Lat\"] > lat_min) & (df[\"Lat\"] < lat_max) & (df[\"Long\"] > long_min) & (df[\"Long\"] < long_max)]"
   ]
  },
  {
   "cell_type": "code",
   "execution_count": 40,
   "metadata": {},
   "outputs": [],
   "source": [
    "country = \"Canada\"\n",
    "\n",
    "df_raw_confirmed_country = df_raw_confirmed_global[(df_raw_confirmed_global[\"Country/Region\"] == country) & (df_raw_confirmed_global[\"Province/State\"] == \"Quebec\")]\n",
    "df_raw_deaths_country = df_raw_deaths_global[df_raw_deaths_global[\"Country/Region\"] == country]\n",
    "df_raw_vaccination_country = df_raw_vaccination_global[df_raw_vaccination_global[\"location\"] == country]\n",
    "df_confirmed_country = df_raw_confirmed_country\n",
    "df_deaths_country = df_raw_deaths_country\n",
    "#df_confirmed_country = check_lat_long(df_raw_confirmed_country, lat_min ,lat_max ,long_min, long_max)\n",
    "#df_deaths_country = check_lat_long(df_raw_deaths_country, lat_min, lat_max, long_min, long_max)"
   ]
  },
  {
   "cell_type": "code",
   "execution_count": 41,
   "metadata": {},
   "outputs": [
    {
     "data": {
      "text/html": [
       "<div>\n",
       "<style scoped>\n",
       "    .dataframe tbody tr th:only-of-type {\n",
       "        vertical-align: middle;\n",
       "    }\n",
       "\n",
       "    .dataframe tbody tr th {\n",
       "        vertical-align: top;\n",
       "    }\n",
       "\n",
       "    .dataframe thead th {\n",
       "        text-align: right;\n",
       "    }\n",
       "</style>\n",
       "<table border=\"1\" class=\"dataframe\">\n",
       "  <thead>\n",
       "    <tr style=\"text-align: right;\">\n",
       "      <th></th>\n",
       "      <th>0</th>\n",
       "      <th>1</th>\n",
       "      <th>2</th>\n",
       "      <th>3</th>\n",
       "      <th>4</th>\n",
       "      <th>5</th>\n",
       "      <th>6</th>\n",
       "      <th>7</th>\n",
       "      <th>8</th>\n",
       "      <th>9</th>\n",
       "      <th>...</th>\n",
       "      <th>666</th>\n",
       "      <th>667</th>\n",
       "      <th>668</th>\n",
       "      <th>669</th>\n",
       "      <th>670</th>\n",
       "      <th>671</th>\n",
       "      <th>672</th>\n",
       "      <th>673</th>\n",
       "      <th>674</th>\n",
       "      <th>675</th>\n",
       "    </tr>\n",
       "  </thead>\n",
       "  <tbody>\n",
       "    <tr>\n",
       "      <th>51</th>\n",
       "      <td>0</td>\n",
       "      <td>0</td>\n",
       "      <td>0</td>\n",
       "      <td>0</td>\n",
       "      <td>0</td>\n",
       "      <td>0</td>\n",
       "      <td>0</td>\n",
       "      <td>0</td>\n",
       "      <td>0</td>\n",
       "      <td>0</td>\n",
       "      <td>...</td>\n",
       "      <td>436803</td>\n",
       "      <td>437548</td>\n",
       "      <td>438363</td>\n",
       "      <td>439070</td>\n",
       "      <td>439762</td>\n",
       "      <td>440461</td>\n",
       "      <td>441343</td>\n",
       "      <td>443547</td>\n",
       "      <td>444584</td>\n",
       "      <td>445755</td>\n",
       "    </tr>\n",
       "  </tbody>\n",
       "</table>\n",
       "<p>1 rows × 676 columns</p>\n",
       "</div>"
      ],
      "text/plain": [
       "    0    1    2    3    4    5    6    7    8    9    ...     666     667  \\\n",
       "51    0    0    0    0    0    0    0    0    0    0  ...  436803  437548   \n",
       "\n",
       "       668     669     670     671     672     673     674     675  \n",
       "51  438363  439070  439762  440461  441343  443547  444584  445755  \n",
       "\n",
       "[1 rows x 676 columns]"
      ]
     },
     "execution_count": 41,
     "metadata": {},
     "output_type": "execute_result"
    }
   ],
   "source": [
    "uselessColumns = [\"Lat\", \"Long\", \"Province/State\", \"Country/Region\"]\n",
    "\n",
    "def columnsInNumbers(df):\n",
    "  df.columns = [i for i in range(len(df_confirmed_country.columns))]\n",
    "\n",
    "df_confirmed_country = df_confirmed_country.drop(columns=uselessColumns)\n",
    "df_deaths_country = df_deaths_country.drop(columns=uselessColumns)\n",
    "\n",
    "columnsInNumbers(df_confirmed_country)\n",
    "columnsInNumbers(df_deaths_country)\n",
    "\n",
    "\n",
    "df_confirmed_country"
   ]
  },
  {
   "cell_type": "code",
   "execution_count": 42,
   "metadata": {},
   "outputs": [],
   "source": [
    "def get_values_and_days(df):\n",
    "  return (df.values[0], df.columns.to_list())\n",
    "\n",
    "confirmed_country_values, confirmed_country_days = get_values_and_days(df_confirmed_country)\n",
    "deaths_country_values, deaths_country_days = get_values_and_days(df_deaths_country)\n",
    "vaccination_index_values = list(df_raw_vaccination_country.daily_vaccinations)[:len(confirmed_country_values)]\n",
    "vaccination_index_days = [i for i in range(df_raw_vaccination_country.date.size)]\n"
   ]
  },
  {
   "cell_type": "code",
   "execution_count": 43,
   "metadata": {},
   "outputs": [
    {
     "data": {
      "image/png": "[encoded data removed]",
      "text/plain": [
       "<Figure size 432x288 with 1 Axes>"
      ]
     },
     "metadata": {
      "needs_background": "light"
     },
     "output_type": "display_data"
    },
    {
     "data": {
      "image/png": "[encoded data removed]",
      "text/plain": [
       "<Figure size 432x288 with 1 Axes>"
      ]
     },
     "metadata": {
      "needs_background": "light"
     },
     "output_type": "display_data"
    },
    {
     "data": {
      "image/png": "[encoded data removed]",
      "text/plain": [
       "<Figure size 432x288 with 1 Axes>"
      ]
     },
     "metadata": {
      "needs_background": "light"
     },
     "output_type": "display_data"
    }
   ],
   "source": [
    "plt.plot(confirmed_country_days, confirmed_country_values, '.-')\n",
    "plt.title(\"Nombre de cas confirmés pour : \" + country)\n",
    "plt.xlabel(\"Nombre de jours\")\n",
    "plt.ylabel(\"Nombre de cas\")\n",
    "plt.show()\n",
    "\n",
    "plt.plot(deaths_country_days, deaths_country_values, '.-')\n",
    "plt.title(\"Nombre de déces pour : \" + country)\n",
    "plt.xlabel(\"Nombre de jours\")\n",
    "plt.ylabel(\"Nombre de déces\")\n",
    "plt.show()\n",
    "\n",
    "plt.plot(vaccination_index_days, vaccination_index_values, '.-')\n",
    "plt.title(\"Nombre de vaccine pour : \" + country)\n",
    "plt.xlabel(\"Nombre de jours\")\n",
    "plt.ylabel(\"Nombre de vaccine\")\n",
    "plt.show()"
   ]
  },
  {
   "cell_type": "markdown",
   "metadata": {
    "pycharm": {
     "name": "#%% md\n"
    }
   },
   "source": [
    "Training and test sets\n"
   ]
  },
  {
   "cell_type": "code",
   "execution_count": 44,
   "metadata": {
    "collapsed": false,
    "pycharm": {
     "name": "#%%\n"
    }
   },
   "outputs": [],
   "source": [
    "from sklearn.model_selection import train_test_split\n",
    "\n",
    "confirmed_train, confirmed_test, confirmed_train_days, confirmed_test_days = train_test_split(confirmed_country_values, confirmed_country_days, test_size=0.30, shuffle=False)\n",
    "deaths_train, deaths_test, deaths_train_days, deaths_test_days = train_test_split(deaths_country_values, deaths_country_days, test_size=0.30, shuffle=False)"
   ]
  },
  {
   "cell_type": "markdown",
   "metadata": {
    "collapsed": false,
    "pycharm": {
     "name": "#%% md\n"
    }
   },
   "source": [
    "# Regression polynomiale (degré = 2)"
   ]
  },
  {
   "cell_type": "code",
   "execution_count": 45,
   "metadata": {
    "collapsed": false,
    "pycharm": {
     "name": "#%%\n"
    }
   },
   "outputs": [],
   "source": [
    "import numpy as np\n",
    "from sklearn import svm"
   ]
  },
  {
   "cell_type": "code",
   "execution_count": 46,
   "metadata": {
    "collapsed": false,
    "pycharm": {
     "name": "#%%\n"
    }
   },
   "outputs": [
    {
     "name": "stdout",
     "output_type": "stream",
     "text": [
      "Regression cas :  -58.105265406071894\n",
      "Regression morts :  -5.386794915466206\n"
     ]
    }
   ],
   "source": [
    "def regression(X, Y):\n",
    "  reg = svm.SVR(kernel='poly', C=1000, degree=2)\n",
    "  reg.fit(X, Y)\n",
    "  return reg\n",
    "\n",
    "reg_confirmed = regression(np.reshape(confirmed_train_days, newshape=(-1, 1)), confirmed_train)\n",
    "reg_deaths = regression(np.reshape(deaths_train_days, newshape=(-1, 1)), deaths_train)\n",
    "\n",
    "print(\"Regression cas : \", reg_confirmed.score(np.reshape(confirmed_test_days, newshape=(-1, 1)), confirmed_test))\n",
    "print(\"Regression morts : \", reg_deaths.score(np.reshape(deaths_test_days, newshape=(-1, 1)), deaths_test))"
   ]
  },
  {
   "cell_type": "markdown",
   "metadata": {
    "collapsed": false
   },
   "source": [
    "Visualisation des modèles"
   ]
  },
  {
   "cell_type": "code",
   "execution_count": 47,
   "metadata": {
    "collapsed": false,
    "pycharm": {
     "name": "#%%\n"
    }
   },
   "outputs": [
    {
     "data": {
      "image/png": "[encoded data removed]",
      "text/plain": [
       "<Figure size 432x288 with 1 Axes>"
      ]
     },
     "metadata": {
      "needs_background": "light"
     },
     "output_type": "display_data"
    },
    {
     "data": {
      "image/png": "[encoded data removed]",
      "text/plain": [
       "<Figure size 432x288 with 1 Axes>"
      ]
     },
     "metadata": {
      "needs_background": "light"
     },
     "output_type": "display_data"
    }
   ],
   "source": [
    "def display_plot(reg, X, Y, ord_context):\n",
    "  plt.plot(X, Y, '.-')\n",
    "  plt.plot(X, reg.predict(X), \"-\")\n",
    "  plt.title(\"Nombre de \" + ord_context + \" pour : \" + country)\n",
    "  plt.xlabel(\"Nombre de jours\")\n",
    "  plt.ylabel(\"Nombre de \" + ord_context)\n",
    "  plt.show()\n",
    "\n",
    "display_plot(reg_confirmed, np.reshape(confirmed_country_days, newshape=(-1, 1)), confirmed_country_values, \"cas\")\n",
    "display_plot(reg_deaths, np.reshape(deaths_country_days, newshape=(-1, 1)), deaths_country_values, \"morts\")"
   ]
  },
  {
   "cell_type": "markdown",
   "metadata": {
    "collapsed": false
   },
   "source": [
    "# Réseaux LSTM"
   ]
  },
  {
   "cell_type": "code",
   "execution_count": 48,
   "metadata": {
    "collapsed": false,
    "pycharm": {
     "name": "#%%\n"
    }
   },
   "outputs": [],
   "source": [
    "import tensorflow as tf\n",
    "import keras as kr\n",
    "from sklearn.preprocessing import MinMaxScaler"
   ]
  },
  {
   "cell_type": "code",
   "execution_count": 49,
   "metadata": {
    "collapsed": false,
    "pycharm": {
     "name": "#%%\n"
    }
   },
   "outputs": [],
   "source": [
    "def create_sequences(data, time_steps=1):\n",
    "  dataX, dataY = [], []\n",
    "  for i in range(len(data)-time_steps):\n",
    "    a = data[i:(i+time_steps)]\n",
    "    dataX.append(a)\n",
    "    dataY.append(data[i + time_steps][0])\n",
    "  return np.array(dataX), np.array(dataY)\n",
    "\n",
    "def create_lstm_sets(X, time_steps=1, scale=True, train_percent=0.75):\n",
    "  scaler=None\n",
    "  if scale:\n",
    "    scaler = MinMaxScaler(feature_range=(-1, 1))\n",
    "    scaler = scaler.fit(X)\n",
    "    scaled_X = scaler.transform(X)\n",
    "  else:\n",
    "    scaled_X = np.array(X)\n",
    "  train_size = int(len(scaled_X) * train_percent)\n",
    "  test_size = len(scaled_X) - train_size\n",
    "  train, test = scaled_X[0:train_size,:], scaled_X[train_size:len(scaled_X),:]\n",
    "  return create_sequences(train, time_steps), create_sequences(test, time_steps), scaler\n",
    "\n",
    "def lstm_network(X, Y, time_steps=1, n_features=1):\n",
    "  model = kr.Sequential()\n",
    "  model.add(kr.layers.LSTM(100, input_shape=(time_steps, n_features), return_sequences=True)) #return_sequences=True\n",
    "  model.add(kr.layers.Dropout(0.3))\n",
    "  model.add(kr.layers.LSTM(100))\n",
    "  model.add(kr.layers.Dropout(0.3))\n",
    "  model.add(kr.layers.Dense(1))\n",
    "  opt = tf.keras.optimizers.Adam(learning_rate=0.001)\n",
    "  model.compile(loss='mean_squared_error', optimizer=opt)\n",
    "  model.summary()\n",
    "  model.fit(X, Y, epochs=50, batch_size=6);\n",
    "  return model"
   ]
  },
  {
   "cell_type": "markdown",
   "metadata": {
    "collapsed": false
   },
   "source": [
    "## Variable monodimensionelle"
   ]
  },
  {
   "cell_type": "code",
   "execution_count": 50,
   "metadata": {
    "collapsed": false,
    "pycharm": {
     "name": "#%%\n"
    }
   },
   "outputs": [],
   "source": [
    "time_steps = 1\n",
    "n_features = 1"
   ]
  },
  {
   "cell_type": "markdown",
   "metadata": {
    "collapsed": false
   },
   "source": [
    "### Nombre de cas"
   ]
  },
  {
   "cell_type": "code",
   "execution_count": 51,
   "metadata": {
    "collapsed": false,
    "pycharm": {
     "name": "#%%\n"
    }
   },
   "outputs": [
    {
     "name": "stdout",
     "output_type": "stream",
     "text": [
      "Model: \"sequential_3\"\n",
      "_________________________________________________________________\n",
      " Layer (type)                Output Shape              Param #   \n",
      "=================================================================\n",
      " lstm_6 (LSTM)               (None, 1, 100)            40800     \n",
      "                                                                 \n",
      " dropout_6 (Dropout)         (None, 1, 100)            0         \n",
      "                                                                 \n",
      " lstm_7 (LSTM)               (None, 100)               80400     \n",
      "                                                                 \n",
      " dropout_7 (Dropout)         (None, 100)               0         \n",
      "                                                                 \n",
      " dense_3 (Dense)             (None, 1)                 101       \n",
      "                                                                 \n",
      "=================================================================\n",
      "Total params: 121,301\n",
      "Trainable params: 121,301\n",
      "Non-trainable params: 0\n",
      "_________________________________________________________________\n",
      "Epoch 1/50\n",
      "85/85 [==============================] - 5s 5ms/step - loss: 0.1717\n",
      "Epoch 2/50\n",
      "85/85 [==============================] - 0s 5ms/step - loss: 0.0064\n",
      "Epoch 3/50\n",
      "85/85 [==============================] - 0s 5ms/step - loss: 0.0050\n",
      "Epoch 4/50\n",
      "85/85 [==============================] - 0s 5ms/step - loss: 0.0041\n",
      "Epoch 5/50\n",
      "85/85 [==============================] - 0s 5ms/step - loss: 0.0037\n",
      "Epoch 6/50\n",
      "85/85 [==============================] - 0s 4ms/step - loss: 0.0050\n",
      "Epoch 7/50\n",
      "85/85 [==============================] - 0s 4ms/step - loss: 0.0045\n",
      "Epoch 8/50\n",
      "85/85 [==============================] - 0s 4ms/step - loss: 0.0042\n",
      "Epoch 9/50\n",
      "85/85 [==============================] - 0s 4ms/step - loss: 0.0033\n",
      "Epoch 10/50\n",
      "85/85 [==============================] - 0s 4ms/step - loss: 0.0040\n",
      "Epoch 11/50\n",
      "85/85 [==============================] - 0s 4ms/step - loss: 0.0041\n",
      "Epoch 12/50\n",
      "85/85 [==============================] - 0s 4ms/step - loss: 0.0040\n",
      "Epoch 13/50\n",
      "85/85 [==============================] - 0s 4ms/step - loss: 0.0037\n",
      "Epoch 14/50\n",
      "85/85 [==============================] - 0s 5ms/step - loss: 0.0036\n",
      "Epoch 15/50\n",
      "85/85 [==============================] - 0s 5ms/step - loss: 0.0040\n",
      "Epoch 16/50\n",
      "85/85 [==============================] - 0s 5ms/step - loss: 0.0033\n",
      "Epoch 17/50\n",
      "85/85 [==============================] - 0s 4ms/step - loss: 0.0035\n",
      "Epoch 18/50\n",
      "85/85 [==============================] - 0s 5ms/step - loss: 0.0034\n",
      "Epoch 19/50\n",
      "85/85 [==============================] - 0s 5ms/step - loss: 0.0034\n",
      "Epoch 20/50\n",
      "85/85 [==============================] - 0s 4ms/step - loss: 0.0036\n",
      "Epoch 21/50\n",
      "85/85 [==============================] - 0s 4ms/step - loss: 0.0035\n",
      "Epoch 22/50\n",
      "85/85 [==============================] - 0s 4ms/step - loss: 0.0043\n",
      "Epoch 23/50\n",
      "85/85 [==============================] - 0s 4ms/step - loss: 0.0040\n",
      "Epoch 24/50\n",
      "85/85 [==============================] - 0s 4ms/step - loss: 0.0038\n",
      "Epoch 25/50\n",
      "85/85 [==============================] - 0s 5ms/step - loss: 0.0041\n",
      "Epoch 26/50\n",
      "85/85 [==============================] - 1s 6ms/step - loss: 0.0045\n",
      "Epoch 27/50\n",
      "85/85 [==============================] - 0s 5ms/step - loss: 0.0039\n",
      "Epoch 28/50\n",
      "85/85 [==============================] - 0s 4ms/step - loss: 0.0040\n",
      "Epoch 29/50\n",
      "85/85 [==============================] - 0s 5ms/step - loss: 0.0038\n",
      "Epoch 30/50\n",
      "85/85 [==============================] - 0s 5ms/step - loss: 0.0036\n",
      "Epoch 31/50\n",
      "85/85 [==============================] - 0s 5ms/step - loss: 0.0034\n",
      "Epoch 32/50\n",
      "85/85 [==============================] - 1s 6ms/step - loss: 0.0030\n",
      "Epoch 33/50\n",
      "85/85 [==============================] - 0s 5ms/step - loss: 0.0038\n",
      "Epoch 34/50\n",
      "85/85 [==============================] - 0s 5ms/step - loss: 0.0034\n",
      "Epoch 35/50\n",
      "85/85 [==============================] - 0s 5ms/step - loss: 0.0031\n",
      "Epoch 36/50\n",
      "85/85 [==============================] - 0s 5ms/step - loss: 0.0038\n",
      "Epoch 37/50\n",
      "85/85 [==============================] - 0s 5ms/step - loss: 0.0035\n",
      "Epoch 38/50\n",
      "85/85 [==============================] - 1s 6ms/step - loss: 0.0031\n",
      "Epoch 39/50\n",
      "85/85 [==============================] - 0s 5ms/step - loss: 0.0030\n",
      "Epoch 40/50\n",
      "85/85 [==============================] - 0s 4ms/step - loss: 0.0033\n",
      "Epoch 41/50\n",
      "85/85 [==============================] - 0s 5ms/step - loss: 0.0037\n",
      "Epoch 42/50\n",
      "85/85 [==============================] - 0s 5ms/step - loss: 0.0032\n",
      "Epoch 43/50\n",
      "85/85 [==============================] - 0s 5ms/step - loss: 0.0034\n",
      "Epoch 44/50\n",
      "85/85 [==============================] - 0s 5ms/step - loss: 0.0039\n",
      "Epoch 45/50\n",
      "85/85 [==============================] - 0s 5ms/step - loss: 0.0032\n",
      "Epoch 46/50\n",
      "85/85 [==============================] - 0s 4ms/step - loss: 0.0032\n",
      "Epoch 47/50\n",
      "85/85 [==============================] - 0s 5ms/step - loss: 0.0036\n",
      "Epoch 48/50\n",
      "85/85 [==============================] - 0s 6ms/step - loss: 0.0030\n",
      "Epoch 49/50\n",
      "85/85 [==============================] - 1s 6ms/step - loss: 0.0036\n",
      "Epoch 50/50\n",
      "85/85 [==============================] - 0s 4ms/step - loss: 0.0029\n"
     ]
    }
   ],
   "source": [
    "confirmed_lstm_set = df_confirmed_country.values[0]\n",
    "confirmed_lstm_set = np.reshape(confirmed_lstm_set, (len(confirmed_lstm_set), 1))\n",
    "\n",
    "confirmed_train, confirmed_test, confirmed_scaler = create_lstm_sets(confirmed_lstm_set, time_steps)\n",
    "\n",
    "confirmed_trainX, confirmed_trainY = confirmed_train\n",
    "confirmed_testX, confirmed_testY = confirmed_test\n",
    "\n",
    "confirmed_lstm = lstm_network(confirmed_trainX, confirmed_trainY, time_steps)"
   ]
  },
  {
   "cell_type": "markdown",
   "metadata": {
    "collapsed": false
   },
   "source": [
    "### Nombre de morts"
   ]
  },
  {
   "cell_type": "code",
   "execution_count": 52,
   "metadata": {
    "collapsed": false,
    "pycharm": {
     "name": "#%%\n"
    }
   },
   "outputs": [
    {
     "name": "stdout",
     "output_type": "stream",
     "text": [
      "Model: \"sequential_4\"\n",
      "_________________________________________________________________\n",
      " Layer (type)                Output Shape              Param #   \n",
      "=================================================================\n",
      " lstm_8 (LSTM)               (None, 1, 100)            40800     \n",
      "                                                                 \n",
      " dropout_8 (Dropout)         (None, 1, 100)            0         \n",
      "                                                                 \n",
      " lstm_9 (LSTM)               (None, 100)               80400     \n",
      "                                                                 \n",
      " dropout_9 (Dropout)         (None, 100)               0         \n",
      "                                                                 \n",
      " dense_4 (Dense)             (None, 1)                 101       \n",
      "                                                                 \n",
      "=================================================================\n",
      "Total params: 121,301\n",
      "Trainable params: 121,301\n",
      "Non-trainable params: 0\n",
      "_________________________________________________________________\n",
      "Epoch 1/50\n",
      "85/85 [==============================] - 5s 5ms/step - loss: 0.1989\n",
      "Epoch 2/50\n",
      "85/85 [==============================] - 0s 5ms/step - loss: 0.0103\n",
      "Epoch 3/50\n",
      "85/85 [==============================] - 0s 6ms/step - loss: 0.0055\n",
      "Epoch 4/50\n",
      "85/85 [==============================] - 0s 5ms/step - loss: 0.0053\n",
      "Epoch 5/50\n",
      "85/85 [==============================] - 0s 5ms/step - loss: 0.0063\n",
      "Epoch 6/50\n",
      "85/85 [==============================] - 0s 5ms/step - loss: 0.0055\n",
      "Epoch 7/50\n",
      "85/85 [==============================] - 0s 5ms/step - loss: 0.0047\n",
      "Epoch 8/50\n",
      "85/85 [==============================] - 0s 4ms/step - loss: 0.0048\n",
      "Epoch 9/50\n",
      "85/85 [==============================] - 0s 5ms/step - loss: 0.0047\n",
      "Epoch 10/50\n",
      "85/85 [==============================] - 0s 5ms/step - loss: 0.0045\n",
      "Epoch 11/50\n",
      "85/85 [==============================] - 0s 5ms/step - loss: 0.0052\n",
      "Epoch 12/50\n",
      "85/85 [==============================] - 0s 4ms/step - loss: 0.0047\n",
      "Epoch 13/50\n",
      "85/85 [==============================] - 0s 5ms/step - loss: 0.0035\n",
      "Epoch 14/50\n",
      "85/85 [==============================] - 0s 5ms/step - loss: 0.0039\n",
      "Epoch 15/50\n",
      "85/85 [==============================] - 0s 5ms/step - loss: 0.0040\n",
      "Epoch 16/50\n",
      "85/85 [==============================] - 0s 5ms/step - loss: 0.0038\n",
      "Epoch 17/50\n",
      "85/85 [==============================] - 0s 6ms/step - loss: 0.0033\n",
      "Epoch 18/50\n",
      "85/85 [==============================] - 0s 5ms/step - loss: 0.0040\n",
      "Epoch 19/50\n",
      "85/85 [==============================] - 0s 5ms/step - loss: 0.0040\n",
      "Epoch 20/50\n",
      "85/85 [==============================] - 0s 5ms/step - loss: 0.0039\n",
      "Epoch 21/50\n",
      "85/85 [==============================] - 0s 5ms/step - loss: 0.0041\n",
      "Epoch 22/50\n",
      "85/85 [==============================] - 0s 4ms/step - loss: 0.0040\n",
      "Epoch 23/50\n",
      "85/85 [==============================] - 0s 4ms/step - loss: 0.0036\n",
      "Epoch 24/50\n",
      "85/85 [==============================] - 0s 4ms/step - loss: 0.0039\n",
      "Epoch 25/50\n",
      "85/85 [==============================] - 0s 4ms/step - loss: 0.0036\n",
      "Epoch 26/50\n",
      "85/85 [==============================] - 0s 4ms/step - loss: 0.0035\n",
      "Epoch 27/50\n",
      "85/85 [==============================] - 0s 4ms/step - loss: 0.0039\n",
      "Epoch 28/50\n",
      "85/85 [==============================] - 0s 4ms/step - loss: 0.0040\n",
      "Epoch 29/50\n",
      "85/85 [==============================] - 0s 4ms/step - loss: 0.0032\n",
      "Epoch 30/50\n",
      "85/85 [==============================] - 0s 4ms/step - loss: 0.0037\n",
      "Epoch 31/50\n",
      "85/85 [==============================] - 0s 4ms/step - loss: 0.0036\n",
      "Epoch 32/50\n",
      "85/85 [==============================] - 0s 4ms/step - loss: 0.0030\n",
      "Epoch 33/50\n",
      "85/85 [==============================] - 0s 4ms/step - loss: 0.0032\n",
      "Epoch 34/50\n",
      "85/85 [==============================] - 0s 5ms/step - loss: 0.0035\n",
      "Epoch 35/50\n",
      "85/85 [==============================] - 0s 5ms/step - loss: 0.0034\n",
      "Epoch 36/50\n",
      "85/85 [==============================] - 0s 4ms/step - loss: 0.0036\n",
      "Epoch 37/50\n",
      "85/85 [==============================] - 0s 4ms/step - loss: 0.0032\n",
      "Epoch 38/50\n",
      "85/85 [==============================] - 0s 4ms/step - loss: 0.0033\n",
      "Epoch 39/50\n",
      "85/85 [==============================] - 0s 4ms/step - loss: 0.0031\n",
      "Epoch 40/50\n",
      "85/85 [==============================] - 0s 5ms/step - loss: 0.0035\n",
      "Epoch 41/50\n",
      "85/85 [==============================] - 0s 5ms/step - loss: 0.0030\n",
      "Epoch 42/50\n",
      "85/85 [==============================] - 0s 5ms/step - loss: 0.0034\n",
      "Epoch 43/50\n",
      "85/85 [==============================] - 0s 5ms/step - loss: 0.0034\n",
      "Epoch 44/50\n",
      "85/85 [==============================] - 0s 6ms/step - loss: 0.0032\n",
      "Epoch 45/50\n",
      "85/85 [==============================] - 0s 4ms/step - loss: 0.0029\n",
      "Epoch 46/50\n",
      "85/85 [==============================] - 0s 4ms/step - loss: 0.0030\n",
      "Epoch 47/50\n",
      "85/85 [==============================] - 0s 4ms/step - loss: 0.0027\n",
      "Epoch 48/50\n",
      "85/85 [==============================] - 0s 4ms/step - loss: 0.0027\n",
      "Epoch 49/50\n",
      "85/85 [==============================] - 0s 4ms/step - loss: 0.0027\n",
      "Epoch 50/50\n",
      "85/85 [==============================] - 0s 4ms/step - loss: 0.0029\n"
     ]
    }
   ],
   "source": [
    "deaths_lstm_set = df_deaths_country.values[0]\n",
    "deaths_lstm_set = np.reshape(deaths_lstm_set, (len(deaths_lstm_set), 1))\n",
    "\n",
    "deaths_train, deaths_test, deaths_scaler = create_lstm_sets(deaths_lstm_set, time_steps)\n",
    "deaths_trainX, deaths_trainY = deaths_train\n",
    "deaths_testX, deaths_testY = deaths_test\n",
    "\n",
    "deaths_lstm = lstm_network(deaths_trainX, deaths_trainY, time_steps)"
   ]
  },
  {
   "cell_type": "markdown",
   "metadata": {
    "collapsed": false
   },
   "source": [
    "### Affichage des résultats"
   ]
  },
  {
   "cell_type": "code",
   "execution_count": 53,
   "metadata": {
    "collapsed": false,
    "pycharm": {
     "name": "#%%\n"
    }
   },
   "outputs": [
    {
     "data": {
      "image/png": "[encoded data removed]",
      "text/plain": [
       "<Figure size 432x288 with 1 Axes>"
      ]
     },
     "metadata": {
      "needs_background": "light"
     },
     "output_type": "display_data"
    },
    {
     "data": {
      "image/png": "[encoded data removed]",
      "text/plain": [
       "<Figure size 432x288 with 1 Axes>"
      ]
     },
     "metadata": {
      "needs_background": "light"
     },
     "output_type": "display_data"
    }
   ],
   "source": [
    "def display_plot_lstm(model, scaler, trainX, trainY, testX, testY, country, ord_context):\n",
    "  daysTrain = range(len(trainX))\n",
    "  daysTest = np.array(range(len(testX))) + len(daysTrain)\n",
    "  plt.plot(daysTrain, scaler.inverse_transform(model.predict(trainX)), '-', label=\"Prédiction sur jeu d'entraînement\")\n",
    "  plt.plot(daysTrain, scaler.inverse_transform(np.reshape(trainY, (-1, 1))), '-', label=\"Réalité sur jeu d'entraînement\")\n",
    "\n",
    "  plt.plot(daysTest, scaler.inverse_transform(model.predict(testX)), '-', label=\"Prédiction sur jeu de test\")\n",
    "  plt.plot(daysTest, scaler.inverse_transform(np.reshape(testY, (-1, 1))), '-', label=\"Réalité sur jeu de test\")\n",
    "\n",
    "  plt.axvline(len(trainX), 0, 1)\n",
    "  plt.legend()\n",
    "  plt.title(\"Nombre de \" + ord_context + \" pour : \" + country)\n",
    "  plt.xlabel(\"Nombre de jours\")\n",
    "  plt.ylabel(\"Nombre de \" + ord_context)\n",
    "  plt.show()\n",
    "\n",
    "display_plot_lstm(confirmed_lstm, confirmed_scaler, confirmed_trainX, confirmed_trainY, confirmed_testX, confirmed_testY, country, \"cas\")\n",
    "display_plot_lstm(deaths_lstm, deaths_scaler, deaths_trainX, deaths_trainY, deaths_testX, deaths_testY, country, \"morts\")"
   ]
  },
  {
   "cell_type": "code",
   "execution_count": 54,
   "metadata": {},
   "outputs": [
    {
     "name": "stdout",
     "output_type": "stream",
     "text": [
      "[[0.5]]\n",
      "506\n",
      "[[0.4828015]]\n",
      "[[0.46656108]]\n",
      "[[0.45119035]]\n",
      "[[0.4366119]]\n",
      "[[0.4227571]]\n",
      "[[0.40956634]]\n",
      "[[0.396986]]\n",
      "[[0.38496864]]\n",
      "[[0.37347198]]\n",
      "[[0.36245775]]\n",
      "[[0.3518917]]\n",
      "[[0.3417431]]\n",
      "[[0.33198392]]\n",
      "[[0.3225888]]\n",
      "[[0.31353468]]\n",
      "[[0.30480057]]\n",
      "[[0.29636678]]\n",
      "[[0.288216]]\n",
      "[[0.28033164]]\n",
      "[[0.2726992]]\n",
      "[[0.26530457]]\n",
      "[[0.2581353]]\n",
      "[[0.2511794]]\n",
      "[[0.24442595]]\n",
      "[[0.2378647]]\n",
      "[[0.23148632]]\n",
      "[[0.22528201]]\n",
      "[[0.21924365]]\n",
      "[[0.21336356]]\n",
      "[[0.20763454]]\n",
      "[[0.20204985]]\n",
      "[[0.19660315]]\n",
      "[[0.19128868]]\n",
      "[[0.18610087]]\n",
      "[[0.18103436]]\n",
      "[[0.17608425]]\n",
      "[[0.17124593]]\n",
      "[[0.16651502]]\n",
      "[[0.16188756]]\n",
      "[[0.15735939]]\n",
      "[[0.15292683]]\n",
      "[[0.14858648]]\n",
      "[[0.14433494]]\n",
      "[[0.14016908]]\n",
      "[[0.13608599]]\n",
      "[[0.13208264]]\n",
      "[[0.12815648]]\n",
      "[[0.12430489]]\n",
      "[[0.12052533]]\n",
      "[[0.11681545]]\n",
      "[[0.11317316]]\n",
      "[[0.10959631]]\n",
      "[[0.10608283]]\n",
      "[[0.10263079]]\n",
      "[[0.09923837]]\n",
      "[[0.09590364]]\n",
      "[[0.09262505]]\n",
      "[[0.08940095]]\n",
      "[[0.0862298]]\n",
      "[[0.08311006]]\n",
      "[[0.08004028]]\n",
      "[[0.07701907]]\n",
      "[[0.07404515]]\n",
      "[[0.07111725]]\n",
      "[[0.06823412]]\n",
      "[[0.0653946]]\n",
      "[[0.06259759]]\n",
      "[[0.05984199]]\n",
      "[[0.05712675]]\n",
      "[[0.05445084]]\n",
      "[[0.0518133]]\n",
      "[[0.04921319]]\n",
      "[[0.04664961]]\n",
      "[[0.04412168]]\n",
      "[[0.0416286]]\n",
      "[[0.03916954]]\n",
      "[[0.03674373]]\n",
      "[[0.03435038]]\n",
      "[[0.0319887]]\n",
      "[[0.02965806]]\n",
      "[[0.02735777]]\n",
      "[[0.02508721]]\n",
      "[[0.02284569]]\n",
      "[[0.02063257]]\n",
      "[[0.01844727]]\n",
      "[[0.01628923]]\n",
      "[[0.01415785]]\n",
      "[[0.01205255]]\n",
      "[[0.00997284]]\n",
      "[[0.00791827]]\n",
      "[[0.00588825]]\n",
      "[[0.00388239]]\n",
      "[[0.00190011]]\n",
      "[[-5.8993697e-05]]\n",
      "[[-0.00199537]]\n",
      "[[-0.00390945]]\n",
      "[[-0.00580166]]\n",
      "[[-0.0076724]]\n",
      "[[-0.00952205]]\n",
      "[[-0.01135102]]\n",
      "[[-0.01315969]]\n",
      "[[-0.01494834]]\n",
      "[[-0.01671743]]\n",
      "[[-0.01846723]]\n",
      "[[-0.02019814]]\n",
      "[[-0.02191044]]\n",
      "[[-0.02360447]]\n",
      "[[-0.02528054]]\n",
      "[[-0.02693897]]\n",
      "[[-0.02858001]]\n",
      "[[-0.03020398]]\n",
      "[[-0.03181118]]\n",
      "[[-0.03340179]]\n",
      "[[-0.03497612]]\n",
      "[[-0.03653447]]\n",
      "[[-0.03807712]]\n",
      "[[-0.03960423]]\n",
      "[[-0.0411161]]\n",
      "[[-0.0426129]]\n",
      "[[-0.04409494]]\n"
     ]
    }
   ],
   "source": [
    "days = 120\n",
    "predictions = []\n",
    "test = [[0.5]]\n",
    "print(test)\n",
    "start_day = len(confirmed_trainX)\n",
    "print(start_day)\n",
    "for i in range(days):\n",
    "    pred = confirmed_lstm.predict(test)\n",
    "    predictions.append(pred)\n",
    "    test = pred\n",
    "    print(test)"
   ]
  },
  {
   "cell_type": "markdown",
   "metadata": {},
   "source": [
    "# Variables multi-dimensionnelles"
   ]
  },
  {
   "cell_type": "code",
   "execution_count": 122,
   "metadata": {},
   "outputs": [],
   "source": [
    "time_steps = 12\n",
    "n_features = 2"
   ]
  },
  {
   "cell_type": "markdown",
   "metadata": {},
   "source": [
    "### Get new data\n"
   ]
  },
  {
   "cell_type": "code",
   "execution_count": 123,
   "metadata": {},
   "outputs": [],
   "source": [
    "df_raw_stringency_index = pd.read_csv(\"covid-stringency-index.csv\")\n",
    "df_raw_stringency_index_country = df_raw_stringency_index[df_raw_stringency_index[\"Entity\"] == country]\n",
    "df_stringency_index_country = df_raw_stringency_index_country.drop(columns=[\"Entity\", \"Code\"])\n",
    "df_stringency_index_country.drop(index=df_stringency_index_country.index[0], axis=0, inplace=True)\n",
    "\n",
    "stringency_index_values = list(df_stringency_index_country.stringency_index)[:len(confirmed_country_values)]\n",
    "stringency_index_days = [i for i in range(df_stringency_index_country.Day.size)]"
   ]
  },
  {
   "cell_type": "markdown",
   "metadata": {},
   "source": [
    "### Adjust some data length (all equal)"
   ]
  },
  {
   "cell_type": "code",
   "execution_count": 124,
   "metadata": {},
   "outputs": [],
   "source": [
    "confirmed_country_values = confirmed_country_values[:len(stringency_index_values)]\n",
    "confirmed_country_days = confirmed_country_days[:len(stringency_index_values)]\n",
    "\n",
    "deaths_country_values = deaths_country_values[:len(stringency_index_values)]\n",
    "deaths_country_days = deaths_country_days[:len(stringency_index_values)]"
   ]
  },
  {
   "cell_type": "markdown",
   "metadata": {},
   "source": [
    "### Print on a plot"
   ]
  },
  {
   "cell_type": "code",
   "execution_count": 125,
   "metadata": {},
   "outputs": [
    {
     "data": {
      "image/png": "[encoded data removed]",
      "text/plain": [
       "<Figure size 432x288 with 1 Axes>"
      ]
     },
     "metadata": {
      "needs_background": "light"
     },
     "output_type": "display_data"
    },
    {
     "data": {
      "image/png": "[encoded data removed]",
      "text/plain": [
       "<Figure size 432x288 with 1 Axes>"
      ]
     },
     "metadata": {
      "needs_background": "light"
     },
     "output_type": "display_data"
    }
   ],
   "source": [
    "plt.plot(confirmed_country_days, confirmed_country_values, '.-')\n",
    "plt.title(\"Nombre de cas confirmés pour : \" + country)\n",
    "plt.xlabel(\"Nombre de jours\")\n",
    "plt.ylabel(\"Nombre de cas\")\n",
    "plt.show()\n",
    "\n",
    "plt.plot(stringency_index_days, stringency_index_values, '.-')\n",
    "plt.title(\"Indice de stringency pour : \" + country)\n",
    "plt.xlabel(\"Nombre de jours\")\n",
    "plt.ylabel(\"Indice de stringency\")\n",
    "plt.show()"
   ]
  },
  {
   "cell_type": "markdown",
   "metadata": {},
   "source": [
    "### Create data sets"
   ]
  },
  {
   "cell_type": "code",
   "execution_count": 126,
   "metadata": {},
   "outputs": [],
   "source": [
    "# Scaled values\n",
    "confirmed_scaler = MinMaxScaler((-1, 1))\n",
    "deaths_scaler = MinMaxScaler((-1, 1))\n",
    "stringency_scaler = MinMaxScaler((-1, 1))\n",
    "\n",
    "confirmed_scaler.fit(confirmed_country_values.reshape((-1, 1)))\n",
    "scaled_confirmed = confirmed_scaler.transform(confirmed_country_values.reshape((-1, 1))).reshape((-1,))\n",
    "\n",
    "deaths_scaler.fit(deaths_country_values.reshape((-1, 1)))\n",
    "scaled_deaths = deaths_scaler.transform(deaths_country_values.reshape((-1, 1))).reshape((-1,))\n",
    "\n",
    "stringency_scaler.fit(np.array(stringency_index_values).reshape((-1, 1)))\n",
    "scaled_stringency = stringency_scaler.transform(np.array(stringency_index_values).reshape((-1, 1))).reshape((-1,))"
   ]
  },
  {
   "cell_type": "code",
   "execution_count": 127,
   "metadata": {},
   "outputs": [],
   "source": [
    "multi_data = list(zip(scaled_confirmed, scaled_stringency))"
   ]
  },
  {
   "cell_type": "code",
   "execution_count": 128,
   "metadata": {},
   "outputs": [],
   "source": [
    "multi_train, multi_test, _ = create_lstm_sets(multi_data, time_steps, scale=False, train_percent=0.70)\n",
    "multi_trainX, multi_trainY = multi_train\n",
    "multi_testX, multi_testY = multi_test"
   ]
  },
  {
   "cell_type": "code",
   "execution_count": 129,
   "metadata": {},
   "outputs": [],
   "source": [
    "def lstm_network_multi(X, Y, time_steps=1, n_features=1):\n",
    "  model = kr.Sequential()\n",
    "  model.add(kr.layers.LSTM(200, input_shape=(time_steps, n_features), return_sequences=True)) #return_sequences=True\n",
    "  model.add(kr.layers.Dropout(0.1))\n",
    "  model.add(kr.layers.LSTM(400))\n",
    "  model.add(kr.layers.Dropout(0.1))\n",
    "  model.add(kr.layers.Dense(1))\n",
    "  opt = tf.keras.optimizers.Adam(learning_rate=0.0001)\n",
    "  model.compile(loss='mean_squared_error', optimizer=opt)\n",
    "  model.summary()\n",
    "  model.fit(X, Y, epochs=20, batch_size=6);\n",
    "  return model"
   ]
  },
  {
   "cell_type": "code",
   "execution_count": 130,
   "metadata": {},
   "outputs": [
    {
     "name": "stdout",
     "output_type": "stream",
     "text": [
      "Model: \"sequential_9\"\n",
      "_________________________________________________________________\n",
      " Layer (type)                Output Shape              Param #   \n",
      "=================================================================\n",
      " lstm_18 (LSTM)              (None, 12, 200)           162400    \n",
      "                                                                 \n",
      " dropout_18 (Dropout)        (None, 12, 200)           0         \n",
      "                                                                 \n",
      " lstm_19 (LSTM)              (None, 400)               961600    \n",
      "                                                                 \n",
      " dropout_19 (Dropout)        (None, 400)               0         \n",
      "                                                                 \n",
      " dense_9 (Dense)             (None, 1)                 401       \n",
      "                                                                 \n",
      "=================================================================\n",
      "Total params: 1,124,401\n",
      "Trainable params: 1,124,401\n",
      "Non-trainable params: 0\n",
      "_________________________________________________________________\n",
      "Epoch 1/20\n",
      "76/76 [==============================] - 9s 66ms/step - loss: 0.0614\n",
      "Epoch 2/20\n",
      "76/76 [==============================] - 4s 59ms/step - loss: 9.6571e-04\n",
      "Epoch 3/20\n",
      "76/76 [==============================] - 5s 59ms/step - loss: 8.9964e-04\n",
      "Epoch 4/20\n",
      "76/76 [==============================] - 4s 56ms/step - loss: 7.5916e-04\n",
      "Epoch 5/20\n",
      "76/76 [==============================] - 5s 59ms/step - loss: 6.8504e-04\n",
      "Epoch 6/20\n",
      "76/76 [==============================] - 4s 57ms/step - loss: 8.0665e-04\n",
      "Epoch 7/20\n",
      "76/76 [==============================] - 5s 69ms/step - loss: 7.4794e-04\n",
      "Epoch 8/20\n",
      "76/76 [==============================] - 5s 66ms/step - loss: 6.7240e-04\n",
      "Epoch 9/20\n",
      "76/76 [==============================] - 5s 59ms/step - loss: 8.5277e-04\n",
      "Epoch 10/20\n",
      "76/76 [==============================] - 5s 62ms/step - loss: 7.8475e-04\n",
      "Epoch 11/20\n",
      "76/76 [==============================] - 4s 55ms/step - loss: 8.6100e-04\n",
      "Epoch 12/20\n",
      "76/76 [==============================] - 4s 50ms/step - loss: 8.1589e-04\n",
      "Epoch 13/20\n",
      "76/76 [==============================] - 4s 48ms/step - loss: 6.6999e-04\n",
      "Epoch 14/20\n",
      "76/76 [==============================] - 4s 47ms/step - loss: 7.3928e-04\n",
      "Epoch 15/20\n",
      "76/76 [==============================] - 4s 47ms/step - loss: 9.8233e-04\n",
      "Epoch 16/20\n",
      "76/76 [==============================] - 4s 47ms/step - loss: 7.1718e-04\n",
      "Epoch 17/20\n",
      "76/76 [==============================] - 4s 47ms/step - loss: 8.4519e-04\n",
      "Epoch 18/20\n",
      "76/76 [==============================] - 4s 47ms/step - loss: 7.5959e-04\n",
      "Epoch 19/20\n",
      "76/76 [==============================] - 4s 49ms/step - loss: 6.7437e-04\n",
      "Epoch 20/20\n",
      "76/76 [==============================] - 4s 47ms/step - loss: 6.8980e-04\n"
     ]
    }
   ],
   "source": [
    "multi_lstm = lstm_network_multi(multi_trainX, multi_trainY, time_steps, n_features)"
   ]
  },
  {
   "cell_type": "code",
   "execution_count": 131,
   "metadata": {},
   "outputs": [
    {
     "data": {
      "image/png": "[encoded data removed]",
      "text/plain": [
       "<Figure size 432x288 with 1 Axes>"
      ]
     },
     "metadata": {
      "needs_background": "light"
     },
     "output_type": "display_data"
    }
   ],
   "source": [
    "display_plot_lstm(multi_lstm, deaths_scaler, multi_trainX, multi_trainY, multi_testX, multi_testY, country, \"cas\")"
   ]
  },
  {
   "cell_type": "code",
   "execution_count": 132,
   "metadata": {},
   "outputs": [
    {
     "name": "stdout",
     "output_type": "stream",
     "text": [
      "455\n",
      "[[[0.55411063 1.        ]\n",
      "  [0.55959575 1.        ]\n",
      "  [0.56459634 1.        ]\n",
      "  [0.56879245 1.        ]\n",
      "  [0.57427299 1.        ]\n",
      "  [0.57834569 1.        ]\n",
      "  [0.58277492 1.        ]\n",
      "  [0.58772523 1.        ]\n",
      "  [0.59261612 1.        ]\n",
      "  [0.59771271 1.        ]\n",
      "  [0.60307441 1.        ]\n",
      "  [0.60727966 1.        ]]]\n",
      "[[0.5825086]]\n",
      "[[0.5854563]]\n",
      "[[0.5872677]]\n",
      "[[0.58822876]]\n",
      "[[0.588583]]\n",
      "[[0.5884095]]\n",
      "[[0.5878938]]\n",
      "[[0.58708966]]\n",
      "[[0.5860213]]\n",
      "[[0.58472884]]\n",
      "[[0.58322555]]\n",
      "[[0.5815155]]\n",
      "[[0.57967323]]\n",
      "[[0.57947654]]\n",
      "[[0.5789741]]\n",
      "[[0.57827556]]\n",
      "[[0.5774581]]\n",
      "[[0.5765741]]\n",
      "[[0.57566327]]\n",
      "[[0.5747486]]\n",
      "[[0.573847]]\n",
      "[[0.57297105]]\n",
      "[[0.5721302]]\n",
      "[[0.57133335]]\n",
      "[[0.5705871]]\n",
      "[[0.5698953]]\n",
      "[[0.56916803]]\n",
      "[[0.5684298]]\n",
      "[[0.56769395]]\n",
      "[[0.5669688]]\n",
      "[[0.5662581]]\n",
      "[[0.56556374]]\n",
      "[[0.5648849]]\n",
      "[[0.5642213]]\n",
      "[[0.56357235]]\n",
      "[[0.5629354]]\n",
      "[[0.56230944]]\n",
      "[[0.5616916]]\n",
      "[[0.56108075]]\n",
      "[[0.56047934]]\n",
      "[[0.55988836]]\n",
      "[[0.5593083]]\n",
      "[[0.5587391]]\n",
      "[[0.55818]]\n",
      "[[0.5576305]]\n",
      "[[0.5570906]]\n",
      "[[0.5565596]]\n",
      "[[0.55603737]]\n",
      "[[0.55552346]]\n",
      "[[0.5550184]]\n",
      "[[0.55452126]]\n",
      "[[0.5540332]]\n",
      "[[0.5535531]]\n",
      "[[0.55308133]]\n",
      "[[0.5526175]]\n",
      "[[0.55216146]]\n",
      "[[0.5517128]]\n",
      "[[0.5512719]]\n",
      "[[0.5508383]]\n",
      "[[0.55041164]]\n",
      "[[0.5499926]]\n",
      "[[0.54958]]\n",
      "[[0.54917485]]\n",
      "[[0.54877615]]\n",
      "[[0.548384]]\n",
      "[[0.5479986]]\n",
      "[[0.5476197]]\n",
      "[[0.547247]]\n",
      "[[0.5468803]]\n",
      "[[0.5465199]]\n",
      "[[0.5461654]]\n",
      "[[0.54581696]]\n",
      "[[0.5454742]]\n",
      "[[0.5451369]]\n",
      "[[0.54480535]]\n",
      "[[0.5444792]]\n",
      "[[0.54415846]]\n",
      "[[0.5447097]]\n",
      "[[0.5458805]]\n",
      "[[0.547424]]\n",
      "[[0.5491834]]\n",
      "[[0.55106175]]\n",
      "[[0.55300385]]\n",
      "[[0.55498016]]\n",
      "[[0.5569762]]\n",
      "[[0.5589869]]\n",
      "[[0.5610115]]\n",
      "[[0.5630497]]\n",
      "[[0.5650982]]\n",
      "[[0.5666748]]\n",
      "[[0.56834054]]\n",
      "[[0.57004374]]\n",
      "[[0.57175344]]\n",
      "[[0.57345146]]\n",
      "[[0.5751288]]\n",
      "[[0.57677954]]\n",
      "[[0.5784008]]\n",
      "[[0.57999104]]\n",
      "[[0.5815495]]\n",
      "[[0.58307385]]\n",
      "[[0.58456486]]\n",
      "[[0.5860193]]\n",
      "[[0.5874637]]\n",
      "[[0.5888893]]\n",
      "[[0.59029216]]\n",
      "[[0.5916706]]\n",
      "[[0.5930243]]\n",
      "[[0.59435356]]\n",
      "[[0.59565854]]\n",
      "[[0.59694004]]\n",
      "[[0.5981988]]\n",
      "[[0.59943527]]\n",
      "[[0.60064995]]\n",
      "[[0.6018449]]\n",
      "[[0.60301864]]\n",
      "[[0.6041726]]\n",
      "[[0.6053057]]\n",
      "[[0.60641855]]\n",
      "[[0.607511]]\n",
      "[[0.6085844]]\n",
      "[[0.6096389]]\n",
      "[[0.6106741]]\n",
      "[[0.61169106]]\n",
      "[[0.6126902]]\n",
      "[[0.6136712]]\n",
      "[[0.6146348]]\n",
      "[[0.6155808]]\n",
      "[[0.61651015]]\n",
      "[[0.6174224]]\n",
      "[[0.6183183]]\n",
      "[[0.6191979]]\n",
      "[[0.6200617]]\n",
      "[[0.62090963]]\n",
      "[[0.6217424]]\n",
      "[[0.62256014]]\n",
      "[[0.62336266]]\n",
      "[[0.62415093]]\n",
      "[[0.6249244]]\n",
      "[[0.625684]]\n",
      "[[0.6264293]]\n",
      "[[0.6271617]]\n",
      "[[0.6278803]]\n",
      "[[0.6285851]]\n",
      "[[0.62927765]]\n",
      "[[0.6299572]]\n",
      "[[0.63062435]]\n",
      "[[0.6312793]]\n",
      "[[0.6319217]]\n",
      "[[0.6325522]]\n",
      "[[0.63317156]]\n"
     ]
    }
   ],
   "source": [
    "n_days = 150\n",
    "predictions = []\n",
    "test = multi_trainX[-1]\n",
    "test = test.reshape(-1, time_steps, n_features)\n",
    "start_day = len(multi_trainX)\n",
    "print(start_day)\n",
    "print(test)\n",
    "for i in range(n_days):\n",
    "    pred = multi_lstm.predict(test)\n",
    "    predictions.append(pred[0][0])\n",
    "    \n",
    "    old = test[0][0]\n",
    "    test = np.delete(test[0], 0, axis=0)\n",
    "\n",
    "    indice = stringency_scaler.transform([[70]])\n",
    "    if i > 75:\n",
    "        indice = stringency_scaler.transform([[80]])\n",
    "\n",
    "    test = np.append(test, [pred[0][0], indice[0][0]]).reshape(-1, time_steps, n_features)\n",
    "\n",
    "    print(pred)"
   ]
  },
  {
   "cell_type": "code",
   "execution_count": 133,
   "metadata": {},
   "outputs": [],
   "source": [
    "predicted_plot = np.concatenate((confirmed_scaler.transform(confirmed_country_values[:start_day].reshape((-1, 1))).reshape((-1,)), predictions))\n",
    "predicted_plot = confirmed_scaler.inverse_transform(predicted_plot.reshape((-1, 1)))\n",
    "\n",
    "days = np.concatenate((list(range(start_day)), np.array([day for day in range(start_day, start_day+n_days)])))"
   ]
  },
  {
   "cell_type": "code",
   "execution_count": 134,
   "metadata": {},
   "outputs": [
    {
     "data": {
      "image/png": "[encoded data removed]",
      "text/plain": [
       "<Figure size 432x288 with 1 Axes>"
      ]
     },
     "metadata": {
      "needs_background": "light"
     },
     "output_type": "display_data"
    }
   ],
   "source": [
    "plt.plot(days, predicted_plot, '-', label=\"Prédiction\")\n",
    "plt.plot(days, confirmed_country_values[:start_day+n_days], '-', label=\"Réalité\")\n",
    "plt.legend()\n",
    "plt.axvline(start_day)\n",
    "plt.title(\"Nombre de cas confirmés pour : \" + country)\n",
    "plt.xlabel(\"Nombre de jours\")\n",
    "plt.ylabel(\"Nombre de cas\")\n",
    "plt.show()"
   ]
  },
  {
   "cell_type": "code",
   "execution_count": null,
   "metadata": {},
   "outputs": [],
   "source": []
  }
 ],
 "metadata": {
  "interpreter": {
   "hash": "7131807ce35ac9e736e77ee5c468af6a0125a9e761140560e4dc712dc1cce710"
  },
  "kernelspec": {
   "display_name": "Python 3.9.0 64-bit",
   "language": "python",
   "name": "python3"
  },
  "language_info": {
   "codemirror_mode": {
    "name": "ipython",
    "version": 3
   },
   "file_extension": ".py",
   "mimetype": "text/x-python",
   "name": "python",
   "nbconvert_exporter": "python",
   "pygments_lexer": "ipython3",
   "version": "3.9.8"
  },
  "orig_nbformat": 4
 },
 "nbformat": 4,
 "nbformat_minor": 2
}
