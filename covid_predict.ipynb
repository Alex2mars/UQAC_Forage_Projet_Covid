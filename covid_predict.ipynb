{
 "cells": [
  {
   "cell_type": "markdown",
   "metadata": {},
   "source": [
    "# Projet de prédiction des données liées au Covid"
   ]
  },
  {
   "cell_type": "markdown",
   "metadata": {},
   "source": [
    "Imports"
   ]
  },
  {
   "cell_type": "code",
   "execution_count": 1,
   "metadata": {},
   "outputs": [],
   "source": [
    "import pandas as pd\n",
    "import matplotlib.pyplot as plt\n",
    "\n",
    "import plotly.io as pio\n",
    "pio.renderers.default = 'iframe_connected'"
   ]
  },
  {
   "cell_type": "code",
   "execution_count": 2,
   "metadata": {},
   "outputs": [],
   "source": [
    "df_raw_confirmed_global = pd.read_csv(\"https://raw.githubusercontent.com/CSSEGISandData/COVID-19/master/csse_covid_19_data/csse_covid_19_time_series/time_series_covid19_confirmed_global.csv\")\n",
    "df_raw_deaths_global = pd.read_csv(\"https://raw.githubusercontent.com/CSSEGISandData/COVID-19/master/csse_covid_19_data/csse_covid_19_time_series/time_series_covid19_deaths_global.csv\")\n",
    "df_raw_vaccination_global = pd.read_csv(\"https://raw.githubusercontent.com/owid/covid-19-data/master/public/data/vaccinations/vaccinations.csv\")\n",
    "df_raw_vaccination_global=df_raw_vaccination_global.drop(columns=[\"daily_vaccinations_per_million\",\"total_boosters_per_hundred\",\"daily_vaccinations_raw\",\"total_boosters\",\"people_fully_vaccinated_per_hundred\",\"daily_people_vaccinated_per_hundred\",\"people_vaccinated\", \"total_vaccinations\", \"daily_people_vaccinated\", \"people_fully_vaccinated\",\"total_vaccinations_per_hundred\",\"people_vaccinated_per_hundred\"])\n"
   ]
  },
  {
   "cell_type": "markdown",
   "metadata": {},
   "source": []
  },
  {
   "cell_type": "code",
   "execution_count": 3,
   "metadata": {},
   "outputs": [],
   "source": [
    "# Choose latitude and longitude for the chosen country\n",
    "lat_min = 41.317\n",
    "lat_max = 51.07167\n",
    "long_min = -5.14028\n",
    "long_max = 9.51333"
   ]
  },
  {
   "cell_type": "code",
   "execution_count": 4,
   "metadata": {},
   "outputs": [],
   "source": [
    "# Function to filter elements by latitude/longitude\n",
    "def check_lat_long(df, lat_min, lat_max, long_min, long_max):\n",
    "   return df[(df[\"Lat\"] > lat_min) & (df[\"Lat\"] < lat_max) & (df[\"Long\"] > long_min) & (df[\"Long\"] < long_max)]"
   ]
  },
  {
   "cell_type": "code",
   "execution_count": 5,
   "metadata": {},
   "outputs": [],
   "source": [
    "country = \"France\"\n",
    "\n",
    "df_raw_confirmed_country = df_raw_confirmed_global[df_raw_confirmed_global[\"Country/Region\"] == country]\n",
    "df_raw_deaths_country = df_raw_deaths_global[df_raw_deaths_global[\"Country/Region\"] == country]\n",
    "df_raw_vaccination_country = df_raw_vaccination_global[df_raw_vaccination_global[\"location\"] == country]\n",
    "#df_confirmed_country = df_raw_confirmed_country\n",
    "#df_deaths_country = df_raw_deaths_country\n",
    "df_confirmed_country = check_lat_long(df_raw_confirmed_country, lat_min ,lat_max ,long_min, long_max)\n",
    "df_deaths_country = check_lat_long(df_raw_deaths_country, lat_min, lat_max, long_min, long_max)"
   ]
  },
  {
   "cell_type": "code",
   "execution_count": 6,
   "metadata": {},
   "outputs": [
    {
     "data": {
      "text/html": [
       "<div>\n",
       "<style scoped>\n",
       "    .dataframe tbody tr th:only-of-type {\n",
       "        vertical-align: middle;\n",
       "    }\n",
       "\n",
       "    .dataframe tbody tr th {\n",
       "        vertical-align: top;\n",
       "    }\n",
       "\n",
       "    .dataframe thead th {\n",
       "        text-align: right;\n",
       "    }\n",
       "</style>\n",
       "<table border=\"1\" class=\"dataframe\">\n",
       "  <thead>\n",
       "    <tr style=\"text-align: right;\">\n",
       "      <th></th>\n",
       "      <th>0</th>\n",
       "      <th>1</th>\n",
       "      <th>2</th>\n",
       "      <th>3</th>\n",
       "      <th>4</th>\n",
       "      <th>5</th>\n",
       "      <th>6</th>\n",
       "      <th>7</th>\n",
       "      <th>8</th>\n",
       "      <th>9</th>\n",
       "      <th>...</th>\n",
       "      <th>666</th>\n",
       "      <th>667</th>\n",
       "      <th>668</th>\n",
       "      <th>669</th>\n",
       "      <th>670</th>\n",
       "      <th>671</th>\n",
       "      <th>672</th>\n",
       "      <th>673</th>\n",
       "      <th>674</th>\n",
       "      <th>675</th>\n",
       "    </tr>\n",
       "  </thead>\n",
       "  <tbody>\n",
       "    <tr>\n",
       "      <th>130</th>\n",
       "      <td>0</td>\n",
       "      <td>0</td>\n",
       "      <td>2</td>\n",
       "      <td>3</td>\n",
       "      <td>3</td>\n",
       "      <td>3</td>\n",
       "      <td>4</td>\n",
       "      <td>5</td>\n",
       "      <td>5</td>\n",
       "      <td>5</td>\n",
       "      <td>...</td>\n",
       "      <td>7168026</td>\n",
       "      <td>7188721</td>\n",
       "      <td>7211399</td>\n",
       "      <td>7231148</td>\n",
       "      <td>7235966</td>\n",
       "      <td>7266361</td>\n",
       "      <td>7296757</td>\n",
       "      <td>7330086</td>\n",
       "      <td>7364380</td>\n",
       "      <td>7364380</td>\n",
       "    </tr>\n",
       "  </tbody>\n",
       "</table>\n",
       "<p>1 rows × 676 columns</p>\n",
       "</div>"
      ],
      "text/plain": [
       "     0    1    2    3    4    5    6    7    8    9    ...      666      667  \\\n",
       "130    0    0    2    3    3    3    4    5    5    5  ...  7168026  7188721   \n",
       "\n",
       "         668      669      670      671      672      673      674      675  \n",
       "130  7211399  7231148  7235966  7266361  7296757  7330086  7364380  7364380  \n",
       "\n",
       "[1 rows x 676 columns]"
      ]
     },
     "execution_count": 6,
     "metadata": {},
     "output_type": "execute_result"
    }
   ],
   "source": [
    "uselessColumns = [\"Lat\", \"Long\", \"Province/State\", \"Country/Region\"]\n",
    "\n",
    "def columnsInNumbers(df):\n",
    "  df.columns = [i for i in range(len(df_confirmed_country.columns))]\n",
    "\n",
    "df_confirmed_country = df_confirmed_country.drop(columns=uselessColumns)\n",
    "df_deaths_country = df_deaths_country.drop(columns=uselessColumns)\n",
    "\n",
    "columnsInNumbers(df_confirmed_country)\n",
    "columnsInNumbers(df_deaths_country)\n",
    "\n",
    "\n",
    "df_confirmed_country"
   ]
  },
  {
   "cell_type": "code",
   "execution_count": 7,
   "metadata": {},
   "outputs": [],
   "source": [
    "def get_values_and_days(df):\n",
    "  return (df.values[0], df.columns.to_list())\n",
    "\n",
    "confirmed_country_values, confirmed_country_days = get_values_and_days(df_confirmed_country)\n",
    "deaths_country_values, deaths_country_days = get_values_and_days(df_deaths_country)\n",
    "vaccination_index_values = list(df_raw_vaccination_country.daily_vaccinations)[:len(confirmed_country_values)]\n",
    "vaccination_index_days = [i for i in range(df_raw_vaccination_country.date.size)]\n"
   ]
  },
  {
   "cell_type": "code",
   "execution_count": 8,
   "metadata": {},
   "outputs": [
    {
     "data": {
      "image/png": "[encoded data removed]",
      "text/plain": [
       "<Figure size 432x288 with 1 Axes>"
      ]
     },
     "metadata": {
      "needs_background": "light"
     },
     "output_type": "display_data"
    },
    {
     "data": {
      "image/png": "[encoded data removed]",
      "text/plain": [
       "<Figure size 432x288 with 1 Axes>"
      ]
     },
     "metadata": {
      "needs_background": "light"
     },
     "output_type": "display_data"
    },
    {
     "data": {
      "image/png": "[encoded data removed]",
      "text/plain": [
       "<Figure size 432x288 with 1 Axes>"
      ]
     },
     "metadata": {
      "needs_background": "light"
     },
     "output_type": "display_data"
    }
   ],
   "source": [
    "plt.plot(confirmed_country_days, confirmed_country_values, '.-')\n",
    "plt.title(\"Nombre de cas confirmés pour : \" + country)\n",
    "plt.xlabel(\"Nombre de jours\")\n",
    "plt.ylabel(\"Nombre de cas\")\n",
    "plt.show()\n",
    "\n",
    "plt.plot(deaths_country_days, deaths_country_values, '.-')\n",
    "plt.title(\"Nombre de déces pour : \" + country)\n",
    "plt.xlabel(\"Nombre de jours\")\n",
    "plt.ylabel(\"Nombre de déces\")\n",
    "plt.show()\n",
    "\n",
    "plt.plot(vaccination_index_days, vaccination_index_values, '.-')\n",
    "plt.title(\"Nombre de vaccine pour : \" + country)\n",
    "plt.xlabel(\"Nombre de jours\")\n",
    "plt.ylabel(\"Nombre de vaccine\")\n",
    "plt.show()"
   ]
  },
  {
   "cell_type": "markdown",
   "metadata": {
    "pycharm": {
     "name": "#%% md\n"
    }
   },
   "source": [
    "Training and test sets\n"
   ]
  },
  {
   "cell_type": "code",
   "execution_count": 9,
   "metadata": {
    "collapsed": false,
    "pycharm": {
     "name": "#%%\n"
    }
   },
   "outputs": [],
   "source": [
    "from sklearn.model_selection import train_test_split\n",
    "\n",
    "confirmed_train, confirmed_test, confirmed_train_days, confirmed_test_days = train_test_split(confirmed_country_values, confirmed_country_days, test_size=0.30, shuffle=False)\n",
    "deaths_train, deaths_test, deaths_train_days, deaths_test_days = train_test_split(deaths_country_values, deaths_country_days, test_size=0.30, shuffle=False)"
   ]
  },
  {
   "cell_type": "markdown",
   "metadata": {
    "collapsed": false,
    "pycharm": {
     "name": "#%% md\n"
    }
   },
   "source": [
    "# Regression polynomiale (degré = 2)"
   ]
  },
  {
   "cell_type": "code",
   "execution_count": 10,
   "metadata": {
    "collapsed": false,
    "pycharm": {
     "name": "#%%\n"
    }
   },
   "outputs": [],
   "source": [
    "import numpy as np\n",
    "from sklearn import svm"
   ]
  },
  {
   "cell_type": "code",
   "execution_count": 11,
   "metadata": {
    "collapsed": false,
    "pycharm": {
     "name": "#%%\n"
    }
   },
   "outputs": [
    {
     "name": "stdout",
     "output_type": "stream",
     "text": [
      "Regression cas :  -7.018829295450718\n",
      "Regression morts :  -422.13088428886044\n"
     ]
    }
   ],
   "source": [
    "def regression(X, Y):\n",
    "  reg = svm.SVR(kernel='poly', C=1000, degree=2)\n",
    "  reg.fit(X, Y)\n",
    "  return reg\n",
    "\n",
    "reg_confirmed = regression(np.reshape(confirmed_train_days, newshape=(-1, 1)), confirmed_train)\n",
    "reg_deaths = regression(np.reshape(deaths_train_days, newshape=(-1, 1)), deaths_train)\n",
    "\n",
    "print(\"Regression cas : \", reg_confirmed.score(np.reshape(confirmed_test_days, newshape=(-1, 1)), confirmed_test))\n",
    "print(\"Regression morts : \", reg_deaths.score(np.reshape(deaths_test_days, newshape=(-1, 1)), deaths_test))"
   ]
  },
  {
   "cell_type": "markdown",
   "metadata": {
    "collapsed": false
   },
   "source": [
    "Visualisation des modèles"
   ]
  },
  {
   "cell_type": "code",
   "execution_count": 12,
   "metadata": {
    "collapsed": false,
    "pycharm": {
     "name": "#%%\n"
    }
   },
   "outputs": [
    {
     "data": {
      "image/png": "[encoded data removed]",
      "text/plain": [
       "<Figure size 432x288 with 1 Axes>"
      ]
     },
     "metadata": {
      "needs_background": "light"
     },
     "output_type": "display_data"
    },
    {
     "data": {
      "image/png": "[encoded data removed]",
      "text/plain": [
       "<Figure size 432x288 with 1 Axes>"
      ]
     },
     "metadata": {
      "needs_background": "light"
     },
     "output_type": "display_data"
    }
   ],
   "source": [
    "def display_plot(reg, X, Y, ord_context):\n",
    "  plt.plot(X, Y, '.-')\n",
    "  plt.plot(X, reg.predict(X), \"-\")\n",
    "  plt.title(\"Nombre de \" + ord_context + \" pour : \" + country)\n",
    "  plt.xlabel(\"Nombre de jours\")\n",
    "  plt.ylabel(\"Nombre de \" + ord_context)\n",
    "  plt.show()\n",
    "\n",
    "display_plot(reg_confirmed, np.reshape(confirmed_country_days, newshape=(-1, 1)), confirmed_country_values, \"cas\")\n",
    "display_plot(reg_deaths, np.reshape(deaths_country_days, newshape=(-1, 1)), deaths_country_values, \"morts\")"
   ]
  },
  {
   "cell_type": "markdown",
   "metadata": {
    "collapsed": false
   },
   "source": [
    "# Réseaux LSTM"
   ]
  },
  {
   "cell_type": "code",
   "execution_count": 13,
   "metadata": {
    "collapsed": false,
    "pycharm": {
     "name": "#%%\n"
    }
   },
   "outputs": [],
   "source": [
    "import tensorflow as tf\n",
    "import keras as kr\n",
    "from sklearn.preprocessing import MinMaxScaler"
   ]
  },
  {
   "cell_type": "code",
   "execution_count": 14,
   "metadata": {
    "collapsed": false,
    "pycharm": {
     "name": "#%%\n"
    }
   },
   "outputs": [],
   "source": [
    "def create_sequences(data, time_steps=1):\n",
    "  dataX, dataY = [], []\n",
    "  for i in range(len(data)-time_steps):\n",
    "    a = data[i:(i+time_steps)]\n",
    "    dataX.append(a)\n",
    "    dataY.append(data[i + time_steps][0])\n",
    "  return np.array(dataX), np.array(dataY)\n",
    "\n",
    "def create_lstm_sets(X, time_steps=1, scale=True, train_percent=0.75):\n",
    "  scaler=None\n",
    "  if scale:\n",
    "    scaler = MinMaxScaler(feature_range=(-1, 1))\n",
    "    scaler = scaler.fit(X)\n",
    "    scaled_X = scaler.transform(X)\n",
    "  else:\n",
    "    scaled_X = np.array(X)\n",
    "  train_size = int(len(scaled_X) * train_percent)\n",
    "  test_size = len(scaled_X) - train_size\n",
    "  train, test = scaled_X[0:train_size,:], scaled_X[train_size:len(scaled_X),:]\n",
    "  return create_sequences(train, time_steps), create_sequences(test, time_steps), scaler\n",
    "\n",
    "def lstm_network(X, Y, time_steps=1, n_features=1):\n",
    "  model = kr.Sequential()\n",
    "  model.add(kr.layers.LSTM(100, input_shape=(time_steps, n_features), return_sequences=True)) #return_sequences=True\n",
    "  model.add(kr.layers.Dropout(0.3))\n",
    "  model.add(kr.layers.LSTM(100))\n",
    "  model.add(kr.layers.Dropout(0.3))\n",
    "  model.add(kr.layers.Dense(1))\n",
    "  opt = tf.keras.optimizers.Adam(learning_rate=0.001)\n",
    "  model.compile(loss='mean_squared_error', optimizer=opt)\n",
    "  model.summary()\n",
    "  model.fit(X, Y, epochs=50, batch_size=6);\n",
    "  return model"
   ]
  },
  {
   "cell_type": "markdown",
   "metadata": {
    "collapsed": false
   },
   "source": [
    "## Variable monodimensionelle"
   ]
  },
  {
   "cell_type": "code",
   "execution_count": 15,
   "metadata": {
    "collapsed": false,
    "pycharm": {
     "name": "#%%\n"
    }
   },
   "outputs": [],
   "source": [
    "time_steps = 1\n",
    "n_features = 1"
   ]
  },
  {
   "cell_type": "markdown",
   "metadata": {
    "collapsed": false
   },
   "source": [
    "### Nombre de cas"
   ]
  },
  {
   "cell_type": "code",
   "execution_count": 16,
   "metadata": {
    "collapsed": false,
    "pycharm": {
     "name": "#%%\n"
    }
   },
   "outputs": [
    {
     "name": "stdout",
     "output_type": "stream",
     "text": [
      "Model: \"sequential\"\n",
      "_________________________________________________________________\n",
      " Layer (type)                Output Shape              Param #   \n",
      "=================================================================\n",
      " lstm (LSTM)                 (None, 1, 100)            40800     \n",
      "                                                                 \n",
      " dropout (Dropout)           (None, 1, 100)            0         \n",
      "                                                                 \n",
      " lstm_1 (LSTM)               (None, 100)               80400     \n",
      "                                                                 \n",
      " dropout_1 (Dropout)         (None, 100)               0         \n",
      "                                                                 \n",
      " dense (Dense)               (None, 1)                 101       \n",
      "                                                                 \n",
      "=================================================================\n",
      "Total params: 121,301\n",
      "Trainable params: 121,301\n",
      "Non-trainable params: 0\n",
      "_________________________________________________________________\n",
      "Epoch 1/50\n",
      "85/85 [==============================] - 5s 4ms/step - loss: 0.1886\n",
      "Epoch 2/50\n",
      "85/85 [==============================] - 0s 4ms/step - loss: 0.0112\n",
      "Epoch 3/50\n",
      "85/85 [==============================] - 0s 4ms/step - loss: 0.0061\n",
      "Epoch 4/50\n",
      "85/85 [==============================] - 0s 4ms/step - loss: 0.0054\n",
      "Epoch 5/50\n",
      "85/85 [==============================] - 0s 4ms/step - loss: 0.0052\n",
      "Epoch 6/50\n",
      "85/85 [==============================] - 0s 4ms/step - loss: 0.0046\n",
      "Epoch 7/50\n",
      "85/85 [==============================] - 0s 4ms/step - loss: 0.0057\n",
      "Epoch 8/50\n",
      "85/85 [==============================] - 0s 4ms/step - loss: 0.0045\n",
      "Epoch 9/50\n",
      "85/85 [==============================] - 0s 4ms/step - loss: 0.0051\n",
      "Epoch 10/50\n",
      "85/85 [==============================] - 0s 4ms/step - loss: 0.0042\n",
      "Epoch 11/50\n",
      "85/85 [==============================] - 0s 4ms/step - loss: 0.0043\n",
      "Epoch 12/50\n",
      "85/85 [==============================] - 0s 4ms/step - loss: 0.0046\n",
      "Epoch 13/50\n",
      "85/85 [==============================] - 0s 4ms/step - loss: 0.0047\n",
      "Epoch 14/50\n",
      "85/85 [==============================] - 0s 4ms/step - loss: 0.0039\n",
      "Epoch 15/50\n",
      "85/85 [==============================] - 0s 4ms/step - loss: 0.0048\n",
      "Epoch 16/50\n",
      "85/85 [==============================] - 0s 4ms/step - loss: 0.0040\n",
      "Epoch 17/50\n",
      "85/85 [==============================] - 0s 4ms/step - loss: 0.0042\n",
      "Epoch 18/50\n",
      "85/85 [==============================] - 0s 4ms/step - loss: 0.0038\n",
      "Epoch 19/50\n",
      "85/85 [==============================] - 0s 4ms/step - loss: 0.0041\n",
      "Epoch 20/50\n",
      "85/85 [==============================] - 0s 4ms/step - loss: 0.0043\n",
      "Epoch 21/50\n",
      "85/85 [==============================] - 0s 4ms/step - loss: 0.0041\n",
      "Epoch 22/50\n",
      "85/85 [==============================] - 0s 5ms/step - loss: 0.0039\n",
      "Epoch 23/50\n",
      "85/85 [==============================] - 0s 6ms/step - loss: 0.0041\n",
      "Epoch 24/50\n",
      "85/85 [==============================] - 1s 6ms/step - loss: 0.0037\n",
      "Epoch 25/50\n",
      "85/85 [==============================] - 0s 5ms/step - loss: 0.0033\n",
      "Epoch 26/50\n",
      "85/85 [==============================] - 0s 6ms/step - loss: 0.0041\n",
      "Epoch 27/50\n",
      "85/85 [==============================] - 0s 5ms/step - loss: 0.0035\n",
      "Epoch 28/50\n",
      "85/85 [==============================] - 0s 5ms/step - loss: 0.0037\n",
      "Epoch 29/50\n",
      "85/85 [==============================] - 0s 5ms/step - loss: 0.0031\n",
      "Epoch 30/50\n",
      "85/85 [==============================] - 0s 5ms/step - loss: 0.0037\n",
      "Epoch 31/50\n",
      "85/85 [==============================] - 0s 4ms/step - loss: 0.0035\n",
      "Epoch 32/50\n",
      "85/85 [==============================] - 0s 4ms/step - loss: 0.0037\n",
      "Epoch 33/50\n",
      "85/85 [==============================] - 0s 4ms/step - loss: 0.0032\n",
      "Epoch 34/50\n",
      "85/85 [==============================] - 0s 4ms/step - loss: 0.0030\n",
      "Epoch 35/50\n",
      "85/85 [==============================] - 0s 4ms/step - loss: 0.0035\n",
      "Epoch 36/50\n",
      "85/85 [==============================] - 0s 4ms/step - loss: 0.0028\n",
      "Epoch 37/50\n",
      "85/85 [==============================] - 0s 4ms/step - loss: 0.0036\n",
      "Epoch 38/50\n",
      "85/85 [==============================] - 0s 4ms/step - loss: 0.0033\n",
      "Epoch 39/50\n",
      "85/85 [==============================] - 0s 4ms/step - loss: 0.0038\n",
      "Epoch 40/50\n",
      "85/85 [==============================] - 0s 4ms/step - loss: 0.0035\n",
      "Epoch 41/50\n",
      "85/85 [==============================] - 0s 4ms/step - loss: 0.0035\n",
      "Epoch 42/50\n",
      "85/85 [==============================] - 0s 4ms/step - loss: 0.0035\n",
      "Epoch 43/50\n",
      "85/85 [==============================] - 0s 4ms/step - loss: 0.0038\n",
      "Epoch 44/50\n",
      "85/85 [==============================] - 0s 4ms/step - loss: 0.0030\n",
      "Epoch 45/50\n",
      "85/85 [==============================] - 0s 4ms/step - loss: 0.0036\n",
      "Epoch 46/50\n",
      "85/85 [==============================] - 0s 4ms/step - loss: 0.0032\n",
      "Epoch 47/50\n",
      "85/85 [==============================] - 0s 4ms/step - loss: 0.0031\n",
      "Epoch 48/50\n",
      "85/85 [==============================] - 0s 4ms/step - loss: 0.0035\n",
      "Epoch 49/50\n",
      "85/85 [==============================] - 0s 4ms/step - loss: 0.0033\n",
      "Epoch 50/50\n",
      "85/85 [==============================] - 0s 4ms/step - loss: 0.0035\n"
     ]
    }
   ],
   "source": [
    "confirmed_lstm_set = df_confirmed_country.values[0]\n",
    "confirmed_lstm_set = np.reshape(confirmed_lstm_set, (len(confirmed_lstm_set), 1))\n",
    "\n",
    "confirmed_train, confirmed_test, confirmed_scaler = create_lstm_sets(confirmed_lstm_set, time_steps)\n",
    "\n",
    "confirmed_trainX, confirmed_trainY = confirmed_train\n",
    "confirmed_testX, confirmed_testY = confirmed_test\n",
    "\n",
    "confirmed_lstm = lstm_network(confirmed_trainX, confirmed_trainY, time_steps)"
   ]
  },
  {
   "cell_type": "markdown",
   "metadata": {
    "collapsed": false
   },
   "source": [
    "### Nombre de morts"
   ]
  },
  {
   "cell_type": "code",
   "execution_count": 17,
   "metadata": {
    "collapsed": false,
    "pycharm": {
     "name": "#%%\n"
    }
   },
   "outputs": [
    {
     "name": "stdout",
     "output_type": "stream",
     "text": [
      "Model: \"sequential_1\"\n",
      "_________________________________________________________________\n",
      " Layer (type)                Output Shape              Param #   \n",
      "=================================================================\n",
      " lstm_2 (LSTM)               (None, 1, 100)            40800     \n",
      "                                                                 \n",
      " dropout_2 (Dropout)         (None, 1, 100)            0         \n",
      "                                                                 \n",
      " lstm_3 (LSTM)               (None, 100)               80400     \n",
      "                                                                 \n",
      " dropout_3 (Dropout)         (None, 100)               0         \n",
      "                                                                 \n",
      " dense_1 (Dense)             (None, 1)                 101       \n",
      "                                                                 \n",
      "=================================================================\n",
      "Total params: 121,301\n",
      "Trainable params: 121,301\n",
      "Non-trainable params: 0\n",
      "_________________________________________________________________\n",
      "Epoch 1/50\n",
      "85/85 [==============================] - 5s 4ms/step - loss: 0.1514\n",
      "Epoch 2/50\n",
      "85/85 [==============================] - 0s 4ms/step - loss: 0.0041\n",
      "Epoch 3/50\n",
      "85/85 [==============================] - 0s 4ms/step - loss: 0.0040\n",
      "Epoch 4/50\n",
      "85/85 [==============================] - 0s 4ms/step - loss: 0.0034\n",
      "Epoch 5/50\n",
      "85/85 [==============================] - 0s 4ms/step - loss: 0.0035\n",
      "Epoch 6/50\n",
      "85/85 [==============================] - 0s 4ms/step - loss: 0.0037\n",
      "Epoch 7/50\n",
      "85/85 [==============================] - 0s 4ms/step - loss: 0.0030\n",
      "Epoch 8/50\n",
      "85/85 [==============================] - 0s 4ms/step - loss: 0.0031\n",
      "Epoch 9/50\n",
      "85/85 [==============================] - 0s 4ms/step - loss: 0.0037\n",
      "Epoch 10/50\n",
      "85/85 [==============================] - 0s 4ms/step - loss: 0.0034\n",
      "Epoch 11/50\n",
      "85/85 [==============================] - 0s 4ms/step - loss: 0.0033\n",
      "Epoch 12/50\n",
      "85/85 [==============================] - 0s 4ms/step - loss: 0.0031\n",
      "Epoch 13/50\n",
      "85/85 [==============================] - 0s 4ms/step - loss: 0.0031\n",
      "Epoch 14/50\n",
      "85/85 [==============================] - 0s 4ms/step - loss: 0.0031\n",
      "Epoch 15/50\n",
      "85/85 [==============================] - 0s 4ms/step - loss: 0.0033\n",
      "Epoch 16/50\n",
      "85/85 [==============================] - 0s 4ms/step - loss: 0.0036\n",
      "Epoch 17/50\n",
      "85/85 [==============================] - 0s 4ms/step - loss: 0.0034\n",
      "Epoch 18/50\n",
      "85/85 [==============================] - 0s 4ms/step - loss: 0.0037\n",
      "Epoch 19/50\n",
      "85/85 [==============================] - 0s 4ms/step - loss: 0.0040\n",
      "Epoch 20/50\n",
      "85/85 [==============================] - 0s 4ms/step - loss: 0.0033\n",
      "Epoch 21/50\n",
      "85/85 [==============================] - 0s 4ms/step - loss: 0.0037\n",
      "Epoch 22/50\n",
      "85/85 [==============================] - 0s 4ms/step - loss: 0.0035\n",
      "Epoch 23/50\n",
      "85/85 [==============================] - 0s 4ms/step - loss: 0.0037\n",
      "Epoch 24/50\n",
      "85/85 [==============================] - 0s 4ms/step - loss: 0.0042\n",
      "Epoch 25/50\n",
      "85/85 [==============================] - 0s 4ms/step - loss: 0.0038\n",
      "Epoch 26/50\n",
      "85/85 [==============================] - 0s 4ms/step - loss: 0.0037\n",
      "Epoch 27/50\n",
      "85/85 [==============================] - 0s 4ms/step - loss: 0.0033\n",
      "Epoch 28/50\n",
      "85/85 [==============================] - 0s 4ms/step - loss: 0.0035\n",
      "Epoch 29/50\n",
      "85/85 [==============================] - 0s 4ms/step - loss: 0.0036\n",
      "Epoch 30/50\n",
      "85/85 [==============================] - 0s 4ms/step - loss: 0.0034\n",
      "Epoch 31/50\n",
      "85/85 [==============================] - 0s 4ms/step - loss: 0.0032\n",
      "Epoch 32/50\n",
      "85/85 [==============================] - 0s 4ms/step - loss: 0.0033\n",
      "Epoch 33/50\n",
      "85/85 [==============================] - 0s 4ms/step - loss: 0.0031\n",
      "Epoch 34/50\n",
      "85/85 [==============================] - 0s 4ms/step - loss: 0.0029\n",
      "Epoch 35/50\n",
      "85/85 [==============================] - 0s 4ms/step - loss: 0.0039\n",
      "Epoch 36/50\n",
      "85/85 [==============================] - 0s 4ms/step - loss: 0.0030\n",
      "Epoch 37/50\n",
      "85/85 [==============================] - 0s 4ms/step - loss: 0.0030\n",
      "Epoch 38/50\n",
      "85/85 [==============================] - 0s 4ms/step - loss: 0.0031\n",
      "Epoch 39/50\n",
      "85/85 [==============================] - 0s 4ms/step - loss: 0.0034\n",
      "Epoch 40/50\n",
      "85/85 [==============================] - 0s 4ms/step - loss: 0.0028\n",
      "Epoch 41/50\n",
      "85/85 [==============================] - 0s 4ms/step - loss: 0.0035\n",
      "Epoch 42/50\n",
      "85/85 [==============================] - 0s 4ms/step - loss: 0.0033\n",
      "Epoch 43/50\n",
      "85/85 [==============================] - 0s 4ms/step - loss: 0.0033\n",
      "Epoch 44/50\n",
      "85/85 [==============================] - 0s 4ms/step - loss: 0.0030\n",
      "Epoch 45/50\n",
      "85/85 [==============================] - 0s 4ms/step - loss: 0.0034\n",
      "Epoch 46/50\n",
      "85/85 [==============================] - 0s 4ms/step - loss: 0.0033\n",
      "Epoch 47/50\n",
      "85/85 [==============================] - 0s 4ms/step - loss: 0.0032\n",
      "Epoch 48/50\n",
      "85/85 [==============================] - 0s 4ms/step - loss: 0.0031\n",
      "Epoch 49/50\n",
      "85/85 [==============================] - 0s 4ms/step - loss: 0.0033\n",
      "Epoch 50/50\n",
      "85/85 [==============================] - 0s 4ms/step - loss: 0.0030\n"
     ]
    }
   ],
   "source": [
    "deaths_lstm_set = df_deaths_country.values[0]\n",
    "deaths_lstm_set = np.reshape(deaths_lstm_set, (len(deaths_lstm_set), 1))\n",
    "\n",
    "deaths_train, deaths_test, deaths_scaler = create_lstm_sets(deaths_lstm_set, time_steps)\n",
    "deaths_trainX, deaths_trainY = deaths_train\n",
    "deaths_testX, deaths_testY = deaths_test\n",
    "\n",
    "deaths_lstm = lstm_network(deaths_trainX, deaths_trainY, time_steps)"
   ]
  },
  {
   "cell_type": "markdown",
   "metadata": {
    "collapsed": false
   },
   "source": [
    "### Affichage des résultats"
   ]
  },
  {
   "cell_type": "code",
   "execution_count": 18,
   "metadata": {
    "collapsed": false,
    "pycharm": {
     "name": "#%%\n"
    }
   },
   "outputs": [
    {
     "data": {
      "image/png": "[encoded data removed]",
      "text/plain": [
       "<Figure size 432x288 with 1 Axes>"
      ]
     },
     "metadata": {
      "needs_background": "light"
     },
     "output_type": "display_data"
    },
    {
     "data": {
      "image/png": "[encoded data removed]",
      "text/plain": [
       "<Figure size 432x288 with 1 Axes>"
      ]
     },
     "metadata": {
      "needs_background": "light"
     },
     "output_type": "display_data"
    }
   ],
   "source": [
    "def display_plot_lstm(model, scaler, trainX, trainY, testX, testY, country, ord_context):\n",
    "  daysTrain = range(len(trainX))\n",
    "  daysTest = np.array(range(len(testX))) + len(daysTrain)\n",
    "  plt.plot(daysTrain, scaler.inverse_transform(model.predict(trainX)), '-', label=\"Prédiction sur jeu d'entraînement\")\n",
    "  plt.plot(daysTrain, scaler.inverse_transform(np.reshape(trainY, (-1, 1))), '-', label=\"Réalité sur jeu d'entraînement\")\n",
    "\n",
    "  plt.plot(daysTest, scaler.inverse_transform(model.predict(testX)), '-', label=\"Prédiction sur jeu de test\")\n",
    "  plt.plot(daysTest, scaler.inverse_transform(np.reshape(testY, (-1, 1))), '-', label=\"Réalité sur jeu de test\")\n",
    "\n",
    "  plt.axvline(len(trainX), 0, 1)\n",
    "  plt.legend()\n",
    "  plt.title(\"Nombre de \" + ord_context + \" pour : \" + country)\n",
    "  plt.xlabel(\"Nombre de jours\")\n",
    "  plt.ylabel(\"Nombre de \" + ord_context)\n",
    "  plt.show()\n",
    "\n",
    "display_plot_lstm(confirmed_lstm, confirmed_scaler, confirmed_trainX, confirmed_trainY, confirmed_testX, confirmed_testY, country, \"cas\")\n",
    "display_plot_lstm(deaths_lstm, deaths_scaler, deaths_trainX, deaths_trainY, deaths_testX, deaths_testY, country, \"morts\")"
   ]
  },
  {
   "cell_type": "code",
   "execution_count": 19,
   "metadata": {},
   "outputs": [
    {
     "name": "stdout",
     "output_type": "stream",
     "text": [
      "[[0.5]]\n",
      "506\n",
      "[[0.4725765]]\n",
      "[[0.44747102]]\n",
      "[[0.42438918]]\n",
      "[[0.40308756]]\n",
      "[[0.383362]]\n",
      "[[0.3650396]]\n",
      "[[0.3479736]]\n",
      "[[0.3320378]]\n",
      "[[0.3171234]]\n",
      "[[0.30313587]]\n",
      "[[0.2899922]]\n",
      "[[0.27762002]]\n",
      "[[0.2659551]]\n",
      "[[0.2549407]]\n",
      "[[0.2445259]]\n",
      "[[0.23466544]]\n",
      "[[0.22531874]]\n",
      "[[0.21644922]]\n",
      "[[0.20802377]]\n",
      "[[0.20001246]]\n",
      "[[0.19238792]]\n",
      "[[0.18512534]]\n",
      "[[0.17820208]]\n",
      "[[0.17159738]]\n",
      "[[0.16529222]]\n",
      "[[0.15926884]]\n",
      "[[0.15351109]]\n",
      "[[0.14800413]]\n",
      "[[0.1427341]]\n",
      "[[0.13768806]]\n",
      "[[0.13285421]]\n",
      "[[0.12822141]]\n",
      "[[0.12377937]]\n",
      "[[0.11951829]]\n",
      "[[0.11542927]]\n",
      "[[0.11150385]]\n",
      "[[0.10773407]]\n",
      "[[0.10411261]]\n",
      "[[0.1006325]]\n",
      "[[0.09728707]]\n",
      "[[0.09407024]]\n",
      "[[0.09097607]]\n",
      "[[0.08799924]]\n",
      "[[0.08513452]]\n",
      "[[0.08237691]]\n",
      "[[0.07972179]]\n",
      "[[0.07716484]]\n",
      "[[0.07470192]]\n",
      "[[0.07232897]]\n",
      "[[0.07004242]]\n",
      "[[0.06783862]]\n",
      "[[0.0657142]]\n",
      "[[0.06366597]]\n",
      "[[0.06169088]]\n",
      "[[0.05978601]]\n",
      "[[0.05794849]]\n",
      "[[0.05617572]]\n",
      "[[0.05446522]]\n",
      "[[0.05281462]]\n",
      "[[0.05122148]]\n",
      "[[0.04968373]]\n",
      "[[0.04819922]]\n",
      "[[0.04676592]]\n",
      "[[0.04538198]]\n",
      "[[0.04404548]]\n",
      "[[0.04275471]]\n",
      "[[0.04150797]]\n",
      "[[0.04030362]]\n",
      "[[0.03914015]]\n",
      "[[0.0380161]]\n",
      "[[0.03693007]]\n",
      "[[0.03588058]]\n",
      "[[0.0348663]]\n",
      "[[0.03388606]]\n",
      "[[0.03293872]]\n",
      "[[0.03202301]]\n",
      "[[0.03113781]]\n",
      "[[0.03028212]]\n",
      "[[0.0294548]]\n",
      "[[0.02865492]]\n",
      "[[0.02788155]]\n",
      "[[0.02713372]]\n",
      "[[0.02641052]]\n",
      "[[0.02571122]]\n",
      "[[0.02503489]]\n",
      "[[0.02438076]]\n",
      "[[0.02374808]]\n",
      "[[0.02313612]]\n",
      "[[0.02254419]]\n",
      "[[0.02197164]]\n",
      "[[0.0214178]]\n",
      "[[0.02088203]]\n",
      "[[0.02036363]]\n",
      "[[0.01986212]]\n",
      "[[0.01937687]]\n",
      "[[0.01890741]]\n",
      "[[0.0184532]]\n",
      "[[0.01801375]]\n",
      "[[0.01758848]]\n",
      "[[0.017177]]\n",
      "[[0.01677878]]\n",
      "[[0.01639338]]\n",
      "[[0.01602048]]\n",
      "[[0.01565954]]\n",
      "[[0.01531032]]\n",
      "[[0.0149723]]\n",
      "[[0.0146451]]\n",
      "[[0.01432836]]\n",
      "[[0.01402189]]\n",
      "[[0.0137253]]\n",
      "[[0.01343818]]\n",
      "[[0.01316026]]\n",
      "[[0.0128912]]\n",
      "[[0.01263082]]\n",
      "[[0.01237878]]\n",
      "[[0.01213484]]\n",
      "[[0.01189864]]\n",
      "[[0.01167001]]\n",
      "[[0.01144861]]\n",
      "[[0.01123436]]\n"
     ]
    }
   ],
   "source": [
    "days = 120\n",
    "predictions = []\n",
    "test = [[0.5]]\n",
    "print(test)\n",
    "start_day = len(confirmed_trainX)\n",
    "print(start_day)\n",
    "for i in range(days):\n",
    "    pred = confirmed_lstm.predict(test)\n",
    "    predictions.append(pred)\n",
    "    test = pred\n",
    "    print(test)"
   ]
  },
  {
   "cell_type": "markdown",
   "metadata": {},
   "source": [
    "# Variables multi-dimensionnelles"
   ]
  },
  {
   "cell_type": "code",
   "execution_count": 20,
   "metadata": {},
   "outputs": [],
   "source": [
    "time_steps = 10\n",
    "n_features = 2"
   ]
  },
  {
   "cell_type": "markdown",
   "metadata": {},
   "source": [
    "### Get new data\n"
   ]
  },
  {
   "cell_type": "code",
   "execution_count": 21,
   "metadata": {},
   "outputs": [],
   "source": [
    "df_raw_stringency_index = pd.read_csv(\"covid-stringency-index.csv\")\n",
    "df_raw_stringency_index_country = df_raw_stringency_index[df_raw_stringency_index[\"Entity\"] == country]\n",
    "df_stringency_index_country = df_raw_stringency_index_country.drop(columns=[\"Entity\", \"Code\"])\n",
    "df_stringency_index_country.drop(index=df_stringency_index_country.index[0], axis=0, inplace=True)\n",
    "\n",
    "stringency_index_values = list(df_stringency_index_country.stringency_index)[:len(confirmed_country_values)]\n",
    "stringency_index_days = [i for i in range(df_stringency_index_country.Day.size)]"
   ]
  },
  {
   "cell_type": "markdown",
   "metadata": {},
   "source": [
    "### Adjust some data length (all equal)"
   ]
  },
  {
   "cell_type": "code",
   "execution_count": 22,
   "metadata": {},
   "outputs": [],
   "source": [
    "confirmed_country_values = confirmed_country_values[:len(stringency_index_values)]\n",
    "confirmed_country_days = confirmed_country_days[:len(stringency_index_values)]\n",
    "\n",
    "deaths_country_values = deaths_country_values[:len(stringency_index_values)]\n",
    "deaths_country_days = deaths_country_days[:len(stringency_index_values)]"
   ]
  },
  {
   "cell_type": "markdown",
   "metadata": {},
   "source": [
    "### Print on a plot"
   ]
  },
  {
   "cell_type": "code",
   "execution_count": 23,
   "metadata": {},
   "outputs": [
    {
     "data": {
      "image/png": "[encoded data removed]",
      "text/plain": [
       "<Figure size 432x288 with 1 Axes>"
      ]
     },
     "metadata": {
      "needs_background": "light"
     },
     "output_type": "display_data"
    },
    {
     "data": {
      "image/png": "[encoded data removed]",
      "text/plain": [
       "<Figure size 432x288 with 1 Axes>"
      ]
     },
     "metadata": {
      "needs_background": "light"
     },
     "output_type": "display_data"
    }
   ],
   "source": [
    "plt.plot(confirmed_country_days, confirmed_country_values, '.-')\n",
    "plt.title(\"Nombre de cas confirmés pour : \" + country)\n",
    "plt.xlabel(\"Nombre de jours\")\n",
    "plt.ylabel(\"Nombre de cas\")\n",
    "plt.show()\n",
    "\n",
    "plt.plot(stringency_index_days, stringency_index_values, '.-')\n",
    "plt.title(\"Indice de stringency pour : \" + country)\n",
    "plt.xlabel(\"Nombre de jours\")\n",
    "plt.ylabel(\"Indice de stringency\")\n",
    "plt.show()"
   ]
  },
  {
   "cell_type": "markdown",
   "metadata": {},
   "source": [
    "### Create data sets"
   ]
  },
  {
   "cell_type": "code",
   "execution_count": 24,
   "metadata": {},
   "outputs": [],
   "source": [
    "# Scaled values\n",
    "confirmed_scaler = MinMaxScaler((-1, 1))\n",
    "deaths_scaler = MinMaxScaler((-1, 1))\n",
    "stringency_scaler = MinMaxScaler((-1, 1))\n",
    "\n",
    "confirmed_scaler.fit(confirmed_country_values.reshape((-1, 1)))\n",
    "scaled_confirmed = confirmed_scaler.transform(confirmed_country_values.reshape((-1, 1))).reshape((-1,))\n",
    "\n",
    "deaths_scaler.fit(deaths_country_values.reshape((-1, 1)))\n",
    "scaled_deaths = deaths_scaler.transform(deaths_country_values.reshape((-1, 1))).reshape((-1,))\n",
    "\n",
    "stringency_scaler.fit(np.array(stringency_index_values).reshape((-1, 1)))\n",
    "scaled_stringency = stringency_scaler.transform(np.array(stringency_index_values).reshape((-1, 1))).reshape((-1,))"
   ]
  },
  {
   "cell_type": "code",
   "execution_count": 25,
   "metadata": {},
   "outputs": [],
   "source": [
    "multi_data = list(zip(scaled_confirmed, scaled_stringency))"
   ]
  },
  {
   "cell_type": "code",
   "execution_count": 26,
   "metadata": {},
   "outputs": [],
   "source": [
    "multi_train, multi_test, _ = create_lstm_sets(multi_data, time_steps, scale=False, train_percent=0.70)\n",
    "multi_trainX, multi_trainY = multi_train\n",
    "multi_testX, multi_testY = multi_test"
   ]
  },
  {
   "cell_type": "code",
   "execution_count": 27,
   "metadata": {},
   "outputs": [],
   "source": [
    "def lstm_network_multi(X, Y, time_steps=1, n_features=1):\n",
    "  model = kr.Sequential()\n",
    "  model.add(kr.layers.LSTM(200, input_shape=(time_steps, n_features), return_sequences=True)) #return_sequences=True\n",
    "  model.add(kr.layers.Dropout(0.1))\n",
    "  model.add(kr.layers.LSTM(400))\n",
    "  model.add(kr.layers.Dropout(0.1))\n",
    "  model.add(kr.layers.Dense(1))\n",
    "  opt = tf.keras.optimizers.Adam(learning_rate=0.0001)\n",
    "  model.compile(loss='mean_squared_error', optimizer=opt)\n",
    "  model.summary()\n",
    "  model.fit(X, Y, epochs=20, batch_size=6);\n",
    "  return model"
   ]
  },
  {
   "cell_type": "code",
   "execution_count": 28,
   "metadata": {},
   "outputs": [
    {
     "name": "stdout",
     "output_type": "stream",
     "text": [
      "Model: \"sequential_2\"\n",
      "_________________________________________________________________\n",
      " Layer (type)                Output Shape              Param #   \n",
      "=================================================================\n",
      " lstm_4 (LSTM)               (None, 10, 200)           162400    \n",
      "                                                                 \n",
      " dropout_4 (Dropout)         (None, 10, 200)           0         \n",
      "                                                                 \n",
      " lstm_5 (LSTM)               (None, 400)               961600    \n",
      "                                                                 \n",
      " dropout_5 (Dropout)         (None, 400)               0         \n",
      "                                                                 \n",
      " dense_2 (Dense)             (None, 1)                 401       \n",
      "                                                                 \n",
      "=================================================================\n",
      "Total params: 1,124,401\n",
      "Trainable params: 1,124,401\n",
      "Non-trainable params: 0\n",
      "_________________________________________________________________\n",
      "Epoch 1/20\n",
      "77/77 [==============================] - 8s 40ms/step - loss: 0.0829\n",
      "Epoch 2/20\n",
      "77/77 [==============================] - 3s 41ms/step - loss: 0.0014\n",
      "Epoch 3/20\n",
      "77/77 [==============================] - 3s 40ms/step - loss: 8.5470e-04\n",
      "Epoch 4/20\n",
      "77/77 [==============================] - 3s 41ms/step - loss: 8.4355e-04\n",
      "Epoch 5/20\n",
      "77/77 [==============================] - 3s 41ms/step - loss: 7.9242e-04\n",
      "Epoch 6/20\n",
      "77/77 [==============================] - 3s 40ms/step - loss: 8.3086e-04\n",
      "Epoch 7/20\n",
      "77/77 [==============================] - 3s 40ms/step - loss: 8.3893e-04\n",
      "Epoch 8/20\n",
      "77/77 [==============================] - 3s 40ms/step - loss: 8.8469e-04\n",
      "Epoch 9/20\n",
      "77/77 [==============================] - 3s 40ms/step - loss: 7.7349e-04\n",
      "Epoch 10/20\n",
      "77/77 [==============================] - 3s 40ms/step - loss: 8.9033e-04\n",
      "Epoch 11/20\n",
      "77/77 [==============================] - 3s 40ms/step - loss: 7.1421e-04\n",
      "Epoch 12/20\n",
      "77/77 [==============================] - 3s 40ms/step - loss: 7.7790e-04\n",
      "Epoch 13/20\n",
      "77/77 [==============================] - 3s 41ms/step - loss: 7.3386e-04\n",
      "Epoch 14/20\n",
      "77/77 [==============================] - 3s 41ms/step - loss: 9.5836e-04\n",
      "Epoch 15/20\n",
      "77/77 [==============================] - 3s 41ms/step - loss: 7.5383e-04\n",
      "Epoch 16/20\n",
      "77/77 [==============================] - 3s 41ms/step - loss: 8.4544e-04\n",
      "Epoch 17/20\n",
      "77/77 [==============================] - 3s 43ms/step - loss: 8.0276e-04\n",
      "Epoch 18/20\n",
      "77/77 [==============================] - 4s 55ms/step - loss: 7.2630e-04\n",
      "Epoch 19/20\n",
      "77/77 [==============================] - 4s 46ms/step - loss: 8.1293e-04\n",
      "Epoch 20/20\n",
      "77/77 [==============================] - 4s 48ms/step - loss: 8.4374e-04\n"
     ]
    }
   ],
   "source": [
    "multi_lstm = lstm_network_multi(multi_trainX, multi_trainY, time_steps, n_features)"
   ]
  },
  {
   "cell_type": "code",
   "execution_count": 29,
   "metadata": {},
   "outputs": [
    {
     "data": {
      "image/png": "[encoded data removed]",
      "text/plain": [
       "<Figure size 432x288 with 1 Axes>"
      ]
     },
     "metadata": {
      "needs_background": "light"
     },
     "output_type": "display_data"
    }
   ],
   "source": [
    "display_plot_lstm(multi_lstm, deaths_scaler, multi_trainX, multi_trainY, multi_testX, multi_testY, country, \"cas\")"
   ]
  },
  {
   "cell_type": "code",
   "execution_count": 30,
   "metadata": {},
   "outputs": [
    {
     "name": "stdout",
     "output_type": "stream",
     "text": [
      "457\n",
      "[[[0.49332378 0.69570322]\n",
      "  [0.50224219 0.69570322]\n",
      "  [0.51127996 0.69570322]\n",
      "  [0.51804946 0.69570322]\n",
      "  [0.51926692 0.69570322]\n",
      "  [0.52739966 0.69570322]\n",
      "  [0.53608048 0.69570322]\n",
      "  [0.54343728 0.69570322]\n",
      "  [0.55015169 0.69570322]\n",
      "  [0.55724363 0.69570322]]]\n",
      "[[0.5430489]]\n",
      "[[0.54668546]]\n",
      "[[0.54858005]]\n",
      "[[0.5497245]]\n",
      "[[0.5509128]]\n",
      "[[0.5529276]]\n",
      "[[0.5552047]]\n",
      "[[0.5577022]]\n",
      "[[0.5604771]]\n",
      "[[0.5634717]]\n",
      "[[0.56651837]]\n",
      "[[0.56861675]]\n",
      "[[0.57063967]]\n",
      "[[0.5727395]]\n",
      "[[0.57496536]]\n",
      "[[0.57729334]]\n",
      "[[0.5796368]]\n",
      "[[0.58196765]]\n",
      "[[0.58426535]]\n",
      "[[0.5865067]]\n",
      "[[0.5886751]]\n",
      "[[0.590769]]\n",
      "[[0.5928743]]\n",
      "[[0.59499156]]\n",
      "[[0.597109]]\n",
      "[[0.59921163]]\n",
      "[[0.60128784]]\n",
      "[[0.6033366]]\n",
      "[[0.605357]]\n",
      "[[0.60735196]]\n",
      "[[0.6093251]]\n",
      "[[0.61128026]]\n",
      "[[0.61322206]]\n",
      "[[0.6151481]]\n",
      "[[0.61705494]]\n",
      "[[0.6189403]]\n",
      "[[0.62080437]]\n",
      "[[0.6226481]]\n",
      "[[0.624472]]\n",
      "[[0.6262778]]\n",
      "[[0.62806535]]\n",
      "[[0.6298348]]\n",
      "[[0.6315858]]\n",
      "[[0.63331866]]\n",
      "[[0.63503295]]\n",
      "[[0.6367287]]\n",
      "[[0.6384058]]\n",
      "[[0.6400651]]\n",
      "[[0.641707]]\n",
      "[[0.6433308]]\n",
      "[[0.6449376]]\n",
      "[[0.6465269]]\n",
      "[[0.64809877]]\n",
      "[[0.6496536]]\n",
      "[[0.65119123]]\n",
      "[[0.6527118]]\n",
      "[[0.6542156]]\n",
      "[[0.6557033]]\n",
      "[[0.6571742]]\n",
      "[[0.6586284]]\n",
      "[[0.66006684]]\n",
      "[[0.66148907]]\n",
      "[[0.6628952]]\n",
      "[[0.66428566]]\n",
      "[[0.66566026]]\n",
      "[[0.6670193]]\n",
      "[[0.6683626]]\n",
      "[[0.6696915]]\n",
      "[[0.67100453]]\n",
      "[[0.67230266]]\n",
      "[[0.67358565]]\n",
      "[[0.6748546]]\n",
      "[[0.67610854]]\n",
      "[[0.6773473]]\n",
      "[[0.67857254]]\n",
      "[[0.67978305]]\n",
      "[[0.6809796]]\n",
      "[[0.6839014]]\n",
      "[[0.68753254]]\n",
      "[[0.6912626]]\n",
      "[[0.69473934]]\n",
      "[[0.6977822]]\n",
      "[[0.7003243]]\n",
      "[[0.7023674]]\n",
      "[[0.7039529]]\n",
      "[[0.7051404]]\n",
      "[[0.7059944]]\n",
      "[[0.70856106]]\n",
      "[[0.7109699]]\n",
      "[[0.71317786]]\n",
      "[[0.7151982]]\n",
      "[[0.7170717]]\n",
      "[[0.7188492]]\n",
      "[[0.72057796]]\n",
      "[[0.72230196]]\n",
      "[[0.72405374]]\n",
      "[[0.72586185]]\n",
      "[[0.7277455]]\n",
      "[[0.7295452]]\n",
      "[[0.7312811]]\n",
      "[[0.732974]]\n",
      "[[0.7346408]]\n",
      "[[0.736293]]\n",
      "[[0.73793596]]\n",
      "[[0.739572]]\n",
      "[[0.74119824]]\n",
      "[[0.74280953]]\n",
      "[[0.74439937]]\n",
      "[[0.7459609]]\n",
      "[[0.7475003]]\n",
      "[[0.74902236]]\n",
      "[[0.75052893]]\n",
      "[[0.75201946]]\n",
      "[[0.75349545]]\n",
      "[[0.75495505]]\n",
      "[[0.7563973]]\n",
      "[[0.7578209]]\n",
      "[[0.7592279]]\n",
      "[[0.7606166]]\n",
      "[[0.7619891]]\n",
      "[[0.7633462]]\n",
      "[[0.76468813]]\n",
      "[[0.7660139]]\n",
      "[[0.7673236]]\n",
      "[[0.7686176]]\n",
      "[[0.76989573]]\n",
      "[[0.77115864]]\n",
      "[[0.7724061]]\n",
      "[[0.77363837]]\n",
      "[[0.77485585]]\n",
      "[[0.77605826]]\n",
      "[[0.7772468]]\n",
      "[[0.7784201]]\n",
      "[[0.7795789]]\n",
      "[[0.7807241]]\n",
      "[[0.7818549]]\n",
      "[[0.78297126]]\n",
      "[[0.7840742]]\n",
      "[[0.7851635]]\n",
      "[[0.7862398]]\n",
      "[[0.7873017]]\n",
      "[[0.7883509]]\n",
      "[[0.7893869]]\n",
      "[[0.79041]]\n",
      "[[0.79141974]]\n",
      "[[0.79241735]]\n",
      "[[0.7934023]]\n",
      "[[0.7943744]]\n",
      "[[0.7953346]]\n",
      "[[0.79628223]]\n"
     ]
    }
   ],
   "source": [
    "n_days = 150\n",
    "predictions = []\n",
    "test = multi_trainX[-1]\n",
    "test = test.reshape(-1, time_steps, n_features)\n",
    "start_day = len(multi_trainX)\n",
    "print(start_day)\n",
    "print(test)\n",
    "for i in range(n_days):\n",
    "    pred = multi_lstm.predict(test)\n",
    "    predictions.append(pred[0][0])\n",
    "    \n",
    "    old = test[0][0]\n",
    "    test = np.delete(test[0], 0, axis=0)\n",
    "\n",
    "    indice = stringency_scaler.transform([[50]])\n",
    "    if i > 75:\n",
    "        indice = stringency_scaler.transform([[65]])\n",
    "\n",
    "    test = np.append(test, [pred[0][0], indice[0][0]]).reshape(-1, time_steps, n_features)\n",
    "\n",
    "    print(pred)"
   ]
  },
  {
   "cell_type": "code",
   "execution_count": 31,
   "metadata": {},
   "outputs": [],
   "source": [
    "predicted_plot = np.concatenate((confirmed_scaler.transform(confirmed_country_values[:start_day].reshape((-1, 1))).reshape((-1,)), predictions))\n",
    "predicted_plot = confirmed_scaler.inverse_transform(predicted_plot.reshape((-1, 1)))\n",
    "\n",
    "days = np.concatenate((list(range(start_day)), np.array([day for day in range(start_day, start_day+n_days)])))"
   ]
  },
  {
   "cell_type": "code",
   "execution_count": 32,
   "metadata": {},
   "outputs": [
    {
     "data": {
      "image/png": "[encoded data removed]",
      "text/plain": [
       "<Figure size 432x288 with 1 Axes>"
      ]
     },
     "metadata": {
      "needs_background": "light"
     },
     "output_type": "display_data"
    }
   ],
   "source": [
    "plt.plot(days, predicted_plot, '-', label=\"Prédiction\")\n",
    "plt.plot(days, confirmed_country_values[:start_day+n_days], '-', label=\"Réalité\")\n",
    "plt.legend()\n",
    "plt.axvline(start_day)\n",
    "plt.title(\"Nombre de cas confirmés pour : \" + country)\n",
    "plt.xlabel(\"Nombre de jours\")\n",
    "plt.ylabel(\"Nombre de cas\")\n",
    "plt.show()"
   ]
  },
  {
   "cell_type": "code",
   "execution_count": null,
   "metadata": {},
   "outputs": [],
   "source": []
  },
  {
   "cell_type": "code",
   "execution_count": null,
   "metadata": {},
   "outputs": [],
   "source": []
  }
 ],
 "metadata": {
  "interpreter": {
   "hash": "7131807ce35ac9e736e77ee5c468af6a0125a9e761140560e4dc712dc1cce710"
  },
  "kernelspec": {
   "display_name": "Python 3.9.0 64-bit",
   "language": "python",
   "name": "python3"
  },
  "language_info": {
   "codemirror_mode": {
    "name": "ipython",
    "version": 3
   },
   "file_extension": ".py",
   "mimetype": "text/x-python",
   "name": "python",
   "nbconvert_exporter": "python",
   "pygments_lexer": "ipython3",
   "version": "3.9.8"
  },
  "orig_nbformat": 4
 },
 "nbformat": 4,
 "nbformat_minor": 2
}
