{
 "cells": [
  {
   "cell_type": "markdown",
   "metadata": {},
   "source": [
    "# Projet de prédiction des données liées au Covid"
   ]
  },
  {
   "cell_type": "markdown",
   "metadata": {},
   "source": [
    "Imports"
   ]
  },
  {
   "cell_type": "code",
   "execution_count": 90,
   "metadata": {},
   "outputs": [
    {
     "ename": "ModuleNotFoundError",
     "evalue": "No module named 'plotly'",
     "output_type": "error",
     "traceback": [
      "\u001b[1;31m---------------------------------------------------------------------------\u001b[0m",
      "\u001b[1;31mModuleNotFoundError\u001b[0m                       Traceback (most recent call last)",
      "\u001b[1;32m~\\AppData\\Local\\Temp/ipykernel_13036/4028481336.py\u001b[0m in \u001b[0;36m<module>\u001b[1;34m\u001b[0m\n\u001b[0;32m      2\u001b[0m \u001b[1;32mimport\u001b[0m \u001b[0mmatplotlib\u001b[0m\u001b[1;33m.\u001b[0m\u001b[0mpyplot\u001b[0m \u001b[1;32mas\u001b[0m \u001b[0mplt\u001b[0m\u001b[1;33m\u001b[0m\u001b[1;33m\u001b[0m\u001b[0m\n\u001b[0;32m      3\u001b[0m \u001b[1;33m\u001b[0m\u001b[0m\n\u001b[1;32m----> 4\u001b[1;33m \u001b[1;32mimport\u001b[0m \u001b[0mplotly\u001b[0m\u001b[1;33m.\u001b[0m\u001b[0mio\u001b[0m \u001b[1;32mas\u001b[0m \u001b[0mpio\u001b[0m\u001b[1;33m\u001b[0m\u001b[1;33m\u001b[0m\u001b[0m\n\u001b[0m\u001b[0;32m      5\u001b[0m \u001b[0mpio\u001b[0m\u001b[1;33m.\u001b[0m\u001b[0mrenderers\u001b[0m\u001b[1;33m.\u001b[0m\u001b[0mdefault\u001b[0m \u001b[1;33m=\u001b[0m \u001b[1;34m'iframe_connected'\u001b[0m\u001b[1;33m\u001b[0m\u001b[1;33m\u001b[0m\u001b[0m\n",
      "\u001b[1;31mModuleNotFoundError\u001b[0m: No module named 'plotly'"
     ]
    }
   ],
   "source": [
    "import pandas as pd\n",
    "import matplotlib.pyplot as plt\n",
    "\n",
    "import plotly.io as pio\n",
    "pio.renderers.default = 'iframe_connected'"
   ]
  },
  {
   "cell_type": "code",
   "execution_count": 57,
   "metadata": {},
   "outputs": [],
   "source": [
    "df_raw_confirmed_global = pd.read_csv(\"https://raw.githubusercontent.com/CSSEGISandData/COVID-19/master/csse_covid_19_data/csse_covid_19_time_series/time_series_covid19_confirmed_global.csv\")\n",
    "df_raw_deaths_global = pd.read_csv(\"https://raw.githubusercontent.com/CSSEGISandData/COVID-19/master/csse_covid_19_data/csse_covid_19_time_series/time_series_covid19_deaths_global.csv\")\n",
    "df_raw_vaccination_global = pd.read_csv(\"https://raw.githubusercontent.com/owid/covid-19-data/master/public/data/vaccinations/vaccinations.csv\")\n",
    "df_raw_vaccination_global=df_raw_vaccination_global.drop(columns=[\"daily_vaccinations_per_million\",\"total_boosters_per_hundred\",\"daily_vaccinations_raw\",\"total_boosters\",\"people_fully_vaccinated_per_hundred\",\"daily_people_vaccinated_per_hundred\",\"people_vaccinated\", \"total_vaccinations\", \"daily_vaccinations\", \"people_fully_vaccinated\",\"total_vaccinations_per_hundred\",\"people_vaccinated_per_hundred\"])\n"
   ]
  },
  {
   "cell_type": "code",
   "execution_count": 58,
   "metadata": {},
   "outputs": [],
   "source": [
    "# Choose latitude and longitude for the chosen country\n",
    "lat_min = 41.317\n",
    "lat_max = 51.07167\n",
    "long_min = -5.14028\n",
    "long_max = 9.51333"
   ]
  },
  {
   "cell_type": "code",
   "execution_count": 59,
   "metadata": {},
   "outputs": [],
   "source": [
    "# Function to filter elements by latitude/longitude\n",
    "def check_lat_long(df, lat_min, lat_max, long_min, long_max):\n",
    "   return df[(df[\"Lat\"] > lat_min) & (df[\"Lat\"] < lat_max) & (df[\"Long\"] > long_min) & (df[\"Long\"] < long_max)]"
   ]
  },
  {
   "cell_type": "code",
   "execution_count": 60,
   "metadata": {},
   "outputs": [],
   "source": [
    "country = \"France\"\n",
    "\n",
    "df_raw_confirmed_country = df_raw_confirmed_global[df_raw_confirmed_global[\"Country/Region\"] == country]\n",
    "df_raw_deaths_country = df_raw_deaths_global[df_raw_deaths_global[\"Country/Region\"] == country]\n",
    "df_raw_vaccination_country = df_raw_vaccination_global[df_raw_vaccination_global[\"location\"] == country]\n",
    "#df_confirmed_country = df_raw_confirmed_country\n",
    "#df_deaths_country = df_raw_deaths_country\n",
    "df_confirmed_country = check_lat_long(df_raw_confirmed_country, lat_min ,lat_max ,long_min, long_max)\n",
    "df_deaths_country = check_lat_long(df_raw_deaths_country, lat_min, lat_max, long_min, long_max)"
   ]
  },
  {
   "cell_type": "code",
   "execution_count": 61,
   "metadata": {},
   "outputs": [
    {
     "data": {
      "text/html": [
       "<div>\n",
       "<style scoped>\n",
       "    .dataframe tbody tr th:only-of-type {\n",
       "        vertical-align: middle;\n",
       "    }\n",
       "\n",
       "    .dataframe tbody tr th {\n",
       "        vertical-align: top;\n",
       "    }\n",
       "\n",
       "    .dataframe thead th {\n",
       "        text-align: right;\n",
       "    }\n",
       "</style>\n",
       "<table border=\"1\" class=\"dataframe\">\n",
       "  <thead>\n",
       "    <tr style=\"text-align: right;\">\n",
       "      <th></th>\n",
       "      <th>0</th>\n",
       "      <th>1</th>\n",
       "      <th>2</th>\n",
       "      <th>3</th>\n",
       "      <th>4</th>\n",
       "      <th>5</th>\n",
       "      <th>6</th>\n",
       "      <th>7</th>\n",
       "      <th>8</th>\n",
       "      <th>9</th>\n",
       "      <th>...</th>\n",
       "      <th>666</th>\n",
       "      <th>667</th>\n",
       "      <th>668</th>\n",
       "      <th>669</th>\n",
       "      <th>670</th>\n",
       "      <th>671</th>\n",
       "      <th>672</th>\n",
       "      <th>673</th>\n",
       "      <th>674</th>\n",
       "      <th>675</th>\n",
       "    </tr>\n",
       "  </thead>\n",
       "  <tbody>\n",
       "    <tr>\n",
       "      <th>130</th>\n",
       "      <td>0</td>\n",
       "      <td>0</td>\n",
       "      <td>2</td>\n",
       "      <td>3</td>\n",
       "      <td>3</td>\n",
       "      <td>3</td>\n",
       "      <td>4</td>\n",
       "      <td>5</td>\n",
       "      <td>5</td>\n",
       "      <td>5</td>\n",
       "      <td>...</td>\n",
       "      <td>7168026</td>\n",
       "      <td>7188721</td>\n",
       "      <td>7211399</td>\n",
       "      <td>7231148</td>\n",
       "      <td>7235966</td>\n",
       "      <td>7266361</td>\n",
       "      <td>7296757</td>\n",
       "      <td>7330086</td>\n",
       "      <td>7364380</td>\n",
       "      <td>7364380</td>\n",
       "    </tr>\n",
       "  </tbody>\n",
       "</table>\n",
       "<p>1 rows × 676 columns</p>\n",
       "</div>"
      ],
      "text/plain": [
       "     0    1    2    3    4    5    6    7    8    9    ...      666      667  \\\n",
       "130    0    0    2    3    3    3    4    5    5    5  ...  7168026  7188721   \n",
       "\n",
       "         668      669      670      671      672      673      674      675  \n",
       "130  7211399  7231148  7235966  7266361  7296757  7330086  7364380  7364380  \n",
       "\n",
       "[1 rows x 676 columns]"
      ]
     },
     "execution_count": 61,
     "metadata": {},
     "output_type": "execute_result"
    }
   ],
   "source": [
    "uselessColumns = [\"Lat\", \"Long\", \"Province/State\", \"Country/Region\"]\n",
    "\n",
    "def columnsInNumbers(df):\n",
    "  df.columns = [i for i in range(len(df_confirmed_country.columns))]\n",
    "\n",
    "df_confirmed_country = df_confirmed_country.drop(columns=uselessColumns)\n",
    "df_deaths_country = df_deaths_country.drop(columns=uselessColumns)\n",
    "\n",
    "columnsInNumbers(df_confirmed_country)\n",
    "columnsInNumbers(df_deaths_country)\n",
    "\n",
    "\n",
    "df_confirmed_country"
   ]
  },
  {
   "cell_type": "code",
   "execution_count": 62,
   "metadata": {},
   "outputs": [],
   "source": [
    "def get_values_and_days(df):\n",
    "  return (df.values[0], df.columns.to_list())\n",
    "\n",
    "confirmed_country_values, confirmed_country_days = get_values_and_days(df_confirmed_country)\n",
    "deaths_country_values, deaths_country_days = get_values_and_days(df_deaths_country)\n",
    "vaccination_index_values = list(df_raw_vaccination_country.daily_people_vaccinated)[:len(confirmed_country_values)]\n",
    "vaccination_index_days = [i for i in range(df_raw_vaccination_country.date.size)]\n"
   ]
  },
  {
   "cell_type": "code",
   "execution_count": 63,
   "metadata": {},
   "outputs": [
    {
     "data": {
      "image/png": "[encoded data removed]",
      "text/plain": [
       "<Figure size 432x288 with 1 Axes>"
      ]
     },
     "metadata": {
      "needs_background": "light"
     },
     "output_type": "display_data"
    },
    {
     "data": {
      "image/png": "[encoded data removed]",
      "text/plain": [
       "<Figure size 432x288 with 1 Axes>"
      ]
     },
     "metadata": {
      "needs_background": "light"
     },
     "output_type": "display_data"
    },
    {
     "data": {
      "image/png": "[encoded data removed]",
      "text/plain": [
       "<Figure size 432x288 with 1 Axes>"
      ]
     },
     "metadata": {
      "needs_background": "light"
     },
     "output_type": "display_data"
    }
   ],
   "source": [
    "plt.plot(confirmed_country_days, confirmed_country_values, '.-')\n",
    "plt.title(\"Nombre de cas confirmés pour : \" + country)\n",
    "plt.xlabel(\"Nombre de jours\")\n",
    "plt.ylabel(\"Nombre de cas\")\n",
    "plt.show()\n",
    "\n",
    "plt.plot(deaths_country_days, deaths_country_values, '.-')\n",
    "plt.title(\"Nombre de déces pour : \" + country)\n",
    "plt.xlabel(\"Nombre de jours\")\n",
    "plt.ylabel(\"Nombre de déces\")\n",
    "plt.show()\n",
    "\n",
    "plt.plot(vaccination_index_days, vaccination_index_values, '.-')\n",
    "plt.title(\"Nombre de vaccine pour : \" + country)\n",
    "plt.xlabel(\"Nombre de jours\")\n",
    "plt.ylabel(\"Nombre de vaccine\")\n",
    "plt.show()"
   ]
  },
  {
   "cell_type": "markdown",
   "metadata": {
    "pycharm": {
     "name": "#%% md\n"
    }
   },
   "source": [
    "Training and test sets\n"
   ]
  },
  {
   "cell_type": "code",
   "execution_count": 64,
   "metadata": {
    "collapsed": false,
    "pycharm": {
     "name": "#%%\n"
    }
   },
   "outputs": [],
   "source": [
    "from sklearn.model_selection import train_test_split\n",
    "\n",
    "confirmed_train, confirmed_test, confirmed_train_days, confirmed_test_days = train_test_split(confirmed_country_values, confirmed_country_days, test_size=0.30, shuffle=False)\n",
    "deaths_train, deaths_test, deaths_train_days, deaths_test_days = train_test_split(deaths_country_values, deaths_country_days, test_size=0.30, shuffle=False)"
   ]
  },
  {
   "cell_type": "markdown",
   "metadata": {
    "collapsed": false,
    "pycharm": {
     "name": "#%% md\n"
    }
   },
   "source": [
    "# Regression polynomiale (degré = 2)"
   ]
  },
  {
   "cell_type": "code",
   "execution_count": 65,
   "metadata": {
    "collapsed": false,
    "pycharm": {
     "name": "#%%\n"
    }
   },
   "outputs": [],
   "source": [
    "import numpy as np\n",
    "from sklearn import svm"
   ]
  },
  {
   "cell_type": "code",
   "execution_count": 66,
   "metadata": {
    "collapsed": false,
    "pycharm": {
     "name": "#%%\n"
    }
   },
   "outputs": [
    {
     "name": "stdout",
     "output_type": "stream",
     "text": [
      "Regression cas :  -7.018829295450718\n",
      "Regression morts :  -422.13088428886044\n"
     ]
    }
   ],
   "source": [
    "def regression(X, Y):\n",
    "  reg = svm.SVR(kernel='poly', C=1000, degree=2)\n",
    "  reg.fit(X, Y)\n",
    "  return reg\n",
    "\n",
    "reg_confirmed = regression(np.reshape(confirmed_train_days, newshape=(-1, 1)), confirmed_train)\n",
    "reg_deaths = regression(np.reshape(deaths_train_days, newshape=(-1, 1)), deaths_train)\n",
    "\n",
    "print(\"Regression cas : \", reg_confirmed.score(np.reshape(confirmed_test_days, newshape=(-1, 1)), confirmed_test))\n",
    "print(\"Regression morts : \", reg_deaths.score(np.reshape(deaths_test_days, newshape=(-1, 1)), deaths_test))"
   ]
  },
  {
   "cell_type": "markdown",
   "metadata": {
    "collapsed": false
   },
   "source": [
    "Visualisation des modèles"
   ]
  },
  {
   "cell_type": "code",
   "execution_count": 67,
   "metadata": {
    "collapsed": false,
    "pycharm": {
     "name": "#%%\n"
    }
   },
   "outputs": [
    {
     "data": {
      "image/png": "[encoded data removed]",
      "text/plain": [
       "<Figure size 432x288 with 1 Axes>"
      ]
     },
     "metadata": {
      "needs_background": "light"
     },
     "output_type": "display_data"
    },
    {
     "data": {
      "image/png": "[encoded data removed]",
      "text/plain": [
       "<Figure size 432x288 with 1 Axes>"
      ]
     },
     "metadata": {
      "needs_background": "light"
     },
     "output_type": "display_data"
    }
   ],
   "source": [
    "def display_plot(reg, X, Y, ord_context):\n",
    "  plt.plot(X, Y, '.-')\n",
    "  plt.plot(X, reg.predict(X), \"-\")\n",
    "  plt.title(\"Nombre de \" + ord_context + \" pour : \" + country)\n",
    "  plt.xlabel(\"Nombre de jours\")\n",
    "  plt.ylabel(\"Nombre de \" + ord_context)\n",
    "  plt.show()\n",
    "\n",
    "display_plot(reg_confirmed, np.reshape(confirmed_country_days, newshape=(-1, 1)), confirmed_country_values, \"cas\")\n",
    "display_plot(reg_deaths, np.reshape(deaths_country_days, newshape=(-1, 1)), deaths_country_values, \"morts\")"
   ]
  },
  {
   "cell_type": "markdown",
   "metadata": {
    "collapsed": false
   },
   "source": [
    "# Réseaux LSTM"
   ]
  },
  {
   "cell_type": "code",
   "execution_count": 68,
   "metadata": {
    "collapsed": false,
    "pycharm": {
     "name": "#%%\n"
    }
   },
   "outputs": [],
   "source": [
    "import tensorflow as tf\n",
    "import keras as kr\n",
    "from sklearn.preprocessing import MinMaxScaler"
   ]
  },
  {
   "cell_type": "code",
   "execution_count": 69,
   "metadata": {
    "collapsed": false,
    "pycharm": {
     "name": "#%%\n"
    }
   },
   "outputs": [],
   "source": [
    "def create_sequences(data, time_steps=1):\n",
    "  dataX, dataY = [], []\n",
    "  for i in range(len(data)-time_steps):\n",
    "    a = data[i:(i+time_steps)]\n",
    "    dataX.append(a)\n",
    "    dataY.append(data[i + time_steps][0])\n",
    "  return np.array(dataX), np.array(dataY)\n",
    "\n",
    "def create_lstm_sets(X, time_steps=1, scale=True, train_percent=0.75):\n",
    "  scaler=None\n",
    "  if scale:\n",
    "    scaler = MinMaxScaler(feature_range=(-1, 1))\n",
    "    scaler = scaler.fit(X)\n",
    "    scaled_X = scaler.transform(X)\n",
    "  else:\n",
    "    scaled_X = np.array(X)\n",
    "  train_size = int(len(scaled_X) * train_percent)\n",
    "  test_size = len(scaled_X) - train_size\n",
    "  train, test = scaled_X[0:train_size,:], scaled_X[train_size:len(scaled_X),:]\n",
    "  return create_sequences(train, time_steps), create_sequences(test, time_steps), scaler\n",
    "\n",
    "def lstm_network(X, Y, time_steps=1, n_features=1):\n",
    "  model = kr.Sequential()\n",
    "  model.add(kr.layers.LSTM(100, input_shape=(time_steps, n_features), return_sequences=True)) #return_sequences=True\n",
    "  model.add(kr.layers.Dropout(0.3))\n",
    "  model.add(kr.layers.LSTM(100))\n",
    "  model.add(kr.layers.Dropout(0.3))\n",
    "  model.add(kr.layers.Dense(1))\n",
    "  opt = tf.keras.optimizers.Adam(learning_rate=0.001)\n",
    "  model.compile(loss='mean_squared_error', optimizer=opt)\n",
    "  model.summary()\n",
    "  model.fit(X, Y, epochs=50, batch_size=6);\n",
    "  return model"
   ]
  },
  {
   "cell_type": "markdown",
   "metadata": {
    "collapsed": false
   },
   "source": [
    "## Variable monodimensionelle"
   ]
  },
  {
   "cell_type": "code",
   "execution_count": 70,
   "metadata": {
    "collapsed": false,
    "pycharm": {
     "name": "#%%\n"
    }
   },
   "outputs": [],
   "source": [
    "time_steps = 1\n",
    "n_features = 1"
   ]
  },
  {
   "cell_type": "markdown",
   "metadata": {
    "collapsed": false
   },
   "source": [
    "### Nombre de cas"
   ]
  },
  {
   "cell_type": "code",
   "execution_count": 71,
   "metadata": {
    "collapsed": false,
    "pycharm": {
     "name": "#%%\n"
    }
   },
   "outputs": [
    {
     "name": "stdout",
     "output_type": "stream",
     "text": [
      "Model: \"sequential_4\"\n",
      "_________________________________________________________________\n",
      " Layer (type)                Output Shape              Param #   \n",
      "=================================================================\n",
      " lstm_8 (LSTM)               (None, 1, 100)            40800     \n",
      "                                                                 \n",
      " dropout_8 (Dropout)         (None, 1, 100)            0         \n",
      "                                                                 \n",
      " lstm_9 (LSTM)               (None, 100)               80400     \n",
      "                                                                 \n",
      " dropout_9 (Dropout)         (None, 100)               0         \n",
      "                                                                 \n",
      " dense_4 (Dense)             (None, 1)                 101       \n",
      "                                                                 \n",
      "=================================================================\n",
      "Total params: 121,301\n",
      "Trainable params: 121,301\n",
      "Non-trainable params: 0\n",
      "_________________________________________________________________\n",
      "Epoch 1/50\n",
      "85/85 [==============================] - 3s 3ms/step - loss: 0.2028\n",
      "Epoch 2/50\n",
      "85/85 [==============================] - 0s 3ms/step - loss: 0.0116\n",
      "Epoch 3/50\n",
      "85/85 [==============================] - 0s 3ms/step - loss: 0.0058\n",
      "Epoch 4/50\n",
      "85/85 [==============================] - 0s 3ms/step - loss: 0.0048\n",
      "Epoch 5/50\n",
      "85/85 [==============================] - 0s 3ms/step - loss: 0.0051\n",
      "Epoch 6/50\n",
      "85/85 [==============================] - 0s 3ms/step - loss: 0.0046\n",
      "Epoch 7/50\n",
      "85/85 [==============================] - 0s 3ms/step - loss: 0.0052\n",
      "Epoch 8/50\n",
      "85/85 [==============================] - 0s 3ms/step - loss: 0.0049\n",
      "Epoch 9/50\n",
      "85/85 [==============================] - 0s 2ms/step - loss: 0.0048\n",
      "Epoch 10/50\n",
      "85/85 [==============================] - 0s 3ms/step - loss: 0.0043\n",
      "Epoch 11/50\n",
      "85/85 [==============================] - 0s 3ms/step - loss: 0.0045\n",
      "Epoch 12/50\n",
      "85/85 [==============================] - 0s 3ms/step - loss: 0.0045\n",
      "Epoch 13/50\n",
      "85/85 [==============================] - 0s 3ms/step - loss: 0.0042\n",
      "Epoch 14/50\n",
      "85/85 [==============================] - 0s 3ms/step - loss: 0.0045\n",
      "Epoch 15/50\n",
      "85/85 [==============================] - 0s 3ms/step - loss: 0.0048\n",
      "Epoch 16/50\n",
      "85/85 [==============================] - 0s 3ms/step - loss: 0.0040\n",
      "Epoch 17/50\n",
      "85/85 [==============================] - 0s 2ms/step - loss: 0.0046\n",
      "Epoch 18/50\n",
      "85/85 [==============================] - 0s 2ms/step - loss: 0.0036\n",
      "Epoch 19/50\n",
      "85/85 [==============================] - 0s 2ms/step - loss: 0.0040\n",
      "Epoch 20/50\n",
      "85/85 [==============================] - 0s 2ms/step - loss: 0.0040\n",
      "Epoch 21/50\n",
      "85/85 [==============================] - 0s 3ms/step - loss: 0.0045\n",
      "Epoch 22/50\n",
      "85/85 [==============================] - 0s 3ms/step - loss: 0.0037\n",
      "Epoch 23/50\n",
      "85/85 [==============================] - 0s 3ms/step - loss: 0.0036\n",
      "Epoch 24/50\n",
      "85/85 [==============================] - 0s 3ms/step - loss: 0.0040\n",
      "Epoch 25/50\n",
      "85/85 [==============================] - 0s 3ms/step - loss: 0.0039\n",
      "Epoch 26/50\n",
      "85/85 [==============================] - 0s 3ms/step - loss: 0.0040\n",
      "Epoch 27/50\n",
      "85/85 [==============================] - 0s 3ms/step - loss: 0.0036\n",
      "Epoch 28/50\n",
      "85/85 [==============================] - 0s 3ms/step - loss: 0.0036\n",
      "Epoch 29/50\n",
      "85/85 [==============================] - 0s 3ms/step - loss: 0.0031\n",
      "Epoch 30/50\n",
      "85/85 [==============================] - 0s 3ms/step - loss: 0.0041\n",
      "Epoch 31/50\n",
      "85/85 [==============================] - 0s 3ms/step - loss: 0.0037\n",
      "Epoch 32/50\n",
      "85/85 [==============================] - 0s 3ms/step - loss: 0.0037\n",
      "Epoch 33/50\n",
      "85/85 [==============================] - 0s 3ms/step - loss: 0.0039\n",
      "Epoch 34/50\n",
      "85/85 [==============================] - 0s 2ms/step - loss: 0.0033\n",
      "Epoch 35/50\n",
      "85/85 [==============================] - 0s 3ms/step - loss: 0.0037\n",
      "Epoch 36/50\n",
      "85/85 [==============================] - 0s 3ms/step - loss: 0.0032\n",
      "Epoch 37/50\n",
      "85/85 [==============================] - 0s 3ms/step - loss: 0.0031\n",
      "Epoch 38/50\n",
      "85/85 [==============================] - 0s 3ms/step - loss: 0.0037\n",
      "Epoch 39/50\n",
      "85/85 [==============================] - 0s 3ms/step - loss: 0.0035\n",
      "Epoch 40/50\n",
      "85/85 [==============================] - 0s 3ms/step - loss: 0.0033\n",
      "Epoch 41/50\n",
      "85/85 [==============================] - 0s 3ms/step - loss: 0.0038\n",
      "Epoch 42/50\n",
      "85/85 [==============================] - 0s 3ms/step - loss: 0.0032\n",
      "Epoch 43/50\n",
      "85/85 [==============================] - 0s 3ms/step - loss: 0.0035\n",
      "Epoch 44/50\n",
      "85/85 [==============================] - 0s 3ms/step - loss: 0.0036\n",
      "Epoch 45/50\n",
      "85/85 [==============================] - 0s 3ms/step - loss: 0.0034\n",
      "Epoch 46/50\n",
      "85/85 [==============================] - 0s 3ms/step - loss: 0.0036\n",
      "Epoch 47/50\n",
      "85/85 [==============================] - 0s 3ms/step - loss: 0.0035\n",
      "Epoch 48/50\n",
      "85/85 [==============================] - 0s 3ms/step - loss: 0.0032\n",
      "Epoch 49/50\n",
      "85/85 [==============================] - 0s 3ms/step - loss: 0.0032\n",
      "Epoch 50/50\n",
      "85/85 [==============================] - 0s 2ms/step - loss: 0.0035\n"
     ]
    }
   ],
   "source": [
    "confirmed_lstm_set = df_confirmed_country.values[0]\n",
    "confirmed_lstm_set = np.reshape(confirmed_lstm_set, (len(confirmed_lstm_set), 1))\n",
    "\n",
    "confirmed_train, confirmed_test, confirmed_scaler = create_lstm_sets(confirmed_lstm_set, time_steps)\n",
    "\n",
    "confirmed_trainX, confirmed_trainY = confirmed_train\n",
    "confirmed_testX, confirmed_testY = confirmed_test\n",
    "\n",
    "confirmed_lstm = lstm_network(confirmed_trainX, confirmed_trainY, time_steps)"
   ]
  },
  {
   "cell_type": "markdown",
   "metadata": {
    "collapsed": false
   },
   "source": [
    "### Nombre de morts"
   ]
  },
  {
   "cell_type": "code",
   "execution_count": 72,
   "metadata": {
    "collapsed": false,
    "pycharm": {
     "name": "#%%\n"
    }
   },
   "outputs": [
    {
     "name": "stdout",
     "output_type": "stream",
     "text": [
      "Model: \"sequential_5\"\n",
      "_________________________________________________________________\n",
      " Layer (type)                Output Shape              Param #   \n",
      "=================================================================\n",
      " lstm_10 (LSTM)              (None, 1, 100)            40800     \n",
      "                                                                 \n",
      " dropout_10 (Dropout)        (None, 1, 100)            0         \n",
      "                                                                 \n",
      " lstm_11 (LSTM)              (None, 100)               80400     \n",
      "                                                                 \n",
      " dropout_11 (Dropout)        (None, 100)               0         \n",
      "                                                                 \n",
      " dense_5 (Dense)             (None, 1)                 101       \n",
      "                                                                 \n",
      "=================================================================\n",
      "Total params: 121,301\n",
      "Trainable params: 121,301\n",
      "Non-trainable params: 0\n",
      "_________________________________________________________________\n",
      "Epoch 1/50\n",
      "85/85 [==============================] - 3s 3ms/step - loss: 0.1556\n",
      "Epoch 2/50\n",
      "85/85 [==============================] - 0s 2ms/step - loss: 0.0045\n",
      "Epoch 3/50\n",
      "85/85 [==============================] - 0s 2ms/step - loss: 0.0041\n",
      "Epoch 4/50\n",
      "85/85 [==============================] - 0s 2ms/step - loss: 0.0035\n",
      "Epoch 5/50\n",
      "85/85 [==============================] - 0s 2ms/step - loss: 0.0038\n",
      "Epoch 6/50\n",
      "85/85 [==============================] - 0s 2ms/step - loss: 0.0041\n",
      "Epoch 7/50\n",
      "85/85 [==============================] - 0s 2ms/step - loss: 0.0036\n",
      "Epoch 8/50\n",
      "85/85 [==============================] - 0s 2ms/step - loss: 0.0035\n",
      "Epoch 9/50\n",
      "85/85 [==============================] - 0s 3ms/step - loss: 0.0035\n",
      "Epoch 10/50\n",
      "85/85 [==============================] - 0s 2ms/step - loss: 0.0034\n",
      "Epoch 11/50\n",
      "85/85 [==============================] - 0s 3ms/step - loss: 0.0038\n",
      "Epoch 12/50\n",
      "85/85 [==============================] - 0s 2ms/step - loss: 0.0036\n",
      "Epoch 13/50\n",
      "85/85 [==============================] - 0s 2ms/step - loss: 0.0036\n",
      "Epoch 14/50\n",
      "85/85 [==============================] - 0s 2ms/step - loss: 0.0040\n",
      "Epoch 15/50\n",
      "85/85 [==============================] - 0s 2ms/step - loss: 0.0034\n",
      "Epoch 16/50\n",
      "85/85 [==============================] - 0s 2ms/step - loss: 0.0031\n",
      "Epoch 17/50\n",
      "85/85 [==============================] - 0s 2ms/step - loss: 0.0033\n",
      "Epoch 18/50\n",
      "85/85 [==============================] - 0s 2ms/step - loss: 0.0041\n",
      "Epoch 19/50\n",
      "85/85 [==============================] - 0s 2ms/step - loss: 0.0034\n",
      "Epoch 20/50\n",
      "85/85 [==============================] - 0s 2ms/step - loss: 0.0033\n",
      "Epoch 21/50\n",
      "85/85 [==============================] - 0s 2ms/step - loss: 0.0037\n",
      "Epoch 22/50\n",
      "85/85 [==============================] - 0s 3ms/step - loss: 0.0030\n",
      "Epoch 23/50\n",
      "85/85 [==============================] - 0s 3ms/step - loss: 0.0029\n",
      "Epoch 24/50\n",
      "85/85 [==============================] - 0s 2ms/step - loss: 0.0033\n",
      "Epoch 25/50\n",
      "85/85 [==============================] - 0s 2ms/step - loss: 0.0032\n",
      "Epoch 26/50\n",
      "85/85 [==============================] - 0s 2ms/step - loss: 0.0033\n",
      "Epoch 27/50\n",
      "85/85 [==============================] - 0s 2ms/step - loss: 0.0037\n",
      "Epoch 28/50\n",
      "85/85 [==============================] - 0s 2ms/step - loss: 0.0031\n",
      "Epoch 29/50\n",
      "85/85 [==============================] - 0s 2ms/step - loss: 0.0040\n",
      "Epoch 30/50\n",
      "85/85 [==============================] - 0s 2ms/step - loss: 0.0034\n",
      "Epoch 31/50\n",
      "85/85 [==============================] - 0s 2ms/step - loss: 0.0035\n",
      "Epoch 32/50\n",
      "85/85 [==============================] - 0s 2ms/step - loss: 0.0036\n",
      "Epoch 33/50\n",
      "85/85 [==============================] - 0s 3ms/step - loss: 0.0037\n",
      "Epoch 34/50\n",
      "85/85 [==============================] - 0s 3ms/step - loss: 0.0033\n",
      "Epoch 35/50\n",
      "85/85 [==============================] - 0s 2ms/step - loss: 0.0029\n",
      "Epoch 36/50\n",
      "85/85 [==============================] - 0s 2ms/step - loss: 0.0030\n",
      "Epoch 37/50\n",
      "85/85 [==============================] - 0s 2ms/step - loss: 0.0035\n",
      "Epoch 38/50\n",
      "85/85 [==============================] - 0s 2ms/step - loss: 0.0027\n",
      "Epoch 39/50\n",
      "85/85 [==============================] - 0s 2ms/step - loss: 0.0032\n",
      "Epoch 40/50\n",
      "85/85 [==============================] - 0s 2ms/step - loss: 0.0032\n",
      "Epoch 41/50\n",
      "85/85 [==============================] - 0s 2ms/step - loss: 0.0035\n",
      "Epoch 42/50\n",
      "85/85 [==============================] - 0s 3ms/step - loss: 0.0035\n",
      "Epoch 43/50\n",
      "85/85 [==============================] - 0s 3ms/step - loss: 0.0027\n",
      "Epoch 44/50\n",
      "85/85 [==============================] - 0s 3ms/step - loss: 0.0036\n",
      "Epoch 45/50\n",
      "85/85 [==============================] - 0s 2ms/step - loss: 0.0039\n",
      "Epoch 46/50\n",
      "85/85 [==============================] - 0s 2ms/step - loss: 0.0036\n",
      "Epoch 47/50\n",
      "85/85 [==============================] - 0s 2ms/step - loss: 0.0038\n",
      "Epoch 48/50\n",
      "85/85 [==============================] - 0s 3ms/step - loss: 0.0031\n",
      "Epoch 49/50\n",
      "85/85 [==============================] - 0s 2ms/step - loss: 0.0036\n",
      "Epoch 50/50\n",
      "85/85 [==============================] - 0s 2ms/step - loss: 0.0032\n"
     ]
    }
   ],
   "source": [
    "deaths_lstm_set = df_deaths_country.values[0]\n",
    "deaths_lstm_set = np.reshape(deaths_lstm_set, (len(deaths_lstm_set), 1))\n",
    "\n",
    "deaths_train, deaths_test, deaths_scaler = create_lstm_sets(deaths_lstm_set, time_steps)\n",
    "deaths_trainX, deaths_trainY = deaths_train\n",
    "deaths_testX, deaths_testY = deaths_test\n",
    "\n",
    "deaths_lstm = lstm_network(deaths_trainX, deaths_trainY, time_steps)"
   ]
  },
  {
   "cell_type": "markdown",
   "metadata": {
    "collapsed": false
   },
   "source": [
    "### Affichage des résultats"
   ]
  },
  {
   "cell_type": "code",
   "execution_count": 73,
   "metadata": {
    "collapsed": false,
    "pycharm": {
     "name": "#%%\n"
    }
   },
   "outputs": [
    {
     "data": {
      "image/png": "[encoded data removed]",
      "text/plain": [
       "<Figure size 432x288 with 1 Axes>"
      ]
     },
     "metadata": {
      "needs_background": "light"
     },
     "output_type": "display_data"
    },
    {
     "data": {
      "image/png": "[encoded data removed]",
      "text/plain": [
       "<Figure size 432x288 with 1 Axes>"
      ]
     },
     "metadata": {
      "needs_background": "light"
     },
     "output_type": "display_data"
    }
   ],
   "source": [
    "def display_plot_lstm(model, scaler, trainX, trainY, testX, testY, country, ord_context):\n",
    "  daysTrain = range(len(trainX))\n",
    "  daysTest = np.array(range(len(testX))) + len(daysTrain)\n",
    "  plt.plot(daysTrain, scaler.inverse_transform(model.predict(trainX)), '-', label=\"Prédiction sur jeu d'entraînement\")\n",
    "  plt.plot(daysTrain, scaler.inverse_transform(np.reshape(trainY, (-1, 1))), '-', label=\"Réalité sur jeu d'entraînement\")\n",
    "\n",
    "  plt.plot(daysTest, scaler.inverse_transform(model.predict(testX)), '-', label=\"Prédiction sur jeu de test\")\n",
    "  plt.plot(daysTest, scaler.inverse_transform(np.reshape(testY, (-1, 1))), '-', label=\"Réalité sur jeu de test\")\n",
    "\n",
    "  plt.axvline(len(trainX), 0, 1)\n",
    "  plt.legend()\n",
    "  plt.title(\"Nombre de \" + ord_context + \" pour : \" + country)\n",
    "  plt.xlabel(\"Nombre de jours\")\n",
    "  plt.ylabel(\"Nombre de \" + ord_context)\n",
    "  plt.show()\n",
    "\n",
    "display_plot_lstm(confirmed_lstm, confirmed_scaler, confirmed_trainX, confirmed_trainY, confirmed_testX, confirmed_testY, country, \"cas\")\n",
    "display_plot_lstm(deaths_lstm, deaths_scaler, deaths_trainX, deaths_trainY, deaths_testX, deaths_testY, country, \"morts\")"
   ]
  },
  {
   "cell_type": "code",
   "execution_count": 74,
   "metadata": {},
   "outputs": [
    {
     "name": "stdout",
     "output_type": "stream",
     "text": [
      "[[0.5]]\n",
      "506\n",
      "[[0.48258525]]\n",
      "[[0.4666406]]\n",
      "[[0.45199418]]\n",
      "[[0.4385]]\n",
      "[[0.42603445]]\n",
      "[[0.41449094]]\n",
      "[[0.4037773]]\n",
      "[[0.39381373]]\n",
      "[[0.38453048]]\n",
      "[[0.37586623]]\n",
      "[[0.3677665]]\n",
      "[[0.3601836]]\n",
      "[[0.3530749]]\n",
      "[[0.34640235]]\n",
      "[[0.34013164]]\n",
      "[[0.33423245]]\n",
      "[[0.32867676]]\n",
      "[[0.32343984]]\n",
      "[[0.31849873]]\n",
      "[[0.31383312]]\n",
      "[[0.30942386]]\n",
      "[[0.30525404]]\n",
      "[[0.30130798]]\n",
      "[[0.29757112]]\n",
      "[[0.29403007]]\n",
      "[[0.29067275]]\n",
      "[[0.2874879]]\n",
      "[[0.28446507]]\n",
      "[[0.28159472]]\n",
      "[[0.27886796]]\n",
      "[[0.27627623]]\n",
      "[[0.27381203]]\n",
      "[[0.27146807]]\n",
      "[[0.26923764]]\n",
      "[[0.2671146]]\n",
      "[[0.26509303]]\n",
      "[[0.26316747]]\n",
      "[[0.26133287]]\n",
      "[[0.2595844]]\n",
      "[[0.2579176]]\n",
      "[[0.25632834]]\n",
      "[[0.2548124]]\n",
      "[[0.25336617]]\n",
      "[[0.25198624]]\n",
      "[[0.25066918]]\n",
      "[[0.24941194]]\n",
      "[[0.24821147]]\n",
      "[[0.24706513]]\n",
      "[[0.24597022]]\n",
      "[[0.24492428]]\n",
      "[[0.24392492]]\n",
      "[[0.2429699]]\n",
      "[[0.24205726]]\n",
      "[[0.24118486]]\n",
      "[[0.24035081]]\n",
      "[[0.23955342]]\n",
      "[[0.23879102]]\n",
      "[[0.23806188]]\n",
      "[[0.23736432]]\n",
      "[[0.23669726]]\n"
     ]
    }
   ],
   "source": [
    "days = 60\n",
    "predictions = []\n",
    "test = [[0.5]]\n",
    "print(test)\n",
    "start_day = len(confirmed_trainX)\n",
    "print(start_day)\n",
    "for i in range(days):\n",
    "    pred = confirmed_lstm.predict(test)\n",
    "    predictions.append(pred)\n",
    "    test = pred\n",
    "    print(test)"
   ]
  },
  {
   "cell_type": "markdown",
   "metadata": {},
   "source": [
    "# Variables multi-dimensionnelles"
   ]
  },
  {
   "cell_type": "code",
   "execution_count": 75,
   "metadata": {},
   "outputs": [],
   "source": [
    "time_steps = 2\n",
    "n_features = 2"
   ]
  },
  {
   "cell_type": "markdown",
   "metadata": {},
   "source": [
    "### Get new data\n"
   ]
  },
  {
   "cell_type": "code",
   "execution_count": 76,
   "metadata": {},
   "outputs": [],
   "source": [
    "df_raw_stringency_index = pd.read_csv(\"covid-stringency-index.csv\")\n",
    "df_raw_stringency_index_country = df_raw_stringency_index[df_raw_stringency_index[\"Entity\"] == country]\n",
    "df_stringency_index_country = df_raw_stringency_index_country.drop(columns=[\"Entity\", \"Code\"])\n",
    "df_stringency_index_country.drop(index=df_stringency_index_country.index[0], axis=0, inplace=True)\n",
    "\n",
    "stringency_index_values = list(df_stringency_index_country.stringency_index)[:len(confirmed_country_values)]\n",
    "stringency_index_days = [i for i in range(df_stringency_index_country.Day.size)]"
   ]
  },
  {
   "cell_type": "markdown",
   "metadata": {},
   "source": [
    "### Adjust some data length (all equal)"
   ]
  },
  {
   "cell_type": "code",
   "execution_count": 77,
   "metadata": {},
   "outputs": [],
   "source": [
    "confirmed_country_values = confirmed_country_values[:len(stringency_index_values)]\n",
    "confirmed_country_days = confirmed_country_days[:len(stringency_index_values)]\n",
    "\n",
    "deaths_country_values = deaths_country_values[:len(stringency_index_values)]\n",
    "deaths_country_days = deaths_country_days[:len(stringency_index_values)]"
   ]
  },
  {
   "cell_type": "markdown",
   "metadata": {},
   "source": [
    "### Print on a plot"
   ]
  },
  {
   "cell_type": "code",
   "execution_count": 78,
   "metadata": {},
   "outputs": [
    {
     "data": {
      "image/png": "[encoded data removed]",
      "text/plain": [
       "<Figure size 432x288 with 1 Axes>"
      ]
     },
     "metadata": {
      "needs_background": "light"
     },
     "output_type": "display_data"
    },
    {
     "data": {
      "image/png": "[encoded data removed]",
      "text/plain": [
       "<Figure size 432x288 with 1 Axes>"
      ]
     },
     "metadata": {
      "needs_background": "light"
     },
     "output_type": "display_data"
    }
   ],
   "source": [
    "plt.plot(confirmed_country_days, confirmed_country_values, '.-')\n",
    "plt.title(\"Nombre de cas confirmés pour : \" + country)\n",
    "plt.xlabel(\"Nombre de jours\")\n",
    "plt.ylabel(\"Nombre de cas\")\n",
    "plt.show()\n",
    "\n",
    "plt.plot(stringency_index_days, stringency_index_values, '.-')\n",
    "plt.title(\"Indice de stringency pour : \" + country)\n",
    "plt.xlabel(\"Nombre de jours\")\n",
    "plt.ylabel(\"Indice de stringency\")\n",
    "plt.show()"
   ]
  },
  {
   "cell_type": "markdown",
   "metadata": {},
   "source": [
    "### Create data sets"
   ]
  },
  {
   "cell_type": "code",
   "execution_count": 79,
   "metadata": {},
   "outputs": [],
   "source": [
    "# Scaled values\n",
    "confirmed_scaler = MinMaxScaler((-1, 1))\n",
    "deaths_scaler = MinMaxScaler((-1, 1))\n",
    "stringency_scaler = MinMaxScaler((-1, 1))\n",
    "\n",
    "confirmed_scaler.fit(confirmed_country_values.reshape((-1, 1)))\n",
    "scaled_confirmed = confirmed_scaler.transform(confirmed_country_values.reshape((-1, 1))).reshape((-1,))\n",
    "\n",
    "deaths_scaler.fit(deaths_country_values.reshape((-1, 1)))\n",
    "scaled_deaths = deaths_scaler.transform(deaths_country_values.reshape((-1, 1))).reshape((-1,))\n",
    "\n",
    "stringency_scaler.fit(np.array(stringency_index_values).reshape((-1, 1)))\n",
    "scaled_stringency = stringency_scaler.transform(np.array(stringency_index_values).reshape((-1, 1))).reshape((-1,))"
   ]
  },
  {
   "cell_type": "code",
   "execution_count": 80,
   "metadata": {},
   "outputs": [],
   "source": [
    "multi_data = list(zip(scaled_confirmed, scaled_stringency))"
   ]
  },
  {
   "cell_type": "code",
   "execution_count": 81,
   "metadata": {},
   "outputs": [],
   "source": [
    "multi_train, multi_test, _ = create_lstm_sets(multi_data, time_steps, scale=False, train_percent=0.70)\n",
    "multi_trainX, multi_trainY = multi_train\n",
    "multi_testX, multi_testY = multi_test"
   ]
  },
  {
   "cell_type": "code",
   "execution_count": 82,
   "metadata": {},
   "outputs": [],
   "source": [
    "def lstm_network_multi(X, Y, time_steps=1, n_features=1):\n",
    "  model = kr.Sequential()\n",
    "  model.add(kr.layers.LSTM(100, input_shape=(time_steps, n_features), return_sequences=True)) #return_sequences=True\n",
    "  model.add(kr.layers.Dropout(0.2))\n",
    "  model.add(kr.layers.LSTM(100))\n",
    "  model.add(kr.layers.Dropout(0.2))\n",
    "  model.add(kr.layers.Dense(1))\n",
    "  opt = tf.keras.optimizers.Adam(learning_rate=0.001)\n",
    "  model.compile(loss='mean_squared_error', optimizer=opt)\n",
    "  model.summary()\n",
    "  model.fit(X, Y, epochs=30, batch_size=6);\n",
    "  return model"
   ]
  },
  {
   "cell_type": "code",
   "execution_count": 83,
   "metadata": {},
   "outputs": [
    {
     "name": "stdout",
     "output_type": "stream",
     "text": [
      "Model: \"sequential_6\"\n",
      "_________________________________________________________________\n",
      " Layer (type)                Output Shape              Param #   \n",
      "=================================================================\n",
      " lstm_12 (LSTM)              (None, 2, 100)            41200     \n",
      "                                                                 \n",
      " dropout_12 (Dropout)        (None, 2, 100)            0         \n",
      "                                                                 \n",
      " lstm_13 (LSTM)              (None, 100)               80400     \n",
      "                                                                 \n",
      " dropout_13 (Dropout)        (None, 100)               0         \n",
      "                                                                 \n",
      " dense_6 (Dense)             (None, 1)                 101       \n",
      "                                                                 \n",
      "=================================================================\n",
      "Total params: 121,701\n",
      "Trainable params: 121,701\n",
      "Non-trainable params: 0\n",
      "_________________________________________________________________\n",
      "Epoch 1/30\n",
      "78/78 [==============================] - 3s 3ms/step - loss: 0.0943\n",
      "Epoch 2/30\n",
      "78/78 [==============================] - 0s 4ms/step - loss: 0.0049\n",
      "Epoch 3/30\n",
      "78/78 [==============================] - 0s 3ms/step - loss: 0.0038\n",
      "Epoch 4/30\n",
      "78/78 [==============================] - 0s 3ms/step - loss: 0.0038\n",
      "Epoch 5/30\n",
      "78/78 [==============================] - 0s 3ms/step - loss: 0.0034\n",
      "Epoch 6/30\n",
      "78/78 [==============================] - 0s 3ms/step - loss: 0.0031\n",
      "Epoch 7/30\n",
      "78/78 [==============================] - 0s 3ms/step - loss: 0.0027\n",
      "Epoch 8/30\n",
      "78/78 [==============================] - 0s 4ms/step - loss: 0.0027\n",
      "Epoch 9/30\n",
      "78/78 [==============================] - 0s 3ms/step - loss: 0.0029\n",
      "Epoch 10/30\n",
      "78/78 [==============================] - 0s 3ms/step - loss: 0.0026\n",
      "Epoch 11/30\n",
      "78/78 [==============================] - 0s 3ms/step - loss: 0.0027\n",
      "Epoch 12/30\n",
      "78/78 [==============================] - 0s 4ms/step - loss: 0.0037\n",
      "Epoch 13/30\n",
      "78/78 [==============================] - 0s 3ms/step - loss: 0.0027\n",
      "Epoch 14/30\n",
      "78/78 [==============================] - 0s 4ms/step - loss: 0.0027\n",
      "Epoch 15/30\n",
      "78/78 [==============================] - 0s 3ms/step - loss: 0.0025\n",
      "Epoch 16/30\n",
      "78/78 [==============================] - 0s 3ms/step - loss: 0.0024\n",
      "Epoch 17/30\n",
      "78/78 [==============================] - 0s 3ms/step - loss: 0.0033\n",
      "Epoch 18/30\n",
      "78/78 [==============================] - 0s 3ms/step - loss: 0.0023\n",
      "Epoch 19/30\n",
      "78/78 [==============================] - 0s 3ms/step - loss: 0.0023\n",
      "Epoch 20/30\n",
      "78/78 [==============================] - 0s 3ms/step - loss: 0.0026\n",
      "Epoch 21/30\n",
      "78/78 [==============================] - 0s 3ms/step - loss: 0.0025\n",
      "Epoch 22/30\n",
      "78/78 [==============================] - 0s 3ms/step - loss: 0.0021\n",
      "Epoch 23/30\n",
      "78/78 [==============================] - 0s 4ms/step - loss: 0.0025\n",
      "Epoch 24/30\n",
      "78/78 [==============================] - 0s 3ms/step - loss: 0.0020\n",
      "Epoch 25/30\n",
      "78/78 [==============================] - 0s 3ms/step - loss: 0.0021\n",
      "Epoch 26/30\n",
      "78/78 [==============================] - 0s 3ms/step - loss: 0.0027\n",
      "Epoch 27/30\n",
      "78/78 [==============================] - 0s 3ms/step - loss: 0.0031\n",
      "Epoch 28/30\n",
      "78/78 [==============================] - 0s 3ms/step - loss: 0.0025\n",
      "Epoch 29/30\n",
      "78/78 [==============================] - 0s 3ms/step - loss: 0.0023\n",
      "Epoch 30/30\n",
      "78/78 [==============================] - 0s 4ms/step - loss: 0.0020\n"
     ]
    }
   ],
   "source": [
    "multi_lstm = lstm_network_multi(multi_trainX, multi_trainY, time_steps, n_features)"
   ]
  },
  {
   "cell_type": "code",
   "execution_count": 84,
   "metadata": {},
   "outputs": [
    {
     "data": {
      "image/png": "[encoded data removed]",
      "text/plain": [
       "<Figure size 432x288 with 1 Axes>"
      ]
     },
     "metadata": {
      "needs_background": "light"
     },
     "output_type": "display_data"
    }
   ],
   "source": [
    "display_plot_lstm(multi_lstm, deaths_scaler, multi_trainX, multi_trainY, multi_testX, multi_testY, country, \"cas\")"
   ]
  },
  {
   "cell_type": "code",
   "execution_count": 85,
   "metadata": {},
   "outputs": [
    {
     "name": "stdout",
     "output_type": "stream",
     "text": [
      "465\n",
      "[[0.55741394]]\n",
      "[[0.5621316]]\n",
      "[[0.5633979]]\n",
      "[[0.56681406]]\n",
      "[[0.5684821]]\n",
      "[[0.57113665]]\n",
      "[[0.5728809]]\n",
      "[[0.5750509]]\n",
      "[[0.57672536]]\n",
      "[[0.5785579]]\n",
      "[[0.58010316]]\n",
      "[[0.58168143]]\n",
      "[[0.58307874]]\n",
      "[[0.58445364]]\n",
      "[[0.58570343]]\n",
      "[[0.5869079]]\n",
      "[[0.5880191]]\n",
      "[[0.58907783]]\n",
      "[[0.5900624]]\n",
      "[[0.59099424]]\n",
      "[[0.59186465]]\n",
      "[[0.5926856]]\n",
      "[[0.59345376]]\n",
      "[[0.594177]]\n",
      "[[0.59485453]]\n",
      "[[0.5954918]]\n",
      "[[0.59608936]]\n",
      "[[0.5966505]]\n",
      "[[0.5971769]]\n",
      "[[0.59767085]]\n",
      "[[0.5981349]]\n",
      "[[0.5985697]]\n",
      "[[0.59897804]]\n",
      "[[0.599361]]\n",
      "[[0.5997201]]\n",
      "[[0.6000573]]\n",
      "[[0.6003736]]\n",
      "[[0.6006701]]\n",
      "[[0.6009487]]\n",
      "[[0.60120946]]\n",
      "[[0.60145444]]\n",
      "[[0.60168403]]\n",
      "[[0.60189945]]\n",
      "[[0.60210127]]\n",
      "[[0.6022906]]\n",
      "[[0.6024683]]\n",
      "[[0.602635]]\n",
      "[[0.6027912]]\n",
      "[[0.6029378]]\n",
      "[[0.6030751]]\n",
      "[[0.60320413]]\n",
      "[[0.6033247]]\n",
      "[[0.60343814]]\n",
      "[[0.60354435]]\n",
      "[[0.6036439]]\n",
      "[[0.60373724]]\n",
      "[[0.60382473]]\n",
      "[[0.6039068]]\n",
      "[[0.60398376]]\n",
      "[[0.604056]]\n",
      "[[0.60412335]]\n",
      "[[0.60418683]]\n",
      "[[0.60424614]]\n",
      "[[0.604302]]\n",
      "[[0.60435426]]\n",
      "[[0.6044034]]\n",
      "[[0.6044491]]\n",
      "[[0.60449237]]\n",
      "[[0.6045326]]\n",
      "[[0.6045703]]\n",
      "[[0.60460573]]\n",
      "[[0.60463893]]\n",
      "[[0.6046699]]\n",
      "[[0.6046994]]\n",
      "[[0.6047268]]\n",
      "[[0.6047526]]\n",
      "[[0.6047765]]\n",
      "[[0.60479933]]\n",
      "[[0.6048203]]\n",
      "[[0.6048403]]\n",
      "[[0.604859]]\n",
      "[[0.60487634]]\n",
      "[[0.60489273]]\n",
      "[[0.6049081]]\n",
      "[[0.6049224]]\n",
      "[[0.6049358]]\n",
      "[[0.6049485]]\n",
      "[[0.6049604]]\n",
      "[[0.6049714]]\n",
      "[[0.6049817]]\n",
      "[[0.6049917]]\n",
      "[[0.60500073]]\n",
      "[[0.6050095]]\n",
      "[[0.6050173]]\n",
      "[[0.6050251]]\n",
      "[[0.605032]]\n",
      "[[0.6050388]]\n",
      "[[0.6050449]]\n",
      "[[0.60505074]]\n",
      "[[0.6050562]]\n",
      "[[0.60506153]]\n",
      "[[0.6050661]]\n",
      "[[0.6050708]]\n",
      "[[0.6050749]]\n",
      "[[0.6050787]]\n",
      "[[0.6050826]]\n",
      "[[0.60508585]]\n",
      "[[0.605089]]\n",
      "[[0.605092]]\n",
      "[[0.605095]]\n",
      "[[0.6050974]]\n",
      "[[0.6051003]]\n",
      "[[0.6051025]]\n",
      "[[0.6051047]]\n",
      "[[0.6051069]]\n",
      "[[0.6051087]]\n",
      "[[0.60511065]]\n",
      "[[0.6051122]]\n",
      "[[0.60511386]]\n",
      "[[0.60511523]]\n",
      "[[0.60511696]]\n",
      "[[0.6051182]]\n",
      "[[0.6051193]]\n",
      "[[0.6051206]]\n",
      "[[0.6051216]]\n",
      "[[0.6051226]]\n",
      "[[0.60512346]]\n",
      "[[0.60512424]]\n",
      "[[0.6051251]]\n",
      "[[0.60512596]]\n",
      "[[0.6051267]]\n",
      "[[0.6051273]]\n",
      "[[0.60512793]]\n",
      "[[0.6051287]]\n",
      "[[0.6051293]]\n",
      "[[0.60512984]]\n",
      "[[0.6051304]]\n",
      "[[0.6051308]]\n",
      "[[0.6051312]]\n",
      "[[0.60513145]]\n",
      "[[0.6051319]]\n",
      "[[0.6051322]]\n",
      "[[0.6051326]]\n",
      "[[0.6051328]]\n",
      "[[0.6051333]]\n",
      "[[0.6051336]]\n",
      "[[0.60513383]]\n",
      "[[0.605134]]\n",
      "[[0.6051342]]\n",
      "[[0.60513425]]\n"
     ]
    }
   ],
   "source": [
    "n_days = 150\n",
    "predictions = []\n",
    "test = multi_trainX[-1]\n",
    "test = test.reshape(-1, time_steps, n_features)\n",
    "start_day = len(multi_trainX)\n",
    "print(start_day)\n",
    "for i in range(n_days):\n",
    "    pred = multi_lstm.predict(test)\n",
    "    predictions.append(pred[0][0])\n",
    "    \n",
    "    old = test[0][0]\n",
    "    test = np.delete(test[0], 0, axis=0)\n",
    "\n",
    "    test = np.append(test, [pred[0][0], old[1]]).reshape(-1, time_steps, n_features)\n",
    "\n",
    "    print(pred)"
   ]
  },
  {
   "cell_type": "code",
   "execution_count": 86,
   "metadata": {},
   "outputs": [],
   "source": [
    "predicted_plot = np.concatenate((confirmed_trainX[:start_day].reshape((-1,)), predictions))\n",
    "predicted_plot = confirmed_scaler.inverse_transform(predicted_plot.reshape((-1, 1)))\n",
    "\n",
    "days = np.concatenate((list(range(start_day)), np.array([day for day in range(start_day, start_day+n_days)])))"
   ]
  },
  {
   "cell_type": "code",
   "execution_count": 87,
   "metadata": {},
   "outputs": [
    {
     "data": {
      "image/png": "[encoded data removed]",
      "text/plain": [
       "<Figure size 432x288 with 1 Axes>"
      ]
     },
     "metadata": {
      "needs_background": "light"
     },
     "output_type": "display_data"
    }
   ],
   "source": [
    "plt.plot(days, predicted_plot, '.-', label=\"Prédiction\")\n",
    "plt.plot(days, confirmed_country_values[:start_day+n_days], '.-', label=\"Réalité\")\n",
    "plt.legend()\n",
    "plt.axvline(start_day)\n",
    "plt.title(\"Nombre de cas confirmés pour : \" + country)\n",
    "plt.xlabel(\"Nombre de jours\")\n",
    "plt.ylabel(\"Nombre de cas\")\n",
    "plt.show()"
   ]
  },
  {
   "cell_type": "code",
   "execution_count": null,
   "metadata": {},
   "outputs": [],
   "source": []
  },
  {
   "cell_type": "code",
   "execution_count": null,
   "metadata": {},
   "outputs": [],
   "source": []
  }
 ],
 "metadata": {
  "interpreter": {
   "hash": "7131807ce35ac9e736e77ee5c468af6a0125a9e761140560e4dc712dc1cce710"
  },
  "kernelspec": {
   "display_name": "Python 3.9.0 64-bit",
   "language": "python",
   "name": "python3"
  },
  "language_info": {
   "codemirror_mode": {
    "name": "ipython",
    "version": 3
   },
   "file_extension": ".py",
   "mimetype": "text/x-python",
   "name": "python",
   "nbconvert_exporter": "python",
   "pygments_lexer": "ipython3",
   "version": "3.9.8"
  },
  "orig_nbformat": 4
 },
 "nbformat": 4,
 "nbformat_minor": 2
}
