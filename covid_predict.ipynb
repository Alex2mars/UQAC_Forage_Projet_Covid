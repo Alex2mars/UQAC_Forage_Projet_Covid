{
 "cells": [
  {
   "cell_type": "markdown",
   "metadata": {},
   "source": [
    "# Projet de prédiction des données liées au Covid"
   ]
  },
  {
   "cell_type": "markdown",
   "metadata": {},
   "source": [
    "Imports"
   ]
  },
  {
   "cell_type": "code",
   "execution_count": 6,
   "metadata": {},
   "outputs": [],
   "source": [
    "import pandas as pd\n",
    "import matplotlib.pyplot as plt"
   ]
  },
  {
   "cell_type": "code",
   "execution_count": 18,
   "metadata": {},
   "outputs": [],
   "source": [
    "df_raw_confirmed_global = pd.read_csv(\"https://raw.githubusercontent.com/CSSEGISandData/COVID-19/master/csse_covid_19_data/csse_covid_19_time_series/time_series_covid19_confirmed_global.csv\")\n",
    "df_raw_deaths_global = pd.read_csv(\"https://raw.githubusercontent.com/CSSEGISandData/COVID-19/master/csse_covid_19_data/csse_covid_19_time_series/time_series_covid19_deaths_global.csv\")"
   ]
  },
  {
   "cell_type": "code",
   "execution_count": 19,
   "metadata": {},
   "outputs": [],
   "source": [
    "# Choose latitude and longitude for the chosen country\n",
    "lat_min = 41.317\n",
    "lat_max = 51.07167\n",
    "long_min = -5.14028\n",
    "long_max = 9.51333"
   ]
  },
  {
   "cell_type": "code",
   "execution_count": 20,
   "metadata": {},
   "outputs": [],
   "source": [
    "# Function to filter elements by latitude/longitude\n",
    "def check_lat_long(df, lat_min, lat_max, long_min, long_max):\n",
    "   return df[(df[\"Lat\"] > lat_min) & (df[\"Lat\"] < lat_max) & (df[\"Long\"] > long_min) & (df[\"Long\"] < long_max)]"
   ]
  },
  {
   "cell_type": "code",
   "execution_count": 28,
   "metadata": {},
   "outputs": [],
   "source": [
    "country = \"France\"\n",
    "\n",
    "df_raw_confirmed_country = df_raw_confirmed_global[df_raw_confirmed_global[\"Country/Region\"] == country]\n",
    "df_raw_deaths_country = df_raw_deaths_global[df_raw_deaths_global[\"Country/Region\"] == country]\n",
    "\n",
    "df_confirmed_country = check_lat_long(df_raw_confirmed_country, lat_min ,lat_max ,long_min, long_max)\n",
    "df_deaths_country = check_lat_long(df_raw_deaths_country, lat_min, lat_max, long_min, long_max)"
   ]
  },
  {
   "cell_type": "code",
   "execution_count": 29,
   "metadata": {},
   "outputs": [
    {
     "data": {
      "text/html": [
       "<div>\n",
       "<style scoped>\n",
       "    .dataframe tbody tr th:only-of-type {\n",
       "        vertical-align: middle;\n",
       "    }\n",
       "\n",
       "    .dataframe tbody tr th {\n",
       "        vertical-align: top;\n",
       "    }\n",
       "\n",
       "    .dataframe thead th {\n",
       "        text-align: right;\n",
       "    }\n",
       "</style>\n",
       "<table border=\"1\" class=\"dataframe\">\n",
       "  <thead>\n",
       "    <tr style=\"text-align: right;\">\n",
       "      <th></th>\n",
       "      <th>0</th>\n",
       "      <th>1</th>\n",
       "      <th>2</th>\n",
       "      <th>3</th>\n",
       "      <th>4</th>\n",
       "      <th>5</th>\n",
       "      <th>6</th>\n",
       "      <th>7</th>\n",
       "      <th>8</th>\n",
       "      <th>9</th>\n",
       "      <th>...</th>\n",
       "      <th>664</th>\n",
       "      <th>665</th>\n",
       "      <th>666</th>\n",
       "      <th>667</th>\n",
       "      <th>668</th>\n",
       "      <th>669</th>\n",
       "      <th>670</th>\n",
       "      <th>671</th>\n",
       "      <th>672</th>\n",
       "      <th>673</th>\n",
       "    </tr>\n",
       "  </thead>\n",
       "  <tbody>\n",
       "    <tr>\n",
       "      <th>130</th>\n",
       "      <td>0</td>\n",
       "      <td>0</td>\n",
       "      <td>2</td>\n",
       "      <td>3</td>\n",
       "      <td>3</td>\n",
       "      <td>3</td>\n",
       "      <td>4</td>\n",
       "      <td>5</td>\n",
       "      <td>5</td>\n",
       "      <td>5</td>\n",
       "      <td>...</td>\n",
       "      <td>7128903</td>\n",
       "      <td>7149118</td>\n",
       "      <td>7168026</td>\n",
       "      <td>7188721</td>\n",
       "      <td>7211399</td>\n",
       "      <td>7231148</td>\n",
       "      <td>7235966</td>\n",
       "      <td>7266361</td>\n",
       "      <td>7296757</td>\n",
       "      <td>7330086</td>\n",
       "    </tr>\n",
       "  </tbody>\n",
       "</table>\n",
       "<p>1 rows × 674 columns</p>\n",
       "</div>"
      ],
      "text/plain": [
       "     0    1    2    3    4    5    6    7    8    9    ...      664      665  \\\n",
       "130    0    0    2    3    3    3    4    5    5    5  ...  7128903  7149118   \n",
       "\n",
       "         666      667      668      669      670      671      672      673  \n",
       "130  7168026  7188721  7211399  7231148  7235966  7266361  7296757  7330086  \n",
       "\n",
       "[1 rows x 674 columns]"
      ]
     },
     "execution_count": 29,
     "metadata": {},
     "output_type": "execute_result"
    }
   ],
   "source": [
    "uselessColumns = [\"Lat\", \"Long\", \"Province/State\", \"Country/Region\"]\n",
    "\n",
    "def columnsInNumbers(df):\n",
    "  df.columns = [i for i in range(len(df_confirmed_country.columns))]\n",
    "\n",
    "df_raw_confirmed_country = df_raw_confirmed_country.drop(columns=uselessColumns)\n",
    "df_raw_deaths_country = df_raw_deaths_country.drop(columns=uselessColumns)\n",
    "\n",
    "columnsInNumbers(df_confirmed_country)\n",
    "columnsInNumbers(df_deaths_country)\n",
    "\n",
    "df_confirmed_country"
   ]
  },
  {
   "cell_type": "code",
   "execution_count": 30,
   "metadata": {},
   "outputs": [],
   "source": [
    "def get_values_and_days(df):\n",
    "  return (df.values[0], df.columns.to_list())\n",
    "\n",
    "confirmed_country_values, confirmed_country_days = get_values_and_days(df_confirmed_country)\n",
    "deaths_country_values, deaths_country_days = get_values_and_days(df_deaths_country)\n"
   ]
  },
  {
   "cell_type": "code",
   "execution_count": 31,
   "metadata": {},
   "outputs": [
    {
     "data": {
      "image/png": "[encoded data removed]",
      "text/plain": [
       "<Figure size 432x288 with 1 Axes>"
      ]
     },
     "metadata": {
      "needs_background": "light"
     },
     "output_type": "display_data"
    },
    {
     "data": {
      "image/png": "[encoded data removed]",
      "text/plain": [
       "<Figure size 432x288 with 1 Axes>"
      ]
     },
     "metadata": {
      "needs_background": "light"
     },
     "output_type": "display_data"
    }
   ],
   "source": [
    "plt.plot(confirmed_country_days, confirmed_country_values, '.-')\n",
    "plt.title(\"Nombre de cas confirmés pour : \" + country)\n",
    "plt.xlabel(\"Nombre de jours\")\n",
    "plt.ylabel(\"Nombre de cas\")\n",
    "plt.show()\n",
    "\n",
    "plt.plot(deaths_country_days, deaths_country_values, '.-')\n",
    "plt.title(\"Nombre de déces pour : \" + country)\n",
    "plt.xlabel(\"Nombre de jours\")\n",
    "plt.ylabel(\"Nombre de déces\")\n",
    "plt.show()"
   ]
  },
  {
   "cell_type": "markdown",
   "metadata": {
    "pycharm": {
     "name": "#%% md\n"
    }
   },
   "source": [
    "Training and test sets\n"
   ]
  },
  {
   "cell_type": "code",
   "execution_count": null,
   "outputs": [],
   "source": [
    "from sklearn.model_selection import train_test_split\n",
    "\n",
    "confirmed_train, confirmed_test, confirmed_train_days, confirmed_test_days = train_test_split(confirmed_country_values, confirmed_country_days, test_size=0.30)\n",
    "deaths_train, deaths_test, deaths_train_days, deaths_test_days = train_test_split(deaths_country_values, deaths_country_days, test_size=0.30)"
   ],
   "metadata": {
    "collapsed": false,
    "pycharm": {
     "name": "#%%\n"
    }
   }
  },
  {
   "cell_type": "markdown",
   "source": [
    "# Regression polynomiale (degré = 2)"
   ],
   "metadata": {
    "collapsed": false,
    "pycharm": {
     "name": "#%% md\n"
    }
   }
  },
  {
   "cell_type": "code",
   "execution_count": null,
   "outputs": [],
   "source": [
    "import numpy as np\n",
    "from sklearn import svm"
   ],
   "metadata": {
    "collapsed": false,
    "pycharm": {
     "name": "#%%\n"
    }
   }
  },
  {
   "cell_type": "code",
   "execution_count": null,
   "outputs": [],
   "source": [
    "def regression(X, Y):\n",
    "  reg = svm.SVR(kernel='poly', C=1000, degree=2)\n",
    "  reg.fit(X, Y)\n",
    "  return reg\n",
    "\n",
    "reg_confirmed = regression(np.reshape(confirmed_train_days, newshape=(-1, 1)), confirmed_train)\n",
    "reg_deaths = regression(np.reshape(deaths_train_days, newshape=(-1, 1)), deaths_train)\n",
    "\n",
    "print(\"Regression cas : \", reg_confirmed.score(np.reshape(confirmed_test_days, newshape=(-1, 1)), confirmed_test))\n",
    "print(\"Regression morts : \", reg_deaths.score(np.reshape(deaths_test_days, newshape=(-1, 1)), deaths_test))"
   ],
   "metadata": {
    "collapsed": false,
    "pycharm": {
     "name": "#%%\n"
    }
   }
  },
  {
   "cell_type": "markdown",
   "source": [
    "Visualisation des modèles"
   ],
   "metadata": {
    "collapsed": false
   }
  },
  {
   "cell_type": "code",
   "execution_count": null,
   "outputs": [],
   "source": [
    "def display_plot(reg, X, Y, ord_context):\n",
    "  plt.plot(X, Y, '.-')\n",
    "  plt.plot(X, reg.predict(X), \"-\")\n",
    "  plt.title(\"Nombre de \" + ord_context + \" pour : \" + country)\n",
    "  plt.xlabel(\"Nombre de jours\")\n",
    "  plt.ylabel(\"Nombre de \" + ord_context)\n",
    "  plt.show()\n",
    "\n",
    "display_plot(reg_confirmed, np.reshape(confirmed_country_days, newshape=(-1, 1)), confirmed_country_values, \"cas\")\n",
    "display_plot(reg_deaths, np.reshape(deaths_country_days, newshape=(-1, 1)), deaths_country_values, \"morts\")"
   ],
   "metadata": {
    "collapsed": false,
    "pycharm": {
     "name": "#%%\n"
    }
   }
  },
  {
   "cell_type": "markdown",
   "source": [
    "-------------------- TEMP ---------------------------------"
   ],
   "metadata": {
    "collapsed": false
   }
  },
  {
   "cell_type": "markdown",
   "source": [
    "# Réseaux LSTM"
   ],
   "metadata": {
    "collapsed": false
   }
  },
  {
   "cell_type": "code",
   "execution_count": null,
   "outputs": [],
   "source": [
    "import tensorflow as tf\n",
    "import keras as kr\n",
    "from sklearn.preprocessing import MinMaxScaler"
   ],
   "metadata": {
    "collapsed": false,
    "pycharm": {
     "name": "#%%\n"
    }
   }
  },
  {
   "cell_type": "code",
   "execution_count": null,
   "outputs": [],
   "source": [
    "def create_sequences(data, time_steps=1):\n",
    "  dataX, dataY = [], []\n",
    "  for i in range(len(data)-time_steps):\n",
    "    a = data[i:(i+time_steps)]\n",
    "    dataX.append(a)\n",
    "    dataY.append(data[i + time_steps][0])\n",
    "  return np.array(dataX), np.array(dataY)\n",
    " \n",
    "def create_lstm_sets(X, time_steps=1, scale=True):\n",
    "  scaler=None\n",
    "  if scale:\n",
    "    scaler = MinMaxScaler(feature_range=(-1, 1))\n",
    "    scaler = scaler.fit(X)\n",
    "    scaled_X = scaler.transform(X)\n",
    "  else:\n",
    "    scaled_X = np.array(X)\n",
    "  train_size = int(len(scaled_X) * 0.75)\n",
    "  test_size = len(scaled_X) - train_size\n",
    "  train, test = scaled_X[0:train_size,:], scaled_X[train_size:len(scaled_X),:]\n",
    "  return create_sequences(train, time_steps), create_sequences(test, time_steps), scaler\n",
    "\n",
    "def lstm_network(X, Y, time_steps=1, n_features=1):\n",
    "  model = kr.Sequential()\n",
    "  model.add(kr.layers.LSTM(150, input_shape=(time_steps, n_features), return_sequences=True)) #return_sequences=True\n",
    "  model.add(kr.layers.Dropout(0.3))\n",
    "  model.add(kr.layers.LSTM(150))\n",
    "  model.add(kr.layers.Dropout(0.3))\n",
    "  model.add(kr.layers.Dense(1))\n",
    "  opt = tf.keras.optimizers.Adam(learning_rate=0.001)\n",
    "  model.compile(loss='mean_squared_error', optimizer=opt)\n",
    "  model.summary()\n",
    "  model.fit(X, Y, epochs=50, batch_size=6);\n",
    "  return model"
   ],
   "metadata": {
    "collapsed": false,
    "pycharm": {
     "name": "#%%\n"
    }
   }
  },
  {
   "cell_type": "markdown",
   "source": [
    "## Variable monodimensionelle"
   ],
   "metadata": {
    "collapsed": false
   }
  },
  {
   "cell_type": "code",
   "execution_count": null,
   "outputs": [],
   "source": [
    "time_steps = 1\n",
    "n_features = 1"
   ],
   "metadata": {
    "collapsed": false,
    "pycharm": {
     "name": "#%%\n"
    }
   }
  },
  {
   "cell_type": "markdown",
   "source": [
    "### Nombre de cas"
   ],
   "metadata": {
    "collapsed": false
   }
  },
  {
   "cell_type": "code",
   "execution_count": null,
   "outputs": [],
   "source": [
    "confirmed_lstm_set = df_confirmed_country.values[0]\n",
    "confirmed_lstm_set = np.reshape(confirmed_lstm_set, (len(confirmed_lstm_set), 1))\n",
    "\n",
    "confirmed_train, confirmed_test, confirmed_scaler = create_lstm_sets(confirmed_lstm_set, time_steps)\n",
    "\n",
    "confirmed_trainX, confirmed_trainY = confirmed_train\n",
    "confirmed_testX, confirmed_testY = confirmed_test\n",
    "\n",
    "confirmed_lstm = lstm_network(confirmed_trainX, confirmed_trainY, time_steps)"
   ],
   "metadata": {
    "collapsed": false,
    "pycharm": {
     "name": "#%%\n"
    }
   }
  },
  {
   "cell_type": "markdown",
   "source": [
    "### Nombre de morts"
   ],
   "metadata": {
    "collapsed": false
   }
  },
  {
   "cell_type": "code",
   "execution_count": null,
   "outputs": [],
   "source": [
    "deaths_lstm_set = df_deaths_country.values[0]\n",
    "deaths_lstm_set = np.reshape(deaths_lstm_set, (len(deaths_lstm_set), 1))\n",
    "\n",
    "deaths_train, deaths_test, deaths_scaler = create_lstm_sets(deaths_lstm_set, time_steps)\n",
    "deaths_trainX, deaths_trainY = deaths_train\n",
    "deaths_testX, deaths_testY = deaths_test\n",
    "\n",
    "deaths_lstm = lstm_network(deaths_trainX, deaths_trainY, time_steps)"
   ],
   "metadata": {
    "collapsed": false,
    "pycharm": {
     "name": "#%%\n"
    }
   }
  },
  {
   "cell_type": "markdown",
   "source": [
    "### Affichage des résultats"
   ],
   "metadata": {
    "collapsed": false
   }
  },
  {
   "cell_type": "code",
   "execution_count": null,
   "outputs": [],
   "source": [
    "def display_plot_lstm(model, scaler, trainX, trainY, testX, testY, country, ord_context):\n",
    "  daysTrain = range(len(trainX))\n",
    "  daysTest = np.array(range(len(testX))) + len(daysTrain)\n",
    "  plt.plot(daysTrain, scaler.inverse_transform(model.predict(trainX)), '-', label=\"Prédiction sur jeu d'entraînement\")\n",
    "  plt.plot(daysTrain, scaler.inverse_transform(np.reshape(trainY, (-1, 1))), '-', label=\"Réalité sur jeu d'entraînement\")\n",
    "\n",
    "  plt.plot(daysTest, scaler.inverse_transform(model.predict(testX)), '-', label=\"Prédiction sur jeu de test\")\n",
    "  plt.plot(daysTest, scaler.inverse_transform(np.reshape(testY, (-1, 1))), '-', label=\"Réalité sur jeu de test\")\n",
    "\n",
    "  plt.axvline(len(trainX), 0, 1)\n",
    "  plt.legend()\n",
    "  plt.title(\"Nombre de \" + ord_context + \" pour : \" + country)\n",
    "  plt.xlabel(\"Nombre de jours\")\n",
    "  plt.ylabel(\"Nombre de \" + ord_context)\n",
    "  plt.show()\n",
    "  \n",
    "display_plot_lstm(confirmed_lstm, confirmed_scaler, confirmed_trainX, confirmed_trainY, confirmed_testX, confirmed_testY, COUNTRY, \"cas\")\n",
    "display_plot_lstm(deaths_lstm, deaths_scaler, deaths_trainX, deaths_trainY, deaths_testX, deaths_testY, COUNTRY, \"morts\")"
   ],
   "metadata": {
    "collapsed": false,
    "pycharm": {
     "name": "#%%\n"
    }
   }
  }
 ],
 "metadata": {
  "interpreter": {
   "hash": "7131807ce35ac9e736e77ee5c468af6a0125a9e761140560e4dc712dc1cce710"
  },
  "kernelspec": {
   "display_name": "Python 3.9.0 64-bit",
   "language": "python",
   "name": "python3"
  },
  "language_info": {
   "codemirror_mode": {
    "name": "ipython",
    "version": 3
   },
   "file_extension": ".py",
   "mimetype": "text/x-python",
   "name": "python",
   "nbconvert_exporter": "python",
   "pygments_lexer": "ipython3",
   "version": "3.9.0"
  },
  "orig_nbformat": 4
 },
 "nbformat": 4,
 "nbformat_minor": 2
}