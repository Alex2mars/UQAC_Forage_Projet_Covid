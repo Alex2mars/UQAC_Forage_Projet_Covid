{
 "cells": [
  {
   "cell_type": "markdown",
   "metadata": {},
   "source": [
    "# Projet de prédiction des données liées au Covid"
   ]
  },
  {
   "cell_type": "markdown",
   "metadata": {},
   "source": [
    "Imports"
   ]
  },
  {
   "cell_type": "code",
   "execution_count": 80,
   "metadata": {},
   "outputs": [],
   "source": [
    "import pandas as pd\n",
    "import matplotlib.pyplot as plt"
   ]
  },
  {
   "cell_type": "code",
   "execution_count": 180,
   "metadata": {},
   "outputs": [],
   "source": [
    "df_raw_confirmed_global = pd.read_csv(\"https://raw.githubusercontent.com/CSSEGISandData/COVID-19/master/csse_covid_19_data/csse_covid_19_time_series/time_series_covid19_confirmed_global.csv\")\n",
    "df_raw_deaths_global = pd.read_csv(\"https://raw.githubusercontent.com/CSSEGISandData/COVID-19/master/csse_covid_19_data/csse_covid_19_time_series/time_series_covid19_deaths_global.csv\")"
   ]
  },
  {
   "cell_type": "code",
   "execution_count": 82,
   "metadata": {},
   "outputs": [],
   "source": [
    "# Choose latitude and longitude for the chosen country\n",
    "lat_min = 41.317\n",
    "lat_max = 51.07167\n",
    "long_min = -5.14028\n",
    "long_max = 9.51333"
   ]
  },
  {
   "cell_type": "code",
   "execution_count": 83,
   "metadata": {},
   "outputs": [],
   "source": [
    "# Function to filter elements by latitude/longitude\n",
    "def check_lat_long(df, lat_min, lat_max, long_min, long_max):\n",
    "   return df[(df[\"Lat\"] > lat_min) & (df[\"Lat\"] < lat_max) & (df[\"Long\"] > long_min) & (df[\"Long\"] < long_max)]"
   ]
  },
  {
   "cell_type": "code",
   "execution_count": 84,
   "metadata": {},
   "outputs": [],
   "source": [
    "country = \"France\"\n",
    "\n",
    "df_raw_confirmed_country = df_raw_confirmed_global[df_raw_confirmed_global[\"Country/Region\"] == country]\n",
    "df_raw_deaths_country = df_raw_deaths_global[df_raw_deaths_global[\"Country/Region\"] == country]\n",
    "\n",
    "#df_confirmed_country = df_raw_confirmed_country\n",
    "#df_deaths_country = df_raw_deaths_country\n",
    "df_confirmed_country = check_lat_long(df_raw_confirmed_country, lat_min ,lat_max ,long_min, long_max)\n",
    "df_deaths_country = check_lat_long(df_raw_deaths_country, lat_min, lat_max, long_min, long_max)"
   ]
  },
  {
   "cell_type": "code",
   "execution_count": 85,
   "metadata": {},
   "outputs": [
    {
     "data": {
      "text/html": [
       "<div>\n",
       "<style scoped>\n",
       "    .dataframe tbody tr th:only-of-type {\n",
       "        vertical-align: middle;\n",
       "    }\n",
       "\n",
       "    .dataframe tbody tr th {\n",
       "        vertical-align: top;\n",
       "    }\n",
       "\n",
       "    .dataframe thead th {\n",
       "        text-align: right;\n",
       "    }\n",
       "</style>\n",
       "<table border=\"1\" class=\"dataframe\">\n",
       "  <thead>\n",
       "    <tr style=\"text-align: right;\">\n",
       "      <th></th>\n",
       "      <th>0</th>\n",
       "      <th>1</th>\n",
       "      <th>2</th>\n",
       "      <th>3</th>\n",
       "      <th>4</th>\n",
       "      <th>5</th>\n",
       "      <th>6</th>\n",
       "      <th>7</th>\n",
       "      <th>8</th>\n",
       "      <th>9</th>\n",
       "      <th>...</th>\n",
       "      <th>666</th>\n",
       "      <th>667</th>\n",
       "      <th>668</th>\n",
       "      <th>669</th>\n",
       "      <th>670</th>\n",
       "      <th>671</th>\n",
       "      <th>672</th>\n",
       "      <th>673</th>\n",
       "      <th>674</th>\n",
       "      <th>675</th>\n",
       "    </tr>\n",
       "  </thead>\n",
       "  <tbody>\n",
       "    <tr>\n",
       "      <th>130</th>\n",
       "      <td>0</td>\n",
       "      <td>0</td>\n",
       "      <td>2</td>\n",
       "      <td>3</td>\n",
       "      <td>3</td>\n",
       "      <td>3</td>\n",
       "      <td>4</td>\n",
       "      <td>5</td>\n",
       "      <td>5</td>\n",
       "      <td>5</td>\n",
       "      <td>...</td>\n",
       "      <td>7168026</td>\n",
       "      <td>7188721</td>\n",
       "      <td>7211399</td>\n",
       "      <td>7231148</td>\n",
       "      <td>7235966</td>\n",
       "      <td>7266361</td>\n",
       "      <td>7296757</td>\n",
       "      <td>7330086</td>\n",
       "      <td>7364380</td>\n",
       "      <td>7364380</td>\n",
       "    </tr>\n",
       "  </tbody>\n",
       "</table>\n",
       "<p>1 rows × 676 columns</p>\n",
       "</div>"
      ],
      "text/plain": [
       "     0    1    2    3    4    5    6    7    8    9    ...      666      667  \\\n",
       "130    0    0    2    3    3    3    4    5    5    5  ...  7168026  7188721   \n",
       "\n",
       "         668      669      670      671      672      673      674      675  \n",
       "130  7211399  7231148  7235966  7266361  7296757  7330086  7364380  7364380  \n",
       "\n",
       "[1 rows x 676 columns]"
      ]
     },
     "execution_count": 85,
     "metadata": {},
     "output_type": "execute_result"
    }
   ],
   "source": [
    "uselessColumns = [\"Lat\", \"Long\", \"Province/State\", \"Country/Region\"]\n",
    "\n",
    "def columnsInNumbers(df):\n",
    "  df.columns = [i for i in range(len(df_confirmed_country.columns))]\n",
    "\n",
    "df_confirmed_country = df_confirmed_country.drop(columns=uselessColumns)\n",
    "df_deaths_country = df_deaths_country.drop(columns=uselessColumns)\n",
    "\n",
    "columnsInNumbers(df_confirmed_country)\n",
    "columnsInNumbers(df_deaths_country)\n",
    "\n",
    "df_confirmed_country"
   ]
  },
  {
   "cell_type": "code",
   "execution_count": 86,
   "metadata": {},
   "outputs": [],
   "source": [
    "def get_values_and_days(df):\n",
    "  return (df.values[0], df.columns.to_list())\n",
    "\n",
    "confirmed_country_values, confirmed_country_days = get_values_and_days(df_confirmed_country)\n",
    "deaths_country_values, deaths_country_days = get_values_and_days(df_deaths_country)\n"
   ]
  },
  {
   "cell_type": "code",
   "execution_count": 87,
   "metadata": {},
   "outputs": [
    {
     "data": {
      "image/png": "[encoded data removed]",
      "text/plain": [
       "<Figure size 432x288 with 1 Axes>"
      ]
     },
     "metadata": {
      "needs_background": "light"
     },
     "output_type": "display_data"
    },
    {
     "data": {
      "image/png": "[encoded data removed]",
      "text/plain": [
       "<Figure size 432x288 with 1 Axes>"
      ]
     },
     "metadata": {
      "needs_background": "light"
     },
     "output_type": "display_data"
    }
   ],
   "source": [
    "plt.plot(confirmed_country_days, confirmed_country_values, '.-')\n",
    "plt.title(\"Nombre de cas confirmés pour : \" + country)\n",
    "plt.xlabel(\"Nombre de jours\")\n",
    "plt.ylabel(\"Nombre de cas\")\n",
    "plt.show()\n",
    "\n",
    "plt.plot(deaths_country_days, deaths_country_values, '.-')\n",
    "plt.title(\"Nombre de déces pour : \" + country)\n",
    "plt.xlabel(\"Nombre de jours\")\n",
    "plt.ylabel(\"Nombre de déces\")\n",
    "plt.show()"
   ]
  },
  {
   "cell_type": "markdown",
   "metadata": {
    "pycharm": {
     "name": "#%% md\n"
    }
   },
   "source": [
    "Training and test sets\n"
   ]
  },
  {
   "cell_type": "code",
   "execution_count": 245,
   "metadata": {
    "collapsed": false,
    "pycharm": {
     "name": "#%%\n"
    }
   },
   "outputs": [],
   "source": [
    "from sklearn.model_selection import train_test_split\n",
    "\n",
    "confirmed_train, confirmed_test, confirmed_train_days, confirmed_test_days = train_test_split(confirmed_country_values, confirmed_country_days, test_size=0.30, shuffle=False)\n",
    "deaths_train, deaths_test, deaths_train_days, deaths_test_days = train_test_split(deaths_country_values, deaths_country_days, test_size=0.30, shuffle=False)"
   ]
  },
  {
   "cell_type": "markdown",
   "metadata": {
    "collapsed": false,
    "pycharm": {
     "name": "#%% md\n"
    }
   },
   "source": [
    "# Regression polynomiale (degré = 2)"
   ]
  },
  {
   "cell_type": "code",
   "execution_count": 246,
   "metadata": {
    "collapsed": false,
    "pycharm": {
     "name": "#%%\n"
    }
   },
   "outputs": [],
   "source": [
    "import numpy as np\n",
    "from sklearn import svm"
   ]
  },
  {
   "cell_type": "code",
   "execution_count": 247,
   "metadata": {
    "collapsed": false,
    "pycharm": {
     "name": "#%%\n"
    }
   },
   "outputs": [
    {
     "name": "stdout",
     "output_type": "stream",
     "text": [
      "Regression cas :  -6.370606376587318\n",
      "Regression morts :  -349.39312506995\n"
     ]
    }
   ],
   "source": [
    "def regression(X, Y):\n",
    "  reg = svm.SVR(kernel='poly', C=1000, degree=2)\n",
    "  reg.fit(X, Y)\n",
    "  return reg\n",
    "\n",
    "reg_confirmed = regression(np.reshape(confirmed_train_days, newshape=(-1, 1)), confirmed_train)\n",
    "reg_deaths = regression(np.reshape(deaths_train_days, newshape=(-1, 1)), deaths_train)\n",
    "\n",
    "print(\"Regression cas : \", reg_confirmed.score(np.reshape(confirmed_test_days, newshape=(-1, 1)), confirmed_test))\n",
    "print(\"Regression morts : \", reg_deaths.score(np.reshape(deaths_test_days, newshape=(-1, 1)), deaths_test))"
   ]
  },
  {
   "cell_type": "markdown",
   "metadata": {
    "collapsed": false
   },
   "source": [
    "Visualisation des modèles"
   ]
  },
  {
   "cell_type": "code",
   "execution_count": 248,
   "metadata": {
    "collapsed": false,
    "pycharm": {
     "name": "#%%\n"
    }
   },
   "outputs": [
    {
     "data": {
      "image/png": "[encoded data removed]",
      "text/plain": [
       "<Figure size 432x288 with 1 Axes>"
      ]
     },
     "metadata": {
      "needs_background": "light"
     },
     "output_type": "display_data"
    },
    {
     "data": {
      "image/png": "[encoded data removed]",
      "text/plain": [
       "<Figure size 432x288 with 1 Axes>"
      ]
     },
     "metadata": {
      "needs_background": "light"
     },
     "output_type": "display_data"
    }
   ],
   "source": [
    "def display_plot(reg, X, Y, ord_context):\n",
    "  plt.plot(X, Y, '.-')\n",
    "  plt.plot(X, reg.predict(X), \"-\")\n",
    "  plt.title(\"Nombre de \" + ord_context + \" pour : \" + country)\n",
    "  plt.xlabel(\"Nombre de jours\")\n",
    "  plt.ylabel(\"Nombre de \" + ord_context)\n",
    "  plt.show()\n",
    "\n",
    "display_plot(reg_confirmed, np.reshape(confirmed_country_days, newshape=(-1, 1)), confirmed_country_values, \"cas\")\n",
    "display_plot(reg_deaths, np.reshape(deaths_country_days, newshape=(-1, 1)), deaths_country_values, \"morts\")"
   ]
  },
  {
   "cell_type": "markdown",
   "metadata": {
    "collapsed": false
   },
   "source": [
    "# Réseaux LSTM"
   ]
  },
  {
   "cell_type": "code",
   "execution_count": 249,
   "metadata": {
    "collapsed": false,
    "pycharm": {
     "name": "#%%\n"
    }
   },
   "outputs": [],
   "source": [
    "import tensorflow as tf\n",
    "import keras as kr\n",
    "from sklearn.preprocessing import MinMaxScaler"
   ]
  },
  {
   "cell_type": "code",
   "execution_count": 371,
   "metadata": {
    "collapsed": false,
    "pycharm": {
     "name": "#%%\n"
    }
   },
   "outputs": [],
   "source": [
    "def create_sequences(data, time_steps=1):\n",
    "  dataX, dataY = [], []\n",
    "  for i in range(len(data)-time_steps):\n",
    "    a = data[i:(i+time_steps)]\n",
    "    dataX.append(a)\n",
    "    dataY.append(data[i + time_steps][0])\n",
    "  return np.array(dataX), np.array(dataY)\n",
    "\n",
    "def create_lstm_sets(X, time_steps=1, scale=True, train_percent=0.75):\n",
    "  scaler=None\n",
    "  if scale:\n",
    "    scaler = MinMaxScaler(feature_range=(-1, 1))\n",
    "    scaler = scaler.fit(X)\n",
    "    scaled_X = scaler.transform(X)\n",
    "  else:\n",
    "    scaled_X = np.array(X)\n",
    "  train_size = int(len(scaled_X) * train_percent)\n",
    "  test_size = len(scaled_X) - train_size\n",
    "  train, test = scaled_X[0:train_size,:], scaled_X[train_size:len(scaled_X),:]\n",
    "  return create_sequences(train, time_steps), create_sequences(test, time_steps), scaler\n",
    "\n",
    "def lstm_network(X, Y, time_steps=1, n_features=1):\n",
    "  model = kr.Sequential()\n",
    "  model.add(kr.layers.LSTM(100, input_shape=(time_steps, n_features), return_sequences=True)) #return_sequences=True\n",
    "  model.add(kr.layers.Dropout(0.3))\n",
    "  model.add(kr.layers.LSTM(100))\n",
    "  model.add(kr.layers.Dropout(0.3))\n",
    "  model.add(kr.layers.Dense(1))\n",
    "  opt = tf.keras.optimizers.Adam(learning_rate=0.001)\n",
    "  model.compile(loss='mean_squared_error', optimizer=opt)\n",
    "  model.summary()\n",
    "  model.fit(X, Y, epochs=50, batch_size=6);\n",
    "  return model"
   ]
  },
  {
   "cell_type": "markdown",
   "metadata": {
    "collapsed": false
   },
   "source": [
    "## Variable monodimensionelle"
   ]
  },
  {
   "cell_type": "code",
   "execution_count": 251,
   "metadata": {
    "collapsed": false,
    "pycharm": {
     "name": "#%%\n"
    }
   },
   "outputs": [],
   "source": [
    "time_steps = 1\n",
    "n_features = 1"
   ]
  },
  {
   "cell_type": "markdown",
   "metadata": {
    "collapsed": false
   },
   "source": [
    "### Nombre de cas"
   ]
  },
  {
   "cell_type": "code",
   "execution_count": 252,
   "metadata": {
    "collapsed": false,
    "pycharm": {
     "name": "#%%\n"
    }
   },
   "outputs": [
    {
     "name": "stdout",
     "output_type": "stream",
     "text": [
      "Model: \"sequential_11\"\n",
      "_________________________________________________________________\n",
      " Layer (type)                Output Shape              Param #   \n",
      "=================================================================\n",
      " lstm_22 (LSTM)              (None, 1, 100)            40800     \n",
      "                                                                 \n",
      " dropout_22 (Dropout)        (None, 1, 100)            0         \n",
      "                                                                 \n",
      " lstm_23 (LSTM)              (None, 100)               80400     \n",
      "                                                                 \n",
      " dropout_23 (Dropout)        (None, 100)               0         \n",
      "                                                                 \n",
      " dense_11 (Dense)            (None, 1)                 101       \n",
      "                                                                 \n",
      "=================================================================\n",
      "Total params: 121,301\n",
      "Trainable params: 121,301\n",
      "Non-trainable params: 0\n",
      "_________________________________________________________________\n",
      "Epoch 1/50\n",
      "85/85 [==============================] - 6s 6ms/step - loss: 0.2012\n",
      "Epoch 2/50\n",
      "85/85 [==============================] - 0s 4ms/step - loss: 0.0122\n",
      "Epoch 3/50\n",
      "85/85 [==============================] - 0s 4ms/step - loss: 0.0062\n",
      "Epoch 4/50\n",
      "85/85 [==============================] - 0s 4ms/step - loss: 0.0055\n",
      "Epoch 5/50\n",
      "85/85 [==============================] - 0s 4ms/step - loss: 0.0047\n",
      "Epoch 6/50\n",
      "85/85 [==============================] - 0s 4ms/step - loss: 0.0049\n",
      "Epoch 7/50\n",
      "85/85 [==============================] - 0s 4ms/step - loss: 0.0046\n",
      "Epoch 8/50\n",
      "85/85 [==============================] - 0s 4ms/step - loss: 0.0042\n",
      "Epoch 9/50\n",
      "85/85 [==============================] - 0s 4ms/step - loss: 0.0056\n",
      "Epoch 10/50\n",
      "85/85 [==============================] - 0s 4ms/step - loss: 0.0053\n",
      "Epoch 11/50\n",
      "85/85 [==============================] - 0s 4ms/step - loss: 0.0044\n",
      "Epoch 12/50\n",
      "85/85 [==============================] - 0s 4ms/step - loss: 0.0042\n",
      "Epoch 13/50\n",
      "85/85 [==============================] - 0s 4ms/step - loss: 0.0042\n",
      "Epoch 14/50\n",
      "85/85 [==============================] - 0s 4ms/step - loss: 0.0040\n",
      "Epoch 15/50\n",
      "85/85 [==============================] - 0s 4ms/step - loss: 0.0048\n",
      "Epoch 16/50\n",
      "85/85 [==============================] - 0s 4ms/step - loss: 0.0035\n",
      "Epoch 17/50\n",
      "85/85 [==============================] - 0s 4ms/step - loss: 0.0038\n",
      "Epoch 18/50\n",
      "85/85 [==============================] - 0s 4ms/step - loss: 0.0040\n",
      "Epoch 19/50\n",
      "85/85 [==============================] - 0s 4ms/step - loss: 0.0044\n",
      "Epoch 20/50\n",
      "85/85 [==============================] - 0s 4ms/step - loss: 0.0043\n",
      "Epoch 21/50\n",
      "85/85 [==============================] - 0s 5ms/step - loss: 0.0047\n",
      "Epoch 22/50\n",
      "85/85 [==============================] - 0s 5ms/step - loss: 0.0042\n",
      "Epoch 23/50\n",
      "85/85 [==============================] - 0s 5ms/step - loss: 0.0039\n",
      "Epoch 24/50\n",
      "85/85 [==============================] - 0s 4ms/step - loss: 0.0033\n",
      "Epoch 25/50\n",
      "85/85 [==============================] - 0s 4ms/step - loss: 0.0039\n",
      "Epoch 26/50\n",
      "85/85 [==============================] - 0s 4ms/step - loss: 0.0042\n",
      "Epoch 27/50\n",
      "85/85 [==============================] - 0s 4ms/step - loss: 0.0042\n",
      "Epoch 28/50\n",
      "85/85 [==============================] - 0s 4ms/step - loss: 0.0034\n",
      "Epoch 29/50\n",
      "85/85 [==============================] - 0s 4ms/step - loss: 0.0037\n",
      "Epoch 30/50\n",
      "85/85 [==============================] - 0s 4ms/step - loss: 0.0035\n",
      "Epoch 31/50\n",
      "85/85 [==============================] - 0s 4ms/step - loss: 0.0035\n",
      "Epoch 32/50\n",
      "85/85 [==============================] - 0s 4ms/step - loss: 0.0044\n",
      "Epoch 33/50\n",
      "85/85 [==============================] - 0s 4ms/step - loss: 0.0035\n",
      "Epoch 34/50\n",
      "85/85 [==============================] - 0s 5ms/step - loss: 0.0036\n",
      "Epoch 35/50\n",
      "85/85 [==============================] - 0s 5ms/step - loss: 0.0033\n",
      "Epoch 36/50\n",
      "85/85 [==============================] - 0s 4ms/step - loss: 0.0033\n",
      "Epoch 37/50\n",
      "85/85 [==============================] - 0s 4ms/step - loss: 0.0037\n",
      "Epoch 38/50\n",
      "85/85 [==============================] - 1s 6ms/step - loss: 0.0034\n",
      "Epoch 39/50\n",
      "85/85 [==============================] - 0s 5ms/step - loss: 0.0033\n",
      "Epoch 40/50\n",
      "85/85 [==============================] - 0s 5ms/step - loss: 0.0037\n",
      "Epoch 41/50\n",
      "85/85 [==============================] - 0s 5ms/step - loss: 0.0033\n",
      "Epoch 42/50\n",
      "85/85 [==============================] - 0s 6ms/step - loss: 0.0038\n",
      "Epoch 43/50\n",
      "85/85 [==============================] - 0s 5ms/step - loss: 0.0035\n",
      "Epoch 44/50\n",
      "85/85 [==============================] - 1s 6ms/step - loss: 0.0035\n",
      "Epoch 45/50\n",
      "85/85 [==============================] - 0s 5ms/step - loss: 0.0035\n",
      "Epoch 46/50\n",
      "85/85 [==============================] - 0s 5ms/step - loss: 0.0036\n",
      "Epoch 47/50\n",
      "85/85 [==============================] - 0s 5ms/step - loss: 0.0038\n",
      "Epoch 48/50\n",
      "85/85 [==============================] - 0s 4ms/step - loss: 0.0027\n",
      "Epoch 49/50\n",
      "85/85 [==============================] - 0s 4ms/step - loss: 0.0037\n",
      "Epoch 50/50\n",
      "85/85 [==============================] - 0s 5ms/step - loss: 0.0032\n"
     ]
    }
   ],
   "source": [
    "confirmed_lstm_set = df_confirmed_country.values[0]\n",
    "confirmed_lstm_set = np.reshape(confirmed_lstm_set, (len(confirmed_lstm_set), 1))\n",
    "\n",
    "confirmed_train, confirmed_test, confirmed_scaler = create_lstm_sets(confirmed_lstm_set, time_steps)\n",
    "\n",
    "confirmed_trainX, confirmed_trainY = confirmed_train\n",
    "confirmed_testX, confirmed_testY = confirmed_test\n",
    "\n",
    "confirmed_lstm = lstm_network(confirmed_trainX, confirmed_trainY, time_steps)"
   ]
  },
  {
   "cell_type": "markdown",
   "metadata": {
    "collapsed": false
   },
   "source": [
    "### Nombre de morts"
   ]
  },
  {
   "cell_type": "code",
   "execution_count": 253,
   "metadata": {
    "collapsed": false,
    "pycharm": {
     "name": "#%%\n"
    }
   },
   "outputs": [
    {
     "name": "stdout",
     "output_type": "stream",
     "text": [
      "Model: \"sequential_12\"\n",
      "_________________________________________________________________\n",
      " Layer (type)                Output Shape              Param #   \n",
      "=================================================================\n",
      " lstm_24 (LSTM)              (None, 1, 100)            40800     \n",
      "                                                                 \n",
      " dropout_24 (Dropout)        (None, 1, 100)            0         \n",
      "                                                                 \n",
      " lstm_25 (LSTM)              (None, 100)               80400     \n",
      "                                                                 \n",
      " dropout_25 (Dropout)        (None, 100)               0         \n",
      "                                                                 \n",
      " dense_12 (Dense)            (None, 1)                 101       \n",
      "                                                                 \n",
      "=================================================================\n",
      "Total params: 121,301\n",
      "Trainable params: 121,301\n",
      "Non-trainable params: 0\n",
      "_________________________________________________________________\n",
      "Epoch 1/50\n",
      "85/85 [==============================] - 5s 5ms/step - loss: 0.1635\n",
      "Epoch 2/50\n",
      "85/85 [==============================] - 0s 4ms/step - loss: 0.0046\n",
      "Epoch 3/50\n",
      "85/85 [==============================] - 0s 5ms/step - loss: 0.0038\n",
      "Epoch 4/50\n",
      "85/85 [==============================] - 0s 5ms/step - loss: 0.0037\n",
      "Epoch 5/50\n",
      "85/85 [==============================] - 0s 5ms/step - loss: 0.0040\n",
      "Epoch 6/50\n",
      "85/85 [==============================] - 0s 5ms/step - loss: 0.0037\n",
      "Epoch 7/50\n",
      "85/85 [==============================] - 0s 5ms/step - loss: 0.0032\n",
      "Epoch 8/50\n",
      "85/85 [==============================] - 0s 5ms/step - loss: 0.0035\n",
      "Epoch 9/50\n",
      "85/85 [==============================] - 0s 5ms/step - loss: 0.0036\n",
      "Epoch 10/50\n",
      "85/85 [==============================] - 0s 5ms/step - loss: 0.0038\n",
      "Epoch 11/50\n",
      "85/85 [==============================] - 0s 5ms/step - loss: 0.0040\n",
      "Epoch 12/50\n",
      "85/85 [==============================] - 0s 5ms/step - loss: 0.0035\n",
      "Epoch 13/50\n",
      "85/85 [==============================] - 0s 5ms/step - loss: 0.0035\n",
      "Epoch 14/50\n",
      "85/85 [==============================] - 0s 5ms/step - loss: 0.0031\n",
      "Epoch 15/50\n",
      "85/85 [==============================] - 0s 5ms/step - loss: 0.0034\n",
      "Epoch 16/50\n",
      "85/85 [==============================] - 0s 5ms/step - loss: 0.0037\n",
      "Epoch 17/50\n",
      "85/85 [==============================] - 0s 5ms/step - loss: 0.0035\n",
      "Epoch 18/50\n",
      "85/85 [==============================] - 0s 5ms/step - loss: 0.0032\n",
      "Epoch 19/50\n",
      "85/85 [==============================] - 0s 5ms/step - loss: 0.0032\n",
      "Epoch 20/50\n",
      "85/85 [==============================] - 0s 5ms/step - loss: 0.0035\n",
      "Epoch 21/50\n",
      "85/85 [==============================] - 0s 5ms/step - loss: 0.0040\n",
      "Epoch 22/50\n",
      "85/85 [==============================] - 0s 5ms/step - loss: 0.0038\n",
      "Epoch 23/50\n",
      "85/85 [==============================] - 0s 5ms/step - loss: 0.0037\n",
      "Epoch 24/50\n",
      "85/85 [==============================] - 0s 5ms/step - loss: 0.0031\n",
      "Epoch 25/50\n",
      "85/85 [==============================] - 0s 5ms/step - loss: 0.0032\n",
      "Epoch 26/50\n",
      "85/85 [==============================] - 0s 5ms/step - loss: 0.0032\n",
      "Epoch 27/50\n",
      "85/85 [==============================] - 0s 5ms/step - loss: 0.0039\n",
      "Epoch 28/50\n",
      "85/85 [==============================] - 0s 5ms/step - loss: 0.0033\n",
      "Epoch 29/50\n",
      "85/85 [==============================] - 0s 5ms/step - loss: 0.0034\n",
      "Epoch 30/50\n",
      "85/85 [==============================] - 0s 6ms/step - loss: 0.0032\n",
      "Epoch 31/50\n",
      "85/85 [==============================] - 1s 6ms/step - loss: 0.0040\n",
      "Epoch 32/50\n",
      "85/85 [==============================] - 0s 6ms/step - loss: 0.0033\n",
      "Epoch 33/50\n",
      "85/85 [==============================] - 1s 6ms/step - loss: 0.0033\n",
      "Epoch 34/50\n",
      "85/85 [==============================] - 0s 6ms/step - loss: 0.0035\n",
      "Epoch 35/50\n",
      "85/85 [==============================] - 1s 6ms/step - loss: 0.0041\n",
      "Epoch 36/50\n",
      "85/85 [==============================] - 0s 6ms/step - loss: 0.0031\n",
      "Epoch 37/50\n",
      "85/85 [==============================] - 1s 6ms/step - loss: 0.0031\n",
      "Epoch 38/50\n",
      "85/85 [==============================] - 1s 6ms/step - loss: 0.0039\n",
      "Epoch 39/50\n",
      "85/85 [==============================] - 0s 5ms/step - loss: 0.0038\n",
      "Epoch 40/50\n",
      "85/85 [==============================] - 0s 6ms/step - loss: 0.0034\n",
      "Epoch 41/50\n",
      "85/85 [==============================] - 0s 6ms/step - loss: 0.0037\n",
      "Epoch 42/50\n",
      "85/85 [==============================] - 0s 6ms/step - loss: 0.0044\n",
      "Epoch 43/50\n",
      "85/85 [==============================] - 0s 5ms/step - loss: 0.0037\n",
      "Epoch 44/50\n",
      "85/85 [==============================] - 1s 6ms/step - loss: 0.0032\n",
      "Epoch 45/50\n",
      "85/85 [==============================] - 1s 6ms/step - loss: 0.0034\n",
      "Epoch 46/50\n",
      "85/85 [==============================] - 1s 7ms/step - loss: 0.0034\n",
      "Epoch 47/50\n",
      "85/85 [==============================] - 0s 6ms/step - loss: 0.0035\n",
      "Epoch 48/50\n",
      "85/85 [==============================] - 0s 5ms/step - loss: 0.0040\n",
      "Epoch 49/50\n",
      "85/85 [==============================] - 0s 5ms/step - loss: 0.0031\n",
      "Epoch 50/50\n",
      "85/85 [==============================] - 0s 6ms/step - loss: 0.0033\n"
     ]
    }
   ],
   "source": [
    "deaths_lstm_set = df_deaths_country.values[0]\n",
    "deaths_lstm_set = np.reshape(deaths_lstm_set, (len(deaths_lstm_set), 1))\n",
    "\n",
    "deaths_train, deaths_test, deaths_scaler = create_lstm_sets(deaths_lstm_set, time_steps)\n",
    "deaths_trainX, deaths_trainY = deaths_train\n",
    "deaths_testX, deaths_testY = deaths_test\n",
    "\n",
    "deaths_lstm = lstm_network(deaths_trainX, deaths_trainY, time_steps)"
   ]
  },
  {
   "cell_type": "markdown",
   "metadata": {
    "collapsed": false
   },
   "source": [
    "### Affichage des résultats"
   ]
  },
  {
   "cell_type": "code",
   "execution_count": 254,
   "metadata": {
    "collapsed": false,
    "pycharm": {
     "name": "#%%\n"
    }
   },
   "outputs": [
    {
     "data": {
      "image/png": "[encoded data removed]",
      "text/plain": [
       "<Figure size 432x288 with 1 Axes>"
      ]
     },
     "metadata": {
      "needs_background": "light"
     },
     "output_type": "display_data"
    },
    {
     "data": {
      "image/png": "[encoded data removed]",
      "text/plain": [
       "<Figure size 432x288 with 1 Axes>"
      ]
     },
     "metadata": {
      "needs_background": "light"
     },
     "output_type": "display_data"
    }
   ],
   "source": [
    "def display_plot_lstm(model, scaler, trainX, trainY, testX, testY, country, ord_context):\n",
    "  daysTrain = range(len(trainX))\n",
    "  daysTest = np.array(range(len(testX))) + len(daysTrain)\n",
    "  plt.plot(daysTrain, scaler.inverse_transform(model.predict(trainX)), '-', label=\"Prédiction sur jeu d'entraînement\")\n",
    "  plt.plot(daysTrain, scaler.inverse_transform(np.reshape(trainY, (-1, 1))), '-', label=\"Réalité sur jeu d'entraînement\")\n",
    "\n",
    "  plt.plot(daysTest, scaler.inverse_transform(model.predict(testX)), '-', label=\"Prédiction sur jeu de test\")\n",
    "  plt.plot(daysTest, scaler.inverse_transform(np.reshape(testY, (-1, 1))), '-', label=\"Réalité sur jeu de test\")\n",
    "\n",
    "  plt.axvline(len(trainX), 0, 1)\n",
    "  plt.legend()\n",
    "  plt.title(\"Nombre de \" + ord_context + \" pour : \" + country)\n",
    "  plt.xlabel(\"Nombre de jours\")\n",
    "  plt.ylabel(\"Nombre de \" + ord_context)\n",
    "  plt.show()\n",
    "\n",
    "display_plot_lstm(confirmed_lstm, confirmed_scaler, confirmed_trainX, confirmed_trainY, confirmed_testX, confirmed_testY, country, \"cas\")\n",
    "display_plot_lstm(deaths_lstm, deaths_scaler, deaths_trainX, deaths_trainY, deaths_testX, deaths_testY, country, \"morts\")"
   ]
  },
  {
   "cell_type": "code",
   "execution_count": 255,
   "metadata": {},
   "outputs": [
    {
     "name": "stdout",
     "output_type": "stream",
     "text": [
      "[[0.5]]\n",
      "506\n",
      "[[0.49156618]]\n",
      "[[0.48374367]]\n",
      "[[0.47647715]]\n",
      "[[0.46971792]]\n",
      "[[0.4634223]]\n",
      "[[0.45755166]]\n",
      "[[0.4520713]]\n",
      "[[0.44695002]]\n",
      "[[0.44215977]]\n",
      "[[0.4376753]]\n",
      "[[0.43347353]]\n",
      "[[0.42953384]]\n",
      "[[0.42583692]]\n",
      "[[0.4223656]]\n",
      "[[0.41910392]]\n",
      "[[0.41603792]]\n",
      "[[0.41315395]]\n",
      "[[0.4104396]]\n",
      "[[0.407884]]\n",
      "[[0.40547657]]\n",
      "[[0.40320796]]\n",
      "[[0.40106922]]\n",
      "[[0.39905226]]\n",
      "[[0.39714926]]\n",
      "[[0.39535332]]\n",
      "[[0.39365792]]\n",
      "[[0.39205694]]\n",
      "[[0.3905447]]\n",
      "[[0.3891157]]\n",
      "[[0.3877654]]\n",
      "[[0.38648903]]\n",
      "[[0.38528216]]\n",
      "[[0.3841408]]\n",
      "[[0.38306123]]\n",
      "[[0.38204002]]\n",
      "[[0.38107353]]\n",
      "[[0.38015908]]\n",
      "[[0.37929362]]\n",
      "[[0.37847447]]\n",
      "[[0.37769866]]\n",
      "[[0.3769642]]\n",
      "[[0.3762685]]\n",
      "[[0.3756097]]\n",
      "[[0.37498546]]\n",
      "[[0.37439424]]\n",
      "[[0.37383413]]\n",
      "[[0.3733033]]\n",
      "[[0.37280023]]\n",
      "[[0.37232357]]\n",
      "[[0.37187177]]\n",
      "[[0.3714435]]\n",
      "[[0.37103748]]\n",
      "[[0.37065262]]\n",
      "[[0.37028795]]\n",
      "[[0.36994213]]\n",
      "[[0.36961436]]\n",
      "[[0.36930323]]\n",
      "[[0.36900836]]\n",
      "[[0.3687287]]\n",
      "[[0.3684637]]\n"
     ]
    }
   ],
   "source": [
    "days = 60\n",
    "predictions = []\n",
    "test = [[0.5]]\n",
    "print(test)\n",
    "start_day = len(confirmed_trainX)\n",
    "print(start_day)\n",
    "for i in range(days):\n",
    "    pred = confirmed_lstm.predict(test)\n",
    "    predictions.append(pred)\n",
    "    test = pred\n",
    "    print(test)"
   ]
  },
  {
   "cell_type": "markdown",
   "metadata": {},
   "source": [
    "# Variables multi-dimensionnelles"
   ]
  },
  {
   "cell_type": "code",
   "execution_count": 358,
   "metadata": {},
   "outputs": [],
   "source": [
    "time_steps = 2\n",
    "n_features = 2"
   ]
  },
  {
   "cell_type": "markdown",
   "metadata": {},
   "source": [
    "### Get new data\n"
   ]
  },
  {
   "cell_type": "code",
   "execution_count": 359,
   "metadata": {},
   "outputs": [],
   "source": [
    "df_raw_stringency_index = pd.read_csv(\"covid-stringency-index.csv\")\n",
    "df_raw_stringency_index_country = df_raw_stringency_index[df_raw_stringency_index[\"Entity\"] == country]\n",
    "df_stringency_index_country = df_raw_stringency_index_country.drop(columns=[\"Entity\", \"Code\"])\n",
    "df_stringency_index_country.drop(index=df_stringency_index_country.index[0], axis=0, inplace=True)\n",
    "\n",
    "stringency_index_values = list(df_stringency_index_country.stringency_index)[:len(confirmed_country_values)]\n",
    "stringency_index_days = [i for i in range(df_stringency_index_country.Day.size)]"
   ]
  },
  {
   "cell_type": "markdown",
   "metadata": {},
   "source": [
    "### Adjust some data length (all equal)"
   ]
  },
  {
   "cell_type": "code",
   "execution_count": 360,
   "metadata": {},
   "outputs": [],
   "source": [
    "confirmed_country_values = confirmed_country_values[:len(stringency_index_values)]\n",
    "confirmed_country_days = confirmed_country_days[:len(stringency_index_values)]\n",
    "\n",
    "deaths_country_values = deaths_country_values[:len(stringency_index_values)]\n",
    "deaths_country_days = deaths_country_days[:len(stringency_index_values)]"
   ]
  },
  {
   "cell_type": "markdown",
   "metadata": {},
   "source": [
    "### Print on a plot"
   ]
  },
  {
   "cell_type": "code",
   "execution_count": 361,
   "metadata": {},
   "outputs": [
    {
     "data": {
      "image/png": "[encoded data removed]",
      "text/plain": [
       "<Figure size 432x288 with 1 Axes>"
      ]
     },
     "metadata": {
      "needs_background": "light"
     },
     "output_type": "display_data"
    },
    {
     "data": {
      "image/png": "[encoded data removed]",
      "text/plain": [
       "<Figure size 432x288 with 1 Axes>"
      ]
     },
     "metadata": {
      "needs_background": "light"
     },
     "output_type": "display_data"
    }
   ],
   "source": [
    "plt.plot(confirmed_country_days, confirmed_country_values, '.-')\n",
    "plt.title(\"Nombre de cas confirmés pour : \" + country)\n",
    "plt.xlabel(\"Nombre de jours\")\n",
    "plt.ylabel(\"Nombre de cas\")\n",
    "plt.show()\n",
    "\n",
    "plt.plot(stringency_index_days, stringency_index_values, '.-')\n",
    "plt.title(\"Indice de stringency pour : \" + country)\n",
    "plt.xlabel(\"Nombre de jours\")\n",
    "plt.ylabel(\"Indice de stringency\")\n",
    "plt.show()"
   ]
  },
  {
   "cell_type": "markdown",
   "metadata": {},
   "source": [
    "### Create data sets"
   ]
  },
  {
   "cell_type": "code",
   "execution_count": 362,
   "metadata": {},
   "outputs": [],
   "source": [
    "# Scaled values\n",
    "confirmed_scaler = MinMaxScaler((-1, 1))\n",
    "deaths_scaler = MinMaxScaler((-1, 1))\n",
    "stringency_scaler = MinMaxScaler((-1, 1))\n",
    "\n",
    "confirmed_scaler.fit(confirmed_country_values.reshape((-1, 1)))\n",
    "scaled_confirmed = confirmed_scaler.transform(confirmed_country_values.reshape((-1, 1))).reshape((-1,))\n",
    "\n",
    "deaths_scaler.fit(deaths_country_values.reshape((-1, 1)))\n",
    "scaled_deaths = deaths_scaler.transform(deaths_country_values.reshape((-1, 1))).reshape((-1,))\n",
    "\n",
    "stringency_scaler.fit(np.array(stringency_index_values).reshape((-1, 1)))\n",
    "scaled_stringency = stringency_scaler.transform(np.array(stringency_index_values).reshape((-1, 1))).reshape((-1,))"
   ]
  },
  {
   "cell_type": "code",
   "execution_count": 363,
   "metadata": {},
   "outputs": [],
   "source": [
    "multi_data = list(zip(scaled_confirmed, scaled_stringency))"
   ]
  },
  {
   "cell_type": "code",
   "execution_count": 372,
   "metadata": {},
   "outputs": [],
   "source": [
    "multi_train, multi_test, _ = create_lstm_sets(multi_data, time_steps, scale=False, train_percent=0.5)\n",
    "multi_trainX, multi_trainY = multi_train\n",
    "multi_testX, multi_testY = multi_test"
   ]
  },
  {
   "cell_type": "code",
   "execution_count": 373,
   "metadata": {},
   "outputs": [],
   "source": [
    "def lstm_network_multi(X, Y, time_steps=1, n_features=1):\n",
    "  model = kr.Sequential()\n",
    "  model.add(kr.layers.LSTM(100, input_shape=(time_steps, n_features), return_sequences=True)) #return_sequences=True\n",
    "  model.add(kr.layers.Dropout(0.2))\n",
    "  model.add(kr.layers.LSTM(100))\n",
    "  model.add(kr.layers.Dropout(0.2))\n",
    "  model.add(kr.layers.Dense(1))\n",
    "  opt = tf.keras.optimizers.Adam(learning_rate=0.001)\n",
    "  model.compile(loss='mean_squared_error', optimizer=opt)\n",
    "  model.summary()\n",
    "  model.fit(X, Y, epochs=30, batch_size=6);\n",
    "  return model"
   ]
  },
  {
   "cell_type": "code",
   "execution_count": 374,
   "metadata": {},
   "outputs": [
    {
     "name": "stdout",
     "output_type": "stream",
     "text": [
      "Model: \"sequential_16\"\n",
      "_________________________________________________________________\n",
      " Layer (type)                Output Shape              Param #   \n",
      "=================================================================\n",
      " lstm_32 (LSTM)              (None, 2, 100)            41200     \n",
      "                                                                 \n",
      " dropout_32 (Dropout)        (None, 2, 100)            0         \n",
      "                                                                 \n",
      " lstm_33 (LSTM)              (None, 100)               80400     \n",
      "                                                                 \n",
      " dropout_33 (Dropout)        (None, 100)               0         \n",
      "                                                                 \n",
      " dense_16 (Dense)            (None, 1)                 101       \n",
      "                                                                 \n",
      "=================================================================\n",
      "Total params: 121,701\n",
      "Trainable params: 121,701\n",
      "Non-trainable params: 0\n",
      "_________________________________________________________________\n",
      "Epoch 1/30\n",
      "56/56 [==============================] - 5s 6ms/step - loss: 0.1867\n",
      "Epoch 2/30\n",
      "56/56 [==============================] - 0s 8ms/step - loss: 0.0086\n",
      "Epoch 3/30\n",
      "56/56 [==============================] - 0s 8ms/step - loss: 0.0075\n",
      "Epoch 4/30\n",
      "56/56 [==============================] - 0s 8ms/step - loss: 0.0059\n",
      "Epoch 5/30\n",
      "56/56 [==============================] - 0s 7ms/step - loss: 0.0048\n",
      "Epoch 6/30\n",
      "56/56 [==============================] - 0s 7ms/step - loss: 0.0046\n",
      "Epoch 7/30\n",
      "56/56 [==============================] - 0s 7ms/step - loss: 0.0045\n",
      "Epoch 8/30\n",
      "56/56 [==============================] - 0s 7ms/step - loss: 0.0043\n",
      "Epoch 9/30\n",
      "56/56 [==============================] - 0s 8ms/step - loss: 0.0044\n",
      "Epoch 10/30\n",
      "56/56 [==============================] - 0s 7ms/step - loss: 0.0043\n",
      "Epoch 11/30\n",
      "56/56 [==============================] - 0s 8ms/step - loss: 0.0036\n",
      "Epoch 12/30\n",
      "56/56 [==============================] - 0s 7ms/step - loss: 0.0035\n",
      "Epoch 13/30\n",
      "56/56 [==============================] - 0s 8ms/step - loss: 0.0032\n",
      "Epoch 14/30\n",
      "56/56 [==============================] - 0s 8ms/step - loss: 0.0039\n",
      "Epoch 15/30\n",
      "56/56 [==============================] - 0s 6ms/step - loss: 0.0039\n",
      "Epoch 16/30\n",
      "56/56 [==============================] - 0s 6ms/step - loss: 0.0036\n",
      "Epoch 17/30\n",
      "56/56 [==============================] - 0s 7ms/step - loss: 0.0036\n",
      "Epoch 18/30\n",
      "56/56 [==============================] - 0s 6ms/step - loss: 0.0035\n",
      "Epoch 19/30\n",
      "56/56 [==============================] - 0s 6ms/step - loss: 0.0032\n",
      "Epoch 20/30\n",
      "56/56 [==============================] - 0s 7ms/step - loss: 0.0032\n",
      "Epoch 21/30\n",
      "56/56 [==============================] - 0s 8ms/step - loss: 0.0035\n",
      "Epoch 22/30\n",
      "56/56 [==============================] - 0s 7ms/step - loss: 0.0029\n",
      "Epoch 23/30\n",
      "56/56 [==============================] - 0s 7ms/step - loss: 0.0035\n",
      "Epoch 24/30\n",
      "56/56 [==============================] - 0s 6ms/step - loss: 0.0028\n",
      "Epoch 25/30\n",
      "56/56 [==============================] - 0s 6ms/step - loss: 0.0028\n",
      "Epoch 26/30\n",
      "56/56 [==============================] - 0s 7ms/step - loss: 0.0028\n",
      "Epoch 27/30\n",
      "56/56 [==============================] - 0s 6ms/step - loss: 0.0029\n",
      "Epoch 28/30\n",
      "56/56 [==============================] - 0s 6ms/step - loss: 0.0028\n",
      "Epoch 29/30\n",
      "56/56 [==============================] - 0s 6ms/step - loss: 0.0030\n",
      "Epoch 30/30\n",
      "56/56 [==============================] - 0s 6ms/step - loss: 0.0027\n"
     ]
    }
   ],
   "source": [
    "multi_lstm = lstm_network_multi(multi_trainX, multi_trainY, time_steps, n_features)"
   ]
  },
  {
   "cell_type": "code",
   "execution_count": 375,
   "metadata": {},
   "outputs": [
    {
     "data": {
      "image/png": "[encoded data removed]",
      "text/plain": [
       "<Figure size 432x288 with 1 Axes>"
      ]
     },
     "metadata": {
      "needs_background": "light"
     },
     "output_type": "display_data"
    }
   ],
   "source": [
    "display_plot_lstm(multi_lstm, deaths_scaler, multi_trainX, multi_trainY, multi_testX, multi_testY, country, \"cas\")"
   ]
  },
  {
   "cell_type": "code",
   "execution_count": 376,
   "metadata": {},
   "outputs": [
    {
     "name": "stdout",
     "output_type": "stream",
     "text": [
      "332\n",
      "[[-0.33540082]]\n",
      "[[-0.3368579]]\n",
      "[[-0.35155356]]\n",
      "[[-0.35636705]]\n",
      "[[-0.3684097]]\n",
      "[[-0.3750243]]\n",
      "[[-0.38558364]]\n",
      "[[-0.39315397]]\n",
      "[[-0.40287298]]\n",
      "[[-0.4109404]]\n",
      "[[-0.4201743]]\n",
      "[[-0.42849088]]\n",
      "[[-0.43743688]]\n",
      "[[-0.44586942]]\n",
      "[[-0.4546383]]\n",
      "[[-0.4631161]]\n",
      "[[-0.47177026]]\n",
      "[[-0.48025662]]\n",
      "[[-0.4888323]]\n",
      "[[-0.49730816]]\n",
      "[[-0.5058263]]\n",
      "[[-0.5142826]]\n",
      "[[-0.5227555]]\n",
      "[[-0.5311878]]\n",
      "[[-0.539623]]\n",
      "[[-0.54802907]]\n",
      "[[-0.5564307]]\n",
      "[[-0.5648097]]\n",
      "[[-0.5731797]]\n",
      "[[-0.5815306]]\n",
      "[[-0.58986944]]\n",
      "[[-0.5981911]]\n",
      "[[-0.6064985]]\n",
      "[[-0.6147889]]\n",
      "[[-0.6230636]]\n",
      "[[-0.6313205]]\n",
      "[[-0.63956]]\n",
      "[[-0.6477803]]\n",
      "[[-0.65598136]]\n",
      "[[-0.6641619]]\n",
      "[[-0.6723207]]\n",
      "[[-0.6804572]]\n",
      "[[-0.6885694]]\n",
      "[[-0.69665664]]\n",
      "[[-0.7047171]]\n",
      "[[-0.71274984]]\n",
      "[[-0.7207532]]\n",
      "[[-0.7287254]]\n",
      "[[-0.7366652]]\n",
      "[[-0.74457043]]\n",
      "[[-0.7524401]]\n",
      "[[-0.76027155]]\n",
      "[[-0.76806384]]\n",
      "[[-0.77581424]]\n",
      "[[-0.78352183]]\n",
      "[[-0.7911839]]\n",
      "[[-0.7987989]]\n",
      "[[-0.80636483]]\n",
      "[[-0.81387943]]\n",
      "[[-0.8213413]]\n",
      "[[-0.8287475]]\n",
      "[[-0.836097]]\n",
      "[[-0.843387]]\n",
      "[[-0.8506163]]\n",
      "[[-0.8577823]]\n",
      "[[-0.8648833]]\n",
      "[[-0.87191725]]\n",
      "[[-0.8788823]]\n",
      "[[-0.88577664]]\n",
      "[[-0.8925982]]\n",
      "[[-0.89934546]]\n",
      "[[-0.90601695]]\n",
      "[[-0.91261035]]\n",
      "[[-0.91912484]]\n",
      "[[-0.9255581]]\n",
      "[[-0.9319092]]\n",
      "[[-0.93817616]]\n",
      "[[-0.94435847]]\n",
      "[[-0.9504542]]\n",
      "[[-0.9564625]]\n",
      "[[-0.96238184]]\n",
      "[[-0.9682119]]\n",
      "[[-0.97395116]]\n",
      "[[-0.9795992]]\n",
      "[[-0.98515475]]\n",
      "[[-0.99061805]]\n",
      "[[-0.99598736]]\n",
      "[[-1.0012636]]\n",
      "[[-1.0064448]]\n",
      "[[-1.0115322]]\n",
      "[[-1.0165246]]\n",
      "[[-1.0214224]]\n",
      "[[-1.0262252]]\n",
      "[[-1.0309336]]\n",
      "[[-1.035547]]\n",
      "[[-1.0400667]]\n",
      "[[-1.0444918]]\n",
      "[[-1.0488238]]\n",
      "[[-1.0530622]]\n",
      "[[-1.0572088]]\n",
      "[[-1.0612627]]\n",
      "[[-1.0652256]]\n",
      "[[-1.0690982]]\n",
      "[[-1.072881]]\n",
      "[[-1.076575]]\n",
      "[[-1.0801811]]\n",
      "[[-1.0837005]]\n",
      "[[-1.0871338]]\n",
      "[[-1.0904827]]\n",
      "[[-1.0937474]]\n",
      "[[-1.0969304]]\n",
      "[[-1.1000314]]\n",
      "[[-1.1030527]]\n",
      "[[-1.1059949]]\n",
      "[[-1.10886]]\n",
      "[[-1.1116488]]\n",
      "[[-1.1143625]]\n",
      "[[-1.1170028]]\n",
      "[[-1.1195712]]\n",
      "[[-1.1220683]]\n",
      "[[-1.1244962]]\n",
      "[[-1.1268559]]\n",
      "[[-1.1291492]]\n",
      "[[-1.1313769]]\n",
      "[[-1.1335412]]\n",
      "[[-1.1356428]]\n",
      "[[-1.1376837]]\n",
      "[[-1.1396644]]\n",
      "[[-1.1415873]]\n",
      "[[-1.1434529]]\n",
      "[[-1.1452631]]\n",
      "[[-1.1470187]]\n",
      "[[-1.1487219]]\n",
      "[[-1.150373]]\n",
      "[[-1.1519743]]\n",
      "[[-1.1535263]]\n",
      "[[-1.1550307]]\n",
      "[[-1.1564885]]\n",
      "[[-1.1579012]]\n",
      "[[-1.1592697]]\n",
      "[[-1.1605955]]\n",
      "[[-1.1618793]]\n",
      "[[-1.1631228]]\n",
      "[[-1.1643268]]\n",
      "[[-1.1654923]]\n",
      "[[-1.1666212]]\n",
      "[[-1.1677134]]\n",
      "[[-1.1687709]]\n",
      "[[-1.1697937]]\n",
      "[[-1.170784]]\n",
      "[[-1.171742]]\n",
      "[[-1.1726687]]\n",
      "[[-1.1735651]]\n",
      "[[-1.1744323]]\n",
      "[[-1.1752713]]\n",
      "[[-1.1760823]]\n",
      "[[-1.176867]]\n",
      "[[-1.177625]]\n",
      "[[-1.1783588]]\n",
      "[[-1.1790675]]\n",
      "[[-1.179753]]\n",
      "[[-1.1804153]]\n",
      "[[-1.1810559]]\n",
      "[[-1.1816746]]\n",
      "[[-1.1822729]]\n",
      "[[-1.1828511]]\n",
      "[[-1.1834099]]\n",
      "[[-1.1839496]]\n",
      "[[-1.1844714]]\n",
      "[[-1.184975]]\n",
      "[[-1.1854621]]\n",
      "[[-1.1859323]]\n",
      "[[-1.186387]]\n",
      "[[-1.1868258]]\n",
      "[[-1.1872497]]\n",
      "[[-1.1876591]]\n",
      "[[-1.1880549]]\n",
      "[[-1.188437]]\n",
      "[[-1.1888058]]\n",
      "[[-1.1891624]]\n",
      "[[-1.1895063]]\n",
      "[[-1.1898389]]\n",
      "[[-1.1901596]]\n",
      "[[-1.1904697]]\n",
      "[[-1.1907687]]\n",
      "[[-1.1910577]]\n",
      "[[-1.1913363]]\n",
      "[[-1.1916056]]\n",
      "[[-1.1918654]]\n",
      "[[-1.192116]]\n",
      "[[-1.1923587]]\n",
      "[[-1.1925921]]\n",
      "[[-1.1928184]]\n",
      "[[-1.1930361]]\n",
      "[[-1.1932467]]\n",
      "[[-1.1934497]]\n",
      "[[-1.1936456]]\n",
      "[[-1.1938351]]\n",
      "[[-1.1940176]]\n",
      "[[-1.1941941]]\n",
      "[[-1.1943644]]\n",
      "[[-1.1945283]]\n",
      "[[-1.1946872]]\n",
      "[[-1.1948404]]\n",
      "[[-1.1949879]]\n",
      "[[-1.1951307]]\n",
      "[[-1.1952679]]\n",
      "[[-1.195401]]\n",
      "[[-1.1955289]]\n",
      "[[-1.1956524]]\n",
      "[[-1.1957718]]\n",
      "[[-1.195887]]\n",
      "[[-1.1959982]]\n",
      "[[-1.1961054]]\n",
      "[[-1.196209]]\n",
      "[[-1.1963086]]\n",
      "[[-1.1964048]]\n",
      "[[-1.1964977]]\n",
      "[[-1.1965877]]\n",
      "[[-1.1966739]]\n",
      "[[-1.1967574]]\n",
      "[[-1.196838]]\n",
      "[[-1.1969159]]\n",
      "[[-1.1969908]]\n",
      "[[-1.1970632]]\n",
      "[[-1.197133]]\n",
      "[[-1.1972003]]\n",
      "[[-1.1972653]]\n",
      "[[-1.1973279]]\n",
      "[[-1.1973886]]\n",
      "[[-1.1974471]]\n",
      "[[-1.1975033]]\n",
      "[[-1.1975578]]\n",
      "[[-1.19761]]\n",
      "[[-1.1976609]]\n",
      "[[-1.1977097]]\n",
      "[[-1.1977569]]\n",
      "[[-1.1978025]]\n",
      "[[-1.1978463]]\n",
      "[[-1.1978887]]\n",
      "[[-1.1979296]]\n",
      "[[-1.1979687]]\n",
      "[[-1.198007]]\n",
      "[[-1.1980433]]\n",
      "[[-1.1980789]]\n",
      "[[-1.198113]]\n",
      "[[-1.1981457]]\n",
      "[[-1.1981773]]\n",
      "[[-1.1982085]]\n",
      "[[-1.1982375]]\n"
     ]
    }
   ],
   "source": [
    "n_days = 250\n",
    "predictions = []\n",
    "test = multi_trainX[-1]\n",
    "test = test.reshape(-1, time_steps, n_features)\n",
    "start_day = len(multi_trainX)\n",
    "print(start_day)\n",
    "for i in range(n_days):\n",
    "    pred = multi_lstm.predict(test)\n",
    "    predictions.append(pred[0][0])\n",
    "    \n",
    "    old = test[0][0]\n",
    "    test = np.delete(test[0], 0, axis=0)\n",
    "\n",
    "    test = np.append(test, [pred[0][0], old[1]]).reshape(-1, time_steps, n_features)\n",
    "\n",
    "    print(pred)"
   ]
  },
  {
   "cell_type": "code",
   "execution_count": 377,
   "metadata": {},
   "outputs": [],
   "source": [
    "predicted_plot = np.concatenate((confirmed_trainX[:start_day].reshape((-1,)), predictions))\n",
    "predicted_plot = confirmed_scaler.inverse_transform(predicted_plot.reshape((-1, 1)))\n",
    "\n",
    "days = np.concatenate((list(range(start_day)), np.array([day for day in range(start_day, start_day+n_days)])))"
   ]
  },
  {
   "cell_type": "code",
   "execution_count": 378,
   "metadata": {},
   "outputs": [
    {
     "data": {
      "image/png": "[encoded data removed]",
      "text/plain": [
       "<Figure size 432x288 with 1 Axes>"
      ]
     },
     "metadata": {
      "needs_background": "light"
     },
     "output_type": "display_data"
    }
   ],
   "source": [
    "plt.plot(days, predicted_plot, '.-', label=\"Prédiction\")\n",
    "plt.plot(days, confirmed_country_values[:start_day+n_days], '.-', label=\"Réalité\")\n",
    "plt.legend()\n",
    "plt.axvline(start_day)\n",
    "plt.title(\"Nombre de cas confirmés pour : \" + country)\n",
    "plt.xlabel(\"Nombre de jours\")\n",
    "plt.ylabel(\"Nombre de cas\")\n",
    "plt.show()"
   ]
  },
  {
   "cell_type": "code",
   "execution_count": null,
   "metadata": {},
   "outputs": [],
   "source": []
  },
  {
   "cell_type": "code",
   "execution_count": null,
   "metadata": {},
   "outputs": [],
   "source": []
  }
 ],
 "metadata": {
  "interpreter": {
   "hash": "7131807ce35ac9e736e77ee5c468af6a0125a9e761140560e4dc712dc1cce710"
  },
  "kernelspec": {
   "display_name": "Python 3.9.0 64-bit",
   "language": "python",
   "name": "python3"
  },
  "language_info": {
   "codemirror_mode": {
    "name": "ipython",
    "version": 3
   },
   "file_extension": ".py",
   "mimetype": "text/x-python",
   "name": "python",
   "nbconvert_exporter": "python",
   "pygments_lexer": "ipython3",
   "version": "3.9.0"
  },
  "orig_nbformat": 4
 },
 "nbformat": 4,
 "nbformat_minor": 2
}
